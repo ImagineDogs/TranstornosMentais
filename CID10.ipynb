{
  "nbformat": 4,
  "nbformat_minor": 0,
  "metadata": {
    "colab": {
      "provenance": []
    },
    "kernelspec": {
      "name": "python3",
      "display_name": "Python 3"
    },
    "language_info": {
      "name": "python"
    }
  },
  "cells": [
    {
      "cell_type": "code",
      "source": [
        "# importando bibliotecas\n",
        "\n",
        "# numericas\n",
        "import numpy as np\n",
        "\n",
        "# manipulacao de dados\n",
        "import pandas as pd\n",
        "\n",
        "# graficas\n",
        "import matplotlib.pyplot as plt\n",
        "import seaborn as sns\n",
        "\n",
        "# utilidades\n",
        "# from google.colab import drive\n",
        "\n",
        "import warnings\n",
        "warnings.filterwarnings('ignore')\n",
        "\n",
        "from collections import Counter"
      ],
      "metadata": {
        "id": "7HwCqPUoln3o"
      },
      "execution_count": null,
      "outputs": []
    },
    {
      "cell_type": "markdown",
      "source": [
        "Para esta estapa, foram testadas diversas tabelas para realizar uma junção entre um código CID-10 e sua descrição.\n",
        "\n",
        " A maioria das tabelas ou não tinhamos confiança na origem, ou não possuiam todos os códigos necessários.\n",
        "Por fim, utilizamos uma tabela do datasus, que foi manipulada para atender\n",
        "nossas necessidades.\n",
        "\n",
        "Fonte das tabela: https://www.cdc.gov/nchs/icd/Comprehensive-Listing-of-ICD-10-CM-Files.htm\n",
        "\n",
        "Fonte Datasus: https://www.gov.br/previdencia/pt-br/assuntos/previdencia-social/saude-e-seguranca-do-trabalhador/acidente_trabalho_incapacidade/tabelas-cid-10"
      ],
      "metadata": {
        "id": "aSlhnzVtlyo3"
      }
    },
    {
      "cell_type": "code",
      "source": [
        "df = pd.read_csv('https://raw.githubusercontent.com/ImagineDogs/TranstornosMentais/main/df_limpo.csv')"
      ],
      "metadata": {
        "id": "Ii8195EJoVab"
      },
      "execution_count": null,
      "outputs": []
    },
    {
      "cell_type": "code",
      "execution_count": null,
      "metadata": {
        "id": "rx6LF-G0lghu"
      },
      "outputs": [],
      "source": [
        "# Tabela equivalente aos grupos do CID-10\n",
        "cid_df = pd.read_csv('https://raw.githubusercontent.com/ImagineDogs/TranstornosMentais/main/Tabela%20CID-10.csv')\n",
        "cid_df.head()"
      ]
    },
    {
      "cell_type": "code",
      "source": [
        "# Aplicando tratamento aos dados para realizar a junção com a tabela de descrições\n",
        "# Não devem haver pontos nos códigos e todos devem estar em caixa alta\n",
        "df['cid10_diagnostico'] = df['cid10_diagnostico'].loc[~df['cid10_diagnostico'].isnull()].apply(lambda x: str(x).upper()[:str(x).find('.')] if str(x).find('.') != -1 else str(x).upper())\n",
        "df['cid10_seg_diagnostico'] = df['cid10_seg_diagnostico'].loc[~df['cid10_seg_diagnostico'].isnull()].apply(lambda x: str(x).upper()[:str(x).find('.')] if str(x).find('.') != -1 else str(x).upper())\n",
        "df['cid10_diagnostico_alta'] = df['cid10_diagnostico_alta'].loc[~df['cid10_diagnostico_alta'].isnull()].apply(lambda x: str(x).upper()[:str(x).find('.')] if str(x).find('.') != -1 else str(x).upper())\n",
        "df['cid10_seg_diagnostico_alta'] = df['cid10_seg_diagnostico_alta'].loc[~df['cid10_seg_diagnostico_alta'].isnull()].apply(lambda x: str(x).upper()[:str(x).find('.')] if str(x).find('.') != -1 else str(x).upper())"
      ],
      "metadata": {
        "id": "Oo4L8azumBod"
      },
      "execution_count": null,
      "outputs": []
    },
    {
      "cell_type": "code",
      "source": [
        "# Junção entre as tabelas\n",
        "df = df.merge(cid_df, how='left', left_on='cid10_diagnostico', right_on='Codigo').rename(columns={'Descricao': 'descricao_diagnostico'}).drop(['Codigo'], axis=1)\n",
        "df = df.merge(cid_df, how='left', left_on='cid10_seg_diagnostico', right_on='Codigo').rename(columns={'Descricao': 'descricao_seg_diagnostico'}).drop(['Codigo'], axis=1)\n",
        "df = df.merge(cid_df, how='left', left_on='cid10_diagnostico_alta', right_on='Codigo').rename(columns={'Descricao': 'descricao_diagnostico_alta'}).drop(['Codigo'], axis=1)\n",
        "df = df.merge(cid_df, how='left', left_on='cid10_seg_diagnostico_alta', right_on='Codigo').rename(columns={'Descricao': 'descricao_seg_diagnostico_alta'}).drop(['Codigo'], axis=1)"
      ],
      "metadata": {
        "id": "ITqhR-hhmDZS"
      },
      "execution_count": null,
      "outputs": []
    },
    {
      "cell_type": "code",
      "source": [
        "# Tabela das 'familias' de códigos CID-10\n",
        "cid_fam = pd.read_csv('https://raw.githubusercontent.com/ImagineDogs/TranstornosMentais/main/CID-10%20-%20Familias.csv')\n",
        "cid_fam.head()"
      ],
      "metadata": {
        "id": "M-7Uha1ZoFqp"
      },
      "execution_count": null,
      "outputs": []
    },
    {
      "cell_type": "code",
      "source": [
        "# Inicializando as colunas a serem preenchidas pelas familias\n",
        "df['cid10_familia'] = np.nan\n",
        "df['cid10_descricao_familia'] = np.nan\n",
        "df['cid10_seg_familia'] = np.nan\n",
        "df['cid10_seg_descricao_familia'] = np.nan\n",
        "df['cid10_familia_alta'] = np.nan\n",
        "df['cid10_descricao_familia_alta'] = np.nan\n",
        "df['cid10_seg_familia_alta'] = np.nan\n",
        "df['cid10_seg_descricao_familia_alta'] = np.nan"
      ],
      "metadata": {
        "id": "CPbo9cT3oJx0"
      },
      "execution_count": null,
      "outputs": []
    },
    {
      "cell_type": "code",
      "source": [
        "# Realizando as junções por query\n",
        "for i in range(len(cid_fam)):\n",
        "  cod = cid_fam['Codigos'].iloc[i].split('-')\n",
        "\n",
        "  df['cid10_familia'].loc[df['cid10_diagnostico'].between(cod[0], cod[1])] = cid_fam['Codigos'].iloc[i]\n",
        "  df['cid10_descricao_familia'].loc[df['cid10_diagnostico'].between(cod[0], cod[1])] = cid_fam['Descricao'].iloc[i]\n",
        "\n",
        "  df['cid10_seg_familia'].loc[df['cid10_seg_diagnostico'].between(cod[0], cod[1])] = cid_fam['Codigos'].iloc[i]\n",
        "  df['cid10_seg_descricao_familia'].loc[df['cid10_seg_diagnostico'].between(cod[0], cod[1])] = cid_fam['Descricao'].iloc[i]\n",
        "\n",
        "  df['cid10_familia_alta'].loc[df['cid10_diagnostico_alta'].between(cod[0], cod[1])] = cid_fam['Codigos'].iloc[i]\n",
        "  df['cid10_descricao_familia_alta'].loc[df['cid10_diagnostico_alta'].between(cod[0], cod[1])] = cid_fam['Descricao'].iloc[i]\n",
        "\n",
        "  df['cid10_seg_familia_alta'].loc[df['cid10_seg_diagnostico_alta'].between(cod[0], cod[1])] = cid_fam['Codigos'].iloc[i]\n",
        "  df['cid10_seg_descricao_familia_alta'].loc[df['cid10_seg_diagnostico_alta'].between(cod[0], cod[1])] = cid_fam['Descricao'].iloc[i]"
      ],
      "metadata": {
        "id": "SSySJyU6oMqF"
      },
      "execution_count": null,
      "outputs": []
    },
    {
      "cell_type": "code",
      "source": [
        "df.to_csv('df_cid10.csv')"
      ],
      "metadata": {
        "id": "tTqDOEIzpAcm"
      },
      "execution_count": null,
      "outputs": []
    }
  ]
}