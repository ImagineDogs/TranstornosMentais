{
  "nbformat": 4,
  "nbformat_minor": 0,
  "metadata": {
    "colab": {
      "provenance": []
    },
    "kernelspec": {
      "name": "python3",
      "display_name": "Python 3"
    },
    "language_info": {
      "name": "python"
    }
  },
  "cells": [
    {
      "cell_type": "code",
      "source": [
        "# importando bibliotecas\n",
        "\n",
        "# numericas\n",
        "import numpy as np\n",
        "\n",
        "# manipulacao de dados\n",
        "import pandas as pd\n",
        "\n",
        "# graficas\n",
        "import matplotlib.pyplot as plt\n",
        "import seaborn as sns\n",
        "\n",
        "# utilidades\n",
        "# from google.colab import drive\n",
        "\n",
        "import warnings\n",
        "warnings.filterwarnings('ignore')\n",
        "\n",
        "from collections import Counter"
      ],
      "metadata": {
        "id": "yBIi4ROZu4rq"
      },
      "execution_count": null,
      "outputs": []
    },
    {
      "cell_type": "code",
      "execution_count": null,
      "metadata": {
        "id": "1nb75wmxut_n"
      },
      "outputs": [],
      "source": [
        "df = pd.read_csv('https://raw.githubusercontent.com/ImagineDogs/TranstornosMentais/main/df_cid10.csv')"
      ]
    },
    {
      "cell_type": "code",
      "source": [
        "rem = ['cod_paciente', 'cod_regulacao', 'cod_transf_alta', 'unidade_cadastro', 'cod_unidade_origem', 'status_internacao']\n",
        "df_mpd = df.drop(rem,axis=1)\n",
        "df_mpd.describe()"
      ],
      "metadata": {
        "id": "4RmkcKhkvCEF"
      },
      "execution_count": null,
      "outputs": []
    },
    {
      "cell_type": "code",
      "source": [
        "# Quantidade de internações por sexo\n",
        "plt.figure(figsize=(10,5))\n",
        "ax = sns.countplot(x='uf', data=df)\n",
        "ax.set_title('Internações por estado')\n",
        "ax.set_ylabel('Quantidade de internações')\n",
        "ax.set_xlabel('Unidade Federal')\n",
        "plt.show()"
      ],
      "metadata": {
        "id": "LgqFKYsKvFVc"
      },
      "execution_count": null,
      "outputs": []
    },
    {
      "cell_type": "code",
      "source": [
        "# Quantidade de internações por estado civil\n",
        "plt.figure(figsize=(10,5))\n",
        "ax = sns.countplot(x='estado_civil', data=df)\n",
        "ax.set_title('Internações por estado civil')\n",
        "ax.set_ylabel('Quantidade de internações')\n",
        "ax.set_xlabel('Estado civil')\n",
        "plt.show()"
      ],
      "metadata": {
        "id": "oQJtiENgvG9Q"
      },
      "execution_count": null,
      "outputs": []
    },
    {
      "cell_type": "code",
      "source": [
        "# Quantidade de internações por faixa-etária\n",
        "faixas = list(df['faixa_etaria'].unique())\n",
        "faixas.remove(np.nan)\n",
        "ax = sns.countplot(x='faixa_etaria', data=df,order=sorted(faixas),hue='sexo')\n",
        "ax.set_title('Internações por faixa etária e sexo')\n",
        "ax.set_ylabel('Quantidade de internações')\n",
        "ax.set_xlabel('Faixa-Etária')\n",
        "ax.grid()\n",
        "plt.show()"
      ],
      "metadata": {
        "id": "_4L9BsWUvIbk"
      },
      "execution_count": null,
      "outputs": []
    },
    {
      "cell_type": "code",
      "source": [
        "plt.figure(figsize=(15, 7))\n",
        "ax = sns.histplot(x='idade', data=df)\n",
        "ax.set_title('Internações por idade')\n",
        "ax.set_ylabel('Quantidade de internações')\n",
        "ax.set_xlabel('Idade (Anos)')\n",
        "plt.show()"
      ],
      "metadata": {
        "id": "0CnQk7XNvKA_"
      },
      "execution_count": null,
      "outputs": []
    },
    {
      "cell_type": "code",
      "source": [
        "plt.figure(figsize=(15, 7))\n",
        "ax = sns.histplot(x='tempo_internado', data=df, bins=100)\n",
        "ax.set_title('Internações por tempo internado')\n",
        "ax.set_ylabel('Quantidade de internações')\n",
        "ax.set_xlabel('Tempo internado (Dias)')\n",
        "plt.show()"
      ],
      "metadata": {
        "id": "Rhe-Y5upvL6B"
      },
      "execution_count": null,
      "outputs": []
    },
    {
      "cell_type": "code",
      "source": [
        "plt.figure(figsize = (17, 10))\n",
        "\n",
        "label = ['cid10_familia', 'cid10_seg_familia', 'cid10_familia_alta', 'cid10_seg_familia_alta']\n",
        "final = pd.DataFrame(columns=['Codigo', 'Quantidade'])\n",
        "for i in range(len(label)):\n",
        "  diagnosticos = df[[label[i], 'cod_paciente']]\n",
        "  diagnosticos = diagnosticos.groupby([label[i]]).count()\n",
        "  diagnosticos = diagnosticos.reset_index()\n",
        "  diagnosticos.columns = ['Codigo', 'Quantidade']\n",
        "  diagnosticos = diagnosticos.sort_values(by='Quantidade', ascending = False)[:5]\n",
        "\n",
        "  final = pd.concat([final, diagnosticos])\n",
        "\n",
        "\n",
        "\n",
        "  plt.subplot(2,2,i+1)\n",
        "  plt.title(label[i])\n",
        "  ax = sns.barplot(x='Codigo', y='Quantidade', data=diagnosticos)\n",
        "\n",
        "plt.show()\n",
        "\n",
        "for i, j in cid_fam[['Codigos', 'Descricao']].loc[cid_fam['Codigos'].isin(final['Codigo'].unique())].iterrows():\n",
        "  print(f'Código: {j[0]}  \\nDescrição: {j[1]}\\n')"
      ],
      "metadata": {
        "id": "mo2bSrclvNyn"
      },
      "execution_count": null,
      "outputs": []
    },
    {
      "cell_type": "code",
      "source": [
        "plt.figure(figsize = (17, 10))\n",
        "\n",
        "label = ['cid10_diagnostico', 'cid10_seg_diagnostico', 'cid10_diagnostico_alta', 'cid10_seg_diagnostico_alta']\n",
        "final = pd.DataFrame(columns=['Codigo', 'Quantidade'])\n",
        "for i in range(len(label)):\n",
        "  diagnosticos = df[[label[i], 'cod_paciente']]\n",
        "  diagnosticos = diagnosticos.groupby([label[i]]).count()\n",
        "  diagnosticos = diagnosticos.reset_index()\n",
        "  diagnosticos.columns = ['Codigo', 'Quantidade']\n",
        "  diagnosticos = diagnosticos.sort_values(by='Quantidade', ascending = False)[:5]\n",
        "\n",
        "  final = pd.concat([final, diagnosticos])\n",
        "\n",
        "  plt.subplot(2,2,i+1)\n",
        "  plt.title(label[i])\n",
        "  ax = sns.barplot(x='Codigo', y='Quantidade', data=diagnosticos)\n",
        "\n",
        "plt.show()\n",
        "print('')\n",
        "for i, j in cid_df[['Codigo', 'Descricao']].loc[cid_df['Codigo'].isin(final['Codigo'].unique())].iterrows():\n",
        "  print(f'Código: {j[0]}  \\nDescrição: {j[1]}\\n')"
      ],
      "metadata": {
        "id": "O3tUqz7lvQKc"
      },
      "execution_count": null,
      "outputs": []
    },
    {
      "cell_type": "code",
      "source": [
        "sns.heatmap(df_mpd.corr(method='spearman'),annot=True)\n",
        "plt.show()"
      ],
      "metadata": {
        "id": "O6Mj_VAZvWjh"
      },
      "execution_count": null,
      "outputs": []
    }
  ]
}