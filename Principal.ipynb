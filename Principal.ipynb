{
  "cells": [
    {
      "cell_type": "markdown",
      "metadata": {
        "id": "3L0s0UuE5bda"
      },
      "source": [
        "# Análise de hospitalizações em instituições especializadas em transtornos mentais\n",
        "\n",
        "## Projeto da disciplina SSC0957 - Prática em Ciência de Dados II\n",
        "\n",
        "### Membros\n",
        "Eduardo Zaffari Monteiro - eduardozaffarimonteiro@usp.br - 12559490  \n",
        "Paloma Botto de Medeiros Serrão - palomabotto@usp.br - 12689641  \n",
        "Pedro Henrique de Freitas Maçonetto - pedromaconetto@usp.br - 12675419   "
      ]
    },
    {
      "cell_type": "markdown",
      "metadata": {
        "id": "KzqV_bRIoqSB"
      },
      "source": [
        "# 1. Introdução"
      ]
    },
    {
      "cell_type": "markdown",
      "metadata": {},
      "source": [
        "O objetivo desse trabalho é analisar dados de internações em hospitais psiquiátricos da região de Ribeirão Preto, mais especificamente, encontrar informações sobre os principais diagnósticos tratados nesses locais e como eles se desenvolvem ao longo do tempo, bem como descobrir se os pacientes tendem a sair do hospital tratados ou se desenvolvem outras condições. Também serão analisadas as comorbidades apresentadas por cada paciente, com objetivo de descobrir se existem combinações de comorbidades mais presentes nos pacientes desses hospitais."
      ]
    },
    {
      "cell_type": "markdown",
      "metadata": {
        "id": "l8zgniRGoxB4"
      },
      "source": [
        "# 2. Metodologia\n",
        "\n"
      ]
    },
    {
      "cell_type": "markdown",
      "metadata": {},
      "source": [
        "Para descobrir as informações propostas na introdução foi feito uso de uma variedade de algoritmos de aprendizado de máquina, tanto supervisionados quanto não-supervisionados, porém antes disso os dados precisaram ser devidamente limpos e tratados. Em uma etapa intermediária foi feita uma etapa exploracação dos dados, levando em conta correlações e distribuições dos dados, para isso foram utilizados algoritmos, gráficos e testes de hipóteses."
      ]
    },
    {
      "cell_type": "markdown",
      "metadata": {
        "id": "v51t7z7CpXK1"
      },
      "source": [
        "## 2.1 Origem dos Dados"
      ]
    },
    {
      "cell_type": "markdown",
      "metadata": {
        "id": "ZqnxNZ7XpYRh"
      },
      "source": [
        "## 2.2 Dicionário dos Dados"
      ]
    },
    {
      "cell_type": "markdown",
      "metadata": {
        "id": "x0qhl-bj2PX0"
      },
      "source": [
        "### Variáveis\n",
        "- **data_internacao_real**: Referente à data de internação do paciente.\n",
        "- **data_cadastro**: Referente à data de cadastro do paciente.\n",
        "- **sexo**: Referente ao sexo do paciente.\n",
        "- **data_nascimento**: Referente à data de nascimento do paciente.\n",
        "- **uf**: Referente à unidade federal do paciente.\n",
        "- **municipio**: Referente ao municipio do paciente.\n",
        "- **profissao_ocupacao**: Referente à profissão do paciente.\n",
        "- **cod_paciente**: Referente ao código do paciente.\n",
        "- **unidade_cadastro**: Referente ao hospital em que o paciente está.\n",
        "- **idade_aprox**: Referente à idade do paciente.\n",
        "- **estado_civil**: Referente ao estado civil do paciente.\n",
        "- **etnia**: Referente à etnia do paciente.\n",
        "- **arranjo_domiciliar**: Referente ao arranjo domiciliar do paciente.\n",
        "- **cod_regulacao**: Referente ao código de regulação.\n",
        "- **cod_unidade_origem**: Referente ao código do hospital de origem.\n",
        "- **data_solicitacao**: Referente à data de solicitação da internação.\n",
        "- **tipo_regulacao**: Referente ao tipo de regulação.\n",
        "- **cid10_diagnostico**: Referente ao código que indica o transtorno dito pelo primeiro diagnóstico.\n",
        "- **cid10_seg_diagnostico**: Referente ao código que indica o transtorno dito pelo segundo diagnóstico.\n",
        "- **data_lista_reg**: Referente à data da lista registrada.\n",
        "- **data_vaga_reg**: Referente à data da vaga registrada.\n",
        "- **data_admissao_reg**: Referente à data de admissão registrada.\n",
        "- **data_lista_hospital**: Referente à data da lista do Hospital.\n",
        "- **data_vaga_hospital**: Referente à data da vaga do Hospital.\n",
        "- **data_internacao**: Referente à data de admissão do Hospital.\n",
        "- **diff_delay_Rank_vaga_internacao_1**: Referente à diferença de tempo entre internações de um paciente.\n",
        "- **data_cancel_solicitacao**: Referente à data de cancelamento de uma solicitação.\n",
        "- **data_transferencia**: Referente à data de transferencia de um paciente.\n",
        "- **traumatismo**: Referente ao registro de um traumatismo de um paciente.\n",
        "- **prob_respiratorios**: Referente ao registro de problemas respiratórios de um paciente.\n",
        "- **avc**: Referente ao registro de AVC's de um paciente.\n",
        "- **convulsao**: Referente ao registro de convulsão de um paciente.\n",
        "- **has**: Referente ao registro de Hipertensão Arterial Sistêmica de um paciente.\n",
        "- **gravidez**: Referente ao registro de gravidez de um paciente.\n",
        "- **diabetes**: Referente ao registro de diabetes de um paciente.\n",
        "- **doenca_infecto**: Referente ao registro de doença infectológica de um paciente.\n",
        "- **tipo_internacao_de**: Referente ao tipo de internação do paciente.\n",
        "- **data_expiracao**: Referente à data de expiração da internação.\n",
        "- **cod_transf_alta**: Referente ao código de transferência por alta.\n",
        "- **status_internacao**: Referente ao status de internação.\n",
        "- **data_alta**: Referente à data de alta.\n",
        "- **cid10_diagnostico_alta**: Referente ao código que indica o transtorno dito pelo primeiro diagnóstico após alta.\n",
        "- **cid10_seg_diagnostico_alta**: Referente ao código que indica o transtorno dito pelo segundo diagnóstico após alta.\n",
        "- **tipo_alta**: Referente ao tipo de alta.\n",
        "- **tipo_internacao**: Referente ao tipo de internação.\n",
        "- **nome_unidade_solicitacao**: Referente ao nome do hospital de solicitação de transferência.\n",
        "- **nome_unidade_destino**: Referente ao nome do hospital de destino de transferência.\n",
        "- **via_internacao**: Referente à via de internação do paciente\n",
        "- **tempo_espera_internacao**: Referente ao tempo de espera para internação do paciente.\n",
        "- **tempo_espera_aceite**: Referente ao tempo de espera para o aceite de internação do paciente.\n",
        "- **idade**: Referente à idade do paciente\n",
        "- **grupo_diagnostico_alta**: Referente ao grupo de diagnóstico da alta do paciente.\n",
        "- **faixa_etaria**: Referente à faixa etária do paciente.\n",
        "- **tempo_internacao**: Referente ao tempo de internação do paciente.\n",
        "- **event**:\n",
        "- **diff_in_sec**: Referente à diferença de tempo entre internações de um paciente em segundos.\n",
        "- **diff_in_min**: Referente à diferença de tempo entre internações de um paciente em minutos.\n",
        "- **diff_in_hour**: Referente à diferença de tempo entre internações de um paciente em horas.\n",
        "- **diff_in_day**: Referente à diferença de tempo entre internações de um paciente em dias.\n",
        "- **Count**: Referente à quantidade de internações.\n",
        "- **total_repeat_cod**: Referente ao código de total de repetições.\n",
        "- **total_repeat**: Referente à total de repetições.\n",
        "- **sum_los_hour**: Referente à soma de horas em que o paciente ficou internado.\n",
        "- **sum_outside_hour**: Referente à soma de horas em que o paciente ficou fora da internação.\n",
        "- **cumsum**: Soma cumulativa de horas de internação do paciente\n",
        "- **cumsum.1**:\n",
        "- **cumsum.1(start)**:\n",
        "- **cod_paciente.1**:\n",
        "- **start**: Quantas horas de internação paciente já tinha antes desta internação\n",
        "- **stop**: Quantas horas de internação o paciente tem após essa internação"
      ]
    },
    {
      "cell_type": "markdown",
      "metadata": {
        "id": "bAfzEbQGlhs8"
      },
      "source": [
        "### Tipos de Variáveis\n",
        "\n",
        "Variáveis Qualitativas Ordinais:\n",
        "\n",
        "- Datas\n",
        "- Faixa Etária\n",
        "\n",
        "Viariáveis Qualitativas Nominais:\n",
        "\n",
        "- Sexo\n",
        "- UF\n",
        "- Municipio\n",
        "- Profissão\n",
        "- Estado civil\n",
        "- Etnia\n",
        "- Arranjo Domiciliar\n",
        "- Tipo regulação\n",
        "- Diagnóstico de transtorno mental\n",
        "- Status internação\n",
        "- Diagnósticos de saída do hospital\n",
        "- Tipo de alta\n",
        "- Unidade de internação\n",
        "- Grupo de diagnóstico\n",
        "- Tempos de internações\n",
        "\n",
        "Variáveis Qualitativas Binárias:\n",
        "\n",
        "- Ocorrencia ou não de eventos durante internação\n",
        "- Tipo de internação(Compulsória ou voluntária)\n",
        "- Gravidez\n",
        "- Diabetes\n",
        "- Tuberculose\n",
        "- Doença infectológica\n",
        "- Hipertensão Arterial Sistêmica\n",
        "- Convulsão\n",
        "- AVC\n",
        "- Problema respiratório\n",
        "- Traumatismo\n",
        "\n",
        "Variáveis Quantitativas:\n",
        "\n",
        "- Idade\n",
        "- Contagem de internações\n",
        "- Horas passadas internado\n",
        "- Minutos passados internado\n",
        "- Segundos passados internado\n",
        "- Horas passadas fora do hospital\n"
      ]
    },
    {
      "cell_type": "markdown",
      "metadata": {
        "id": "iEwZYlJ2oxMN"
      },
      "source": [
        "# 3. Coleta de dados"
      ]
    },
    {
      "cell_type": "code",
      "execution_count": 44,
      "metadata": {
        "id": "JNjdOZDiA9s3"
      },
      "outputs": [],
      "source": [
        "# importando bibliotecas\n",
        "\n",
        "# numericas\n",
        "import numpy as np\n",
        "\n",
        "# manipulacao de dados\n",
        "import pandas as pd\n",
        "\n",
        "# graficas\n",
        "import matplotlib.pyplot as plt\n",
        "import seaborn as sns\n",
        "\n",
        "# utilidades\n",
        "# from google.colab import drive\n",
        "\n",
        "import warnings\n",
        "warnings.filterwarnings('ignore')\n",
        "\n",
        "from collections import Counter"
      ]
    },
    {
      "cell_type": "code",
      "execution_count": 45,
      "metadata": {
        "id": "8WAyYCzTDZAf"
      },
      "outputs": [],
      "source": [
        "# carregando dados\n",
        "df = pd.read_csv('https://raw.githubusercontent.com/ImagineDogs/TranstornosMentais/main/total%20dataset.csv')"
      ]
    },
    {
      "cell_type": "code",
      "execution_count": 46,
      "metadata": {
        "colab": {
          "base_uri": "https://localhost:8080/"
        },
        "id": "f8j0GOi8FYAd",
        "outputId": "2f69f2fb-582e-4432-ab8e-c6e18b0c8ca5"
      },
      "outputs": [
        {
          "name": "stdout",
          "output_type": "stream",
          "text": [
            "Os dados compreendem 8755 observações e 70 variáveis\n"
          ]
        }
      ],
      "source": [
        "# Quantia total de dados\n",
        "n_linhas = df.shape[0]\n",
        "n_colunas = df.shape[1]\n",
        "\n",
        "print(f'''Os dados compreendem {n_linhas} observações e {n_colunas} variáveis''')"
      ]
    },
    {
      "cell_type": "markdown",
      "metadata": {
        "id": "t-z2m_aJFGoI"
      },
      "source": [
        "## Limpeza e tratamento dos dados"
      ]
    },
    {
      "cell_type": "markdown",
      "metadata": {},
      "source": [
        "Na etapa de limpeza e tratamento dos dados foram feitas substituições de valores, com objetivo de facilitar os trabalhos posteriores, não foi necessário utilizar métodos complexos de inputação de dados, apenas padronizações nos dados já existentes e informações incorretas.\n",
        "\n",
        "Notebook dedicado a esse processo: Pre-processamento/Limpeza.ipynb\n",
        "\n",
        "Resumo:\n",
        "- Substituição de erros de digitação \n",
        "- Padronização de formato de Datas\n",
        "- Remoção de colunas não úteis ou com muitas informações erradas\n",
        "\n",
        "Conjunto de dados de Input: \n",
        "- dados/total dataset.csv\n",
        "\n",
        "Conjunto de dados de Output: \n",
        "- dados/df_limpo.csv"
      ]
    },
    {
      "cell_type": "markdown",
      "metadata": {
        "id": "j1esVJZ543bH"
      },
      "source": [
        "## Códigos CID-10"
      ]
    },
    {
      "cell_type": "markdown",
      "metadata": {
        "id": "ZldzU0ZT2vEo"
      },
      "source": [
        "Nessa etapa foi necessário também incluir informações sobre os diagnósticos, pois eles estavam registrados apenas pelo seu código internacional (CID-10), para atingir esse objetivo foi feita a busca de uma tabela que relacionava códigos com as diferentes granularidades de diagnóstico. Posteriormente, as informações mais utilizadas foram de faixa do diagnóstico, pois grande parte dos diagnósticos da base são da mesma família, e para a granularidade de diagnóstico único a base se encontra muito esparsa, isto é, haviam muitos diagnósticos distintos e relativamente pouca repetição.\n",
        "\n",
        "\n",
        "Notebook dedicado a esse processo: Pre-processamento/CID10.ipynb\n",
        "\n",
        "Resumo:\n",
        "- Inclusão da descrição dos diagnósticos\n",
        "- Inclusão das 'Familias' dos diagnósticos, termo cunhado por nós para definir grandes grupos de diagnósticos\n",
        "- Inclusão das 'Faixas' dos diagnósticos, termo cunhado por nós para definir pequenos grupos de diagnósticos (Exclusivamente relacionados à transtornos mentais)\n",
        "\n",
        "Conjunto de dados de Input: \n",
        "- dados/df_limpo.csv\n",
        "- dados/Tabela CID-10.csv\n",
        "- dados/CID-10 Familias.csv\n",
        "- dados/FaixasCid10.csv\n",
        "\n",
        "Conjunto de dados de Output: \n",
        "- dados/df_cid10.csv"
      ]
    },
    {
      "cell_type": "markdown",
      "metadata": {
        "id": "KbZaXy5P8d02"
      },
      "source": [
        "# 4. Análise Exploratória dos Dados"
      ]
    },
    {
      "cell_type": "markdown",
      "metadata": {},
      "source": [
        "## 4.1 Exploração e Visualização dos dados"
      ]
    },
    {
      "cell_type": "markdown",
      "metadata": {},
      "source": [
        "Notebook dedicado a esse processo: Exploracao-Analises/Exploracao.ipynb\n",
        "\n",
        "Resumo:\n",
        "- Análise de medidas descritivas dos dados\n",
        "- Exploração visual da distribuição dos dados\n",
        "- Exploração visual da distribuição dos diagnósticos\n",
        "- Análise da correlação númerica entre as variáveis\n",
        "\n",
        "Conclusões:  \n",
        "\n",
        "- Há aproximadamente 30% mais internações masculinas do que femininas na base de dados\n",
        "- A grande maioria dos pacientes internados são pessoas de estado civil solteiro(a)\n",
        "- A maior parte dos pacientes têm entre 20 e 50 anos de idade\n",
        "- Grande parte dos paciente são internados poucas vezes, com apenas alguns pacientes atingindo mais de 100 internações\n",
        "- Poucos pacientes são internados por causas não relacionadas a transtornos mentais *(esperado)*\n",
        "- Os transtornos mais comuns entre os pacientes são transtornos devido a uso de drogas, esquizofrenia e transtornos de personalidade\n",
        " "
      ]
    },
    {
      "cell_type": "markdown",
      "metadata": {
        "id": "SaTHdf-OGin2"
      },
      "source": [
        "## 4.2 Correlações e Associações de diagnósticos e Correlações Temporais"
      ]
    },
    {
      "cell_type": "markdown",
      "metadata": {},
      "source": [
        "Notebook dedicado a esse processo: Exploracao-Analises/Associacoes_Correlacoes.ipynb\n",
        "\n",
        "Resumo:\n",
        "- Análise de associações entre comorbidades utilizando apriori\n",
        "- Correlação temporais das internações\n",
        "- Correlações temporais dos diagnósticos\n",
        "- Análise de outlier de diagnósticos\n",
        "- Correlações entre diagnósticos utilizando teste de independência\n",
        "\n",
        "Conclusões:  \n",
        "\n",
        "- Com a análise de associações de comorbidades foi possível concluir que a comorbidade mais presente nos dados é a Hipertensão Arterial Sistêmica(HAS), presente em 8% dos pacientes observados, seguido diretamente por diabetes e convulsões, ambas aparecendo em 4% dos pacientes da base. Quanto às combinações de comorbidades, pode se notar que as combinações mais comuns são (HAS, diabetes) e (HAS,convulsões), que aparecem em 2% e 1% dos dados, respectivamente. A análise foi feita de acordo com a primeira internação do paciente e com a última, e é possível perceber que as relações de quantia de comorbidades mudam muito pouco, indicando que os pacientes parecem se manter estáveis quanto às comorbidades durante sua estadia nos hospitais."
      ]
    },
    {
      "cell_type": "markdown",
      "metadata": {},
      "source": []
    },
    {
      "cell_type": "markdown",
      "metadata": {
        "id": "cjJO8MmepxzS"
      },
      "source": [
        "# 8. Conclusão"
      ]
    }
  ],
  "metadata": {
    "colab": {
      "provenance": []
    },
    "kernelspec": {
      "display_name": "Python 3",
      "name": "python3"
    },
    "language_info": {
      "codemirror_mode": {
        "name": "ipython",
        "version": 3
      },
      "file_extension": ".py",
      "mimetype": "text/x-python",
      "name": "python",
      "nbconvert_exporter": "python",
      "pygments_lexer": "ipython3",
      "version": "3.11.5"
    }
  },
  "nbformat": 4,
  "nbformat_minor": 0
}
