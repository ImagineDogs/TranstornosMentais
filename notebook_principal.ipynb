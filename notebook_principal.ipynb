{
  "cells": [
    {
      "cell_type": "markdown",
      "metadata": {
        "id": "3L0s0UuE5bda"
      },
      "source": [
        "# Análise de hospitalizações em instituições especializadas em transtornos mentais\n",
        "\n",
        "## Projeto da disciplina SSC0957 - Prática em Ciência de Dados II\n",
        "\n",
        "### Membros\n",
        "Eduardo Zaffari Monteiro - eduardozaffarimonteiro@usp.br - 12559490  \n",
        "Paloma Botto de Medeiros Serrão - palomabotto@usp.br - 12689641  \n",
        "Pedro Henrique de Freitas Maçonetto - pedromaconetto@usp.br - 12675419   "
      ]
    },
    {
      "cell_type": "markdown",
      "metadata": {
        "id": "KzqV_bRIoqSB"
      },
      "source": [
        "# 1. Introdução"
      ]
    },
    {
      "cell_type": "markdown",
      "metadata": {
        "id": "l8zgniRGoxB4"
      },
      "source": [
        "# 2. Metodologia\n",
        "\n"
      ]
    },
    {
      "cell_type": "markdown",
      "metadata": {
        "id": "v51t7z7CpXK1"
      },
      "source": [
        "## 2.1 Origem dos Dados"
      ]
    },
    {
      "cell_type": "markdown",
      "metadata": {
        "id": "ZqnxNZ7XpYRh"
      },
      "source": [
        "## 2.2 Dicionário dos Dados"
      ]
    },
    {
      "cell_type": "markdown",
      "metadata": {
        "id": "x0qhl-bj2PX0"
      },
      "source": [
        "### Variáveis\n",
        "- **data_internacao_real**: Referente à data de internação do paciente.\n",
        "- **data_cadastro**: Referente à data de cadastro do paciente.\n",
        "- **sexo**: Referente ao sexo do paciente.\n",
        "- **data_nascimento**: Referente à data de nascimento do paciente.\n",
        "- **uf**: Referente à unidade federal do paciente.\n",
        "- **municipio**: Referente ao municipio do paciente.\n",
        "- **profissao_ocupacao**: Referente à profissão do paciente.\n",
        "- **cod_paciente**: Referente ao código do paciente.\n",
        "- **unidade_cadastro**: Referente ao hospital em que o paciente está.\n",
        "- **idade_aprox**: Referente à idade do paciente.\n",
        "- **estado_civil**: Referente ao estado civil do paciente.\n",
        "- **etnia**: Referente à etnia do paciente.\n",
        "- **arranjo_domiciliar**: Referente ao arranjo domiciliar do paciente.\n",
        "- **cod_regulacao**: Referente ao código de regulação.\n",
        "- **cod_unidade_origem**: Referente ao código do hospital de origem.\n",
        "- **data_solicitacao**: Referente à data de solicitação da internação.\n",
        "- **tipo_regulacao**: Referente ao tipo de regulação.\n",
        "- **cid10_diagnostico**: Referente ao código que indica o transtorno dito pelo primeiro diagnóstico.\n",
        "- **cid10_seg_diagnostico**: Referente ao código que indica o transtorno dito pelo segundo diagnóstico.\n",
        "- **data_lista_reg**: Referente à data da lista registrada.\n",
        "- **data_vaga_reg**: Referente à data da vaga registrada.\n",
        "- **data_admissao_reg**: Referente à data de admissão registrada.\n",
        "- **data_lista_hospital**: Referente à data da lista do Hospital.\n",
        "- **data_vaga_hospital**: Referente à data da vaga do Hospital.\n",
        "- **data_internacao**: Referente à data de admissão do Hospital.\n",
        "- **diff_delay_Rank_vaga_internacao_1**: Referente à diferença de tempo entre internações de um paciente.\n",
        "- **data_cancel_solicitacao**: Referente à data de cancelamento de uma solicitação.\n",
        "- **data_transferencia**: Referente à data de transferencia de um paciente.\n",
        "- **traumatismo**: Referente ao registro de um traumatismo de um paciente.\n",
        "- **prob_respiratorios**: Referente ao registro de problemas respiratórios de um paciente.\n",
        "- **avc**: Referente ao registro de AVC's de um paciente.\n",
        "- **convulsao**: Referente ao registro de convulsão de um paciente.\n",
        "- **has**: Referente ao registro de Hipertensão Arterial Sistêmica de um paciente.\n",
        "- **gravidez**: Referente ao registro de gravidez de um paciente.\n",
        "- **diabetes**: Referente ao registro de diabetes de um paciente.\n",
        "- **doenca_infecto**: Referente ao registro de doença infectológica de um paciente.\n",
        "- **tipo_internacao_de**: Referente ao tipo de internação do paciente.\n",
        "- **data_expiracao**: Referente à data de expiração da internação.\n",
        "- **cod_transf_alta**: Referente ao código de transferência por alta.\n",
        "- **status_internacao**: Referente ao status de internação.\n",
        "- **data_alta**: Referente à data de alta.\n",
        "- **cid10_diagnostico_alta**: Referente ao código que indica o transtorno dito pelo primeiro diagnóstico após alta.\n",
        "- **cid10_seg_diagnostico_alta**: Referente ao código que indica o transtorno dito pelo segundo diagnóstico após alta.\n",
        "- **tipo_alta**: Referente ao tipo de alta.\n",
        "- **tipo_internacao**: Referente ao tipo de internação.\n",
        "- **nome_unidade_solicitacao**: Referente ao nome do hospital de solicitação de transferência.\n",
        "- **nome_unidade_destino**: Referente ao nome do hospital de destino de transferência.\n",
        "- **via_internacao**: Referente à via de internação do paciente\n",
        "- **tempo_espera_internacao**: Referente ao tempo de espera para internação do paciente.\n",
        "- **tempo_espera_aceite**: Referente ao tempo de espera para o aceite de internação do paciente.\n",
        "- **idade**: Referente à idade do paciente\n",
        "- **grupo_diagnostico_alta**: Referente ao grupo de diagnóstico da alta do paciente.\n",
        "- **faixa_etaria**: Referente à faixa etária do paciente.\n",
        "- **tempo_internacao**: Referente ao tempo de internação do paciente.\n",
        "- **event**:\n",
        "- **diff_in_sec**: Referente à diferença de tempo entre internações de um paciente em segundos.\n",
        "- **diff_in_min**: Referente à diferença de tempo entre internações de um paciente em minutos.\n",
        "- **diff_in_hour**: Referente à diferença de tempo entre internações de um paciente em horas.\n",
        "- **diff_in_day**: Referente à diferença de tempo entre internações de um paciente em dias.\n",
        "- **Count**: Referente à quantidade de internações.\n",
        "- **total_repeat_cod**: Referente ao código de total de repetições.\n",
        "- **total_repeat**: Referente à total de repetições.\n",
        "- **sum_los_hour**: Referente à soma de horas em que o paciente ficou internado.\n",
        "- **sum_outside_hour**: Referente à soma de horas em que o paciente ficou fora da internação.\n",
        "- **cumsum**: Soma cumulativa de horas de internação do paciente\n",
        "- **cumsum.1**:\n",
        "- **cumsum.1(start)**:\n",
        "- **cod_paciente.1**:\n",
        "- **start**: Quantas horas de internação paciente já tinha antes desta internação\n",
        "- **stop**: Quantas horas de internação o paciente tem após essa internação"
      ]
    },
    {
      "cell_type": "markdown",
      "metadata": {
        "id": "bAfzEbQGlhs8"
      },
      "source": [
        "### Tipos de Variáveis\n",
        "\n",
        "Variáveis Qualitativas Ordinais:\n",
        "\n",
        "- Datas\n",
        "- Faixa Etária\n",
        "\n",
        "Viariáveis Qualitativas Nominais:\n",
        "\n",
        "- Sexo\n",
        "- UF\n",
        "- Municipio\n",
        "- Profissão\n",
        "- Estado civil\n",
        "- Etnia\n",
        "- Arranjo Domiciliar\n",
        "- Tipo regulação\n",
        "- Diagnóstico de transtorno mental\n",
        "- Status internação\n",
        "- Diagnósticos de saída do hospital\n",
        "- Tipo de alta\n",
        "- Unidade de internação\n",
        "- Grupo de diagnóstico\n",
        "- Tempos de internações\n",
        "\n",
        "Variáveis Qualitativas Binárias:\n",
        "\n",
        "- Ocorrencia ou não de eventos durante internação\n",
        "- Tipo de internação(Compulsória ou voluntária)\n",
        "- Gravidez\n",
        "- Diabetes\n",
        "- Tuberculose\n",
        "- Doença infectológica\n",
        "- Hipertensão Arterial Sistêmica\n",
        "- Convulsão\n",
        "- AVC\n",
        "- Problema respiratório\n",
        "- Traumatismo\n",
        "\n",
        "Variáveis Quantitativas:\n",
        "\n",
        "- Idade\n",
        "- Contagem de internações\n",
        "- Horas passadas internado\n",
        "- Minutos passados internado\n",
        "- Segundos passados internado\n",
        "- Horas passadas fora do hospital\n"
      ]
    },
    {
      "cell_type": "markdown",
      "metadata": {
        "id": "iEwZYlJ2oxMN"
      },
      "source": [
        "# 3. Coleta de dados"
      ]
    },
    {
      "cell_type": "code",
      "execution_count": 114,
      "metadata": {
        "id": "JNjdOZDiA9s3"
      },
      "outputs": [],
      "source": [
        "# importando bibliotecas\n",
        "\n",
        "# numericas\n",
        "import numpy as np\n",
        "\n",
        "# manipulacao de dados\n",
        "import pandas as pd\n",
        "\n",
        "# graficas\n",
        "import matplotlib.pyplot as plt\n",
        "import seaborn as sns\n",
        "\n",
        "# utilidades\n",
        "# from google.colab import drive\n",
        "\n",
        "import warnings\n",
        "warnings.filterwarnings('ignore')\n",
        "\n",
        "from collections import Counter"
      ]
    },
    {
      "cell_type": "code",
      "execution_count": 115,
      "metadata": {
        "id": "8WAyYCzTDZAf"
      },
      "outputs": [],
      "source": [
        "# carregando dados\n",
        "df = pd.read_csv('https://raw.githubusercontent.com/ImagineDogs/TranstornosMentais/main/total%20dataset.csv')"
      ]
    },
    {
      "cell_type": "code",
      "execution_count": 116,
      "metadata": {
        "colab": {
          "base_uri": "https://localhost:8080/"
        },
        "id": "f8j0GOi8FYAd",
        "outputId": "2f69f2fb-582e-4432-ab8e-c6e18b0c8ca5"
      },
      "outputs": [
        {
          "name": "stdout",
          "output_type": "stream",
          "text": [
            "Os dados compreendem 8755 observações e 70 variáveis\n"
          ]
        }
      ],
      "source": [
        "# Quantia total de dados\n",
        "n_linhas = df.shape[0]\n",
        "n_colunas = df.shape[1]\n",
        "\n",
        "print(f'''Os dados compreendem {n_linhas} observações e {n_colunas} variáveis''')"
      ]
    },
    {
      "cell_type": "markdown",
      "metadata": {
        "id": "t-z2m_aJFGoI"
      },
      "source": [
        "## Limpeza e tratamento dos dados"
      ]
    },
    {
      "cell_type": "code",
      "execution_count": 117,
      "metadata": {
        "id": "YpsEku5X7MI2"
      },
      "outputs": [],
      "source": [
        "datas = df.filter(regex=('data')).columns\n",
        "for data in datas:\n",
        "  df[data] = pd.to_datetime(df[data]\n",
        "                              .astype(str)\n",
        "                              .apply(lambda x: x.split()[0]),\n",
        "                              format='%m/%d/%Y')"
      ]
    },
    {
      "cell_type": "code",
      "execution_count": 118,
      "metadata": {
        "id": "VtMGzIG19rJq"
      },
      "outputs": [],
      "source": [
        "diff = df.filter(regex=('diff')).columns.tolist()\n",
        "df.drop(diff,axis=1,inplace=True)"
      ]
    },
    {
      "cell_type": "code",
      "execution_count": 119,
      "metadata": {
        "id": "uEcoOukD_qx6"
      },
      "outputs": [],
      "source": [
        "remove = ['event',\n",
        " 'sum_los_hour',\n",
        " 'sum_outside_hour',\n",
        " 'cumsum', 'cumsum.1',\n",
        " 'cumsum.1(start)',\n",
        " 'cod_paciente.1',\n",
        " 'start',\n",
        " 'stop',\n",
        " 'idade_aprox',\n",
        " 'total_repeat_cod',\n",
        " 'total_repeat',\n",
        " 'tempo_espera_internacao',\n",
        " 'tempo_espera_aceite',\n",
        " 'tempo_internacao']"
      ]
    },
    {
      "cell_type": "code",
      "execution_count": 120,
      "metadata": {
        "id": "cTMPi_t2AgSe"
      },
      "outputs": [],
      "source": [
        "df = df.drop(remove,axis = 1)"
      ]
    },
    {
      "cell_type": "code",
      "execution_count": 121,
      "metadata": {
        "id": "Y90hpPqeM2HJ"
      },
      "outputs": [],
      "source": [
        "df.replace('14-Oct','10-14', inplace=True)"
      ]
    },
    {
      "cell_type": "code",
      "execution_count": 122,
      "metadata": {
        "id": "mOBiyGCz7qiI"
      },
      "outputs": [],
      "source": [
        "df.rename({'Count':'qtd_internacoes'},axis=1, inplace=True)"
      ]
    },
    {
      "cell_type": "code",
      "execution_count": 123,
      "metadata": {
        "id": "p0qw1HaX3TD8"
      },
      "outputs": [],
      "source": [
        "df['tempo_internado'] = (df.data_alta - df.data_internacao_real).dt.days"
      ]
    },
    {
      "cell_type": "code",
      "execution_count": 124,
      "metadata": {
        "id": "ghtKRRHP9waC"
      },
      "outputs": [],
      "source": [
        "df.replace('viasvo','VIUVO',inplace=True)"
      ]
    },
    {
      "cell_type": "code",
      "execution_count": 125,
      "metadata": {
        "colab": {
          "base_uri": "https://localhost:8080/"
        },
        "id": "jEYJgoKc9iLB",
        "outputId": "391cd519-6a05-4c18-c6de-8f6d7aedd15f"
      },
      "outputs": [
        {
          "data": {
            "text/plain": [
              "data_internacao_real          datetime64[ns]\n",
              "data_cadastro                 datetime64[ns]\n",
              "sexo                                  object\n",
              "data_nascimento               datetime64[ns]\n",
              "uf                                    object\n",
              "municipio                             object\n",
              "profissao_ocupacao                    object\n",
              "cod_paciente                           int64\n",
              "unidade_cadastro                       int64\n",
              "estado_civil                          object\n",
              "etnia                                 object\n",
              "arranjo_domiciliar                    object\n",
              "cod_regulacao                          int64\n",
              "cod_unidade_origem                   float64\n",
              "data_solicitacao              datetime64[ns]\n",
              "tipo_regulacao                        object\n",
              "cid10_diagnostico                     object\n",
              "cid10_seg_diagnostico                 object\n",
              "data_lista_reg                datetime64[ns]\n",
              "data_vaga_reg                 datetime64[ns]\n",
              "data_admissao_reg             datetime64[ns]\n",
              "data_lista_hospital           datetime64[ns]\n",
              "data_vaga_hospital            datetime64[ns]\n",
              "data_internacao               datetime64[ns]\n",
              "data_cancel_solicitacao       datetime64[ns]\n",
              "data_transferencia            datetime64[ns]\n",
              "traumatismo                           object\n",
              "prob_respiratorios                    object\n",
              "avc                                   object\n",
              "convulsao                             object\n",
              "has                                   object\n",
              "gravidez                              object\n",
              "diabetes                              object\n",
              "doenca_infecto                        object\n",
              "tipo_internacao_de                    object\n",
              "data_expiracao                datetime64[ns]\n",
              "cod_transf_alta                      float64\n",
              "status_internacao                    float64\n",
              "data_alta                     datetime64[ns]\n",
              "cid10_diagnostico_alta                object\n",
              "cid10_seg_diagnostico_alta            object\n",
              "tipo_alta                             object\n",
              "tipo_internacao                       object\n",
              "nome_unidade_solicitacao              object\n",
              "nome_unidade_destino                  object\n",
              "via_internacao                        object\n",
              "idade                                float64\n",
              "grupo_diagnostico_alta                object\n",
              "faixa_etaria                          object\n",
              "qtd_internacoes                        int64\n",
              "tempo_internado                      float64\n",
              "dtype: object"
            ]
          },
          "execution_count": 125,
          "metadata": {},
          "output_type": "execute_result"
        }
      ],
      "source": [
        "df.dtypes"
      ]
    },
    {
      "cell_type": "code",
      "execution_count": 126,
      "metadata": {
        "colab": {
          "base_uri": "https://localhost:8080/"
        },
        "id": "wrwogCZUXDp7",
        "outputId": "4110f75b-96a5-49c5-c7a7-95cc1780260a"
      },
      "outputs": [
        {
          "name": "stdout",
          "output_type": "stream",
          "text": [
            "Requirement already satisfied: unidecode in c:\\python311\\lib\\site-packages (1.3.6)\n"
          ]
        }
      ],
      "source": [
        "!pip install unidecode\n",
        "from unidecode import unidecode\n",
        "\n",
        "def apply_corrections(df, column, corrections):\n",
        "  df[column] = df[column].apply(str)\n",
        "  df[column] = df[column].apply(str.upper)\n",
        "  df[column] = df[column].replace(corrections)\n",
        "  df[column] = df[column].str.strip()\n",
        "  df[column] = df[column].str.replace(r'\\s+', ' ', regex=True)\n",
        "  df[column] = df[column].apply(unidecode)\n"
      ]
    },
    {
      "cell_type": "code",
      "execution_count": 127,
      "metadata": {
        "colab": {
          "base_uri": "https://localhost:8080/"
        },
        "id": "BUrh50reuAt7",
        "outputId": "30194dfd-1ba5-43a0-f95a-e10d6e686fcf"
      },
      "outputs": [
        {
          "data": {
            "text/plain": [
              "array(['Ribeirão Preto', 'Santa Rosa de Viterbo',\n",
              "       'SANTA RITA DO PASSA QUATRO', 'FRANCA', 'BATATAIS', 'Sertãozinho',\n",
              "       'MONTE ALTO', 'GUARIBA', 'JABOTICABAL', 'JARDINOPOLIS',\n",
              "       'Luís Antônio', 'PITANGUEIRAS', 'Serrana', 'BARRETOS', 'CAJURU',\n",
              "       'Pradópolis ', 'São Simão', 'ALTINÓPOLIS', 'BARRINHA', 'PONTAL',\n",
              "       'TAQUARITINGA', 'NÃO INFORMADO', 'Cravinhos',\n",
              "       'SÃO JOAQUIM DA BARRA', 'CASSIA DOS COQUEIROS', 'Brodowski',\n",
              "       'ITUVERAVA', 'BONFIM PAULISTA', 'Serrana ', 'VILA CRISTAL',\n",
              "       'DESCALVADO', 'SANTO ANTONIO DA ALEGRIA', 'DUMONT',\n",
              "       'PORTO FERREIRA', 'SERRA AZUL', 'GUATAPARA', 'COLOMBIA', 'IPUA',\n",
              "       'Américo Brasiliense', 'Ribeirão Preto ', 'SACRAMENTO',\n",
              "       'Sertãozinho ', 'FRUGAL', 'Santa Cruz da Esperança',\n",
              "       'PIRASSUNUNGA', ' São Carlos', 'CASA BRANCA', 'BATATAIS ',\n",
              "       'SEERANA', 'BEBEDOURO', 'ALTINÓPOLIS ', 'CAIEIRAS',\n",
              "       'CÃ\\x81SSIA DOS COQUEIROS', 'POA', 'OSASCO', 'SÃO PAULO',\n",
              "       'SANTO AMARO', 'GUARULHOS', 'Guará', 'Cândia ', 'IBITIUVA',\n",
              "       'SAO SIMAO', 'VIRADOURO', 'CRUZ DAS POSSES',\n",
              "       'SANTA CRUZ DAS PALMEIRAS', 'PONTAL ', 'CAJURU ', 'SALVADOR',\n",
              "       'MONTE AZUL PAULISTA', 'R José Venâncio,621', 'MORRO AGUDO',\n",
              "       'Serra Azul', 'VISTA ALEGRE DO ALTO', 'RIO CLARO',\n",
              "       'São Sebastião do Paraíso', '40 ANOS', 'JUSSIAPE', 'Matão',\n",
              "       'BERILO', 'Araraquara', ' Promissão',\n",
              "       'São João Batista do Glória ', 'JUNDIAÃ\\x8d', 'CAMPINAS',\n",
              "       'GUARACI', 'CORONEL MURTA', 'NATAL', 'CRISTÃ\\x81LIA',\n",
              "       'MOGI DAS CRUZES', 'Santa Adélia', 'Porto Real do Colégio',\n",
              "       'PIRES DO RIO', 'IGARAPAVA', 'FLORESTÃ\\x93POLIS', 'OLÃ\\x8dMPIA',\n",
              "       'AMERICANA', 'Tupã', 'MIGUELÃ\\x93POLIS', 'CAATINGA', 'CASCAVEL',\n",
              "       'RIBEIRO DO VALE', 'PORTO ALEGRE', 'Araçuaí', 'FRANCO DA ROCHA',\n",
              "       'MONTE CARMELO', 'JACAREZINHO', 'CAJOBI', 'MINAS NOVAS'],\n",
              "      dtype=object)"
            ]
          },
          "execution_count": 127,
          "metadata": {},
          "output_type": "execute_result"
        }
      ],
      "source": [
        "df['municipio'].unique()"
      ]
    },
    {
      "cell_type": "code",
      "execution_count": 128,
      "metadata": {
        "colab": {
          "base_uri": "https://localhost:8080/"
        },
        "id": "SdWPqmte0tcS",
        "outputId": "fc6346aa-737f-4fba-9358-93fb5f210ec3"
      },
      "outputs": [
        {
          "data": {
            "text/plain": [
              "['ALTINOPOLIS',\n",
              " 'AMERICANA',\n",
              " 'AMERICO BRASILIENSE',\n",
              " 'ARACUAI',\n",
              " 'ARARAQUARA',\n",
              " 'BARRETOS',\n",
              " 'BARRINHA',\n",
              " 'BATATAIS',\n",
              " 'BEBEDOURO',\n",
              " 'BERILO',\n",
              " 'BONFIM PAULISTA',\n",
              " 'BRODOWSKI',\n",
              " 'CAATINGA',\n",
              " 'CAIEIRAS',\n",
              " 'CAJOBI',\n",
              " 'CAJURU',\n",
              " 'CAMPINAS',\n",
              " 'CANDIA',\n",
              " 'CASA BRANCA',\n",
              " 'CASCAVEL',\n",
              " 'CASSIA DOS COQUEIROS',\n",
              " 'COLOMBIA',\n",
              " 'CORONEL MURTA',\n",
              " 'CRAVINHOS',\n",
              " 'CRISTALIA',\n",
              " 'CRUZ DAS POSSES',\n",
              " 'DESCALVADO',\n",
              " 'DUMONT',\n",
              " 'FLORESTOPOLIS',\n",
              " 'FRANCA',\n",
              " 'FRANCO DA ROCHA',\n",
              " 'FRUTAL',\n",
              " 'GUARA',\n",
              " 'GUARACI',\n",
              " 'GUARIBA',\n",
              " 'GUARULHOS',\n",
              " 'GUATAPARA',\n",
              " 'IBITIUVA',\n",
              " 'IGARAPAVA',\n",
              " 'IPUA',\n",
              " 'ITUVERAVA',\n",
              " 'JABOTICABAL',\n",
              " 'JACAREZINHO',\n",
              " 'JARDINOPOLIS',\n",
              " 'JUNDIAI',\n",
              " 'JUSSIAPE',\n",
              " 'LUIS ANTONIO',\n",
              " 'MATAO',\n",
              " 'MIGUELOPOLIS',\n",
              " 'MINAS NOVAS',\n",
              " 'MOGI DAS CRUZES',\n",
              " 'MONTE ALTO',\n",
              " 'MONTE AZUL PAULISTA',\n",
              " 'MONTE CARMELO',\n",
              " 'MORRO AGUDO',\n",
              " 'NAO INFORMADO',\n",
              " 'NATAL',\n",
              " 'OLIMPIA',\n",
              " 'OSASCO',\n",
              " 'PIRASSUNUNGA',\n",
              " 'PIRES DO RIO',\n",
              " 'PITANGUEIRAS',\n",
              " 'POA',\n",
              " 'PONTAL',\n",
              " 'PORTO ALEGRE',\n",
              " 'PORTO FERREIRA',\n",
              " 'PORTO REAL DO COLEGIO',\n",
              " 'PRADOPOLIS',\n",
              " 'PROMISSAO',\n",
              " 'RIBEIRAO PRETO',\n",
              " 'RIBEIRO DO VALE',\n",
              " 'RIO CLARO',\n",
              " 'SACRAMENTO',\n",
              " 'SALVADOR',\n",
              " 'SANTA ADELIA',\n",
              " 'SANTA CRUZ DA ESPERANCA',\n",
              " 'SANTA CRUZ DAS PALMEIRAS',\n",
              " 'SANTA RITA DO PASSA QUATRO',\n",
              " 'SANTA ROSA DE VITERBO',\n",
              " 'SANTO AMARO',\n",
              " 'SANTO ANTONIO DA ALEGRIA',\n",
              " 'SAO CARLOS',\n",
              " 'SAO JOAO BATISTA DO GLORIA',\n",
              " 'SAO JOAQUIM DA BARRA',\n",
              " 'SAO PAULO',\n",
              " 'SAO SEBASTIAO DO PARAISO',\n",
              " 'SAO SIMAO',\n",
              " 'SERRA AZUL',\n",
              " 'SERRANA',\n",
              " 'SERTAOZINHO',\n",
              " 'TAQUARITINGA',\n",
              " 'TUPA',\n",
              " 'VILA CRISTAL',\n",
              " 'VIRADOURO',\n",
              " 'VISTA ALEGRE DO ALTO']"
            ]
          },
          "execution_count": 128,
          "metadata": {},
          "output_type": "execute_result"
        }
      ],
      "source": [
        "corrections = {\n",
        "    '40 ANOS': 'NAO INFORMADO',\n",
        "    'R JOSÉ VENÂNCIO,621': 'NAO INFORMADO',\n",
        "    'CÃ\\x81SSIA DOS COQUEIROS':'CASSIA DOS COQUEIROS',\n",
        "    'JUNDIAÃ\\x8d':'JUNDIAI',\n",
        "    'CRISTÃ\\x81LIA':'CRISTALIA',\n",
        "    'FLORESTÃ\\x93POLIS':'FLORESTOPOLIS',\n",
        "    'OLÃ\\x8dMPIA':'OLIMPIA',\n",
        "    'MIGUELÃ\\x93POLIS':'MIGUELOPOLIS',\n",
        "    'SEERANA': 'SERRANA',\n",
        "    'FRUGAL': 'FRUTAL'\n",
        "}\n",
        "\n",
        "apply_corrections(df, 'municipio', corrections)\n",
        "\n",
        "sorted(df['municipio'].unique())"
      ]
    },
    {
      "cell_type": "code",
      "execution_count": 129,
      "metadata": {
        "colab": {
          "base_uri": "https://localhost:8080/"
        },
        "id": "Ij_IjglGvSgk",
        "outputId": "9a3abe1f-d90a-4d07-f81a-c75cc3f68e0c"
      },
      "outputs": [
        {
          "data": {
            "text/plain": [
              "array(['DO LAR', 'DESEMPREGADA', 'NÃO INFORMADO', 'SERVIÇOS GERAIS',\n",
              "       'LAVRADORA', 'SERVENTE', 'AJUDANTE DE METALURGICA', 'COLETOR',\n",
              "       'ELETRICISTA INDUSTRIAL', 'OPERADOR DE MAQUINA', 'PROFESSORA',\n",
              "       'EMPACOTADOR', 'AUXILIAR DE LIMPEZA', 'DOMESTICA',\n",
              "       'SERVENTE DE PEDREIRO', 'VENDEDOR', 'FAXINEIRA', 'DONA DE CASA',\n",
              "       'PENSIONISTA', 'COSTUREIRA', 'ESTUDANTE', 'MARCENEIRO',\n",
              "       'METALURGICO', 'MECANICO ELEVADOR', 'DESEMPREGADO',\n",
              "       'TECNICO DE INFORMATICA', 'CASEIRO', 'INATIVA', 'INATIVO',\n",
              "       'APOSENTADA', 'INSTALADOR DE GESSO', 'SOLDADOR', 'LAVRADOR',\n",
              "       'CABELEIREIRA', 'LAVRADOR RURAL', 'MOTORISTA',\n",
              "       'TECNICA DE ENFERMAGEM', 'BABÃ\\x81', 'AUXILIAR DE PRODUCAO',\n",
              "       'SERVICOS GERAIS MASC', 'INACTIVE', 'ENCARREGADO DE EXPEDIÃ\\x87AO',\n",
              "       'APOSENTADO', 'AJUDANTE DE MONTAGEM', 'SEM PROFISSAO',\n",
              "       'DESENHISTA', 'GarçoM', 'PEDREIRO', 'PINTOR',\n",
              "       'DO LAR- RECEBE PENSÃO', 'MONTADOR INDUSTRIAL', 'FUNILEIRO',\n",
              "       'SEM Ocupação', 'CARPINTEIRO', 'APOSENTADA ',\n",
              "       'AUXILIAR DE ENFERMAGEM', 'OPERADORA DE CAIXA', 'NAO TRABALHA',\n",
              "       'ZELADOR', 'VIGILANTE', 'AJUDANTE GERAL ', 'SOCIÃ\\x93LOGO',\n",
              "       'GESSEIRO', 'INCAPAZ', 'AJUDANTE GERAL / AFASTADO', 'PORTEIRO',\n",
              "       'AFASTADO', 'PORTEIRA', 'FRENTISTA', 'SEGURANÃ\\x87A', 'Açougueiro',\n",
              "       'TRATORISTA', 'DESOCUPADO', 'ATENDENTE DE ENFERMAGEM',\n",
              "       'PECUARISTA', 'VENDEDORA', 'TECNICO EM CONTABILIDADE', 'MECANICO',\n",
              "       'TRABALHADOR RURAL', 'MANICURE', 'AUTONOMO', 'LAVADOR DE CARROS',\n",
              "       'APOSNETADO', 'VENDEDOR DE LABORATÃ\\x93RIO', 'MOTO BOY',\n",
              "       'ATENDIMENTO NA TELEFEFÃ\\x94NICA', 'CAMAREIRA',\n",
              "       'SERVENTE PEDREIRO', 'EX-AUX DE PRODUÃ\\x87Ã\\x83O',\n",
              "       'FUNCIONÁRIO PÚBLICA ', 'ELETRICISTA', 'BENEFICIÃ\\x81RIO',\n",
              "       'COMERCIANTE', 'DO LAR ', 'SEGURANCA', 'SERVICOS GERAIS',\n",
              "       'MORADORA DE RUA', 'DESOCUPADO ', 'TELEOPERADORA', 'MENOR',\n",
              "       'INSPETOR DE ALUNO', 'CABELEIREIRO', 'DESEMPREGADO ',\n",
              "       'PROFESSORA DE LINGUA PORTUGUESA', 'ENCARREGADO DE OBRAS',\n",
              "       'COSTUREIRO SE', 'SERVIÇOS GERAIS EM SUPERMERCADO', 'ENCANADOR',\n",
              "       'Auxiliar de serviços', 'REPOSITOR', 'Autônomo',\n",
              "       'AUXILIAR DE ALMOXARIFADO', 'PADARIA DE UMA LOJA',\n",
              "       'AUXILIAR DE SERVIÃ\\x87OS GERAIS', 'COVEIRO (AFASTADO)',\n",
              "       'MONTADOR', 'ESTUDANTE ', 'PEDREIRO SE', 'ESTETICISTA',\n",
              "       'AUX DE LIMPEZA', 'RECEPSIONISTA', 'CONSTRUTOR CIVIL',\n",
              "       'AJUDANTE GERAL', 'IGNORADO', 'VENDEDOR AMBULANTE',\n",
              "       'OP. DE MÃ\\x81QUINAS', 'VENDEDORA TELEMARKET', 'TAXISTA',\n",
              "       'FISIOTERAPEUTA', 'DETENTO', 'OPERADOR DE MAQUINAS', 'FUNDIDOR SE',\n",
              "       'MOTOTAXISTA', 'DESEMPREGADA/ NÃO ESTUDA', 'DIARISTA', 'ANDARILHO',\n",
              "       'AJ. SERV. GERAL', 'BENEFICIO LOAS', 'OFICIAL ADMINISTRATIVO',\n",
              "       'BORRACHEIRO', 'Artesão', 'MECÃ\\x82NICO E FUNILEIRO ',\n",
              "       'SERRALHEIRO', 'RADIALISTA', 'JORNALISTA', 'ANALISTA DE MARKETING',\n",
              "       'DO LAR  ', 'CALDEREIRO', 'DECLARADO INCAPAZ',\n",
              "       'FUNCIONARIO DE USINA', 'DOMESTICA DONA DE CASA',\n",
              "       'COLETOR DE RECICLÃ\\x81VEIS', 'PROMOTORA', 'BENEFICIO',\n",
              "       'OPERADORA TELEMARKETING', 'COZINHEIRA', 'PADEIRO', 'MILITAR',\n",
              "       'DEO LAR', 'LIXADOR SE', 'Braçal', 'AUXILIAR EM FUNDIÇÃO',\n",
              "       'AUXILIAR DE COZINHA', 'SERV. PEDREIRO - INATIV.', 'PROFESSOR ',\n",
              "       'AJUDANTE', 'MÉDICO', 'TECNICO AGROPECUARIO', 'BALCONISTA',\n",
              "       'CUIDADORA DE IDOSOS', 'INATIVA-APOSENTADA COMO PROT[ETICA',\n",
              "       'AUXILIAR TECNICO SE', 'AUXILIAR DE ENTREGA', 'SEM ',\n",
              "       'TORNEIRO MECANICO', 'TELEMARKETING', 'SEM Ocupação.', 'BIÃ LOGO',\n",
              "       'AUXILIAR DE JUSTICA', 'RUA GUMERCINDO VELLUDO',\n",
              "       'TRABALHA NA FEBEM', 'AUXILIAR ADMINISTRATIVO',\n",
              "       'MECANICO,PEDREIRO,CARPINTEIRO', 'CALDEIREIRO', 'GRAFICO',\n",
              "       'LAMINADOR', 'CATADOR / RECICLADOR', 'CORRETOR DE IMOVEL',\n",
              "       'AJUDANTE DE COZINHA', 'ADMINISTRADOR ', 'CONFEITEIRA',\n",
              "       'EMPRESARIO SE', 'CUIDADORA', 'IANTIVA', 'PEDRE',\n",
              "       'FUNCIONARIO PUBLICO', 'ATENDENTE', 'MOTORISTA SE', 'RURICOLA',\n",
              "       'SAPATEIRO', 'ENFERMEIRA', 'SERVIÇOS GERAIS.', 'BENEFICIARIO',\n",
              "       'NUTRICIONISTA', 'BACHAREL EM DIREITO', 'AUXILIAR DE MONTAGEM',\n",
              "       'OPERADOR DE MÃ\\x81QUINA', 'APOSENTADO ', 'OFFICE BOY',\n",
              "       'GERENTE ADMINISTRATIVO', 'AJUDANTE SE', 'SERVENTE DESEMPREGADO',\n",
              "       'ESTUDANTE / INATIVA', 'COZINHEIRO DO PINGUIM',\n",
              "       'AGENTE DE TELEMARKETING', 'DESEMPRGADO', 'DESCONHECIDA',\n",
              "       'ESTUDANTE DE QUIMICA', 'ESCRITURÃ\\x81RIO', 'TRONEIRO MECANICO',\n",
              "       'INSTRUTOR DE AUTO ESCOLA', 'MARCINEIRO', 'AGENTE CARCERÃ\\x81RIO',\n",
              "       'DESEMPREGADO (JARDINEIRO)', ' COMERCIANTE', 'ENTREGA PANFLETOS',\n",
              "       'AUX. ENFERMAGEM', 'PROFESSORA DE DANÃ\\x87A', 'VOLUNTÃ\\x81RIA',\n",
              "       'FUNCIONÁRIO PÚBLICA APOSENTADO', 'OPERADOR COMERCIAL',\n",
              "       'MECÃ\\x82NICO DE COLHEDEIRA', 'DIARISTA RURAL', 'COZINHEIRO',\n",
              "       'SEM PROFISSSÃ\\x83O', 'DSESEMPREGADO', 'SEM', 'PEAO',\n",
              "       'APOSENTADO POR INVALIDEZ', 'PINTOR SE SCS', 'DENTISTA',\n",
              "       'AUXILIAR DE COSTURA', 'COPEIRO', 'DESCONHECIDO', 'RECEPCIONISTA',\n",
              "       'PINTOR DE PAREDE', 'Técnico EM MANUTENÇÃO DE EXTINTORES',\n",
              "       'FUNCIONARIO DO DAERP', 'EMPREGADO DOMÉSTICA', 'JARDINEIRO',\n",
              "       'ESTUDANTE (EVASÃ\\x83O ESCOLAR)', 'AGENTE ADMINISTRATIVO',\n",
              "       'CUIDADORA IDOSOS', 'ENTREGADOR DE GAS',\n",
              "       'RESTAURADOR DEMÃ\\x93VEIS', 'OLEIRO', 'DESOCUPADA', 'OPERARIO',\n",
              "       'GUARDA MUNICIPAL', 'LAVOURA', 'DESOCUAPADO', 'VENDEDORA ',\n",
              "       'DANA DE CASA', 'JATISTA', 'COLETOR DE LIXO',\n",
              "       'CONSELHEIRO TUTELAR', 'OPERADOR DE PRODUÃ\\x87Ã\\x83O',\n",
              "       'INATIVO/AJUDANTE DE PEDREIRO', 'CHURRASQUEIRO',\n",
              "       'VEREADORA/ENFERMEIRA', 'AUXILIAR', 'BICICLETEIRO',\n",
              "       'TRABALHA EM RESTAURANTE', 'OURIVES', 'VENDEDOR SE',\n",
              "       'AGENTE DE SAÚDE', 'POLICIAL AFASTADO', 'MUSICO',\n",
              "       '                                             ', 'ESCRITOR',\n",
              "       'APRESENTADOR DE TV', 'DESEMPREGADA ', 'CUIDADORA DE IDOSO',\n",
              "       'PSICOLOGA', 'ESTUDANTE ( SEM IR NA ESCOLA)', 'CATADOR',\n",
              "       'SECRETARIA', 'DESMEPREGADO', 'PNSIONISTA E AUTONOMA',\n",
              "       'AUXILIAR DE SACARIA', 'TECNICO EM ENFERMAGEM', 'AMBULANTE',\n",
              "       'RECICLAGEM', 'INSTRUTORA', 'EDUCADORA FISICA',\n",
              "       'INATIVO/ MOTORISTA', 'PROMOTOR DE VENDAS', 'OPERADOR DE INJETORA',\n",
              "       'AUX. DE SERV. GERAIS', 'OPERADORA', 'MORADOR DE RUA ',\n",
              "       'APOSENTADA PROFESSORA', 'SEM Ocupação ', 'INFORMAL', 'ASG',\n",
              "       'MARMORISTA', 'DOL AR', 'INATIVA ', 'ATENDENTE BERÇARIO PET SHOP',\n",
              "       'EMPRESÃ\\x81RIA', 'PROFISSIONAL DO SEXO', 'CABELEREIRO',\n",
              "       'SOLDADOR/ MOTOBOY', 'PROFESSOR', 'BARTENDER', 'COMERCIÃ\\x81RIA',\n",
              "       'OURIVES /INATIVO', 'BBENEFICIARIO LOAS', 'DESTILADOR',\n",
              "       'CAMINHONEIRO', 'VIGILANTE ', 'CORRETOR SE', 'Garçonete',\n",
              "       'ENGENHARIA DE MATERIAIS', 'ESCULTOR', 'SERVIÇOS DIVERSOS',\n",
              "       'AJUDANTE DE ELETRICISTA', 'SEM EMPREGO', 'TELEATENDENTE',\n",
              "       'TÃ\\x89CNICO DO DAERP', 'MACANICO DE COLHEDEIRA',\n",
              "       'TORNEIRO MECÃ\\x82NICO', 'FOTOGRAFO', 'TEC DE ENFERMAGEM',\n",
              "       'BENEFICIÃ\\x81RIO ', 'CORRETOR DE CONSÃ\\x93RCIOS',\n",
              "       'BENEFICIARIO DO LOAS', 'AGRICULTOR', 'CARROCEIRO',\n",
              "       'JARDINEIRO SE', 'GRAFICO SE', 'AUXILIAR DE DENTISTA', 'VENDENDOR',\n",
              "       'GAROTO DE PROGRAMA', 'ESTAGIÃ\\x81RIA', 'SEM Ocupação DEFINIDA',\n",
              "       'ADVOGADO', 'DESEMPREGADP', 'MÉDICA', 'MÃ\\x9aSICO',\n",
              "       'AUXILIAR DE PEDREIRO', 'BALCONISTA DESEMPREGADA',\n",
              "       'Técnico EM FARMÃ\\x81CIA', 'EM AUXÃ\\x8dLIO DOENÃ\\x87A',\n",
              "       'AJUDANTE GERAL (DESEMPREGADO)', 'ASSIST DE INFORMATICA',\n",
              "       'ANALISTA DE SEGURANÇA ELETRONICO', 'GEÃGRAFO',\n",
              "       'COORDENADORA EVENTOS ', 'Técnico  DE ENFERMAGEM', 'MEDICO',\n",
              "       'Autônoma', 'EDUCADOR FISICO', 'MOTOBOY', 'ATENDENTE SE',\n",
              "       'OPERADOR DE TELEMARKETING', 'DESEMPREGDO', 'CABELEREIRA',\n",
              "       'CALCETEIRO', 'APOSENTADA POR INVALIDEZ', 'AJUDANTE DE PEDREIRO',\n",
              "       'ESTUDANTE MEDICINA', 'INSPETOR DE ALUNOS', 'DECORADOR SE',\n",
              "       'ADEMIR', 'EMPACOTADOR SE', 'CUIDADOR',\n",
              "       'SECRETÃ\\x81RIA - AFASTADA', 'DESOCUPADA ', 'AUXILIAR DE SOLDADOR',\n",
              "       'DESEMPREGADO (TRABALHAVA EM LAVOURA)', 'CONFERIDORA', 'INATVA'],\n",
              "      dtype=object)"
            ]
          },
          "execution_count": 129,
          "metadata": {},
          "output_type": "execute_result"
        }
      ],
      "source": [
        "df['profissao_ocupacao'].unique()"
      ]
    },
    {
      "cell_type": "code",
      "execution_count": 130,
      "metadata": {
        "colab": {
          "base_uri": "https://localhost:8080/"
        },
        "id": "D2gqUGS92lp9",
        "outputId": "5f6ac0f3-9353-498b-98a7-3578e4e21d76"
      },
      "outputs": [
        {
          "data": {
            "text/plain": [
              "['',\n",
              " 'ACOUGUEIRO',\n",
              " 'ADMINISTRADOR',\n",
              " 'ADVOGADO',\n",
              " 'AFASTADO',\n",
              " 'AGENTE ADMINISTRATIVO',\n",
              " 'AGENTE CARCERARIO',\n",
              " 'AGENTE DE SAUDE',\n",
              " 'AGENTE DE TELEMARKETING',\n",
              " 'AGRICULTOR',\n",
              " 'AJ. SERV. GERAL',\n",
              " 'AJUDANTE',\n",
              " 'AJUDANTE DE COZINHA',\n",
              " 'AJUDANTE DE ELETRICISTA',\n",
              " 'AJUDANTE DE METALURGICA',\n",
              " 'AJUDANTE DE MONTAGEM',\n",
              " 'AJUDANTE DE PEDREIRO',\n",
              " 'AJUDANTE GERAL',\n",
              " 'AJUDANTE GERAL (DESEMPREGADO)',\n",
              " 'AJUDANTE GERAL / AFASTADO',\n",
              " 'AJUDANTE SE',\n",
              " 'AMBULANTE',\n",
              " 'ANALISTA DE MARKETING',\n",
              " 'ANALISTA DE SEGURANCA ELETRONICO',\n",
              " 'ANDARILHO',\n",
              " 'APOSENTADA',\n",
              " 'APOSENTADA POR INVALIDEZ',\n",
              " 'APOSENTADA PROFESSORA',\n",
              " 'APOSENTADO',\n",
              " 'APOSENTADO POR INVALIDEZ',\n",
              " 'APOSNETADO',\n",
              " 'APRESENTADOR DE TV',\n",
              " 'ARTESAO',\n",
              " 'ASG',\n",
              " 'ASSIST DE INFORMATICA',\n",
              " 'ATENDENTE',\n",
              " 'ATENDENTE BERCARIO PET SHOP',\n",
              " 'ATENDENTE DE ENFERMAGEM',\n",
              " 'ATENDENTE SE',\n",
              " 'ATENDIMENTO NA TELEFONICA',\n",
              " 'AUTONOMA',\n",
              " 'AUTONOMO',\n",
              " 'AUXILIAR',\n",
              " 'AUXILIAR ADMINISTRATIVO',\n",
              " 'AUXILIAR DE ALMOXARIFADO',\n",
              " 'AUXILIAR DE COSTURA',\n",
              " 'AUXILIAR DE COZINHA',\n",
              " 'AUXILIAR DE DENTISTA',\n",
              " 'AUXILIAR DE ENFERMAGEM',\n",
              " 'AUXILIAR DE ENTREGA',\n",
              " 'AUXILIAR DE JUSTICA',\n",
              " 'AUXILIAR DE LIMPEZA',\n",
              " 'AUXILIAR DE MONTAGEM',\n",
              " 'AUXILIAR DE PEDREIRO',\n",
              " 'AUXILIAR DE PRODUCAO',\n",
              " 'AUXILIAR DE SACARIA',\n",
              " 'AUXILIAR DE SERVICOS',\n",
              " 'AUXILIAR DE SERVICOS GERAIS',\n",
              " 'AUXILIAR DE SOLDADOR',\n",
              " 'AUXILIAR EM FUNDICAO',\n",
              " 'AUXILIAR TECNICO SE',\n",
              " 'BABA',\n",
              " 'BACHAREL EM DIREITO',\n",
              " 'BALCONISTA',\n",
              " 'BALCONISTA DESEMPREGADA',\n",
              " 'BARTENDER',\n",
              " 'BBENEFICIARIO LOAS',\n",
              " 'BENEFICIARIO',\n",
              " 'BENEFICIARIO DO LOAS',\n",
              " 'BENEFICIO',\n",
              " 'BENEFICIO LOAS',\n",
              " 'BIA LOGO',\n",
              " 'BICICLETEIRO',\n",
              " 'BORRACHEIRO',\n",
              " 'BRACAL',\n",
              " 'CABELEIREIRA',\n",
              " 'CABELEIREIRO',\n",
              " 'CALCETEIRO',\n",
              " 'CALDEIREIRO',\n",
              " 'CAMAREIRA',\n",
              " 'CAMINHONEIRO',\n",
              " 'CARPINTEIRO',\n",
              " 'CARROCEIRO',\n",
              " 'CASEIRO',\n",
              " 'CATADOR',\n",
              " 'CATADOR / RECICLADOR',\n",
              " 'CHURRASQUEIRO',\n",
              " 'COLETOR',\n",
              " 'COLETOR DE LIXO',\n",
              " 'COLETOR DE RECICLAVEIS',\n",
              " 'COMERCIANTE',\n",
              " 'COMERCIARIA',\n",
              " 'CONFEITEIRA',\n",
              " 'CONFERIDORA',\n",
              " 'CONSELHEIRO TUTELAR',\n",
              " 'CONSTRUTOR CIVIL',\n",
              " 'COORDENADORA EVENTOS',\n",
              " 'COPEIRO',\n",
              " 'CORRETOR DE CONSORCIOS',\n",
              " 'CORRETOR DE IMOVEL',\n",
              " 'CORRETOR SE',\n",
              " 'COSTUREIRA',\n",
              " 'COSTUREIRO SE',\n",
              " 'COVEIRO (AFASTADO)',\n",
              " 'COZINHEIRA',\n",
              " 'COZINHEIRO',\n",
              " 'COZINHEIRO DO PINGUIM',\n",
              " 'CUIDADOR',\n",
              " 'CUIDADORA',\n",
              " 'CUIDADORA DE IDOSOS',\n",
              " 'DANA DE CASA',\n",
              " 'DECLARADO INCAPAZ',\n",
              " 'DECORADOR SE',\n",
              " 'DENTISTA',\n",
              " 'DEO LAR',\n",
              " 'DESCONHECIDA',\n",
              " 'DESCONHECIDO',\n",
              " 'DESEMPREGADA',\n",
              " 'DESEMPREGADA/ NAO ESTUDA',\n",
              " 'DESEMPREGADO',\n",
              " 'DESEMPREGADO (JARDINEIRO)',\n",
              " 'DESEMPREGADO (TRABALHAVA EM LAVOURA)',\n",
              " 'DESENHISTA',\n",
              " 'DESOCUPADA',\n",
              " 'DESOCUPADO',\n",
              " 'DESTILADOR',\n",
              " 'DETENTO',\n",
              " 'DIARISTA',\n",
              " 'DIARISTA RURAL',\n",
              " 'DO LAR',\n",
              " 'DO LAR- RECEBE PENSAO',\n",
              " 'DOMESTICA',\n",
              " 'DOMESTICA DONA DE CASA',\n",
              " 'DONA DE CASA',\n",
              " 'EDUCADOR FISICO',\n",
              " 'EDUCADORA FISICA',\n",
              " 'ELETRICISTA',\n",
              " 'ELETRICISTA INDUSTRIAL',\n",
              " 'EM AUXILIO DOENCA',\n",
              " 'EMPACOTADOR',\n",
              " 'EMPACOTADOR SE',\n",
              " 'EMPREGADO DOMESTICA',\n",
              " 'EMPRESARIA',\n",
              " 'EMPRESARIO SE',\n",
              " 'ENCANADOR',\n",
              " 'ENCARREGADO DE EXPEDICAO',\n",
              " 'ENCARREGADO DE OBRAS',\n",
              " 'ENFERMEIRA',\n",
              " 'ENGENHEIRO DE MATERIAIS',\n",
              " 'ENTREGADOR DE GAS',\n",
              " 'ENTREGADOR DE PANFLETOS',\n",
              " 'ESCRITOR',\n",
              " 'ESCRITURARIO',\n",
              " 'ESCULTOR',\n",
              " 'ESTAGIARIA',\n",
              " 'ESTETICISTA',\n",
              " 'ESTUDANTE',\n",
              " 'ESTUDANTE ( SEM IR NA ESCOLA)',\n",
              " 'ESTUDANTE (EVASAO ESCOLAR)',\n",
              " 'ESTUDANTE / INATIVA',\n",
              " 'ESTUDANTE DE QUIMICA',\n",
              " 'ESTUDANTE MEDICINA',\n",
              " 'EX-AUX DE PRODUCAO',\n",
              " 'FAXINEIRA',\n",
              " 'FISIOTERAPEUTA',\n",
              " 'FOTOGRAFO',\n",
              " 'FRENTISTA',\n",
              " 'FUNCIONARIO DE USINA',\n",
              " 'FUNCIONARIO DO DAERP',\n",
              " 'FUNCIONARIO PUBLICA',\n",
              " 'FUNCIONARIO PUBLICA APOSENTADO',\n",
              " 'FUNCIONARIO PUBLICO',\n",
              " 'FUNDIDOR SE',\n",
              " 'FUNILEIRO',\n",
              " 'GARCOM',\n",
              " 'GARCONETE',\n",
              " 'GAROTO DE PROGRAMA',\n",
              " 'GEOGRAFO',\n",
              " 'GERENTE ADMINISTRATIVO',\n",
              " 'GESSEIRO',\n",
              " 'GRAFICO',\n",
              " 'GRAFICO SE',\n",
              " 'GUARDA MUNICIPAL',\n",
              " 'IANTIVA',\n",
              " 'IGNORADO',\n",
              " 'INATIVA',\n",
              " 'INATIVO',\n",
              " 'INATIVO - APOSENTADA COMO PROTETICA',\n",
              " 'INATIVO/ MOTORISTA',\n",
              " 'INATIVO/AJUDANTE DE PEDREIRO',\n",
              " 'INCAPAZ',\n",
              " 'INFORMAL',\n",
              " 'INSPETOR DE ALUNOS',\n",
              " 'INSTALADOR DE GESSO',\n",
              " 'INSTRUTOR DE AUTO ESCOLA',\n",
              " 'INSTRUTORA',\n",
              " 'JARDINEIRO',\n",
              " 'JARDINEIRO SE',\n",
              " 'JATISTA',\n",
              " 'JORNALISTA',\n",
              " 'LAMINADOR',\n",
              " 'LAVADOR DE CARROS',\n",
              " 'LAVOURA',\n",
              " 'LAVRADOR',\n",
              " 'LAVRADOR RURAL',\n",
              " 'LAVRADORA',\n",
              " 'LIXADOR SE',\n",
              " 'MANICURE',\n",
              " 'MARCENEIRO',\n",
              " 'MARMORISTA',\n",
              " 'MECANICO',\n",
              " 'MECANICO DE COLHEDEIRA',\n",
              " 'MECANICO E FUNILEIRO',\n",
              " 'MECANICO ELEVADOR',\n",
              " 'MECANICO,PEDREIRO,CARPINTEIRO',\n",
              " 'MEDICA',\n",
              " 'MEDICO',\n",
              " 'MENOR',\n",
              " 'METALURGICO',\n",
              " 'MILITAR',\n",
              " 'MONTADOR',\n",
              " 'MONTADOR INDUSTRIAL',\n",
              " 'MORADOR DE RUA',\n",
              " 'MORADORA DE RUA',\n",
              " 'MOTOBOY',\n",
              " 'MOTORISTA',\n",
              " 'MOTORISTA SE',\n",
              " 'MOTOTAXISTA',\n",
              " 'MUSICO',\n",
              " 'NAO INFORMADO',\n",
              " 'NAO TRABALHA',\n",
              " 'NUTRICIONISTA',\n",
              " 'OFFICE BOY',\n",
              " 'OFICIAL ADMINISTRATIVO',\n",
              " 'OLEIRO',\n",
              " 'OPERADOR COMERCIAL',\n",
              " 'OPERADOR DE INJETORA',\n",
              " 'OPERADOR DE MAQUINA',\n",
              " 'OPERADOR DE MAQUINAS',\n",
              " 'OPERADOR DE PRODUCAO',\n",
              " 'OPERADOR DE TELEMARKETING',\n",
              " 'OPERADORA',\n",
              " 'OPERADORA DE CAIXA',\n",
              " 'OPERADORA TELEMARKETING',\n",
              " 'OPERARIO',\n",
              " 'OURIVES',\n",
              " 'OURIVES /INATIVO',\n",
              " 'PADARIA DE UMA LOJA',\n",
              " 'PADEIRO',\n",
              " 'PEAO',\n",
              " 'PECUARISTA',\n",
              " 'PEDREIRO',\n",
              " 'PEDREIRO SE',\n",
              " 'PENSIONISTA',\n",
              " 'PINTOR',\n",
              " 'PINTOR DE PAREDE',\n",
              " 'PINTOR SE SCS',\n",
              " 'PNSIONISTA E AUTONOMA',\n",
              " 'POLICIAL AFASTADO',\n",
              " 'PORTEIRA',\n",
              " 'PORTEIRO',\n",
              " 'PROFESSOR',\n",
              " 'PROFESSORA',\n",
              " 'PROFESSORA DE DANCA',\n",
              " 'PROFESSORA DE LINGUA PORTUGUESA',\n",
              " 'PROFISSIONAL DO SEXO',\n",
              " 'PROMOTOR DE VENDAS',\n",
              " 'PROMOTORA',\n",
              " 'PSICOLOGA',\n",
              " 'RADIALISTA',\n",
              " 'RECEPCIONISTA',\n",
              " 'RECICLAGEM',\n",
              " 'REPOSITOR',\n",
              " 'RESTAURADOR DE MOVEIS',\n",
              " 'RURICOLA',\n",
              " 'SAPATEIRO',\n",
              " 'SECRETARIA',\n",
              " 'SECRETARIA - AFASTADA',\n",
              " 'SEGURANCA',\n",
              " 'SEM',\n",
              " 'SEM EMPREGO',\n",
              " 'SEM OCUPACAO',\n",
              " 'SEM OCUPACAO DEFINIDA',\n",
              " 'SEM OCUPACAO.',\n",
              " 'SEM PROFISSAO',\n",
              " 'SERRALHEIRO',\n",
              " 'SERV. PEDREIRO - INATIV.',\n",
              " 'SERVENTE',\n",
              " 'SERVENTE DE PEDREIRO',\n",
              " 'SERVENTE DESEMPREGADO',\n",
              " 'SERVICOS DIVERSOS',\n",
              " 'SERVICOS GERAIS',\n",
              " 'SERVICOS GERAIS EM SUPERMERCADO',\n",
              " 'SERVICOS GERAIS MASC',\n",
              " 'SERVICOS GERAIS.',\n",
              " 'SOCIOLOGO',\n",
              " 'SOLDADOR',\n",
              " 'SOLDADOR/ MOTOBOY',\n",
              " 'TAXISTA',\n",
              " 'TEC DE ENFERMAGEM',\n",
              " 'TECNICA DE ENFERMAGEM',\n",
              " 'TECNICO AGROPECUARIO',\n",
              " 'TECNICO DE ENFERMAGEM',\n",
              " 'TECNICO DE INFORMATICA',\n",
              " 'TECNICO DO DAERP',\n",
              " 'TECNICO EM CONTABILIDADE',\n",
              " 'TECNICO EM ENFERMAGEM',\n",
              " 'TECNICO EM FARMACIA',\n",
              " 'TECNICO EM MANUTENCAO DE EXTINTORES',\n",
              " 'TELEATENDENTE',\n",
              " 'TELEMARKETING',\n",
              " 'TELEOPERADORA',\n",
              " 'TORNEIRO MECANICO',\n",
              " 'TRABALHA EM RESTAURANTE',\n",
              " 'TRABALHA NA FEBEM',\n",
              " 'TRABALHADOR RURAL',\n",
              " 'TRATORISTA',\n",
              " 'TRONEIRO MECANICO',\n",
              " 'VENDEDOR',\n",
              " 'VENDEDOR AMBULANTE',\n",
              " 'VENDEDOR DE LABORATORIO',\n",
              " 'VENDEDOR SE',\n",
              " 'VENDEDORA',\n",
              " 'VENDEDORA TELEMARKET',\n",
              " 'VEREADORA/ENFERMEIRA',\n",
              " 'VIGILANTE',\n",
              " 'VOLUNTARIA',\n",
              " 'ZELADOR']"
            ]
          },
          "execution_count": 130,
          "metadata": {},
          "output_type": "execute_result"
        }
      ],
      "source": [
        "corrections = {\n",
        "    'ADEMIR': 'NAO INFORMADO',\n",
        "    'RUA GUMERCINDO VELLUDO': 'NAO INFORMADO',\n",
        "    'DO LAR': 'DONA DE CASA',\n",
        "    'DOL AR': 'DONA DE CASA',\n",
        "    'TORNEIRO MECÃ\\x82NICO': 'TORNEIRO MECANICO',\n",
        "    'TÃ\\x89CNICO DO DAERP': 'TÉCNICO DO DAERP',\n",
        "    'Técnico EM FARMÃ\\x81CIA': 'TÉCNICO EM FARMÁCIA',\n",
        "    'EM AUXÃ\\x8dLIO DOENÃ\\x87A': 'EM AUXÍLIO DOENÇA',\n",
        "    'SECRETÃ\\x81RIA - AFASTADA': 'SECRETÁRIA - AFASTADA',\n",
        "    'BABÃ\\x81': 'BABÁ',\n",
        "    'ENCARREGADO DE EXPEDIÃ\\x87AO': 'ENCARREGADO DE EXPEDIÇÃO',\n",
        "    'SOCIÃ\\x93LOGO': 'SOCIOLOGO',\n",
        "    'SEGURANÃ\\x87A': 'SEGURANÇA',\n",
        "    'VENDEDOR DE LABORATÃ\\x93RIO': 'VENDEDOR DE LABORATÓRIO',\n",
        "    'ATENDIMENTO NA TELEFEFÃ\\x94NICA': 'ATENDIMENTO NA TELEFÔNICA',\n",
        "    'EX-AUX DE PRODUÃ\\x87Ã\\x83O': 'EX-AUX DE PRODUÇÃO',\n",
        "    'BENEFICIÃ\\x81RIO': 'BENEFICIÁRIO',\n",
        "    'COMERCIANTE': 'COMERCIANTE',\n",
        "    'SEGURANCA': 'SEGURANÇA',\n",
        "    'AUXILIAR DE SERVIÃ\\x87OS GERAIS': 'AUXILIAR DE SERVIÇOS GERAIS',\n",
        "    'OP. DE MÃ\\x81QUINAS': 'OPERADOR DE MÁQUINAS',\n",
        "    'MECÃ\\x82NICO E FUNILEIRO': 'MECÂNICO E FUNILEIRO',\n",
        "    'COLETOR DE RECICLÃ\\x81VEIS': 'COLETOR DE RECICLÁVEIS',\n",
        "    'OPERADOR DE MÃ\\x81QUINA': 'OPERADOR DE MÁQUINA',\n",
        "    'ESCRITURÃ\\x81RIO': 'ESCRITURÁRIO',\n",
        "    'AGENTE CARCERÃ\\x81RIO': 'AGENTE CARCERÁRIO',\n",
        "    'PROFESSORA DE DANÃ\\x87A': 'PROFESSORA DE DANÇA',\n",
        "    'VOLUNTÃ\\x81RIA': 'VOLUNTÁRIA',\n",
        "    'MECÃ\\x82NICO DE COLHEDEIRA': 'MECÂNICO DE COLHEDEIRA',\n",
        "    'SEM PROFISSSÃ\\x83O': 'SEM PROFISSÃO',\n",
        "    'ESTUDANTE (EVASÃ\\x83O ESCOLAR)': 'ESTUDANTE (EVASÃO ESCOLAR)',\n",
        "    'RESTAURADOR DEMÃ\\x93VEIS': 'RESTAURADOR DE MÓVEIS',\n",
        "    'OPERADOR DE PRODUÃ\\x87Ã\\x83O': 'OPERADOR DE PRODUÇÃO',\n",
        "    'EMPRESÃ\\x81RIA': 'EMPRESÁRIA',\n",
        "    'COMERCIÃ\\x81RIA': 'COMERCIÁRIA',\n",
        "    'TÃ\\x89CNICO DO DAERP': 'TÉCNICO DO DAERP',\n",
        "    'TORNEIRO MECÃ\\x82NICO': 'TORNEIRO MECÂNICO',\n",
        "    'FOTOGRAFO': 'FOTÓGRAFO',\n",
        "    'CORRETOR DE CONSÃ\\x93RCIOS': 'CORRETOR DE CONSÓRCIOS',\n",
        "    'ESTAGIÃ\\x81RIA': 'ESTAGIÁRIA',\n",
        "    'MÃ\\x9aSICO': 'MÚSICO',\n",
        "    'Técnico EM FARMÃ\\x81CIA': 'TÉCNICO EM FARMÁCIA',\n",
        "    'EM AUXÃ\\x8dLIO DOENÃ\\x87A': 'EM AUXÍLIO DOENÇA',\n",
        "    'GEÃGRAFO': 'GEÓGRAFO',\n",
        "    'SECRETÃ\\x81RIA - AFASTADA': 'SECRETÁRIA - AFASTADA',\n",
        "    'AUX DE LIMPEZA': 'AUXILIAR DE LIMPEZA',\n",
        "    'AUX. DE SERV. GERAIS': 'AUXILIAR DE SERVIÇOS GERAIS',\n",
        "    'AUX. ENFERMAGEM': 'AUXILIAR DE ENFERMAGEM',\n",
        "    'CABELEREIRA': 'CABELEIREIRA',\n",
        "    'CABELEREIRO': 'CABELEIREIRO',\n",
        "    'CALDEREIRO': 'CALDEIREIRO',\n",
        "    'COMERCIARIA': 'COMERCIANTE',\n",
        "    'CUIDADORA DE IDOSO': 'CUIDADORA DE IDOSOS',\n",
        "    'CUIDADORA IDOSOS': 'CUIDADORA DE IDOSOS',\n",
        "    'DESEMPREGADP': 'DESEMPREGADO',\n",
        "    'DESEMPREGDO': 'DESEMPREGADO',\n",
        "    'DESEMPRGADO': 'DESEMPREGADO',\n",
        "    'DESMEPREGADO': 'DESEMPREGADO',\n",
        "    'DESOCUAPADO': 'DESOCUPADO',\n",
        "    'DSESEMPREGADO': 'DESEMPREGADO',\n",
        "    'ENGENHARIA DE MATERIAIS': 'ENGENHEIRO DE MATERIAIS',\n",
        "    'ENTREGA PANFLETOS': 'ENTREGADOR DE PANFLETOS',\n",
        "    'EX-AUX DE PRODUCAO': 'EX-AUXILIAR DE PRODUÇÃO',\n",
        "    'FUNCIONARIO PUBLICA': 'FUNCIONÁRIO PÚBLICO',\n",
        "    'INACTIVE': 'INATIVO',\n",
        "    'INATIVA-APOSENTADA COMO PROT[ETICA': 'INATIVO - APOSENTADA COMO PROTÉTICA',\n",
        "    'INATVA': 'INATIVO',\n",
        "    'INSPETOR DE ALUNO': 'INSPETOR DE ALUNOS',\n",
        "    'MACANICO DE COLHEDEIRA': 'MECANICO DE COLHEDEIRA',\n",
        "    'MARCINEIRO': 'MARCENEIRO',\n",
        "    'MOTO BOY': 'MOTOBOY',\n",
        "    'OPERADOR DE MAQUINA': 'OPERADOR DE MAQUINAS',\n",
        "    'PEDRE': 'PEDREIRO',\n",
        "    'RECEPSIONISTA': 'RECEPCIONISTA',\n",
        "    'SEM OCUPACAO.': 'SEM OCUPACAO',\n",
        "    'SEM OCUPACAO DEFINIDA': 'SEM OCUPACAO',\n",
        "    'SERVENTE PEDREIRO': 'SERVENTE DE PEDREIRO',\n",
        "    'VENDENDOR': 'VENDEDOR'\n",
        "}\n",
        "\n",
        "apply_corrections(df, 'profissao_ocupacao', corrections)\n",
        "\n",
        "sorted(df['profissao_ocupacao'].unique())"
      ]
    },
    {
      "cell_type": "code",
      "execution_count": 131,
      "metadata": {
        "colab": {
          "base_uri": "https://localhost:8080/"
        },
        "id": "XnzSDIKcxxZZ",
        "outputId": "58fc32c0-ce9b-4a92-ee28-d78b1e714e47"
      },
      "outputs": [
        {
          "data": {
            "text/plain": [
              "array(['internacao voluntria', 'internacao compulsoria',\n",
              "       'internacao involuntria', 'NÃO INFORMADO'], dtype=object)"
            ]
          },
          "execution_count": 131,
          "metadata": {},
          "output_type": "execute_result"
        }
      ],
      "source": [
        "df['tipo_internacao'].unique()"
      ]
    },
    {
      "cell_type": "code",
      "execution_count": 132,
      "metadata": {
        "colab": {
          "base_uri": "https://localhost:8080/"
        },
        "id": "0ddJj5e50J9B",
        "outputId": "22aa61c9-596b-4214-95b5-2344be707a93"
      },
      "outputs": [
        {
          "data": {
            "text/plain": [
              "array(['VOLUNTARIA', 'COMPULSORIA', 'INVOLUNTARIA', 'NAO INFORMADO'],\n",
              "      dtype=object)"
            ]
          },
          "execution_count": 132,
          "metadata": {},
          "output_type": "execute_result"
        }
      ],
      "source": [
        "corrections = {\n",
        "    'INTERNACAO VOLUNTRIA' : 'VOLUNTARIA',\n",
        "    'INTERNACAO INVOLUNTRIA' : 'INVOLUNTARIA',\n",
        "    'INTERNACAO COMPULSORIA' :  'COMPULSORIA'\n",
        "}\n",
        "\n",
        "apply_corrections(df, 'tipo_internacao', corrections)\n",
        "\n",
        "df['tipo_internacao'].unique()"
      ]
    },
    {
      "cell_type": "code",
      "execution_count": 133,
      "metadata": {
        "colab": {
          "base_uri": "https://localhost:8080/"
        },
        "id": "tjqKgHOCzb6G",
        "outputId": "38f2837b-25f9-4a5e-cda6-8c72621725a5"
      },
      "outputs": [
        {
          "data": {
            "text/plain": [
              "array(['NÃO INFORMADO', 'CAPS - AD II',\n",
              "       'Ambulatório de  Psiquiatria ao Álcool e Drogas - APQP UNIAD ',\n",
              "       'Departamento Regional de Saude III',\n",
              "       'Ambulatório  de Psiquiatria de Adultos HC FMRP',\n",
              "       'CAIS NAD Feminino ', 'CAPS AD - CAIS SR',\n",
              "       'CAPS I Dr. Wilson Newton Barbosa',\n",
              "       'Ambulatorio de Saude Mental Psicologo Luiz Porto Zocco',\n",
              "       'CAPS I Maria Estela Fernandes', 'Secretaria Municipal de Saude',\n",
              "       'CAPS III',\n",
              "       'Ambulatorio de Saude Mental \"Manoel Victorino dos Santos\" ',\n",
              "       'Pronto Socorro Municipal \"Dr. Jorge Saud Sobrinho\"',\n",
              "       'Ambulatório de Primeiro EpisÓdio PsicÓtico - APEP',\n",
              "       'Ambulatório Saúde Mental de Pitangueiras',\n",
              "       'Santa casa de MisericORdia de Sertãozinho', 'CAPS-AD',\n",
              "       'UPA Treze de Maio',\n",
              "       'HST Dependente QuÃ\\xadmico com Comorbidade Feminino',\n",
              "       'HC Unidade De Emergência', 'HC EPIB ',\n",
              "       'Ambulatório de PÓs Alta da EPIB - AREPIB',\n",
              "       'CAPS II EspaÇo Verde - CAIS SR',\n",
              "       'Ambulatório Saúde Mental de são simão',\n",
              "       'Ambulatório Saúde Mental Dr. Renato Bruno (CIAF Centro)',\n",
              "       'CAPS II Maria Regina Leandro Moraes Ferreira',\n",
              "       'HST Acolhimento - Transtorno Mental e Dependencia Quimica com Comorbidade',\n",
              "       'Ambulatório Saúde Mental Deusdedit Mega',\n",
              "       'centro de reab. humana física e mental mário pissardo',\n",
              "       'HST Acolhimento', 'CAPS II', 'Ambulatório Saúde Mental de Pontal',\n",
              "       'Hospital Dia HC FMRP', 'Santa Casa de MISERICÓRDIA  de Pontal',\n",
              "       'NÚcleo de Saude Mental - UBDS Sumarezinho',\n",
              "       'Ambulatório Saúde Mental  Dr. Guido Hetem',\n",
              "       'Ambulatorio de Saude Mental de Cravinhos', 'UBDS Qunitino II',\n",
              "       'Centro de Especialidades',\n",
              "       'Pronto Socorro Municipal de Cravinhos', 'CAIS NAD Masculino',\n",
              "       'Ambulatorio de Saude Mental De Batatais',\n",
              "       'HST Agudos Geral Feminino', 'CAPS I De Brodowski',\n",
              "       'PoliclÃ\\xadnica Central de Serrana', 'CAIS NAIC',\n",
              "       'CAPSi Infantil',\n",
              "       'SAUAD - ServiÇo de Atendimento aos UsuÁrios de Álcool e outras Drogas',\n",
              "       'Ambulatorio de Saude Mental de Guariba',\n",
              "       'Ambulatório Saúde de Mental sertãozinho',\n",
              "       'Centro Médico Municipal de Pradópolis', 'Centro de Saude escola',\n",
              "       'Pronto Socorro De Monte Alto',\n",
              "       'Unidade de Pronto Atendimento de Serrana',\n",
              "       'Hospital de Misericórdia de Altinópolis', 'Hospital Santa Tereza',\n",
              "       'UBDS Castelo Branco', 'Unidade de Saude da Familia - ESF',\n",
              "       'Ambulatorio de Saude Mental  de Cajuru \"Dona Fifia\"',\n",
              "       'Centro de Saude de III - Dr. Renato Palma Rocha ',\n",
              "       'HST Acolhimento - Transtornos Mentais',\n",
              "       'Unidade Mista de Saude de Dumont',\n",
              "       'HST Acolhimento - Transtorno MenUnidade Mista de Saude Leancio do Nascimento',\n",
              "       'Ambulatório Saúde Mental de  Santa Rosa Do Viterbo',\n",
              "       'Unidade Básica de Saude Orestes Moura Pinto',\n",
              "       'Ambulatório Saúde Mental em Luís Antônio',\n",
              "       'UPA JosÃ Antonio Da Silva Neto',\n",
              "       'Unidade Básica de saude iii ernesto possebom',\n",
              "       'Secretaria Municipal de Saude de Barrinha',\n",
              "       'Departamento Administrativo SMS Santa Rosa do Viterbo',\n",
              "       'Centro De Fisioterapia, Fonoaudiologia e Saude Mental \"DionÃ\\xadsio Caetano da Silva\"',\n",
              "       'Secretaria Municipal de Saude de Santo AntÔnio da Alegria',\n",
              "       'Santa Casa/ Pronto Socorro de Pitangueiras',\n",
              "       'casa caridade são vicente de paulo',\n",
              "       'Ambulatório do Distrito Central ',\n",
              "       'Unidade Mista de Saude de Santo Antonio da Alegria',\n",
              "       'Departamento juridico sms ribeirão preto',\n",
              "       'HST Atenção Psicossocial Feminino',\n",
              "       'Unidade Mista de Saude de Barrinha',\n",
              "       'Unidade Mista Hospitalar \"Dr. Faustino de Castro\"',\n",
              "       'Unidade de Pronto Atendimento Dr. Francisco Garcia Duarte',\n",
              "       'HST Acolhimento - DependÊncia QuÍmica Masculina',\n",
              "       'Santa Casa De Batatais', 'Departamento Regional de Saude V',\n",
              "       'hst primeiras internações masculino',\n",
              "       'estratégia saúde da família',\n",
              "       'Departamento Administrativo SMS Ribeirão Preto',\n",
              "       'HST Dependente QuÃ\\xadmico com Comorbidade Masculino',\n",
              "       'UBDS Vila VirgÃ\\xadnia',\n",
              "       'Secretaria Municipal de Saude de Santa Rosa do Viterbo',\n",
              "       'Secretaria Municipal de Saude de Guatapará',\n",
              "       'Ambulatório Saúde Mental de  de Serra Azul',\n",
              "       'Secretaria Municipal de Saude de CÁssia dos Coqueiros',\n",
              "       'Centro Médico Social Comunitário Pedreira de Freitas ',\n",
              "       'hst primeiras internações  Feminino',\n",
              "       'secretaria municipal de saude de sertãozinho',\n",
              "       'Ambulatório Saúde Mental de Santo Antonio da Alegria',\n",
              "       'Ambulatório  de Psiquiatria Gestantes Farmacodependentes - APQO',\n",
              "       'CAPS I De Pitangueiras',\n",
              "       'Serviço de Psiquiatria da Infância e da Adolescência  SPQIA',\n",
              "       'Departamento JurÃ\\xaddico SMS PradÓpolis', 'UBDS Central',\n",
              "       'Centro de  Infectologia Dr.joãoBatista Ortolan',\n",
              "       'Centro de  Saude de de Pitangueiras',\n",
              "       'Ambulatório de Saúde Mental, Batatais',\n",
              "       'Secretaria Municipal de Saude de Pitangueiras',\n",
              "       'PAs José Messias de Araujo',\n",
              "       'Secretaria Municipal de Saude De Batatais',\n",
              "       'Pronto Atendimento Municipal de Jaboticabal',\n",
              "       'Secretaria Municipal de Saude de Monte Alto',\n",
              "       'ESF Santa Cruz da EsperanÃ§a',\n",
              "       'secretaria municipal de saude de são simão',\n",
              "       'Secretaria Municipal de Saude de Cravinhos',\n",
              "       'Santa Casa de Misericórdia de Guariba',\n",
              "       'Departamento JurÃ\\xaddico SMS Dumont', 'PSF de LuIs AntOnio',\n",
              "       'UNIDADE MISTA SAÚDE LUIZ ANTÔNIO',\n",
              "       'Centro de  Saude de santa cruz da esperança ',\n",
              "       'Departamento Administrativo SMS Santo AntÃ´nio da Alegria',\n",
              "       'Secretaria Municipal de Saude de Serrana', 'CAIS NAD Gestante',\n",
              "       'Ambulatório Saúde Mental de  Santa Rita do Passa Quatro'],\n",
              "      dtype=object)"
            ]
          },
          "execution_count": 133,
          "metadata": {},
          "output_type": "execute_result"
        }
      ],
      "source": [
        "df['nome_unidade_solicitacao'].unique()"
      ]
    },
    {
      "cell_type": "code",
      "execution_count": 134,
      "metadata": {
        "colab": {
          "base_uri": "https://localhost:8080/"
        },
        "id": "JI25jOjb0OZQ",
        "outputId": "20abd78e-4594-4ae7-dc69-4f8449694a4b"
      },
      "outputs": [
        {
          "data": {
            "text/plain": [
              "['AMBULATORIO DE POS ALTA DA EPIB - AREPIB',\n",
              " 'AMBULATORIO DE PRIMEIRO EPISODIO PSICOTICO - APEP',\n",
              " 'AMBULATORIO DE PSIQUIATRIA AO ALCOOL E DROGAS - APQP UNIAD',\n",
              " 'AMBULATORIO DE PSIQUIATRIA DE ADULTOS HC FMRP',\n",
              " 'AMBULATORIO DE PSIQUIATRIA GESTANTES FARMACODEPENDENTES - APQO',\n",
              " 'AMBULATORIO DE SAUDE MENTAL \"MANOEL VICTORINO DOS SANTOS\"',\n",
              " 'AMBULATORIO DE SAUDE MENTAL DE BATATAIS',\n",
              " 'AMBULATORIO DE SAUDE MENTAL DE CAJURU \"DONA FIFIA\"',\n",
              " 'AMBULATORIO DE SAUDE MENTAL DE CRAVINHOS',\n",
              " 'AMBULATORIO DE SAUDE MENTAL DE GUARIBA',\n",
              " 'AMBULATORIO DE SAUDE MENTAL PSICOLOGO LUIZ PORTO ZOCCO',\n",
              " 'AMBULATORIO DE SAUDE MENTAL, BATATAIS',\n",
              " 'AMBULATORIO DO DISTRITO CENTRAL',\n",
              " 'AMBULATORIO SAUDE DE MENTAL SERTAOZINHO',\n",
              " 'AMBULATORIO SAUDE MENTAL DE DE SERRA AZUL',\n",
              " 'AMBULATORIO SAUDE MENTAL DE PITANGUEIRAS',\n",
              " 'AMBULATORIO SAUDE MENTAL DE PONTAL',\n",
              " 'AMBULATORIO SAUDE MENTAL DE SANTA RITA DO PASSA QUATRO',\n",
              " 'AMBULATORIO SAUDE MENTAL DE SANTA ROSA DO VITERBO',\n",
              " 'AMBULATORIO SAUDE MENTAL DE SANTO ANTONIO DA ALEGRIA',\n",
              " 'AMBULATORIO SAUDE MENTAL DE SAO SIMAO',\n",
              " 'AMBULATORIO SAUDE MENTAL DEUSDEDIT MEGA',\n",
              " 'AMBULATORIO SAUDE MENTAL DR. GUIDO HETEM',\n",
              " 'AMBULATORIO SAUDE MENTAL DR. RENATO BRUNO (CIAF CENTRO)',\n",
              " 'AMBULATORIO SAUDE MENTAL EM LUIS ANTONIO',\n",
              " 'CAIS NAD FEMININO',\n",
              " 'CAIS NAD GESTANTE',\n",
              " 'CAIS NAD MASCULINO',\n",
              " 'CAIS NAIC',\n",
              " 'CAPS - AD II',\n",
              " 'CAPS AD - CAIS SR',\n",
              " 'CAPS I DE BRODOWSKI',\n",
              " 'CAPS I DE PITANGUEIRAS',\n",
              " 'CAPS I DR. WILSON NEWTON BARBOSA',\n",
              " 'CAPS I MARIA ESTELA FERNANDES',\n",
              " 'CAPS II',\n",
              " 'CAPS II ESPACO VERDE - CAIS SR',\n",
              " 'CAPS II MARIA REGINA LEANDRO MORAES FERREIRA',\n",
              " 'CAPS III',\n",
              " 'CAPS-AD',\n",
              " 'CAPSI INFANTIL',\n",
              " 'CASA CARIDADE SAO VICENTE DE PAULO',\n",
              " 'CENTRO DE ESPECIALIDADES',\n",
              " 'CENTRO DE FISIOTERAPIA, FONOAUDIOLOGIA E SAUDE MENTAL \"DIONASIO CAETANO DA SILVA\"',\n",
              " 'CENTRO DE INFECTOLOGIA DR.JOAOBATISTA ORTOLAN',\n",
              " 'CENTRO DE REAB. HUMANA FISICA E MENTAL MARIO PISSARDO',\n",
              " 'CENTRO DE SAUDE DE DE PITANGUEIRAS',\n",
              " 'CENTRO DE SAUDE DE III - DR. RENATO PALMA ROCHA',\n",
              " 'CENTRO DE SAUDE DE SANTA CRUZ DA ESPERANCA',\n",
              " 'CENTRO DE SAUDE ESCOLA',\n",
              " 'CENTRO MEDICO MUNICIPAL DE PRADOPOLIS',\n",
              " 'CENTRO MEDICO SOCIAL COMUNITARIO PEDREIRA DE FREITAS',\n",
              " 'DEPARTAMENTO ADMINISTRATIVO SMS RIBEIRAO PRETO',\n",
              " 'DEPARTAMENTO ADMINISTRATIVO SMS SANTA ROSA DO VITERBO',\n",
              " 'DEPARTAMENTO ADMINISTRATIVO SMS SANTO ANTONIO DA ALEGRIA',\n",
              " 'DEPARTAMENTO JURIDICO SMS DUMONT',\n",
              " 'DEPARTAMENTO JURIDICO SMS PRADOPOLIS',\n",
              " 'DEPARTAMENTO JURIDICO SMS RIBEIRAO PRETO',\n",
              " 'DEPARTAMENTO REGIONAL DE SAUDE III',\n",
              " 'DEPARTAMENTO REGIONAL DE SAUDE V',\n",
              " 'ESF SANTA CRUZ DA ESPERANASSA',\n",
              " 'ESTRATEGIA SAUDE DA FAMILIA',\n",
              " 'HC EPIB',\n",
              " 'HC UNIDADE DE EMERGENCIA',\n",
              " 'HOSPITAL DE MISERICORDIA DE ALTINOPOLIS',\n",
              " 'HOSPITAL DIA HC FMRP',\n",
              " 'HOSPITAL SANTA TEREZA',\n",
              " 'HST ACOLHIMENTO',\n",
              " 'HST ACOLHIMENTO - DEPENDENCIA QUIMICA MASCULINA',\n",
              " 'HST ACOLHIMENTO - TRANSTORNO MENTAL E DEPENDENCIA QUIMICA COM COMORBIDADE',\n",
              " 'HST ACOLHIMENTO - TRANSTORNO MENUNIDADE MISTA DE SAUDE LEANCIO DO NASCIMENTO',\n",
              " 'HST ACOLHIMENTO - TRANSTORNOS MENTAIS',\n",
              " 'HST AGUDOS GERAL FEMININO',\n",
              " 'HST ATENCAO PSICOSSOCIAL FEMININO',\n",
              " 'HST DEPENDENTE QUIMICO COM COMORBIDADE FEMININO',\n",
              " 'HST DEPENDENTE QUIMICO COM COMORBIDADE MASCULINO',\n",
              " 'HST PRIMEIRAS INTERNACOES FEMININO',\n",
              " 'HST PRIMEIRAS INTERNACOES MASCULINO',\n",
              " 'NAO INFORMADO',\n",
              " 'NUCLEO DE SAUDE MENTAL - UBDS SUMAREZINHO',\n",
              " 'PAS JOSE MESSIAS DE ARAUJO',\n",
              " 'POLICLINICA CENTRAL DE SERRANA',\n",
              " 'PRONTO ATENDIMENTO MUNICIPAL DE JABOTICABAL',\n",
              " 'PRONTO SOCORRO DE MONTE ALTO',\n",
              " 'PRONTO SOCORRO MUNICIPAL \"DR. JORGE SAUD SOBRINHO\"',\n",
              " 'PRONTO SOCORRO MUNICIPAL DE CRAVINHOS',\n",
              " 'PSF DE LUIS ANTONIO',\n",
              " 'SANTA CASA DE BATATAIS',\n",
              " 'SANTA CASA DE MISERICORDIA DE GUARIBA',\n",
              " 'SANTA CASA DE MISERICORDIA DE PONTAL',\n",
              " 'SANTA CASA DE MISERICORDIA DE SERTAOZINHO',\n",
              " 'SANTA CASA/ PRONTO SOCORRO DE PITANGUEIRAS',\n",
              " 'SAUAD - SERVICO DE ATENDIMENTO AOS USUARIOS DE ALCOOL E OUTRAS DROGAS',\n",
              " 'SECRETARIA MUNICIPAL DE SAUDE',\n",
              " 'SECRETARIA MUNICIPAL DE SAUDE DE BARRINHA',\n",
              " 'SECRETARIA MUNICIPAL DE SAUDE DE BATATAIS',\n",
              " 'SECRETARIA MUNICIPAL DE SAUDE DE CASSIA DOS COQUEIROS',\n",
              " 'SECRETARIA MUNICIPAL DE SAUDE DE CRAVINHOS',\n",
              " 'SECRETARIA MUNICIPAL DE SAUDE DE GUATAPARA',\n",
              " 'SECRETARIA MUNICIPAL DE SAUDE DE MONTE ALTO',\n",
              " 'SECRETARIA MUNICIPAL DE SAUDE DE PITANGUEIRAS',\n",
              " 'SECRETARIA MUNICIPAL DE SAUDE DE SANTA ROSA DO VITERBO',\n",
              " 'SECRETARIA MUNICIPAL DE SAUDE DE SANTO ANTONIO DA ALEGRIA',\n",
              " 'SECRETARIA MUNICIPAL DE SAUDE DE SAO SIMAO',\n",
              " 'SECRETARIA MUNICIPAL DE SAUDE DE SERRANA',\n",
              " 'SECRETARIA MUNICIPAL DE SAUDE DE SERTAOZINHO',\n",
              " 'SERVICO DE PSIQUIATRIA DA INFANCIA E DA ADOLESCENCIA SPQIA',\n",
              " 'UBDS CASTELO BRANCO',\n",
              " 'UBDS CENTRAL',\n",
              " 'UBDS QUNITINO II',\n",
              " 'UBDS VILA VIRGINIA',\n",
              " 'UNIDADE BASICA DE SAUDE III ERNESTO POSSEBOM',\n",
              " 'UNIDADE BASICA DE SAUDE ORESTES MOURA PINTO',\n",
              " 'UNIDADE DE PRONTO ATENDIMENTO DE SERRANA',\n",
              " 'UNIDADE DE PRONTO ATENDIMENTO DR. FRANCISCO GARCIA DUARTE',\n",
              " 'UNIDADE DE SAUDE DA FAMILIA - ESF',\n",
              " 'UNIDADE MISTA DE SAUDE DE BARRINHA',\n",
              " 'UNIDADE MISTA DE SAUDE DE DUMONT',\n",
              " 'UNIDADE MISTA DE SAUDE DE SANTO ANTONIO DA ALEGRIA',\n",
              " 'UNIDADE MISTA HOSPITALAR \"DR. FAUSTINO DE CASTRO\"',\n",
              " 'UNIDADE MISTA SAUDE LUIZ ANTONIO',\n",
              " 'UPA JOSA ANTONIO DA SILVA NETO',\n",
              " 'UPA TREZE DE MAIO']"
            ]
          },
          "execution_count": 134,
          "metadata": {},
          "output_type": "execute_result"
        }
      ],
      "source": [
        "corrections = {\n",
        "    'HST DEPENDENTE QUÃ\\xADMICO COM COMORBIDADE FEMININO': 'HST DEPENDENTE QUÍMICO COM COMORBIDADE FEMININO',\n",
        "    'POLICLÃ\\xADNICA CENTRAL DE SERRANA': 'POLICLÍNICA CENTRAL DE SERRANA',\n",
        "    'FONOAUDIOLOGIA E SAUDE MENTAL \"DIONÃ\\xADSIO CAETANO DA SILVA\"': 'FONOAUDIOLOGIA E SAÚDE MENTAL \"DIONÍSIO CAETANO DA SILVA\"',\n",
        "    'HST DEPENDENTE QUÃ\\xADMICO COM COMORBIDADE MASCULINO': 'HST DEPENDENTE QUÍMICO COM COMORBIDADE MASCULINO',\n",
        "    'UBDS VILA VIRGÃ\\xADNIA': 'UBDS VILA VIRGÍNIA',\n",
        "    'SECRETARIA MUNICIPAL DE SAUDE DE SANTA ROSA DO VITERBO': 'SECRETARIA MUNICIPAL DE SAÚDE DE SANTA ROSA DO VITERBO',\n",
        "    'DEPARTAMENTO JURÃ\\xADDICO SMS PRADÓPOLIS': 'DEPARTAMENTO JURÍDICO SMS PRADÓPOLIS',\n",
        "    'ESF SANTA CRUZ DA ESPERANÃ\\xC7A': 'ESF SANTA CRUZ DA ESPERANÇA',\n",
        "    'DEPARTAMENTO JURÃ\\xADDICO SMS DUMONT': 'DEPARTAMENTO JURÍDICO SMS DUMONT',\n",
        "    'DEPARTAMENTO ADMINISTRATIVO SMS SANTO ANTÃ´NIO DA ALEGRIA': 'DEPARTAMENTO ADMINISTRATIVO SMS SANTO ANTÔNIO DA ALEGRIA',\n",
        "}\n",
        "\n",
        "apply_corrections(df, 'nome_unidade_solicitacao', corrections)\n",
        "\n",
        "sorted(df['nome_unidade_solicitacao'].unique())"
      ]
    },
    {
      "cell_type": "code",
      "execution_count": 135,
      "metadata": {
        "colab": {
          "base_uri": "https://localhost:8080/"
        },
        "id": "b3IkTwrN0ddi",
        "outputId": "9680e958-1eaf-48e3-d15e-77d85a2ed57f"
      },
      "outputs": [
        {
          "data": {
            "text/plain": [
              "array(['HST Atenção Psicossocial Feminino', 'CAIS NAD Feminino ',\n",
              "       'HST Agudos Geral Feminino', 'NÃO INFORMADO', 'CAIS NAD Gestante',\n",
              "       'CAIS NAD Masculino',\n",
              "       'HST Acolhimento - Transtorno Mental e DependÊncia QuÍmica com Comorbidade',\n",
              "       'HST Primeiras internações Feminino',\n",
              "       'HST Primeiras internações Masculino',\n",
              "       'HST Dependente QuÃ\\xadmico com Comorbidade Feminino',\n",
              "       'HST Acolhimento', 'HC EPIB ', 'CAIS NAIC',\n",
              "       'HST Dependente QuÃ\\xadmico com Comorbidade Masculino',\n",
              "       'HST Acolhimento - Transtornos Mentais',\n",
              "       'HST Agudos Geral Masculino', 'HST Atenção Psicossocial Masculino',\n",
              "       'HC Unidade de  emergencia', 'HST Acolhimento (UE-HC)',\n",
              "       'HST Acolhimento - Dependencia Quimica Masculina',\n",
              "       'CAIS NAD Misto'], dtype=object)"
            ]
          },
          "execution_count": 135,
          "metadata": {},
          "output_type": "execute_result"
        }
      ],
      "source": [
        "df['nome_unidade_destino'].unique()"
      ]
    },
    {
      "cell_type": "code",
      "execution_count": 136,
      "metadata": {
        "colab": {
          "base_uri": "https://localhost:8080/"
        },
        "id": "5qpDKQ2N0zqs",
        "outputId": "61c89dcf-f356-4320-c9f8-daa0bbb62179"
      },
      "outputs": [
        {
          "data": {
            "text/plain": [
              "['CAIS NAD FEMININO',\n",
              " 'CAIS NAD GESTANTE',\n",
              " 'CAIS NAD MASCULINO',\n",
              " 'CAIS NAD MISTO',\n",
              " 'CAIS NAIC',\n",
              " 'HC EPIB',\n",
              " 'HC UNIDADE DE EMERGENCIA',\n",
              " 'HST ACOLHIMENTO',\n",
              " 'HST ACOLHIMENTO (UE-HC)',\n",
              " 'HST ACOLHIMENTO - DEPENDENCIA QUIMICA MASCULINA',\n",
              " 'HST ACOLHIMENTO - TRANSTORNO MENTAL E DEPENDENCIA QUIMICA COM COMORBIDADE',\n",
              " 'HST ACOLHIMENTO - TRANSTORNOS MENTAIS',\n",
              " 'HST AGUDOS GERAL FEMININO',\n",
              " 'HST AGUDOS GERAL MASCULINO',\n",
              " 'HST ATENCAO PSICOSSOCIAL FEMININO',\n",
              " 'HST ATENCAO PSICOSSOCIAL MASCULINO',\n",
              " 'HST DEPENDENTE QUIMICO COM COMORBIDADE FEMININO',\n",
              " 'HST DEPENDENTE QUIMICO COM COMORBIDADE MASCULINO',\n",
              " 'HST PRIMEIRAS INTERNACOES FEMININO',\n",
              " 'HST PRIMEIRAS INTERNACOES MASCULINO',\n",
              " 'NAO INFORMADO']"
            ]
          },
          "execution_count": 136,
          "metadata": {},
          "output_type": "execute_result"
        }
      ],
      "source": [
        "corrections = {\n",
        "\n",
        "    'HST DEPENDENTE QUÃ\\xADMICO COM COMORBIDADE FEMININO': 'HST DEPENDENTE QUÍMICO COM COMORBIDADE FEMININO',\n",
        "    'HST DEPENDENTE QUÃ\\xADMICO COM COMORBIDADE MASCULINO': 'HST DEPENDENTE QUÍMICO COM COMORBIDADE MASCULINO',\n",
        "}\n",
        "\n",
        "apply_corrections(df, 'nome_unidade_destino', corrections)\n",
        "\n",
        "sorted(df['nome_unidade_destino'].unique())"
      ]
    },
    {
      "cell_type": "code",
      "execution_count": 137,
      "metadata": {
        "colab": {
          "base_uri": "https://localhost:8080/"
        },
        "id": "QPvDzHc3TsWN",
        "outputId": "56015d4b-1563-4bfe-cc19-132a7f5fa891"
      },
      "outputs": [
        {
          "name": "stdout",
          "output_type": "stream",
          "text": [
            "Valores únicos em traumatismo: ['NAO INFORMADO' 'NAO' 'SIM']\n",
            "Valores únicos em prob_respiratorios: ['NAO INFORMADO' 'NAO' 'SIM']\n",
            "Valores únicos em avc: ['NAO INFORMADO' 'NAO' 'SIM']\n",
            "Valores únicos em convulsao: ['NAO INFORMADO' 'NAO' 'SIM']\n",
            "Valores únicos em has: ['NAO INFORMADO' 'NAO' 'SIM']\n",
            "Valores únicos em gravidez: ['NAO INFORMADO' 'SIM']\n"
          ]
        },
        {
          "name": "stdout",
          "output_type": "stream",
          "text": [
            "Valores únicos em diabetes: ['NAO INFORMADO' 'NAO' 'SIM']\n",
            "Valores únicos em doenca_infecto: ['NAO INFORMADO' 'NAO' 'SIM']\n",
            "Valores únicos em uf: ['SP' 'NAO INFORMADO' 'MG' 'BA' 'RN' 'AL' 'GO' 'PR' 'RS']\n",
            "Valores únicos em estado_civil: ['SOLTEIRO' 'CASADO' 'NAO INFORMADO' 'VIUVO' 'SEPARADO' 'DIVORCIADO']\n",
            "Valores únicos em etnia: ['BRANCO' 'PARDO' 'NEGRO' 'NAO INFORMADO' 'AMARELO']\n",
            "Valores únicos em arranjo_domiciliar: ['NAO INFORMADO' 'SOZINHO' 'COM COMPANHEIRO ( A)' 'COM FILHOS(AS)'\n",
            " 'COM PAI/MAE' 'COM OUTROS FAMILIARES' 'OUTRO' 'CONHECIDOS/AMIGOS']\n",
            "Valores únicos em tipo_regulacao: ['NO' 'DE']\n",
            "Valores únicos em via_internacao: ['PRESTADOR' 'UE' 'UE-EPIB' 'TRANSFERENCIA' 'DEMANDA_ESPONTANEA']\n",
            "Valores únicos em tipo_internacao_de: ['NAO INFORMADO' 'DEMANDA ESPONTANEA' 'TRANSFERENCIA DE OUTRA CLINICA'\n",
            " 'ORDEM JUDICIAL']\n"
          ]
        }
      ],
      "source": [
        "cols = [\n",
        "  'traumatismo',\n",
        "  'prob_respiratorios',\n",
        "  'avc',\n",
        "  'convulsao', 'has',\n",
        "  'gravidez',\n",
        "  'diabetes',\n",
        "  'doenca_infecto',\n",
        "  'uf',\n",
        "  'estado_civil',\n",
        "  'etnia',\n",
        "  'arranjo_domiciliar',\n",
        "  'tipo_regulacao',\n",
        "  'via_internacao',\n",
        "  'tipo_internacao_de'\n",
        "]\n",
        "\n",
        "for col in cols:\n",
        "  apply_corrections(df, col, {})\n",
        "  unique_values = df[col].unique()\n",
        "  print(f\"Valores únicos em {col}: {unique_values}\")"
      ]
    },
    {
      "cell_type": "markdown",
      "metadata": {},
      "source": [
        "Registros de diagnóstico com códigos incompletos (Ex: 'P1_' ou '___') ou a falta de registro estando explicita em uma string (Ex: 'NAN')"
      ]
    },
    {
      "cell_type": "code",
      "execution_count": 138,
      "metadata": {},
      "outputs": [
        {
          "data": {
            "text/html": [
              "<div>\n",
              "<style scoped>\n",
              "    .dataframe tbody tr th:only-of-type {\n",
              "        vertical-align: middle;\n",
              "    }\n",
              "\n",
              "    .dataframe tbody tr th {\n",
              "        vertical-align: top;\n",
              "    }\n",
              "\n",
              "    .dataframe thead th {\n",
              "        text-align: right;\n",
              "    }\n",
              "</style>\n",
              "<table border=\"1\" class=\"dataframe\">\n",
              "  <thead>\n",
              "    <tr style=\"text-align: right;\">\n",
              "      <th></th>\n",
              "      <th>cod_paciente</th>\n",
              "    </tr>\n",
              "    <tr>\n",
              "      <th>cid10_diagnostico_alta</th>\n",
              "      <th></th>\n",
              "    </tr>\n",
              "  </thead>\n",
              "  <tbody>\n",
              "  </tbody>\n",
              "</table>\n",
              "</div>"
            ],
            "text/plain": [
              "Empty DataFrame\n",
              "Columns: [cod_paciente]\n",
              "Index: []"
            ]
          },
          "execution_count": 138,
          "metadata": {},
          "output_type": "execute_result"
        }
      ],
      "source": [
        "df[['cid10_diagnostico_alta', 'cod_paciente']].loc[df['cid10_diagnostico_alta'].isin(['__2', \"P1_\", 'F__', '___'])].groupby('cid10_diagnostico_alta').count()\n"
      ]
    },
    {
      "cell_type": "code",
      "execution_count": 139,
      "metadata": {},
      "outputs": [
        {
          "data": {
            "text/html": [
              "<div>\n",
              "<style scoped>\n",
              "    .dataframe tbody tr th:only-of-type {\n",
              "        vertical-align: middle;\n",
              "    }\n",
              "\n",
              "    .dataframe tbody tr th {\n",
              "        vertical-align: top;\n",
              "    }\n",
              "\n",
              "    .dataframe thead th {\n",
              "        text-align: right;\n",
              "    }\n",
              "</style>\n",
              "<table border=\"1\" class=\"dataframe\">\n",
              "  <thead>\n",
              "    <tr style=\"text-align: right;\">\n",
              "      <th></th>\n",
              "      <th>Contagem</th>\n",
              "    </tr>\n",
              "    <tr>\n",
              "      <th>cid10_seg_diagnostico_alta</th>\n",
              "      <th></th>\n",
              "    </tr>\n",
              "  </thead>\n",
              "  <tbody>\n",
              "  </tbody>\n",
              "</table>\n",
              "</div>"
            ],
            "text/plain": [
              "Empty DataFrame\n",
              "Columns: [Contagem]\n",
              "Index: []"
            ]
          },
          "execution_count": 139,
          "metadata": {},
          "output_type": "execute_result"
        }
      ],
      "source": [
        "\n",
        "df[['cid10_seg_diagnostico_alta', 'cod_paciente']].loc[df['cid10_seg_diagnostico_alta'].isin(['___'])].groupby('cid10_seg_diagnostico_alta').count().rename(columns={'cod_paciente': 'Contagem'})"
      ]
    },
    {
      "cell_type": "code",
      "execution_count": 140,
      "metadata": {
        "id": "6yQQBNlYFeEa"
      },
      "outputs": [],
      "source": [
        "# Removendo valores inuteis da base\n",
        "df['cid10_diagnostico'].loc[df['cid10_diagnostico'] == 'NAN'] = np.nan\n",
        "df['cid10_seg_diagnostico'].loc[df['cid10_seg_diagnostico'] == 'NAN'] = np.nan\n",
        "df['cid10_diagnostico_alta'].loc[df['cid10_diagnostico_alta'].isin(['NAN', '__2', \"P1_\", 'F__', '___'])] = np.nan\n",
        "df['cid10_seg_diagnostico_alta'].loc[df['cid10_seg_diagnostico_alta'].isin(['NAN', '___'])] = np.nan"
      ]
    },
    {
      "cell_type": "markdown",
      "metadata": {
        "id": "j1esVJZ543bH"
      },
      "source": [
        "## Códigos CID-10"
      ]
    },
    {
      "cell_type": "markdown",
      "metadata": {
        "id": "ZldzU0ZT2vEo"
      },
      "source": [
        "Buscando dados sobre o codigo cid sobre transtornos"
      ]
    },
    {
      "cell_type": "markdown",
      "metadata": {
        "id": "L8pJf6MzHlVQ"
      },
      "source": [
        "Para esta estapa, foram testadas diversas tabelas para realizar uma junção entre um código CID-10 e sua descrição.\n",
        "\n",
        " A maioria das tabelas ou não tinhamos confiança na origem, ou não possuiam todos os códigos necessários.\n",
        "Por fim, utilizamos uma tabela do datasus, que foi manipulada para atender\n",
        "nossas necessidades.\n",
        "\n",
        "Fonte das tabela: https://www.cdc.gov/nchs/icd/Comprehensive-Listing-of-ICD-10-CM-Files.htm\n",
        "\n",
        "Fonte Datasus: https://www.gov.br/previdencia/pt-br/assuntos/previdencia-social/saude-e-seguranca-do-trabalhador/acidente_trabalho_incapacidade/tabelas-cid-10"
      ]
    },
    {
      "cell_type": "code",
      "execution_count": 141,
      "metadata": {
        "colab": {
          "base_uri": "https://localhost:8080/",
          "height": 206
        },
        "id": "DJaDPEtmfyX2",
        "outputId": "05782185-5814-4608-f7f2-c7e9d125f0d4"
      },
      "outputs": [
        {
          "data": {
            "text/html": [
              "<div>\n",
              "<style scoped>\n",
              "    .dataframe tbody tr th:only-of-type {\n",
              "        vertical-align: middle;\n",
              "    }\n",
              "\n",
              "    .dataframe tbody tr th {\n",
              "        vertical-align: top;\n",
              "    }\n",
              "\n",
              "    .dataframe thead th {\n",
              "        text-align: right;\n",
              "    }\n",
              "</style>\n",
              "<table border=\"1\" class=\"dataframe\">\n",
              "  <thead>\n",
              "    <tr style=\"text-align: right;\">\n",
              "      <th></th>\n",
              "      <th>Codigo</th>\n",
              "      <th>Descricao</th>\n",
              "    </tr>\n",
              "  </thead>\n",
              "  <tbody>\n",
              "    <tr>\n",
              "      <th>0</th>\n",
              "      <td>A00</td>\n",
              "      <td>Cólera</td>\n",
              "    </tr>\n",
              "    <tr>\n",
              "      <th>1</th>\n",
              "      <td>A01</td>\n",
              "      <td>Febres tifóide e paratifóide</td>\n",
              "    </tr>\n",
              "    <tr>\n",
              "      <th>2</th>\n",
              "      <td>A02</td>\n",
              "      <td>Outras infecções por Salmonella</td>\n",
              "    </tr>\n",
              "    <tr>\n",
              "      <th>3</th>\n",
              "      <td>A03</td>\n",
              "      <td>Shiguelose</td>\n",
              "    </tr>\n",
              "    <tr>\n",
              "      <th>4</th>\n",
              "      <td>A04</td>\n",
              "      <td>Outras infecções intestinais bacterianas</td>\n",
              "    </tr>\n",
              "  </tbody>\n",
              "</table>\n",
              "</div>"
            ],
            "text/plain": [
              "  Codigo                                 Descricao\n",
              "0    A00                                    Cólera\n",
              "1    A01              Febres tifóide e paratifóide\n",
              "2    A02           Outras infecções por Salmonella\n",
              "3    A03                                Shiguelose\n",
              "4    A04  Outras infecções intestinais bacterianas"
            ]
          },
          "execution_count": 141,
          "metadata": {},
          "output_type": "execute_result"
        }
      ],
      "source": [
        "# Tabela equivalente aos grupos do CID-10\n",
        "cid_df = pd.read_csv('https://raw.githubusercontent.com/ImagineDogs/TranstornosMentais/main/Tabela%20CID-10.csv')\n",
        "cid_df.head()"
      ]
    },
    {
      "cell_type": "code",
      "execution_count": 142,
      "metadata": {
        "id": "NvgHYb5v4YMi"
      },
      "outputs": [],
      "source": [
        "# Aplicando tratamento aos dados para realizar a junção com a tabela de descrições\n",
        "# Não devem haver pontos nos códigos e todos devem estar em caixa alta\n",
        "df['cid10_diagnostico'] = df['cid10_diagnostico'].apply(lambda x: str(x).upper()[:str(x).find('.')] if str(x).find('.') != -1 else str(x).upper())\n",
        "df['cid10_seg_diagnostico'] = df['cid10_seg_diagnostico'].apply(lambda x: str(x).upper()[:str(x).find('.')] if str(x).find('.') != -1 else str(x).upper())\n",
        "df['cid10_diagnostico_alta'] = df['cid10_diagnostico_alta'].apply(lambda x: str(x).upper()[:str(x).find('.')] if str(x).find('.') != -1 else str(x).upper())\n",
        "df['cid10_seg_diagnostico_alta'] = df['cid10_seg_diagnostico_alta'].apply(lambda x: str(x).upper()[:str(x).find('.')] if str(x).find('.') != -1 else str(x).upper())"
      ]
    },
    {
      "cell_type": "code",
      "execution_count": 143,
      "metadata": {
        "id": "whmk6bhyoCfF"
      },
      "outputs": [],
      "source": [
        "# Junção entre as tabelas\n",
        "df = df.merge(cid_df, how='left', left_on='cid10_diagnostico', right_on='Codigo').rename(columns={'Descricao': 'descricao_diagnostico'}).drop(['Codigo'], axis=1)\n",
        "df = df.merge(cid_df, how='left', left_on='cid10_seg_diagnostico', right_on='Codigo').rename(columns={'Descricao': 'descricao_seg_diagnostico'}).drop(['Codigo'], axis=1)\n",
        "df = df.merge(cid_df, how='left', left_on='cid10_diagnostico_alta', right_on='Codigo').rename(columns={'Descricao': 'descricao_diagnostico_alta'}).drop(['Codigo'], axis=1)\n",
        "df = df.merge(cid_df, how='left', left_on='cid10_seg_diagnostico_alta', right_on='Codigo').rename(columns={'Descricao': 'descricao_seg_diagnostico_alta'}).drop(['Codigo'], axis=1)"
      ]
    },
    {
      "cell_type": "code",
      "execution_count": 144,
      "metadata": {
        "colab": {
          "base_uri": "https://localhost:8080/",
          "height": 206
        },
        "id": "1LMtDrMQ7jnr",
        "outputId": "7b65efea-ee4c-4ea1-9ec0-8f4f7c211280"
      },
      "outputs": [
        {
          "data": {
            "text/html": [
              "<div>\n",
              "<style scoped>\n",
              "    .dataframe tbody tr th:only-of-type {\n",
              "        vertical-align: middle;\n",
              "    }\n",
              "\n",
              "    .dataframe tbody tr th {\n",
              "        vertical-align: top;\n",
              "    }\n",
              "\n",
              "    .dataframe thead th {\n",
              "        text-align: right;\n",
              "    }\n",
              "</style>\n",
              "<table border=\"1\" class=\"dataframe\">\n",
              "  <thead>\n",
              "    <tr style=\"text-align: right;\">\n",
              "      <th></th>\n",
              "      <th>Codigos</th>\n",
              "      <th>Descricao</th>\n",
              "    </tr>\n",
              "  </thead>\n",
              "  <tbody>\n",
              "    <tr>\n",
              "      <th>0</th>\n",
              "      <td>A00-B99</td>\n",
              "      <td>Algumas doenças infecciosas e parasitárias</td>\n",
              "    </tr>\n",
              "    <tr>\n",
              "      <th>1</th>\n",
              "      <td>C00-D48</td>\n",
              "      <td>Neoplasias [tumores]</td>\n",
              "    </tr>\n",
              "    <tr>\n",
              "      <th>2</th>\n",
              "      <td>D50-D89</td>\n",
              "      <td>Doenças do sangue e dos órgãos hematopoéticos ...</td>\n",
              "    </tr>\n",
              "    <tr>\n",
              "      <th>3</th>\n",
              "      <td>E00-E90</td>\n",
              "      <td>Doenças endócrinas, nutricionais e metabólicas</td>\n",
              "    </tr>\n",
              "    <tr>\n",
              "      <th>4</th>\n",
              "      <td>F00-F99</td>\n",
              "      <td>Transtornos mentais e comportamentais</td>\n",
              "    </tr>\n",
              "  </tbody>\n",
              "</table>\n",
              "</div>"
            ],
            "text/plain": [
              "   Codigos                                          Descricao\n",
              "0  A00-B99         Algumas doenças infecciosas e parasitárias\n",
              "1  C00-D48                               Neoplasias [tumores]\n",
              "2  D50-D89  Doenças do sangue e dos órgãos hematopoéticos ...\n",
              "3  E00-E90     Doenças endócrinas, nutricionais e metabólicas\n",
              "4  F00-F99              Transtornos mentais e comportamentais"
            ]
          },
          "execution_count": 144,
          "metadata": {},
          "output_type": "execute_result"
        }
      ],
      "source": [
        "# Tabela das 'familias' de códigos CID-10\n",
        "cid_fam = pd.read_csv('https://raw.githubusercontent.com/ImagineDogs/TranstornosMentais/main/CID-10%20-%20Familias.csv')\n",
        "cid_fam.head()"
      ]
    },
    {
      "cell_type": "markdown",
      "metadata": {},
      "source": [
        "Como as familias estão em regiões intervalares, é necessário fazer a junção de informações através de querys"
      ]
    },
    {
      "cell_type": "code",
      "execution_count": 145,
      "metadata": {
        "id": "uUVaiIDT829q"
      },
      "outputs": [],
      "source": [
        "# Inicializando as colunas a serem preenchidas pelas familias\n",
        "df['cid10_familia'] = np.nan\n",
        "df['cid10_descricao_familia'] = np.nan\n",
        "df['cid10_seg_familia'] = np.nan\n",
        "df['cid10_seg_descricao_familia'] = np.nan\n",
        "df['cid10_familia_alta'] = np.nan\n",
        "df['cid10_descricao_familia_alta'] = np.nan\n",
        "df['cid10_seg_familia_alta'] = np.nan\n",
        "df['cid10_seg_descricao_familia_alta'] = np.nan"
      ]
    },
    {
      "cell_type": "code",
      "execution_count": 146,
      "metadata": {
        "id": "WDbymtAp-kdh"
      },
      "outputs": [],
      "source": [
        "# Realizando as junções por query\n",
        "for i in range(len(cid_fam)):\n",
        "  cod = cid_fam['Codigos'].iloc[i].split('-')\n",
        "\n",
        "  df['cid10_familia'].loc[df['cid10_diagnostico'].between(cod[0], cod[1])] = cid_fam['Codigos'].iloc[i]\n",
        "  df['cid10_descricao_familia'].loc[df['cid10_diagnostico'].between(cod[0], cod[1])] = cid_fam['Descricao'].iloc[i]\n",
        "\n",
        "  df['cid10_seg_familia'].loc[df['cid10_seg_diagnostico'].between(cod[0], cod[1])] = cid_fam['Codigos'].iloc[i]\n",
        "  df['cid10_seg_descricao_familia'].loc[df['cid10_seg_diagnostico'].between(cod[0], cod[1])] = cid_fam['Descricao'].iloc[i]\n",
        "\n",
        "  df['cid10_familia_alta'].loc[df['cid10_diagnostico_alta'].between(cod[0], cod[1])] = cid_fam['Codigos'].iloc[i]\n",
        "  df['cid10_descricao_familia_alta'].loc[df['cid10_diagnostico_alta'].between(cod[0], cod[1])] = cid_fam['Descricao'].iloc[i]\n",
        "\n",
        "  df['cid10_seg_familia_alta'].loc[df['cid10_seg_diagnostico_alta'].between(cod[0], cod[1])] = cid_fam['Codigos'].iloc[i]\n",
        "  df['cid10_seg_descricao_familia_alta'].loc[df['cid10_seg_diagnostico_alta'].between(cod[0], cod[1])] = cid_fam['Descricao'].iloc[i]"
      ]
    },
    {
      "cell_type": "markdown",
      "metadata": {
        "id": "KbZaXy5P8d02"
      },
      "source": [
        "# 4. Análise Exploratória dos Dados"
      ]
    },
    {
      "cell_type": "markdown",
      "metadata": {
        "id": "HhD66ENxE_KS"
      },
      "source": [
        "## 4.1 Medidas descritivas"
      ]
    },
    {
      "cell_type": "code",
      "execution_count": 147,
      "metadata": {
        "colab": {
          "base_uri": "https://localhost:8080/",
          "height": 300
        },
        "id": "H6-CceNM9xsH",
        "outputId": "6560770a-48fb-4704-e985-243732d83e87"
      },
      "outputs": [
        {
          "data": {
            "text/html": [
              "<div>\n",
              "<style scoped>\n",
              "    .dataframe tbody tr th:only-of-type {\n",
              "        vertical-align: middle;\n",
              "    }\n",
              "\n",
              "    .dataframe tbody tr th {\n",
              "        vertical-align: top;\n",
              "    }\n",
              "\n",
              "    .dataframe thead th {\n",
              "        text-align: right;\n",
              "    }\n",
              "</style>\n",
              "<table border=\"1\" class=\"dataframe\">\n",
              "  <thead>\n",
              "    <tr style=\"text-align: right;\">\n",
              "      <th></th>\n",
              "      <th>data_internacao_real</th>\n",
              "      <th>data_cadastro</th>\n",
              "      <th>data_nascimento</th>\n",
              "      <th>data_solicitacao</th>\n",
              "      <th>data_lista_reg</th>\n",
              "      <th>data_vaga_reg</th>\n",
              "      <th>data_admissao_reg</th>\n",
              "      <th>data_lista_hospital</th>\n",
              "      <th>data_vaga_hospital</th>\n",
              "      <th>data_internacao</th>\n",
              "      <th>data_cancel_solicitacao</th>\n",
              "      <th>data_transferencia</th>\n",
              "      <th>data_expiracao</th>\n",
              "      <th>data_alta</th>\n",
              "      <th>idade</th>\n",
              "      <th>qtd_internacoes</th>\n",
              "      <th>tempo_internado</th>\n",
              "    </tr>\n",
              "  </thead>\n",
              "  <tbody>\n",
              "    <tr>\n",
              "      <th>count</th>\n",
              "      <td>8755</td>\n",
              "      <td>8653</td>\n",
              "      <td>8422</td>\n",
              "      <td>8755</td>\n",
              "      <td>2074</td>\n",
              "      <td>2207</td>\n",
              "      <td>2212</td>\n",
              "      <td>7360</td>\n",
              "      <td>7166</td>\n",
              "      <td>7330</td>\n",
              "      <td>392</td>\n",
              "      <td>1500</td>\n",
              "      <td>4575</td>\n",
              "      <td>8740</td>\n",
              "      <td>7328.000000</td>\n",
              "      <td>8755.000000</td>\n",
              "      <td>8740.000000</td>\n",
              "    </tr>\n",
              "    <tr>\n",
              "      <th>mean</th>\n",
              "      <td>2015-04-03 22:00:15.625356800</td>\n",
              "      <td>2014-06-22 05:17:21.349820672</td>\n",
              "      <td>1977-09-16 22:43:13.778199936</td>\n",
              "      <td>2015-03-19 23:46:40.639634432</td>\n",
              "      <td>2015-02-19 20:57:23.780134912</td>\n",
              "      <td>2015-04-21 00:31:19.111916544</td>\n",
              "      <td>2015-04-21 12:14:58.372513536</td>\n",
              "      <td>2015-03-30 09:53:48.260869632</td>\n",
              "      <td>2015-05-07 13:00:29.137594368</td>\n",
              "      <td>2015-04-15 19:04:55.661664768</td>\n",
              "      <td>2015-10-24 19:20:48.979591936</td>\n",
              "      <td>2015-04-12 00:51:50.400000</td>\n",
              "      <td>2016-07-04 19:54:10.622950656</td>\n",
              "      <td>2015-05-07 13:09:41.601830656</td>\n",
              "      <td>37.625136</td>\n",
              "      <td>3.036094</td>\n",
              "      <td>34.487643</td>\n",
              "    </tr>\n",
              "    <tr>\n",
              "      <th>min</th>\n",
              "      <td>2012-02-01 00:00:00</td>\n",
              "      <td>2012-08-01 00:00:00</td>\n",
              "      <td>1900-01-01 00:00:00</td>\n",
              "      <td>2010-09-20 00:00:00</td>\n",
              "      <td>2012-08-17 00:00:00</td>\n",
              "      <td>2012-08-17 00:00:00</td>\n",
              "      <td>2012-08-17 00:00:00</td>\n",
              "      <td>2012-08-14 00:00:00</td>\n",
              "      <td>2012-09-19 00:00:00</td>\n",
              "      <td>2012-08-07 00:00:00</td>\n",
              "      <td>2012-09-21 00:00:00</td>\n",
              "      <td>2012-09-22 00:00:00</td>\n",
              "      <td>2015-01-27 00:00:00</td>\n",
              "      <td>2012-08-03 00:00:00</td>\n",
              "      <td>0.000000</td>\n",
              "      <td>1.000000</td>\n",
              "      <td>-1.000000</td>\n",
              "    </tr>\n",
              "    <tr>\n",
              "      <th>25%</th>\n",
              "      <td>2013-10-31 00:00:00</td>\n",
              "      <td>2013-01-18 00:00:00</td>\n",
              "      <td>1968-03-02 00:00:00</td>\n",
              "      <td>2013-10-16 00:00:00</td>\n",
              "      <td>2013-10-11 00:00:00</td>\n",
              "      <td>2013-11-14 00:00:00</td>\n",
              "      <td>2013-11-18 00:00:00</td>\n",
              "      <td>2013-10-30 00:00:00</td>\n",
              "      <td>2013-12-29 00:00:00</td>\n",
              "      <td>2013-11-25 06:00:00</td>\n",
              "      <td>2014-09-23 06:00:00</td>\n",
              "      <td>2014-01-04 18:00:00</td>\n",
              "      <td>2015-10-27 00:00:00</td>\n",
              "      <td>2013-12-05 00:00:00</td>\n",
              "      <td>27.000000</td>\n",
              "      <td>1.000000</td>\n",
              "      <td>9.000000</td>\n",
              "    </tr>\n",
              "    <tr>\n",
              "      <th>50%</th>\n",
              "      <td>2015-05-13 00:00:00</td>\n",
              "      <td>2014-02-17 00:00:00</td>\n",
              "      <td>1979-06-25 00:00:00</td>\n",
              "      <td>2015-04-28 00:00:00</td>\n",
              "      <td>2014-12-31 00:00:00</td>\n",
              "      <td>2015-04-05 00:00:00</td>\n",
              "      <td>2015-04-06 12:00:00</td>\n",
              "      <td>2015-05-05 12:00:00</td>\n",
              "      <td>2015-06-16 00:00:00</td>\n",
              "      <td>2015-05-25 00:00:00</td>\n",
              "      <td>2016-03-01 12:00:00</td>\n",
              "      <td>2015-04-30 00:00:00</td>\n",
              "      <td>2016-06-17 00:00:00</td>\n",
              "      <td>2015-06-16 00:00:00</td>\n",
              "      <td>36.000000</td>\n",
              "      <td>2.000000</td>\n",
              "      <td>22.000000</td>\n",
              "    </tr>\n",
              "    <tr>\n",
              "      <th>75%</th>\n",
              "      <td>2016-08-01 00:00:00</td>\n",
              "      <td>2015-10-02 00:00:00</td>\n",
              "      <td>1988-07-01 00:00:00</td>\n",
              "      <td>2016-07-18 00:00:00</td>\n",
              "      <td>2016-05-19 00:00:00</td>\n",
              "      <td>2016-08-30 00:00:00</td>\n",
              "      <td>2016-08-30 00:00:00</td>\n",
              "      <td>2016-07-22 00:00:00</td>\n",
              "      <td>2016-08-12 18:00:00</td>\n",
              "      <td>2016-08-03 00:00:00</td>\n",
              "      <td>2016-11-20 06:00:00</td>\n",
              "      <td>2016-06-17 00:00:00</td>\n",
              "      <td>2017-03-16 00:00:00</td>\n",
              "      <td>2016-09-01 06:00:00</td>\n",
              "      <td>47.000000</td>\n",
              "      <td>4.000000</td>\n",
              "      <td>41.000000</td>\n",
              "    </tr>\n",
              "    <tr>\n",
              "      <th>max</th>\n",
              "      <td>2017-12-30 00:00:00</td>\n",
              "      <td>2017-12-30 00:00:00</td>\n",
              "      <td>2013-10-17 00:00:00</td>\n",
              "      <td>2017-12-30 00:00:00</td>\n",
              "      <td>2017-12-29 00:00:00</td>\n",
              "      <td>2017-12-30 00:00:00</td>\n",
              "      <td>2017-12-30 00:00:00</td>\n",
              "      <td>2017-12-29 00:00:00</td>\n",
              "      <td>2018-01-08 00:00:00</td>\n",
              "      <td>2018-01-09 00:00:00</td>\n",
              "      <td>2017-12-22 00:00:00</td>\n",
              "      <td>2018-01-03 00:00:00</td>\n",
              "      <td>2018-01-09 00:00:00</td>\n",
              "      <td>2018-08-07 00:00:00</td>\n",
              "      <td>117.000000</td>\n",
              "      <td>20.000000</td>\n",
              "      <td>1484.000000</td>\n",
              "    </tr>\n",
              "    <tr>\n",
              "      <th>std</th>\n",
              "      <td>NaN</td>\n",
              "      <td>NaN</td>\n",
              "      <td>NaN</td>\n",
              "      <td>NaN</td>\n",
              "      <td>NaN</td>\n",
              "      <td>NaN</td>\n",
              "      <td>NaN</td>\n",
              "      <td>NaN</td>\n",
              "      <td>NaN</td>\n",
              "      <td>NaN</td>\n",
              "      <td>NaN</td>\n",
              "      <td>NaN</td>\n",
              "      <td>NaN</td>\n",
              "      <td>NaN</td>\n",
              "      <td>14.150313</td>\n",
              "      <td>2.791813</td>\n",
              "      <td>54.729354</td>\n",
              "    </tr>\n",
              "  </tbody>\n",
              "</table>\n",
              "</div>"
            ],
            "text/plain": [
              "                data_internacao_real                  data_cadastro  \\\n",
              "count                           8755                           8653   \n",
              "mean   2015-04-03 22:00:15.625356800  2014-06-22 05:17:21.349820672   \n",
              "min              2012-02-01 00:00:00            2012-08-01 00:00:00   \n",
              "25%              2013-10-31 00:00:00            2013-01-18 00:00:00   \n",
              "50%              2015-05-13 00:00:00            2014-02-17 00:00:00   \n",
              "75%              2016-08-01 00:00:00            2015-10-02 00:00:00   \n",
              "max              2017-12-30 00:00:00            2017-12-30 00:00:00   \n",
              "std                              NaN                            NaN   \n",
              "\n",
              "                     data_nascimento               data_solicitacao  \\\n",
              "count                           8422                           8755   \n",
              "mean   1977-09-16 22:43:13.778199936  2015-03-19 23:46:40.639634432   \n",
              "min              1900-01-01 00:00:00            2010-09-20 00:00:00   \n",
              "25%              1968-03-02 00:00:00            2013-10-16 00:00:00   \n",
              "50%              1979-06-25 00:00:00            2015-04-28 00:00:00   \n",
              "75%              1988-07-01 00:00:00            2016-07-18 00:00:00   \n",
              "max              2013-10-17 00:00:00            2017-12-30 00:00:00   \n",
              "std                              NaN                            NaN   \n",
              "\n",
              "                      data_lista_reg                  data_vaga_reg  \\\n",
              "count                           2074                           2207   \n",
              "mean   2015-02-19 20:57:23.780134912  2015-04-21 00:31:19.111916544   \n",
              "min              2012-08-17 00:00:00            2012-08-17 00:00:00   \n",
              "25%              2013-10-11 00:00:00            2013-11-14 00:00:00   \n",
              "50%              2014-12-31 00:00:00            2015-04-05 00:00:00   \n",
              "75%              2016-05-19 00:00:00            2016-08-30 00:00:00   \n",
              "max              2017-12-29 00:00:00            2017-12-30 00:00:00   \n",
              "std                              NaN                            NaN   \n",
              "\n",
              "                   data_admissao_reg            data_lista_hospital  \\\n",
              "count                           2212                           7360   \n",
              "mean   2015-04-21 12:14:58.372513536  2015-03-30 09:53:48.260869632   \n",
              "min              2012-08-17 00:00:00            2012-08-14 00:00:00   \n",
              "25%              2013-11-18 00:00:00            2013-10-30 00:00:00   \n",
              "50%              2015-04-06 12:00:00            2015-05-05 12:00:00   \n",
              "75%              2016-08-30 00:00:00            2016-07-22 00:00:00   \n",
              "max              2017-12-30 00:00:00            2017-12-29 00:00:00   \n",
              "std                              NaN                            NaN   \n",
              "\n",
              "                  data_vaga_hospital                data_internacao  \\\n",
              "count                           7166                           7330   \n",
              "mean   2015-05-07 13:00:29.137594368  2015-04-15 19:04:55.661664768   \n",
              "min              2012-09-19 00:00:00            2012-08-07 00:00:00   \n",
              "25%              2013-12-29 00:00:00            2013-11-25 06:00:00   \n",
              "50%              2015-06-16 00:00:00            2015-05-25 00:00:00   \n",
              "75%              2016-08-12 18:00:00            2016-08-03 00:00:00   \n",
              "max              2018-01-08 00:00:00            2018-01-09 00:00:00   \n",
              "std                              NaN                            NaN   \n",
              "\n",
              "             data_cancel_solicitacao          data_transferencia  \\\n",
              "count                            392                        1500   \n",
              "mean   2015-10-24 19:20:48.979591936  2015-04-12 00:51:50.400000   \n",
              "min              2012-09-21 00:00:00         2012-09-22 00:00:00   \n",
              "25%              2014-09-23 06:00:00         2014-01-04 18:00:00   \n",
              "50%              2016-03-01 12:00:00         2015-04-30 00:00:00   \n",
              "75%              2016-11-20 06:00:00         2016-06-17 00:00:00   \n",
              "max              2017-12-22 00:00:00         2018-01-03 00:00:00   \n",
              "std                              NaN                         NaN   \n",
              "\n",
              "                      data_expiracao                      data_alta  \\\n",
              "count                           4575                           8740   \n",
              "mean   2016-07-04 19:54:10.622950656  2015-05-07 13:09:41.601830656   \n",
              "min              2015-01-27 00:00:00            2012-08-03 00:00:00   \n",
              "25%              2015-10-27 00:00:00            2013-12-05 00:00:00   \n",
              "50%              2016-06-17 00:00:00            2015-06-16 00:00:00   \n",
              "75%              2017-03-16 00:00:00            2016-09-01 06:00:00   \n",
              "max              2018-01-09 00:00:00            2018-08-07 00:00:00   \n",
              "std                              NaN                            NaN   \n",
              "\n",
              "             idade  qtd_internacoes  tempo_internado  \n",
              "count  7328.000000      8755.000000      8740.000000  \n",
              "mean     37.625136         3.036094        34.487643  \n",
              "min       0.000000         1.000000        -1.000000  \n",
              "25%      27.000000         1.000000         9.000000  \n",
              "50%      36.000000         2.000000        22.000000  \n",
              "75%      47.000000         4.000000        41.000000  \n",
              "max     117.000000        20.000000      1484.000000  \n",
              "std      14.150313         2.791813        54.729354  "
            ]
          },
          "execution_count": 147,
          "metadata": {},
          "output_type": "execute_result"
        }
      ],
      "source": [
        "rem = ['cod_paciente', 'cod_regulacao', 'cod_transf_alta', 'unidade_cadastro', 'cod_unidade_origem', 'status_internacao']\n",
        "df_mpd = df.drop(rem,axis=1)\n",
        "df_mpd.describe()"
      ]
    },
    {
      "cell_type": "markdown",
      "metadata": {
        "id": "Y-ilA1VPGavq"
      },
      "source": [
        "## 4.2 Visualização dos Dados"
      ]
    },
    {
      "cell_type": "code",
      "execution_count": 148,
      "metadata": {
        "colab": {
          "base_uri": "https://localhost:8080/",
          "height": 487
        },
        "id": "YG_O3osdKh6n",
        "outputId": "c04ee0f8-b668-4a34-96e0-9ca8538c37f8"
      },
      "outputs": [
        {
          "data": {
            "image/png": "[encoded data removed]",
            "text/plain": [
              "<Figure size 1000x500 with 1 Axes>"
            ]
          },
          "metadata": {},
          "output_type": "display_data"
        }
      ],
      "source": [
        "# Quantidade de internações por sexo\n",
        "plt.figure(figsize=(10,5))\n",
        "ax = sns.countplot(x='uf', data=df)\n",
        "ax.set_title('Internações por estado')\n",
        "ax.set_ylabel('Quantidade de internações')\n",
        "ax.set_xlabel('Unidade Federal')\n",
        "plt.show()"
      ]
    },
    {
      "cell_type": "code",
      "execution_count": 149,
      "metadata": {
        "colab": {
          "base_uri": "https://localhost:8080/",
          "height": 487
        },
        "id": "Mxq1oyEh9mV7",
        "outputId": "17313e8c-7234-4dad-f934-9cadf6c20dc4"
      },
      "outputs": [
        {
          "data": {
            "image/png": "[encoded data removed]",
            "text/plain": [
              "<Figure size 1000x500 with 1 Axes>"
            ]
          },
          "metadata": {},
          "output_type": "display_data"
        }
      ],
      "source": [
        "# Quantidade de internações por estado civil\n",
        "plt.figure(figsize=(10,5))\n",
        "ax = sns.countplot(x='estado_civil', data=df)\n",
        "ax.set_title('Internações por estado civil')\n",
        "ax.set_ylabel('Quantidade de internações')\n",
        "ax.set_xlabel('Estado civil')\n",
        "plt.show()"
      ]
    },
    {
      "cell_type": "code",
      "execution_count": 150,
      "metadata": {
        "colab": {
          "base_uri": "https://localhost:8080/",
          "height": 472
        },
        "id": "cp79T_RcLYlv",
        "outputId": "5eb8ac45-7314-4f62-b5c8-2472f844b7fc"
      },
      "outputs": [
        {
          "data": {
            "image/png": "[encoded data removed]",
            "text/plain": [
              "<Figure size 640x480 with 1 Axes>"
            ]
          },
          "metadata": {},
          "output_type": "display_data"
        }
      ],
      "source": [
        "# Quantidade de internações por faixa-etária\n",
        "faixas = list(df['faixa_etaria'].unique())\n",
        "faixas.remove(np.nan)\n",
        "ax = sns.countplot(x='faixa_etaria', data=df,order=sorted(faixas),hue='sexo')\n",
        "ax.set_title('Internações por faixa etária e sexo')\n",
        "ax.set_ylabel('Quantidade de internações')\n",
        "ax.set_xlabel('Faixa-Etária')\n",
        "ax.grid()\n",
        "plt.show()"
      ]
    },
    {
      "cell_type": "code",
      "execution_count": 151,
      "metadata": {
        "colab": {
          "base_uri": "https://localhost:8080/"
        },
        "id": "5QZXxmvWOZwz",
        "outputId": "7682dfee-2995-4d26-ac51-0a58f92b5f1e"
      },
      "outputs": [
        {
          "data": {
            "text/plain": [
              "96"
            ]
          },
          "execution_count": 151,
          "metadata": {},
          "output_type": "execute_result"
        }
      ],
      "source": [
        "len(df['cid10_diagnostico_alta'].str.lower().unique())"
      ]
    },
    {
      "cell_type": "code",
      "execution_count": 152,
      "metadata": {
        "colab": {
          "base_uri": "https://localhost:8080/",
          "height": 641
        },
        "id": "2dtOD66HJ0T8",
        "outputId": "73c41e90-f05e-45fc-b388-56b1a6ca2dfb"
      },
      "outputs": [
        {
          "data": {
            "image/png": "[encoded data removed]",
            "text/plain": [
              "<Figure size 1500x700 with 1 Axes>"
            ]
          },
          "metadata": {},
          "output_type": "display_data"
        }
      ],
      "source": [
        "plt.figure(figsize=(15, 7))\n",
        "ax = sns.histplot(x='idade', data=df)\n",
        "ax.set_title('Internações por idade')\n",
        "ax.set_ylabel('Quantidade de internações')\n",
        "ax.set_xlabel('Idade (Anos)')\n",
        "plt.show()"
      ]
    },
    {
      "cell_type": "code",
      "execution_count": 153,
      "metadata": {
        "colab": {
          "base_uri": "https://localhost:8080/",
          "height": 640
        },
        "id": "lM-Sph947Ei7",
        "outputId": "7bcb4b8b-4ae0-4257-e66e-8974bd60a31a"
      },
      "outputs": [
        {
          "data": {
            "image/png": "[encoded data removed]",
            "text/plain": [
              "<Figure size 1500x700 with 1 Axes>"
            ]
          },
          "metadata": {},
          "output_type": "display_data"
        }
      ],
      "source": [
        "plt.figure(figsize=(15, 7))\n",
        "ax = sns.histplot(x='tempo_internado', data=df, bins=100)\n",
        "ax.set_title('Internações por tempo internado')\n",
        "ax.set_ylabel('Quantidade de internações')\n",
        "ax.set_xlabel('Tempo internado (Dias)')\n",
        "plt.show()"
      ]
    },
    {
      "cell_type": "code",
      "execution_count": 154,
      "metadata": {
        "colab": {
          "base_uri": "https://localhost:8080/",
          "height": 1000
        },
        "id": "RLmOCGjQAY0X",
        "outputId": "8ce43e99-865e-48ae-db34-bb11246db3d9"
      },
      "outputs": [
        {
          "data": {
            "image/png": "[encoded data removed]",
            "text/plain": [
              "<Figure size 1700x1000 with 4 Axes>"
            ]
          },
          "metadata": {},
          "output_type": "display_data"
        },
        {
          "name": "stdout",
          "output_type": "stream",
          "text": [
            "Código: A00-B99  \n",
            "Descrição: Algumas doenças infecciosas e parasitárias\n",
            "\n",
            "Código: E00-E90  \n",
            "Descrição: Doenças endócrinas, nutricionais e metabólicas\n",
            "\n",
            "Código: F00-F99  \n",
            "Descrição: Transtornos mentais e comportamentais\n",
            "\n",
            "Código: G00-G99  \n",
            "Descrição: Doenças do sistema nervoso\n",
            "\n",
            "Código: R00-R99  \n",
            "Descrição: Sintomas, sinais e achados anormais de exames clínicos e de laboratório, Não classificados em outra parte\n",
            "\n",
            "Código: V01-Y98  \n",
            "Descrição: Causas externas de morbidade e de mortalidade\n",
            "\n",
            "Código: Z00-Z99  \n",
            "Descrição: Fatores que influenciam o estado de saúde e o contato com os serviços de saúde\n",
            "\n"
          ]
        }
      ],
      "source": [
        "plt.figure(figsize = (17, 10))\n",
        "\n",
        "label = ['cid10_familia', 'cid10_seg_familia', 'cid10_familia_alta', 'cid10_seg_familia_alta']\n",
        "final = pd.DataFrame(columns=['Codigo', 'Quantidade'])\n",
        "for i in range(len(label)):\n",
        "  diagnosticos = df[[label[i], 'cod_paciente']]\n",
        "  diagnosticos = diagnosticos.groupby([label[i]]).count()\n",
        "  diagnosticos = diagnosticos.reset_index()\n",
        "  diagnosticos.columns = ['Codigo', 'Quantidade']\n",
        "  diagnosticos = diagnosticos.sort_values(by='Quantidade', ascending = False)[:5]\n",
        "\n",
        "  final = pd.concat([final, diagnosticos])\n",
        "\n",
        "\n",
        "\n",
        "  plt.subplot(2,2,i+1)\n",
        "  plt.title(label[i])\n",
        "  ax = sns.barplot(x='Codigo', y='Quantidade', data=diagnosticos)\n",
        "\n",
        "plt.show()\n",
        "\n",
        "for i, j in cid_fam[['Codigos', 'Descricao']].loc[cid_fam['Codigos'].isin(final['Codigo'].unique())].iterrows():\n",
        "  print(f'Código: {j[0]}  \\nDescrição: {j[1]}\\n')"
      ]
    },
    {
      "cell_type": "code",
      "execution_count": 155,
      "metadata": {
        "colab": {
          "base_uri": "https://localhost:8080/",
          "height": 1000
        },
        "id": "MbwFayqC6pGP",
        "outputId": "4d8013f7-ff5a-43cd-c687-83c71a647eb5"
      },
      "outputs": [
        {
          "data": {
            "image/png": "[encoded data removed]",
            "text/plain": [
              "<Figure size 1700x1000 with 4 Axes>"
            ]
          },
          "metadata": {},
          "output_type": "display_data"
        },
        {
          "name": "stdout",
          "output_type": "stream",
          "text": [
            "\n",
            "Código: F10  \n",
            "Descrição: Transtornos mentais e comportamentais devidos ao uso de álcool\n",
            "\n",
            "Código: F19  \n",
            "Descrição: Transtornos mentais e comportamentais devidos ao uso de múltiplas drogas e ao uso de outras substâncias psicoativas\n",
            "\n",
            "Código: F20  \n",
            "Descrição: Esquizofrenia\n",
            "\n",
            "Código: F31  \n",
            "Descrição: Transtorno afetivo bipolar\n",
            "\n",
            "Código: F32  \n",
            "Descrição: Episódios depressivos\n",
            "\n",
            "Código: F60  \n",
            "Descrição: Transtornos específicos da personalidade\n",
            "\n"
          ]
        }
      ],
      "source": [
        "plt.figure(figsize = (17, 10))\n",
        "\n",
        "label = ['cid10_diagnostico', 'cid10_seg_diagnostico', 'cid10_diagnostico_alta', 'cid10_seg_diagnostico_alta']\n",
        "final = pd.DataFrame(columns=['Codigo', 'Quantidade'])\n",
        "for i in range(len(label)):\n",
        "  diagnosticos = df[[label[i], 'cod_paciente']]\n",
        "  diagnosticos = diagnosticos.groupby([label[i]]).count()\n",
        "  diagnosticos = diagnosticos.reset_index()\n",
        "  diagnosticos.columns = ['Codigo', 'Quantidade']\n",
        "  diagnosticos = diagnosticos.sort_values(by='Quantidade', ascending = False)[:5]\n",
        "\n",
        "  final = pd.concat([final, diagnosticos])\n",
        "\n",
        "  plt.subplot(2,2,i+1)\n",
        "  plt.title(label[i])\n",
        "  ax = sns.barplot(x='Codigo', y='Quantidade', data=diagnosticos)\n",
        "\n",
        "plt.show()\n",
        "print('')\n",
        "for i, j in cid_df[['Codigo', 'Descricao']].loc[cid_df['Codigo'].isin(final['Codigo'].unique())].iterrows():\n",
        "  print(f'Código: {j[0]}  \\nDescrição: {j[1]}\\n')"
      ]
    },
    {
      "cell_type": "markdown",
      "metadata": {
        "id": "SaTHdf-OGin2"
      },
      "source": [
        "## 4.3 Correlação entre as Variáveis"
      ]
    },
    {
      "cell_type": "code",
      "execution_count": 156,
      "metadata": {
        "colab": {
          "base_uri": "https://localhost:8080/",
          "height": 435
        },
        "id": "Ml6tfVkLHKSl",
        "outputId": "f1e5022d-95b1-4251-bb0a-cfdc33ce4979"
      },
      "outputs": [],
      "source": [
        "# sns.heatmap(df_mpd.corr(method='spearman'),annot=True)\n",
        "# plt.show()"
      ]
    },
    {
      "cell_type": "markdown",
      "metadata": {},
      "source": [
        "### Teste de independência entre diagnósticos\n",
        "\n",
        "Como possuímos diagnósticos sobre o paciente (2 na entrada e 2 na alta), queremos ver se esses dados possuem algum tipo de associação entre si. \n",
        "\n",
        "Por se tratarem de dados categóricos é natural optar pelo teste Qui-Quadrado para independência, mais especificamente o teste de Pearson e o G-Test.\n",
        "\n",
        "O teste de Pearson é o padrão de utilização para testes de independência, enquanto o G-Test é assumido para amostras grandes (3000+ no nosso caso)."
      ]
    },
    {
      "cell_type": "code",
      "execution_count": 157,
      "metadata": {},
      "outputs": [
        {
          "name": "stdout",
          "output_type": "stream",
          "text": [
            "cid10_diagnostico e cid10_seg_diagnostico apresentam uma associação significativa por Qui-Quadrado pois p = 0.0 < 0.05\n",
            "\n",
            "cid10_diagnostico e cid10_seg_diagnostico não apresentam uma associação significativa por Teste-G pois p = 1.0 > 0.05\n",
            "\n",
            "\n",
            "cid10_diagnostico e cid10_diagnostico_alta apresentam uma associação significativa por Qui-Quadrado pois p = 0.0 < 0.05\n",
            "\n",
            "cid10_diagnostico e cid10_diagnostico_alta apresentam uma associação significativa por Teste-G pois p = 0.0 < 0.05\n",
            "\n",
            "\n",
            "cid10_diagnostico e cid10_seg_diagnostico_alta apresentam uma associação significativa por Qui-Quadrado pois p = 0.0 < 0.05\n",
            "\n",
            "cid10_diagnostico e cid10_seg_diagnostico_alta não apresentam uma associação significativa por Teste-G pois p = 1.0 > 0.05\n",
            "\n",
            "\n",
            "cid10_seg_diagnostico e cid10_diagnostico_alta apresentam uma associação significativa por Qui-Quadrado pois p = 4.813294547509136e-264 < 0.05\n",
            "\n",
            "cid10_seg_diagnostico e cid10_diagnostico_alta não apresentam uma associação significativa por Teste-G pois p = 1.0 > 0.05\n",
            "\n",
            "\n",
            "cid10_seg_diagnostico e cid10_seg_diagnostico_alta apresentam uma associação significativa por Qui-Quadrado pois p = 0.0 < 0.05\n",
            "\n",
            "cid10_seg_diagnostico e cid10_seg_diagnostico_alta não apresentam uma associação significativa por Teste-G pois p = 1.0 > 0.05\n",
            "\n",
            "\n",
            "cid10_diagnostico_alta e cid10_seg_diagnostico_alta apresentam uma associação significativa por Qui-Quadrado pois p = 0.0 < 0.05\n",
            "\n",
            "cid10_diagnostico_alta e cid10_seg_diagnostico_alta não apresentam uma associação significativa por Teste-G pois p = 1.0 > 0.05\n",
            "\n",
            "\n"
          ]
        }
      ],
      "source": [
        "from scipy.stats import chi2_contingency\n",
        "from scipy.stats import fisher_exact\n",
        "\n",
        "diagnosticos = ['cid10_diagnostico', 'cid10_seg_diagnostico', 'cid10_diagnostico_alta', 'cid10_seg_diagnostico_alta']\n",
        "\n",
        "for i in range(len(diagnosticos)):\n",
        "    for j in range(len(diagnosticos)):\n",
        "        if j > i: \n",
        "            \n",
        "            contingency_table = df.groupby([diagnosticos[i], diagnosticos[j]]).size().unstack(1).replace(np.nan, 0)\n",
        "            res_chi= chi2_contingency(contingency_table)\n",
        "            res_gtest = chi2_contingency(contingency_table, lambda_=\"log-likelihood\")\n",
        "            \n",
        "            if res_chi.pvalue < 0.05:\n",
        "                print(f'{diagnosticos[i]} e {diagnosticos[j]} apresentam uma associação significativa por Qui-Quadrado pois p = {res_chi.pvalue} < 0.05\\n')\n",
        "            else:\n",
        "                print(f'{diagnosticos[i]} e {diagnosticos[j]} não apresentam uma associação significativa por Qui-Quadrado pois p = {res_chi.pvalue} > 0.05\\n')\n",
        "            \n",
        "            \n",
        "            if res_gtest.pvalue < 0.05:\n",
        "                print(f'{diagnosticos[i]} e {diagnosticos[j]} apresentam uma associação significativa por Teste-G pois p = {res_gtest.pvalue} < 0.05\\n')\n",
        "            else:\n",
        "                print(f'{diagnosticos[i]} e {diagnosticos[j]} não apresentam uma associação significativa por Teste-G pois p = {res_gtest.pvalue} > 0.05\\n')\n",
        "            \n",
        "            print('')"
      ]
    },
    {
      "cell_type": "markdown",
      "metadata": {},
      "source": [
        "Os resultados dos testes divergem vertiginosamente, com o teste de Pearson dando um p-valor de 0 (não independência) para todos os casos, e o G-Test com um p-valor de 1 (independêcia) para todos. Será necessário buscar outras formas de investigar a possível independência dos diagnósticos."
      ]
    },
    {
      "cell_type": "markdown",
      "metadata": {},
      "source": [
        "### Visualização de associação temporal nos dados"
      ]
    },
    {
      "cell_type": "markdown",
      "metadata": {},
      "source": [
        "Ao analisar a distribuição de diagnósticos por ano, é possível indentificar um padrão de diagnósticos que se destacam, como: F20, F19, F31 e F10."
      ]
    },
    {
      "cell_type": "code",
      "execution_count": 168,
      "metadata": {
        "colab": {
          "base_uri": "https://localhost:8080/",
          "height": 1000
        },
        "id": "6yaYNkQ84sV5",
        "outputId": "505a25cb-9180-4b43-d2e3-3ddedc13855f"
      },
      "outputs": [
        {
          "data": {
            "application/vnd.plotly.v1+json": {
              "config": {
                "plotlyServerURL": "https://plot.ly"
              },
              "data": [
                {
                  "hovertemplate": "cid10_diagnostico=F00<br>data_internacao_real=%{x}<br>cod_paciente=%{y}<extra></extra>",
                  "legendgroup": "F00",
                  "line": {
                    "color": "#636efa",
                    "dash": "solid"
                  },
                  "marker": {
                    "symbol": "circle"
                  },
                  "mode": "lines",
                  "name": "F00",
                  "orientation": "v",
                  "showlegend": true,
                  "type": "scatter",
                  "x": [
                    2012,
                    2013,
                    2014,
                    2015,
                    2016,
                    2017
                  ],
                  "xaxis": "x",
                  "y": [
                    1,
                    1,
                    1,
                    4,
                    5,
                    5
                  ],
                  "yaxis": "y"
                },
                {
                  "hovertemplate": "cid10_diagnostico=Y91<br>data_internacao_real=%{x}<br>cod_paciente=%{y}<extra></extra>",
                  "legendgroup": "Y91",
                  "line": {
                    "color": "#EF553B",
                    "dash": "solid"
                  },
                  "marker": {
                    "symbol": "circle"
                  },
                  "mode": "lines",
                  "name": "Y91",
                  "orientation": "v",
                  "showlegend": true,
                  "type": "scatter",
                  "x": [
                    2012,
                    2014
                  ],
                  "xaxis": "x",
                  "y": [
                    1,
                    1
                  ],
                  "yaxis": "y"
                },
                {
                  "hovertemplate": "cid10_diagnostico=R43<br>data_internacao_real=%{x}<br>cod_paciente=%{y}<extra></extra>",
                  "legendgroup": "R43",
                  "line": {
                    "color": "#00cc96",
                    "dash": "solid"
                  },
                  "marker": {
                    "symbol": "circle"
                  },
                  "mode": "lines",
                  "name": "R43",
                  "orientation": "v",
                  "showlegend": true,
                  "type": "scatter",
                  "x": [
                    2012
                  ],
                  "xaxis": "x",
                  "y": [
                    1
                  ],
                  "yaxis": "y"
                },
                {
                  "hovertemplate": "cid10_diagnostico=NAN<br>data_internacao_real=%{x}<br>cod_paciente=%{y}<extra></extra>",
                  "legendgroup": "NAN",
                  "line": {
                    "color": "#ab63fa",
                    "dash": "solid"
                  },
                  "marker": {
                    "symbol": "circle"
                  },
                  "mode": "lines",
                  "name": "NAN",
                  "orientation": "v",
                  "showlegend": true,
                  "type": "scatter",
                  "x": [
                    2012,
                    2013,
                    2014,
                    2015,
                    2016,
                    2017
                  ],
                  "xaxis": "x",
                  "y": [
                    194,
                    66,
                    69,
                    31,
                    29,
                    48
                  ],
                  "yaxis": "y"
                },
                {
                  "hovertemplate": "cid10_diagnostico=F99<br>data_internacao_real=%{x}<br>cod_paciente=%{y}<extra></extra>",
                  "legendgroup": "F99",
                  "line": {
                    "color": "#FFA15A",
                    "dash": "solid"
                  },
                  "marker": {
                    "symbol": "circle"
                  },
                  "mode": "lines",
                  "name": "F99",
                  "orientation": "v",
                  "showlegend": true,
                  "type": "scatter",
                  "x": [
                    2012,
                    2013,
                    2014,
                    2015,
                    2017
                  ],
                  "xaxis": "x",
                  "y": [
                    2,
                    6,
                    4,
                    2,
                    1
                  ],
                  "yaxis": "y"
                },
                {
                  "hovertemplate": "cid10_diagnostico=F84<br>data_internacao_real=%{x}<br>cod_paciente=%{y}<extra></extra>",
                  "legendgroup": "F84",
                  "line": {
                    "color": "#19d3f3",
                    "dash": "solid"
                  },
                  "marker": {
                    "symbol": "circle"
                  },
                  "mode": "lines",
                  "name": "F84",
                  "orientation": "v",
                  "showlegend": true,
                  "type": "scatter",
                  "x": [
                    2012,
                    2014,
                    2015,
                    2017
                  ],
                  "xaxis": "x",
                  "y": [
                    1,
                    1,
                    1,
                    1
                  ],
                  "yaxis": "y"
                },
                {
                  "hovertemplate": "cid10_diagnostico=F79<br>data_internacao_real=%{x}<br>cod_paciente=%{y}<extra></extra>",
                  "legendgroup": "F79",
                  "line": {
                    "color": "#FF6692",
                    "dash": "solid"
                  },
                  "marker": {
                    "symbol": "circle"
                  },
                  "mode": "lines",
                  "name": "F79",
                  "orientation": "v",
                  "showlegend": true,
                  "type": "scatter",
                  "x": [
                    2012,
                    2014,
                    2015,
                    2016,
                    2017
                  ],
                  "xaxis": "x",
                  "y": [
                    1,
                    2,
                    4,
                    3,
                    3
                  ],
                  "yaxis": "y"
                },
                {
                  "hovertemplate": "cid10_diagnostico=F71<br>data_internacao_real=%{x}<br>cod_paciente=%{y}<extra></extra>",
                  "legendgroup": "F71",
                  "line": {
                    "color": "#B6E880",
                    "dash": "solid"
                  },
                  "marker": {
                    "symbol": "circle"
                  },
                  "mode": "lines",
                  "name": "F71",
                  "orientation": "v",
                  "showlegend": true,
                  "type": "scatter",
                  "x": [
                    2012,
                    2013,
                    2014,
                    2015,
                    2016,
                    2017
                  ],
                  "xaxis": "x",
                  "y": [
                    11,
                    18,
                    11,
                    8,
                    24,
                    11
                  ],
                  "yaxis": "y"
                },
                {
                  "hovertemplate": "cid10_diagnostico=F70<br>data_internacao_real=%{x}<br>cod_paciente=%{y}<extra></extra>",
                  "legendgroup": "F70",
                  "line": {
                    "color": "#FF97FF",
                    "dash": "solid"
                  },
                  "marker": {
                    "symbol": "circle"
                  },
                  "mode": "lines",
                  "name": "F70",
                  "orientation": "v",
                  "showlegend": true,
                  "type": "scatter",
                  "x": [
                    2012,
                    2013,
                    2014,
                    2015,
                    2016,
                    2017
                  ],
                  "xaxis": "x",
                  "y": [
                    1,
                    10,
                    13,
                    13,
                    22,
                    21
                  ],
                  "yaxis": "y"
                },
                {
                  "hovertemplate": "cid10_diagnostico=F60<br>data_internacao_real=%{x}<br>cod_paciente=%{y}<extra></extra>",
                  "legendgroup": "F60",
                  "line": {
                    "color": "#FECB52",
                    "dash": "solid"
                  },
                  "marker": {
                    "symbol": "circle"
                  },
                  "mode": "lines",
                  "name": "F60",
                  "orientation": "v",
                  "showlegend": true,
                  "type": "scatter",
                  "x": [
                    2012,
                    2013,
                    2014,
                    2015,
                    2016,
                    2017
                  ],
                  "xaxis": "x",
                  "y": [
                    41,
                    85,
                    57,
                    69,
                    82,
                    75
                  ],
                  "yaxis": "y"
                },
                {
                  "hovertemplate": "cid10_diagnostico=F44<br>data_internacao_real=%{x}<br>cod_paciente=%{y}<extra></extra>",
                  "legendgroup": "F44",
                  "line": {
                    "color": "#636efa",
                    "dash": "solid"
                  },
                  "marker": {
                    "symbol": "circle"
                  },
                  "mode": "lines",
                  "name": "F44",
                  "orientation": "v",
                  "showlegend": true,
                  "type": "scatter",
                  "x": [
                    2012,
                    2013,
                    2014,
                    2015,
                    2016,
                    2017
                  ],
                  "xaxis": "x",
                  "y": [
                    1,
                    2,
                    4,
                    2,
                    2,
                    3
                  ],
                  "yaxis": "y"
                },
                {
                  "hovertemplate": "cid10_diagnostico=F41<br>data_internacao_real=%{x}<br>cod_paciente=%{y}<extra></extra>",
                  "legendgroup": "F41",
                  "line": {
                    "color": "#EF553B",
                    "dash": "solid"
                  },
                  "marker": {
                    "symbol": "circle"
                  },
                  "mode": "lines",
                  "name": "F41",
                  "orientation": "v",
                  "showlegend": true,
                  "type": "scatter",
                  "x": [
                    2012,
                    2013,
                    2014,
                    2015,
                    2017
                  ],
                  "xaxis": "x",
                  "y": [
                    1,
                    1,
                    3,
                    4,
                    3
                  ],
                  "yaxis": "y"
                },
                {
                  "hovertemplate": "cid10_diagnostico=F33<br>data_internacao_real=%{x}<br>cod_paciente=%{y}<extra></extra>",
                  "legendgroup": "F33",
                  "line": {
                    "color": "#00cc96",
                    "dash": "solid"
                  },
                  "marker": {
                    "symbol": "circle"
                  },
                  "mode": "lines",
                  "name": "F33",
                  "orientation": "v",
                  "showlegend": true,
                  "type": "scatter",
                  "x": [
                    2012,
                    2013,
                    2014,
                    2015,
                    2016,
                    2017
                  ],
                  "xaxis": "x",
                  "y": [
                    30,
                    65,
                    54,
                    70,
                    86,
                    82
                  ],
                  "yaxis": "y"
                },
                {
                  "hovertemplate": "cid10_diagnostico=F32<br>data_internacao_real=%{x}<br>cod_paciente=%{y}<extra></extra>",
                  "legendgroup": "F32",
                  "line": {
                    "color": "#ab63fa",
                    "dash": "solid"
                  },
                  "marker": {
                    "symbol": "circle"
                  },
                  "mode": "lines",
                  "name": "F32",
                  "orientation": "v",
                  "showlegend": true,
                  "type": "scatter",
                  "x": [
                    2012,
                    2013,
                    2014,
                    2015,
                    2016,
                    2017
                  ],
                  "xaxis": "x",
                  "y": [
                    59,
                    101,
                    92,
                    89,
                    127,
                    88
                  ],
                  "yaxis": "y"
                },
                {
                  "hovertemplate": "cid10_diagnostico=F31<br>data_internacao_real=%{x}<br>cod_paciente=%{y}<extra></extra>",
                  "legendgroup": "F31",
                  "line": {
                    "color": "#FFA15A",
                    "dash": "solid"
                  },
                  "marker": {
                    "symbol": "circle"
                  },
                  "mode": "lines",
                  "name": "F31",
                  "orientation": "v",
                  "showlegend": true,
                  "type": "scatter",
                  "x": [
                    2012,
                    2013,
                    2014,
                    2015,
                    2016,
                    2017
                  ],
                  "xaxis": "x",
                  "y": [
                    88,
                    183,
                    207,
                    188,
                    181,
                    174
                  ],
                  "yaxis": "y"
                },
                {
                  "hovertemplate": "cid10_diagnostico=F30<br>data_internacao_real=%{x}<br>cod_paciente=%{y}<extra></extra>",
                  "legendgroup": "F30",
                  "line": {
                    "color": "#19d3f3",
                    "dash": "solid"
                  },
                  "marker": {
                    "symbol": "circle"
                  },
                  "mode": "lines",
                  "name": "F30",
                  "orientation": "v",
                  "showlegend": true,
                  "type": "scatter",
                  "x": [
                    2012,
                    2013,
                    2014,
                    2015,
                    2016,
                    2017
                  ],
                  "xaxis": "x",
                  "y": [
                    3,
                    14,
                    7,
                    11,
                    14,
                    16
                  ],
                  "yaxis": "y"
                },
                {
                  "hovertemplate": "cid10_diagnostico=F91<br>data_internacao_real=%{x}<br>cod_paciente=%{y}<extra></extra>",
                  "legendgroup": "F91",
                  "line": {
                    "color": "#FF6692",
                    "dash": "solid"
                  },
                  "marker": {
                    "symbol": "circle"
                  },
                  "mode": "lines",
                  "name": "F91",
                  "orientation": "v",
                  "showlegend": true,
                  "type": "scatter",
                  "x": [
                    2012,
                    2013,
                    2014,
                    2015,
                    2016,
                    2017
                  ],
                  "xaxis": "x",
                  "y": [
                    4,
                    5,
                    5,
                    8,
                    5,
                    9
                  ],
                  "yaxis": "y"
                },
                {
                  "hovertemplate": "cid10_diagnostico=F28<br>data_internacao_real=%{x}<br>cod_paciente=%{y}<extra></extra>",
                  "legendgroup": "F28",
                  "line": {
                    "color": "#B6E880",
                    "dash": "solid"
                  },
                  "marker": {
                    "symbol": "circle"
                  },
                  "mode": "lines",
                  "name": "F28",
                  "orientation": "v",
                  "showlegend": true,
                  "type": "scatter",
                  "x": [
                    2012,
                    2013,
                    2014,
                    2016
                  ],
                  "xaxis": "x",
                  "y": [
                    2,
                    4,
                    1,
                    2
                  ],
                  "yaxis": "y"
                },
                {
                  "hovertemplate": "cid10_diagnostico=F29<br>data_internacao_real=%{x}<br>cod_paciente=%{y}<extra></extra>",
                  "legendgroup": "F29",
                  "line": {
                    "color": "#FF97FF",
                    "dash": "solid"
                  },
                  "marker": {
                    "symbol": "circle"
                  },
                  "mode": "lines",
                  "name": "F29",
                  "orientation": "v",
                  "showlegend": true,
                  "type": "scatter",
                  "x": [
                    2012,
                    2013,
                    2014,
                    2015,
                    2016,
                    2017
                  ],
                  "xaxis": "x",
                  "y": [
                    17,
                    28,
                    23,
                    33,
                    24,
                    16
                  ],
                  "yaxis": "y"
                },
                {
                  "hovertemplate": "cid10_diagnostico=F02<br>data_internacao_real=%{x}<br>cod_paciente=%{y}<extra></extra>",
                  "legendgroup": "F02",
                  "line": {
                    "color": "#FECB52",
                    "dash": "solid"
                  },
                  "marker": {
                    "symbol": "circle"
                  },
                  "mode": "lines",
                  "name": "F02",
                  "orientation": "v",
                  "showlegend": true,
                  "type": "scatter",
                  "x": [
                    2012,
                    2014,
                    2016
                  ],
                  "xaxis": "x",
                  "y": [
                    2,
                    3,
                    3
                  ],
                  "yaxis": "y"
                },
                {
                  "hovertemplate": "cid10_diagnostico=F03<br>data_internacao_real=%{x}<br>cod_paciente=%{y}<extra></extra>",
                  "legendgroup": "F03",
                  "line": {
                    "color": "#636efa",
                    "dash": "solid"
                  },
                  "marker": {
                    "symbol": "circle"
                  },
                  "mode": "lines",
                  "name": "F03",
                  "orientation": "v",
                  "showlegend": true,
                  "type": "scatter",
                  "x": [
                    2012,
                    2014,
                    2015,
                    2016,
                    2017
                  ],
                  "xaxis": "x",
                  "y": [
                    1,
                    4,
                    3,
                    4,
                    1
                  ],
                  "yaxis": "y"
                },
                {
                  "hovertemplate": "cid10_diagnostico=F07<br>data_internacao_real=%{x}<br>cod_paciente=%{y}<extra></extra>",
                  "legendgroup": "F07",
                  "line": {
                    "color": "#EF553B",
                    "dash": "solid"
                  },
                  "marker": {
                    "symbol": "circle"
                  },
                  "mode": "lines",
                  "name": "F07",
                  "orientation": "v",
                  "showlegend": true,
                  "type": "scatter",
                  "x": [
                    2012,
                    2013,
                    2014,
                    2015,
                    2016,
                    2017
                  ],
                  "xaxis": "x",
                  "y": [
                    2,
                    6,
                    3,
                    4,
                    2,
                    2
                  ],
                  "yaxis": "y"
                },
                {
                  "hovertemplate": "cid10_diagnostico=F09<br>data_internacao_real=%{x}<br>cod_paciente=%{y}<extra></extra>",
                  "legendgroup": "F09",
                  "line": {
                    "color": "#00cc96",
                    "dash": "solid"
                  },
                  "marker": {
                    "symbol": "circle"
                  },
                  "mode": "lines",
                  "name": "F09",
                  "orientation": "v",
                  "showlegend": true,
                  "type": "scatter",
                  "x": [
                    2012,
                    2013,
                    2014,
                    2015,
                    2016
                  ],
                  "xaxis": "x",
                  "y": [
                    1,
                    1,
                    2,
                    3,
                    1
                  ],
                  "yaxis": "y"
                },
                {
                  "hovertemplate": "cid10_diagnostico=F10<br>data_internacao_real=%{x}<br>cod_paciente=%{y}<extra></extra>",
                  "legendgroup": "F10",
                  "line": {
                    "color": "#ab63fa",
                    "dash": "solid"
                  },
                  "marker": {
                    "symbol": "circle"
                  },
                  "mode": "lines",
                  "name": "F10",
                  "orientation": "v",
                  "showlegend": true,
                  "type": "scatter",
                  "x": [
                    2012,
                    2013,
                    2014,
                    2015,
                    2016,
                    2017
                  ],
                  "xaxis": "x",
                  "y": [
                    48,
                    133,
                    103,
                    167,
                    162,
                    135
                  ],
                  "yaxis": "y"
                },
                {
                  "hovertemplate": "cid10_diagnostico=F12<br>data_internacao_real=%{x}<br>cod_paciente=%{y}<extra></extra>",
                  "legendgroup": "F12",
                  "line": {
                    "color": "#FFA15A",
                    "dash": "solid"
                  },
                  "marker": {
                    "symbol": "circle"
                  },
                  "mode": "lines",
                  "name": "F12",
                  "orientation": "v",
                  "showlegend": true,
                  "type": "scatter",
                  "x": [
                    2012,
                    2013,
                    2014,
                    2015,
                    2016,
                    2017
                  ],
                  "xaxis": "x",
                  "y": [
                    3,
                    9,
                    11,
                    9,
                    21,
                    11
                  ],
                  "yaxis": "y"
                },
                {
                  "hovertemplate": "cid10_diagnostico=F06<br>data_internacao_real=%{x}<br>cod_paciente=%{y}<extra></extra>",
                  "legendgroup": "F06",
                  "line": {
                    "color": "#19d3f3",
                    "dash": "solid"
                  },
                  "marker": {
                    "symbol": "circle"
                  },
                  "mode": "lines",
                  "name": "F06",
                  "orientation": "v",
                  "showlegend": true,
                  "type": "scatter",
                  "x": [
                    2012,
                    2013,
                    2014,
                    2015,
                    2016,
                    2017
                  ],
                  "xaxis": "x",
                  "y": [
                    9,
                    30,
                    30,
                    29,
                    31,
                    23
                  ],
                  "yaxis": "y"
                },
                {
                  "hovertemplate": "cid10_diagnostico=F19<br>data_internacao_real=%{x}<br>cod_paciente=%{y}<extra></extra>",
                  "legendgroup": "F19",
                  "line": {
                    "color": "#FF6692",
                    "dash": "solid"
                  },
                  "marker": {
                    "symbol": "circle"
                  },
                  "mode": "lines",
                  "name": "F19",
                  "orientation": "v",
                  "showlegend": true,
                  "type": "scatter",
                  "x": [
                    2012,
                    2013,
                    2014,
                    2015,
                    2016,
                    2017
                  ],
                  "xaxis": "x",
                  "y": [
                    133,
                    272,
                    252,
                    323,
                    348,
                    314
                  ],
                  "yaxis": "y"
                },
                {
                  "hovertemplate": "cid10_diagnostico=F20<br>data_internacao_real=%{x}<br>cod_paciente=%{y}<extra></extra>",
                  "legendgroup": "F20",
                  "line": {
                    "color": "#B6E880",
                    "dash": "solid"
                  },
                  "marker": {
                    "symbol": "circle"
                  },
                  "mode": "lines",
                  "name": "F20",
                  "orientation": "v",
                  "showlegend": true,
                  "type": "scatter",
                  "x": [
                    2012,
                    2013,
                    2014,
                    2015,
                    2016,
                    2017
                  ],
                  "xaxis": "x",
                  "y": [
                    138,
                    327,
                    297,
                    306,
                    319,
                    270
                  ],
                  "yaxis": "y"
                },
                {
                  "hovertemplate": "cid10_diagnostico=F21<br>data_internacao_real=%{x}<br>cod_paciente=%{y}<extra></extra>",
                  "legendgroup": "F21",
                  "line": {
                    "color": "#FF97FF",
                    "dash": "solid"
                  },
                  "marker": {
                    "symbol": "circle"
                  },
                  "mode": "lines",
                  "name": "F21",
                  "orientation": "v",
                  "showlegend": true,
                  "type": "scatter",
                  "x": [
                    2012,
                    2013,
                    2015,
                    2016
                  ],
                  "xaxis": "x",
                  "y": [
                    2,
                    2,
                    1,
                    1
                  ],
                  "yaxis": "y"
                },
                {
                  "hovertemplate": "cid10_diagnostico=F22<br>data_internacao_real=%{x}<br>cod_paciente=%{y}<extra></extra>",
                  "legendgroup": "F22",
                  "line": {
                    "color": "#FECB52",
                    "dash": "solid"
                  },
                  "marker": {
                    "symbol": "circle"
                  },
                  "mode": "lines",
                  "name": "F22",
                  "orientation": "v",
                  "showlegend": true,
                  "type": "scatter",
                  "x": [
                    2012,
                    2013,
                    2014,
                    2015,
                    2016
                  ],
                  "xaxis": "x",
                  "y": [
                    1,
                    4,
                    2,
                    3,
                    5
                  ],
                  "yaxis": "y"
                },
                {
                  "hovertemplate": "cid10_diagnostico=F23<br>data_internacao_real=%{x}<br>cod_paciente=%{y}<extra></extra>",
                  "legendgroup": "F23",
                  "line": {
                    "color": "#636efa",
                    "dash": "solid"
                  },
                  "marker": {
                    "symbol": "circle"
                  },
                  "mode": "lines",
                  "name": "F23",
                  "orientation": "v",
                  "showlegend": true,
                  "type": "scatter",
                  "x": [
                    2012,
                    2013,
                    2014,
                    2015,
                    2016,
                    2017
                  ],
                  "xaxis": "x",
                  "y": [
                    13,
                    20,
                    37,
                    45,
                    42,
                    38
                  ],
                  "yaxis": "y"
                },
                {
                  "hovertemplate": "cid10_diagnostico=F14<br>data_internacao_real=%{x}<br>cod_paciente=%{y}<extra></extra>",
                  "legendgroup": "F14",
                  "line": {
                    "color": "#EF553B",
                    "dash": "solid"
                  },
                  "marker": {
                    "symbol": "circle"
                  },
                  "mode": "lines",
                  "name": "F14",
                  "orientation": "v",
                  "showlegend": true,
                  "type": "scatter",
                  "x": [
                    2012,
                    2013,
                    2014,
                    2015,
                    2016,
                    2017
                  ],
                  "xaxis": "x",
                  "y": [
                    24,
                    90,
                    79,
                    94,
                    101,
                    96
                  ],
                  "yaxis": "y"
                },
                {
                  "hovertemplate": "cid10_diagnostico=F25<br>data_internacao_real=%{x}<br>cod_paciente=%{y}<extra></extra>",
                  "legendgroup": "F25",
                  "line": {
                    "color": "#00cc96",
                    "dash": "solid"
                  },
                  "marker": {
                    "symbol": "circle"
                  },
                  "mode": "lines",
                  "name": "F25",
                  "orientation": "v",
                  "showlegend": true,
                  "type": "scatter",
                  "x": [
                    2012,
                    2013,
                    2014,
                    2015,
                    2016,
                    2017
                  ],
                  "xaxis": "x",
                  "y": [
                    20,
                    47,
                    39,
                    58,
                    53,
                    33
                  ],
                  "yaxis": "y"
                },
                {
                  "hovertemplate": "cid10_diagnostico=F72<br>data_internacao_real=%{x}<br>cod_paciente=%{y}<extra></extra>",
                  "legendgroup": "F72",
                  "line": {
                    "color": "#ab63fa",
                    "dash": "solid"
                  },
                  "marker": {
                    "symbol": "circle"
                  },
                  "mode": "lines",
                  "name": "F72",
                  "orientation": "v",
                  "showlegend": true,
                  "type": "scatter",
                  "x": [
                    2013,
                    2014,
                    2015
                  ],
                  "xaxis": "x",
                  "y": [
                    7,
                    8,
                    4
                  ],
                  "yaxis": "y"
                },
                {
                  "hovertemplate": "cid10_diagnostico=F62<br>data_internacao_real=%{x}<br>cod_paciente=%{y}<extra></extra>",
                  "legendgroup": "F62",
                  "line": {
                    "color": "#FFA15A",
                    "dash": "solid"
                  },
                  "marker": {
                    "symbol": "circle"
                  },
                  "mode": "lines",
                  "name": "F62",
                  "orientation": "v",
                  "showlegend": true,
                  "type": "scatter",
                  "x": [
                    2013,
                    2017
                  ],
                  "xaxis": "x",
                  "y": [
                    1,
                    1
                  ],
                  "yaxis": "y"
                },
                {
                  "hovertemplate": "cid10_diagnostico=F50<br>data_internacao_real=%{x}<br>cod_paciente=%{y}<extra></extra>",
                  "legendgroup": "F50",
                  "line": {
                    "color": "#19d3f3",
                    "dash": "solid"
                  },
                  "marker": {
                    "symbol": "circle"
                  },
                  "mode": "lines",
                  "name": "F50",
                  "orientation": "v",
                  "showlegend": true,
                  "type": "scatter",
                  "x": [
                    2013,
                    2016
                  ],
                  "xaxis": "x",
                  "y": [
                    3,
                    1
                  ],
                  "yaxis": "y"
                },
                {
                  "hovertemplate": "cid10_diagnostico=F43<br>data_internacao_real=%{x}<br>cod_paciente=%{y}<extra></extra>",
                  "legendgroup": "F43",
                  "line": {
                    "color": "#FF6692",
                    "dash": "solid"
                  },
                  "marker": {
                    "symbol": "circle"
                  },
                  "mode": "lines",
                  "name": "F43",
                  "orientation": "v",
                  "showlegend": true,
                  "type": "scatter",
                  "x": [
                    2013,
                    2014,
                    2015,
                    2016,
                    2017
                  ],
                  "xaxis": "x",
                  "y": [
                    4,
                    2,
                    2,
                    2,
                    2
                  ],
                  "yaxis": "y"
                },
                {
                  "hovertemplate": "cid10_diagnostico=F90<br>data_internacao_real=%{x}<br>cod_paciente=%{y}<extra></extra>",
                  "legendgroup": "F90",
                  "line": {
                    "color": "#B6E880",
                    "dash": "solid"
                  },
                  "marker": {
                    "symbol": "circle"
                  },
                  "mode": "lines",
                  "name": "F90",
                  "orientation": "v",
                  "showlegend": true,
                  "type": "scatter",
                  "x": [
                    2013,
                    2015,
                    2017
                  ],
                  "xaxis": "x",
                  "y": [
                    2,
                    2,
                    2
                  ],
                  "yaxis": "y"
                },
                {
                  "hovertemplate": "cid10_diagnostico=F42<br>data_internacao_real=%{x}<br>cod_paciente=%{y}<extra></extra>",
                  "legendgroup": "F42",
                  "line": {
                    "color": "#FF97FF",
                    "dash": "solid"
                  },
                  "marker": {
                    "symbol": "circle"
                  },
                  "mode": "lines",
                  "name": "F42",
                  "orientation": "v",
                  "showlegend": true,
                  "type": "scatter",
                  "x": [
                    2013,
                    2015,
                    2016,
                    2017
                  ],
                  "xaxis": "x",
                  "y": [
                    3,
                    5,
                    11,
                    4
                  ],
                  "yaxis": "y"
                },
                {
                  "hovertemplate": "cid10_diagnostico=X64<br>data_internacao_real=%{x}<br>cod_paciente=%{y}<extra></extra>",
                  "legendgroup": "X64",
                  "line": {
                    "color": "#FECB52",
                    "dash": "solid"
                  },
                  "marker": {
                    "symbol": "circle"
                  },
                  "mode": "lines",
                  "name": "X64",
                  "orientation": "v",
                  "showlegend": true,
                  "type": "scatter",
                  "x": [
                    2013
                  ],
                  "xaxis": "x",
                  "y": [
                    1
                  ],
                  "yaxis": "y"
                },
                {
                  "hovertemplate": "cid10_diagnostico=G40<br>data_internacao_real=%{x}<br>cod_paciente=%{y}<extra></extra>",
                  "legendgroup": "G40",
                  "line": {
                    "color": "#636efa",
                    "dash": "solid"
                  },
                  "marker": {
                    "symbol": "circle"
                  },
                  "mode": "lines",
                  "name": "G40",
                  "orientation": "v",
                  "showlegend": true,
                  "type": "scatter",
                  "x": [
                    2013,
                    2014,
                    2015,
                    2016,
                    2017
                  ],
                  "xaxis": "x",
                  "y": [
                    3,
                    2,
                    1,
                    3,
                    3
                  ],
                  "yaxis": "y"
                },
                {
                  "hovertemplate": "cid10_diagnostico=G91<br>data_internacao_real=%{x}<br>cod_paciente=%{y}<extra></extra>",
                  "legendgroup": "G91",
                  "line": {
                    "color": "#EF553B",
                    "dash": "solid"
                  },
                  "marker": {
                    "symbol": "circle"
                  },
                  "mode": "lines",
                  "name": "G91",
                  "orientation": "v",
                  "showlegend": true,
                  "type": "scatter",
                  "x": [
                    2013,
                    2015
                  ],
                  "xaxis": "x",
                  "y": [
                    1,
                    1
                  ],
                  "yaxis": "y"
                },
                {
                  "hovertemplate": "cid10_diagnostico=I64<br>data_internacao_real=%{x}<br>cod_paciente=%{y}<extra></extra>",
                  "legendgroup": "I64",
                  "line": {
                    "color": "#00cc96",
                    "dash": "solid"
                  },
                  "marker": {
                    "symbol": "circle"
                  },
                  "mode": "lines",
                  "name": "I64",
                  "orientation": "v",
                  "showlegend": true,
                  "type": "scatter",
                  "x": [
                    2013
                  ],
                  "xaxis": "x",
                  "y": [
                    1
                  ],
                  "yaxis": "y"
                },
                {
                  "hovertemplate": "cid10_diagnostico=R63<br>data_internacao_real=%{x}<br>cod_paciente=%{y}<extra></extra>",
                  "legendgroup": "R63",
                  "line": {
                    "color": "#ab63fa",
                    "dash": "solid"
                  },
                  "marker": {
                    "symbol": "circle"
                  },
                  "mode": "lines",
                  "name": "R63",
                  "orientation": "v",
                  "showlegend": true,
                  "type": "scatter",
                  "x": [
                    2013
                  ],
                  "xaxis": "x",
                  "y": [
                    1
                  ],
                  "yaxis": "y"
                },
                {
                  "hovertemplate": "cid10_diagnostico=X61<br>data_internacao_real=%{x}<br>cod_paciente=%{y}<extra></extra>",
                  "legendgroup": "X61",
                  "line": {
                    "color": "#FFA15A",
                    "dash": "solid"
                  },
                  "marker": {
                    "symbol": "circle"
                  },
                  "mode": "lines",
                  "name": "X61",
                  "orientation": "v",
                  "showlegend": true,
                  "type": "scatter",
                  "x": [
                    2013,
                    2014,
                    2015
                  ],
                  "xaxis": "x",
                  "y": [
                    1,
                    1,
                    2
                  ],
                  "yaxis": "y"
                },
                {
                  "hovertemplate": "cid10_diagnostico=X70<br>data_internacao_real=%{x}<br>cod_paciente=%{y}<extra></extra>",
                  "legendgroup": "X70",
                  "line": {
                    "color": "#19d3f3",
                    "dash": "solid"
                  },
                  "marker": {
                    "symbol": "circle"
                  },
                  "mode": "lines",
                  "name": "X70",
                  "orientation": "v",
                  "showlegend": true,
                  "type": "scatter",
                  "x": [
                    2013,
                    2016,
                    2017
                  ],
                  "xaxis": "x",
                  "y": [
                    1,
                    2,
                    1
                  ],
                  "yaxis": "y"
                },
                {
                  "hovertemplate": "cid10_diagnostico=X84<br>data_internacao_real=%{x}<br>cod_paciente=%{y}<extra></extra>",
                  "legendgroup": "X84",
                  "line": {
                    "color": "#FF6692",
                    "dash": "solid"
                  },
                  "marker": {
                    "symbol": "circle"
                  },
                  "mode": "lines",
                  "name": "X84",
                  "orientation": "v",
                  "showlegend": true,
                  "type": "scatter",
                  "x": [
                    2013,
                    2015
                  ],
                  "xaxis": "x",
                  "y": [
                    3,
                    1
                  ],
                  "yaxis": "y"
                },
                {
                  "hovertemplate": "cid10_diagnostico=Z72<br>data_internacao_real=%{x}<br>cod_paciente=%{y}<extra></extra>",
                  "legendgroup": "Z72",
                  "line": {
                    "color": "#B6E880",
                    "dash": "solid"
                  },
                  "marker": {
                    "symbol": "circle"
                  },
                  "mode": "lines",
                  "name": "Z72",
                  "orientation": "v",
                  "showlegend": true,
                  "type": "scatter",
                  "x": [
                    2013
                  ],
                  "xaxis": "x",
                  "y": [
                    2
                  ],
                  "yaxis": "y"
                },
                {
                  "hovertemplate": "cid10_diagnostico=X78<br>data_internacao_real=%{x}<br>cod_paciente=%{y}<extra></extra>",
                  "legendgroup": "X78",
                  "line": {
                    "color": "#FF97FF",
                    "dash": "solid"
                  },
                  "marker": {
                    "symbol": "circle"
                  },
                  "mode": "lines",
                  "name": "X78",
                  "orientation": "v",
                  "showlegend": true,
                  "type": "scatter",
                  "x": [
                    2013
                  ],
                  "xaxis": "x",
                  "y": [
                    1
                  ],
                  "yaxis": "y"
                },
                {
                  "hovertemplate": "cid10_diagnostico=B23<br>data_internacao_real=%{x}<br>cod_paciente=%{y}<extra></extra>",
                  "legendgroup": "B23",
                  "line": {
                    "color": "#FECB52",
                    "dash": "solid"
                  },
                  "marker": {
                    "symbol": "circle"
                  },
                  "mode": "lines",
                  "name": "B23",
                  "orientation": "v",
                  "showlegend": true,
                  "type": "scatter",
                  "x": [
                    2013
                  ],
                  "xaxis": "x",
                  "y": [
                    2
                  ],
                  "yaxis": "y"
                },
                {
                  "hovertemplate": "cid10_diagnostico=E20<br>data_internacao_real=%{x}<br>cod_paciente=%{y}<extra></extra>",
                  "legendgroup": "E20",
                  "line": {
                    "color": "#636efa",
                    "dash": "solid"
                  },
                  "marker": {
                    "symbol": "circle"
                  },
                  "mode": "lines",
                  "name": "E20",
                  "orientation": "v",
                  "showlegend": true,
                  "type": "scatter",
                  "x": [
                    2013
                  ],
                  "xaxis": "x",
                  "y": [
                    1
                  ],
                  "yaxis": "y"
                },
                {
                  "hovertemplate": "cid10_diagnostico=E51<br>data_internacao_real=%{x}<br>cod_paciente=%{y}<extra></extra>",
                  "legendgroup": "E51",
                  "line": {
                    "color": "#EF553B",
                    "dash": "solid"
                  },
                  "marker": {
                    "symbol": "circle"
                  },
                  "mode": "lines",
                  "name": "E51",
                  "orientation": "v",
                  "showlegend": true,
                  "type": "scatter",
                  "x": [
                    2013,
                    2015
                  ],
                  "xaxis": "x",
                  "y": [
                    1,
                    1
                  ],
                  "yaxis": "y"
                },
                {
                  "hovertemplate": "cid10_diagnostico=F05<br>data_internacao_real=%{x}<br>cod_paciente=%{y}<extra></extra>",
                  "legendgroup": "F05",
                  "line": {
                    "color": "#00cc96",
                    "dash": "solid"
                  },
                  "marker": {
                    "symbol": "circle"
                  },
                  "mode": "lines",
                  "name": "F05",
                  "orientation": "v",
                  "showlegend": true,
                  "type": "scatter",
                  "x": [
                    2013,
                    2014,
                    2016,
                    2017
                  ],
                  "xaxis": "x",
                  "y": [
                    1,
                    1,
                    1,
                    1
                  ],
                  "yaxis": "y"
                },
                {
                  "hovertemplate": "cid10_diagnostico=F13<br>data_internacao_real=%{x}<br>cod_paciente=%{y}<extra></extra>",
                  "legendgroup": "F13",
                  "line": {
                    "color": "#ab63fa",
                    "dash": "solid"
                  },
                  "marker": {
                    "symbol": "circle"
                  },
                  "mode": "lines",
                  "name": "F13",
                  "orientation": "v",
                  "showlegend": true,
                  "type": "scatter",
                  "x": [
                    2013,
                    2014
                  ],
                  "xaxis": "x",
                  "y": [
                    2,
                    1
                  ],
                  "yaxis": "y"
                },
                {
                  "hovertemplate": "cid10_diagnostico=F16<br>data_internacao_real=%{x}<br>cod_paciente=%{y}<extra></extra>",
                  "legendgroup": "F16",
                  "line": {
                    "color": "#FFA15A",
                    "dash": "solid"
                  },
                  "marker": {
                    "symbol": "circle"
                  },
                  "mode": "lines",
                  "name": "F16",
                  "orientation": "v",
                  "showlegend": true,
                  "type": "scatter",
                  "x": [
                    2013,
                    2015,
                    2016
                  ],
                  "xaxis": "x",
                  "y": [
                    2,
                    1,
                    1
                  ],
                  "yaxis": "y"
                },
                {
                  "hovertemplate": "cid10_diagnostico=F45<br>data_internacao_real=%{x}<br>cod_paciente=%{y}<extra></extra>",
                  "legendgroup": "F45",
                  "line": {
                    "color": "#19d3f3",
                    "dash": "solid"
                  },
                  "marker": {
                    "symbol": "circle"
                  },
                  "mode": "lines",
                  "name": "F45",
                  "orientation": "v",
                  "showlegend": true,
                  "type": "scatter",
                  "x": [
                    2014
                  ],
                  "xaxis": "x",
                  "y": [
                    1
                  ],
                  "yaxis": "y"
                },
                {
                  "hovertemplate": "cid10_diagnostico=F61<br>data_internacao_real=%{x}<br>cod_paciente=%{y}<extra></extra>",
                  "legendgroup": "F61",
                  "line": {
                    "color": "#FF6692",
                    "dash": "solid"
                  },
                  "marker": {
                    "symbol": "circle"
                  },
                  "mode": "lines",
                  "name": "F61",
                  "orientation": "v",
                  "showlegend": true,
                  "type": "scatter",
                  "x": [
                    2014
                  ],
                  "xaxis": "x",
                  "y": [
                    1
                  ],
                  "yaxis": "y"
                },
                {
                  "hovertemplate": "cid10_diagnostico=G41<br>data_internacao_real=%{x}<br>cod_paciente=%{y}<extra></extra>",
                  "legendgroup": "G41",
                  "line": {
                    "color": "#B6E880",
                    "dash": "solid"
                  },
                  "marker": {
                    "symbol": "circle"
                  },
                  "mode": "lines",
                  "name": "G41",
                  "orientation": "v",
                  "showlegend": true,
                  "type": "scatter",
                  "x": [
                    2014
                  ],
                  "xaxis": "x",
                  "y": [
                    1
                  ],
                  "yaxis": "y"
                },
                {
                  "hovertemplate": "cid10_diagnostico=G71<br>data_internacao_real=%{x}<br>cod_paciente=%{y}<extra></extra>",
                  "legendgroup": "G71",
                  "line": {
                    "color": "#FF97FF",
                    "dash": "solid"
                  },
                  "marker": {
                    "symbol": "circle"
                  },
                  "mode": "lines",
                  "name": "G71",
                  "orientation": "v",
                  "showlegend": true,
                  "type": "scatter",
                  "x": [
                    2014,
                    2016
                  ],
                  "xaxis": "x",
                  "y": [
                    1,
                    1
                  ],
                  "yaxis": "y"
                },
                {
                  "hovertemplate": "cid10_diagnostico=I69<br>data_internacao_real=%{x}<br>cod_paciente=%{y}<extra></extra>",
                  "legendgroup": "I69",
                  "line": {
                    "color": "#FECB52",
                    "dash": "solid"
                  },
                  "marker": {
                    "symbol": "circle"
                  },
                  "mode": "lines",
                  "name": "I69",
                  "orientation": "v",
                  "showlegend": true,
                  "type": "scatter",
                  "x": [
                    2014
                  ],
                  "xaxis": "x",
                  "y": [
                    1
                  ],
                  "yaxis": "y"
                },
                {
                  "hovertemplate": "cid10_diagnostico=O34<br>data_internacao_real=%{x}<br>cod_paciente=%{y}<extra></extra>",
                  "legendgroup": "O34",
                  "line": {
                    "color": "#636efa",
                    "dash": "solid"
                  },
                  "marker": {
                    "symbol": "circle"
                  },
                  "mode": "lines",
                  "name": "O34",
                  "orientation": "v",
                  "showlegend": true,
                  "type": "scatter",
                  "x": [
                    2014
                  ],
                  "xaxis": "x",
                  "y": [
                    1
                  ],
                  "yaxis": "y"
                },
                {
                  "hovertemplate": "cid10_diagnostico=R22<br>data_internacao_real=%{x}<br>cod_paciente=%{y}<extra></extra>",
                  "legendgroup": "R22",
                  "line": {
                    "color": "#EF553B",
                    "dash": "solid"
                  },
                  "marker": {
                    "symbol": "circle"
                  },
                  "mode": "lines",
                  "name": "R22",
                  "orientation": "v",
                  "showlegend": true,
                  "type": "scatter",
                  "x": [
                    2014
                  ],
                  "xaxis": "x",
                  "y": [
                    1
                  ],
                  "yaxis": "y"
                },
                {
                  "hovertemplate": "cid10_diagnostico=R45<br>data_internacao_real=%{x}<br>cod_paciente=%{y}<extra></extra>",
                  "legendgroup": "R45",
                  "line": {
                    "color": "#00cc96",
                    "dash": "solid"
                  },
                  "marker": {
                    "symbol": "circle"
                  },
                  "mode": "lines",
                  "name": "R45",
                  "orientation": "v",
                  "showlegend": true,
                  "type": "scatter",
                  "x": [
                    2014,
                    2015,
                    2016,
                    2017
                  ],
                  "xaxis": "x",
                  "y": [
                    3,
                    1,
                    4,
                    3
                  ],
                  "yaxis": "y"
                },
                {
                  "hovertemplate": "cid10_diagnostico=X82<br>data_internacao_real=%{x}<br>cod_paciente=%{y}<extra></extra>",
                  "legendgroup": "X82",
                  "line": {
                    "color": "#ab63fa",
                    "dash": "solid"
                  },
                  "marker": {
                    "symbol": "circle"
                  },
                  "mode": "lines",
                  "name": "X82",
                  "orientation": "v",
                  "showlegend": true,
                  "type": "scatter",
                  "x": [
                    2014
                  ],
                  "xaxis": "x",
                  "y": [
                    1
                  ],
                  "yaxis": "y"
                },
                {
                  "hovertemplate": "cid10_diagnostico=Z91<br>data_internacao_real=%{x}<br>cod_paciente=%{y}<extra></extra>",
                  "legendgroup": "Z91",
                  "line": {
                    "color": "#FFA15A",
                    "dash": "solid"
                  },
                  "marker": {
                    "symbol": "circle"
                  },
                  "mode": "lines",
                  "name": "Z91",
                  "orientation": "v",
                  "showlegend": true,
                  "type": "scatter",
                  "x": [
                    2014,
                    2016,
                    2017
                  ],
                  "xaxis": "x",
                  "y": [
                    1,
                    1,
                    1
                  ],
                  "yaxis": "y"
                },
                {
                  "hovertemplate": "cid10_diagnostico=F40<br>data_internacao_real=%{x}<br>cod_paciente=%{y}<extra></extra>",
                  "legendgroup": "F40",
                  "line": {
                    "color": "#19d3f3",
                    "dash": "solid"
                  },
                  "marker": {
                    "symbol": "circle"
                  },
                  "mode": "lines",
                  "name": "F40",
                  "orientation": "v",
                  "showlegend": true,
                  "type": "scatter",
                  "x": [
                    2014,
                    2015,
                    2016
                  ],
                  "xaxis": "x",
                  "y": [
                    1,
                    2,
                    1
                  ],
                  "yaxis": "y"
                },
                {
                  "hovertemplate": "cid10_diagnostico=E25<br>data_internacao_real=%{x}<br>cod_paciente=%{y}<extra></extra>",
                  "legendgroup": "E25",
                  "line": {
                    "color": "#FF6692",
                    "dash": "solid"
                  },
                  "marker": {
                    "symbol": "circle"
                  },
                  "mode": "lines",
                  "name": "E25",
                  "orientation": "v",
                  "showlegend": true,
                  "type": "scatter",
                  "x": [
                    2014
                  ],
                  "xaxis": "x",
                  "y": [
                    1
                  ],
                  "yaxis": "y"
                },
                {
                  "hovertemplate": "cid10_diagnostico=F15<br>data_internacao_real=%{x}<br>cod_paciente=%{y}<extra></extra>",
                  "legendgroup": "F15",
                  "line": {
                    "color": "#B6E880",
                    "dash": "solid"
                  },
                  "marker": {
                    "symbol": "circle"
                  },
                  "mode": "lines",
                  "name": "F15",
                  "orientation": "v",
                  "showlegend": true,
                  "type": "scatter",
                  "x": [
                    2014,
                    2016
                  ],
                  "xaxis": "x",
                  "y": [
                    1,
                    2
                  ],
                  "yaxis": "y"
                },
                {
                  "hovertemplate": "cid10_diagnostico=F17<br>data_internacao_real=%{x}<br>cod_paciente=%{y}<extra></extra>",
                  "legendgroup": "F17",
                  "line": {
                    "color": "#FF97FF",
                    "dash": "solid"
                  },
                  "marker": {
                    "symbol": "circle"
                  },
                  "mode": "lines",
                  "name": "F17",
                  "orientation": "v",
                  "showlegend": true,
                  "type": "scatter",
                  "x": [
                    2014
                  ],
                  "xaxis": "x",
                  "y": [
                    1
                  ],
                  "yaxis": "y"
                },
                {
                  "hovertemplate": "cid10_diagnostico=F94<br>data_internacao_real=%{x}<br>cod_paciente=%{y}<extra></extra>",
                  "legendgroup": "F94",
                  "line": {
                    "color": "#FECB52",
                    "dash": "solid"
                  },
                  "marker": {
                    "symbol": "circle"
                  },
                  "mode": "lines",
                  "name": "F94",
                  "orientation": "v",
                  "showlegend": true,
                  "type": "scatter",
                  "x": [
                    2015
                  ],
                  "xaxis": "x",
                  "y": [
                    1
                  ],
                  "yaxis": "y"
                },
                {
                  "hovertemplate": "cid10_diagnostico=F65<br>data_internacao_real=%{x}<br>cod_paciente=%{y}<extra></extra>",
                  "legendgroup": "F65",
                  "line": {
                    "color": "#636efa",
                    "dash": "solid"
                  },
                  "marker": {
                    "symbol": "circle"
                  },
                  "mode": "lines",
                  "name": "F65",
                  "orientation": "v",
                  "showlegend": true,
                  "type": "scatter",
                  "x": [
                    2015
                  ],
                  "xaxis": "x",
                  "y": [
                    1
                  ],
                  "yaxis": "y"
                },
                {
                  "hovertemplate": "cid10_diagnostico=F68<br>data_internacao_real=%{x}<br>cod_paciente=%{y}<extra></extra>",
                  "legendgroup": "F68",
                  "line": {
                    "color": "#EF553B",
                    "dash": "solid"
                  },
                  "marker": {
                    "symbol": "circle"
                  },
                  "mode": "lines",
                  "name": "F68",
                  "orientation": "v",
                  "showlegend": true,
                  "type": "scatter",
                  "x": [
                    2015,
                    2016
                  ],
                  "xaxis": "x",
                  "y": [
                    1,
                    1
                  ],
                  "yaxis": "y"
                },
                {
                  "hovertemplate": "cid10_diagnostico=G10<br>data_internacao_real=%{x}<br>cod_paciente=%{y}<extra></extra>",
                  "legendgroup": "G10",
                  "line": {
                    "color": "#00cc96",
                    "dash": "solid"
                  },
                  "marker": {
                    "symbol": "circle"
                  },
                  "mode": "lines",
                  "name": "G10",
                  "orientation": "v",
                  "showlegend": true,
                  "type": "scatter",
                  "x": [
                    2015,
                    2016
                  ],
                  "xaxis": "x",
                  "y": [
                    2,
                    1
                  ],
                  "yaxis": "y"
                },
                {
                  "hovertemplate": "cid10_diagnostico=O45<br>data_internacao_real=%{x}<br>cod_paciente=%{y}<extra></extra>",
                  "legendgroup": "O45",
                  "line": {
                    "color": "#ab63fa",
                    "dash": "solid"
                  },
                  "marker": {
                    "symbol": "circle"
                  },
                  "mode": "lines",
                  "name": "O45",
                  "orientation": "v",
                  "showlegend": true,
                  "type": "scatter",
                  "x": [
                    2015
                  ],
                  "xaxis": "x",
                  "y": [
                    1
                  ],
                  "yaxis": "y"
                },
                {
                  "hovertemplate": "cid10_diagnostico=R44<br>data_internacao_real=%{x}<br>cod_paciente=%{y}<extra></extra>",
                  "legendgroup": "R44",
                  "line": {
                    "color": "#FFA15A",
                    "dash": "solid"
                  },
                  "marker": {
                    "symbol": "circle"
                  },
                  "mode": "lines",
                  "name": "R44",
                  "orientation": "v",
                  "showlegend": true,
                  "type": "scatter",
                  "x": [
                    2015
                  ],
                  "xaxis": "x",
                  "y": [
                    1
                  ],
                  "yaxis": "y"
                },
                {
                  "hovertemplate": "cid10_diagnostico=T42<br>data_internacao_real=%{x}<br>cod_paciente=%{y}<extra></extra>",
                  "legendgroup": "T42",
                  "line": {
                    "color": "#19d3f3",
                    "dash": "solid"
                  },
                  "marker": {
                    "symbol": "circle"
                  },
                  "mode": "lines",
                  "name": "T42",
                  "orientation": "v",
                  "showlegend": true,
                  "type": "scatter",
                  "x": [
                    2015
                  ],
                  "xaxis": "x",
                  "y": [
                    1
                  ],
                  "yaxis": "y"
                },
                {
                  "hovertemplate": "cid10_diagnostico=X60<br>data_internacao_real=%{x}<br>cod_paciente=%{y}<extra></extra>",
                  "legendgroup": "X60",
                  "line": {
                    "color": "#FF6692",
                    "dash": "solid"
                  },
                  "marker": {
                    "symbol": "circle"
                  },
                  "mode": "lines",
                  "name": "X60",
                  "orientation": "v",
                  "showlegend": true,
                  "type": "scatter",
                  "x": [
                    2015
                  ],
                  "xaxis": "x",
                  "y": [
                    1
                  ],
                  "yaxis": "y"
                },
                {
                  "hovertemplate": "cid10_diagnostico=X81<br>data_internacao_real=%{x}<br>cod_paciente=%{y}<extra></extra>",
                  "legendgroup": "X81",
                  "line": {
                    "color": "#B6E880",
                    "dash": "solid"
                  },
                  "marker": {
                    "symbol": "circle"
                  },
                  "mode": "lines",
                  "name": "X81",
                  "orientation": "v",
                  "showlegend": true,
                  "type": "scatter",
                  "x": [
                    2015
                  ],
                  "xaxis": "x",
                  "y": [
                    1
                  ],
                  "yaxis": "y"
                },
                {
                  "hovertemplate": "cid10_diagnostico=X83<br>data_internacao_real=%{x}<br>cod_paciente=%{y}<extra></extra>",
                  "legendgroup": "X83",
                  "line": {
                    "color": "#FF97FF",
                    "dash": "solid"
                  },
                  "marker": {
                    "symbol": "circle"
                  },
                  "mode": "lines",
                  "name": "X83",
                  "orientation": "v",
                  "showlegend": true,
                  "type": "scatter",
                  "x": [
                    2015
                  ],
                  "xaxis": "x",
                  "y": [
                    1
                  ],
                  "yaxis": "y"
                },
                {
                  "hovertemplate": "cid10_diagnostico=F01<br>data_internacao_real=%{x}<br>cod_paciente=%{y}<extra></extra>",
                  "legendgroup": "F01",
                  "line": {
                    "color": "#FECB52",
                    "dash": "solid"
                  },
                  "marker": {
                    "symbol": "circle"
                  },
                  "mode": "lines",
                  "name": "F01",
                  "orientation": "v",
                  "showlegend": true,
                  "type": "scatter",
                  "x": [
                    2015,
                    2016,
                    2017
                  ],
                  "xaxis": "x",
                  "y": [
                    2,
                    1,
                    2
                  ],
                  "yaxis": "y"
                },
                {
                  "hovertemplate": "cid10_diagnostico=F18<br>data_internacao_real=%{x}<br>cod_paciente=%{y}<extra></extra>",
                  "legendgroup": "F18",
                  "line": {
                    "color": "#636efa",
                    "dash": "solid"
                  },
                  "marker": {
                    "symbol": "circle"
                  },
                  "mode": "lines",
                  "name": "F18",
                  "orientation": "v",
                  "showlegend": true,
                  "type": "scatter",
                  "x": [
                    2015
                  ],
                  "xaxis": "x",
                  "y": [
                    1
                  ],
                  "yaxis": "y"
                },
                {
                  "hovertemplate": "cid10_diagnostico=F69<br>data_internacao_real=%{x}<br>cod_paciente=%{y}<extra></extra>",
                  "legendgroup": "F69",
                  "line": {
                    "color": "#EF553B",
                    "dash": "solid"
                  },
                  "marker": {
                    "symbol": "circle"
                  },
                  "mode": "lines",
                  "name": "F69",
                  "orientation": "v",
                  "showlegend": true,
                  "type": "scatter",
                  "x": [
                    2016
                  ],
                  "xaxis": "x",
                  "y": [
                    1
                  ],
                  "yaxis": "y"
                },
                {
                  "hovertemplate": "cid10_diagnostico=T51<br>data_internacao_real=%{x}<br>cod_paciente=%{y}<extra></extra>",
                  "legendgroup": "T51",
                  "line": {
                    "color": "#00cc96",
                    "dash": "solid"
                  },
                  "marker": {
                    "symbol": "circle"
                  },
                  "mode": "lines",
                  "name": "T51",
                  "orientation": "v",
                  "showlegend": true,
                  "type": "scatter",
                  "x": [
                    2016
                  ],
                  "xaxis": "x",
                  "y": [
                    1
                  ],
                  "yaxis": "y"
                },
                {
                  "hovertemplate": "cid10_diagnostico=X63<br>data_internacao_real=%{x}<br>cod_paciente=%{y}<extra></extra>",
                  "legendgroup": "X63",
                  "line": {
                    "color": "#ab63fa",
                    "dash": "solid"
                  },
                  "marker": {
                    "symbol": "circle"
                  },
                  "mode": "lines",
                  "name": "X63",
                  "orientation": "v",
                  "showlegend": true,
                  "type": "scatter",
                  "x": [
                    2016
                  ],
                  "xaxis": "x",
                  "y": [
                    1
                  ],
                  "yaxis": "y"
                },
                {
                  "hovertemplate": "cid10_diagnostico=X69<br>data_internacao_real=%{x}<br>cod_paciente=%{y}<extra></extra>",
                  "legendgroup": "X69",
                  "line": {
                    "color": "#FFA15A",
                    "dash": "solid"
                  },
                  "marker": {
                    "symbol": "circle"
                  },
                  "mode": "lines",
                  "name": "X69",
                  "orientation": "v",
                  "showlegend": true,
                  "type": "scatter",
                  "x": [
                    2016
                  ],
                  "xaxis": "x",
                  "y": [
                    1
                  ],
                  "yaxis": "y"
                },
                {
                  "hovertemplate": "cid10_diagnostico=Z73<br>data_internacao_real=%{x}<br>cod_paciente=%{y}<extra></extra>",
                  "legendgroup": "Z73",
                  "line": {
                    "color": "#19d3f3",
                    "dash": "solid"
                  },
                  "marker": {
                    "symbol": "circle"
                  },
                  "mode": "lines",
                  "name": "Z73",
                  "orientation": "v",
                  "showlegend": true,
                  "type": "scatter",
                  "x": [
                    2016
                  ],
                  "xaxis": "x",
                  "y": [
                    1
                  ],
                  "yaxis": "y"
                },
                {
                  "hovertemplate": "cid10_diagnostico=Z86<br>data_internacao_real=%{x}<br>cod_paciente=%{y}<extra></extra>",
                  "legendgroup": "Z86",
                  "line": {
                    "color": "#FF6692",
                    "dash": "solid"
                  },
                  "marker": {
                    "symbol": "circle"
                  },
                  "mode": "lines",
                  "name": "Z86",
                  "orientation": "v",
                  "showlegend": true,
                  "type": "scatter",
                  "x": [
                    2016,
                    2017
                  ],
                  "xaxis": "x",
                  "y": [
                    1,
                    1
                  ],
                  "yaxis": "y"
                },
                {
                  "hovertemplate": "cid10_diagnostico=F39<br>data_internacao_real=%{x}<br>cod_paciente=%{y}<extra></extra>",
                  "legendgroup": "F39",
                  "line": {
                    "color": "#B6E880",
                    "dash": "solid"
                  },
                  "marker": {
                    "symbol": "circle"
                  },
                  "mode": "lines",
                  "name": "F39",
                  "orientation": "v",
                  "showlegend": true,
                  "type": "scatter",
                  "x": [
                    2016
                  ],
                  "xaxis": "x",
                  "y": [
                    1
                  ],
                  "yaxis": "y"
                },
                {
                  "hovertemplate": "cid10_diagnostico=F92<br>data_internacao_real=%{x}<br>cod_paciente=%{y}<extra></extra>",
                  "legendgroup": "F92",
                  "line": {
                    "color": "#FF97FF",
                    "dash": "solid"
                  },
                  "marker": {
                    "symbol": "circle"
                  },
                  "mode": "lines",
                  "name": "F92",
                  "orientation": "v",
                  "showlegend": true,
                  "type": "scatter",
                  "x": [
                    2016
                  ],
                  "xaxis": "x",
                  "y": [
                    1
                  ],
                  "yaxis": "y"
                },
                {
                  "hovertemplate": "cid10_diagnostico=F04<br>data_internacao_real=%{x}<br>cod_paciente=%{y}<extra></extra>",
                  "legendgroup": "F04",
                  "line": {
                    "color": "#FECB52",
                    "dash": "solid"
                  },
                  "marker": {
                    "symbol": "circle"
                  },
                  "mode": "lines",
                  "name": "F04",
                  "orientation": "v",
                  "showlegend": true,
                  "type": "scatter",
                  "x": [
                    2016,
                    2017
                  ],
                  "xaxis": "x",
                  "y": [
                    1,
                    1
                  ],
                  "yaxis": "y"
                },
                {
                  "hovertemplate": "cid10_diagnostico=F11<br>data_internacao_real=%{x}<br>cod_paciente=%{y}<extra></extra>",
                  "legendgroup": "F11",
                  "line": {
                    "color": "#636efa",
                    "dash": "solid"
                  },
                  "marker": {
                    "symbol": "circle"
                  },
                  "mode": "lines",
                  "name": "F11",
                  "orientation": "v",
                  "showlegend": true,
                  "type": "scatter",
                  "x": [
                    2016,
                    2017
                  ],
                  "xaxis": "x",
                  "y": [
                    4,
                    1
                  ],
                  "yaxis": "y"
                },
                {
                  "hovertemplate": "cid10_diagnostico=F78<br>data_internacao_real=%{x}<br>cod_paciente=%{y}<extra></extra>",
                  "legendgroup": "F78",
                  "line": {
                    "color": "#EF553B",
                    "dash": "solid"
                  },
                  "marker": {
                    "symbol": "circle"
                  },
                  "mode": "lines",
                  "name": "F78",
                  "orientation": "v",
                  "showlegend": true,
                  "type": "scatter",
                  "x": [
                    2017
                  ],
                  "xaxis": "x",
                  "y": [
                    1
                  ],
                  "yaxis": "y"
                },
                {
                  "hovertemplate": "cid10_diagnostico=F48<br>data_internacao_real=%{x}<br>cod_paciente=%{y}<extra></extra>",
                  "legendgroup": "F48",
                  "line": {
                    "color": "#00cc96",
                    "dash": "solid"
                  },
                  "marker": {
                    "symbol": "circle"
                  },
                  "mode": "lines",
                  "name": "F48",
                  "orientation": "v",
                  "showlegend": true,
                  "type": "scatter",
                  "x": [
                    2017
                  ],
                  "xaxis": "x",
                  "y": [
                    1
                  ],
                  "yaxis": "y"
                },
                {
                  "hovertemplate": "cid10_diagnostico=G30<br>data_internacao_real=%{x}<br>cod_paciente=%{y}<extra></extra>",
                  "legendgroup": "G30",
                  "line": {
                    "color": "#ab63fa",
                    "dash": "solid"
                  },
                  "marker": {
                    "symbol": "circle"
                  },
                  "mode": "lines",
                  "name": "G30",
                  "orientation": "v",
                  "showlegend": true,
                  "type": "scatter",
                  "x": [
                    2017
                  ],
                  "xaxis": "x",
                  "y": [
                    1
                  ],
                  "yaxis": "y"
                },
                {
                  "hovertemplate": "cid10_diagnostico=S06<br>data_internacao_real=%{x}<br>cod_paciente=%{y}<extra></extra>",
                  "legendgroup": "S06",
                  "line": {
                    "color": "#FFA15A",
                    "dash": "solid"
                  },
                  "marker": {
                    "symbol": "circle"
                  },
                  "mode": "lines",
                  "name": "S06",
                  "orientation": "v",
                  "showlegend": true,
                  "type": "scatter",
                  "x": [
                    2017
                  ],
                  "xaxis": "x",
                  "y": [
                    1
                  ],
                  "yaxis": "y"
                },
                {
                  "hovertemplate": "cid10_diagnostico=T40<br>data_internacao_real=%{x}<br>cod_paciente=%{y}<extra></extra>",
                  "legendgroup": "T40",
                  "line": {
                    "color": "#19d3f3",
                    "dash": "solid"
                  },
                  "marker": {
                    "symbol": "circle"
                  },
                  "mode": "lines",
                  "name": "T40",
                  "orientation": "v",
                  "showlegend": true,
                  "type": "scatter",
                  "x": [
                    2017
                  ],
                  "xaxis": "x",
                  "y": [
                    1
                  ],
                  "yaxis": "y"
                },
                {
                  "hovertemplate": "cid10_diagnostico=T49<br>data_internacao_real=%{x}<br>cod_paciente=%{y}<extra></extra>",
                  "legendgroup": "T49",
                  "line": {
                    "color": "#FF6692",
                    "dash": "solid"
                  },
                  "marker": {
                    "symbol": "circle"
                  },
                  "mode": "lines",
                  "name": "T49",
                  "orientation": "v",
                  "showlegend": true,
                  "type": "scatter",
                  "x": [
                    2017
                  ],
                  "xaxis": "x",
                  "y": [
                    1
                  ],
                  "yaxis": "y"
                },
                {
                  "hovertemplate": "cid10_diagnostico=Y20<br>data_internacao_real=%{x}<br>cod_paciente=%{y}<extra></extra>",
                  "legendgroup": "Y20",
                  "line": {
                    "color": "#B6E880",
                    "dash": "solid"
                  },
                  "marker": {
                    "symbol": "circle"
                  },
                  "mode": "lines",
                  "name": "Y20",
                  "orientation": "v",
                  "showlegend": true,
                  "type": "scatter",
                  "x": [
                    2017
                  ],
                  "xaxis": "x",
                  "y": [
                    1
                  ],
                  "yaxis": "y"
                },
                {
                  "hovertemplate": "cid10_diagnostico=F34<br>data_internacao_real=%{x}<br>cod_paciente=%{y}<extra></extra>",
                  "legendgroup": "F34",
                  "line": {
                    "color": "#FF97FF",
                    "dash": "solid"
                  },
                  "marker": {
                    "symbol": "circle"
                  },
                  "mode": "lines",
                  "name": "F34",
                  "orientation": "v",
                  "showlegend": true,
                  "type": "scatter",
                  "x": [
                    2017
                  ],
                  "xaxis": "x",
                  "y": [
                    1
                  ],
                  "yaxis": "y"
                },
                {
                  "hovertemplate": "cid10_diagnostico=E32<br>data_internacao_real=%{x}<br>cod_paciente=%{y}<extra></extra>",
                  "legendgroup": "E32",
                  "line": {
                    "color": "#FECB52",
                    "dash": "solid"
                  },
                  "marker": {
                    "symbol": "circle"
                  },
                  "mode": "lines",
                  "name": "E32",
                  "orientation": "v",
                  "showlegend": true,
                  "type": "scatter",
                  "x": [
                    2017
                  ],
                  "xaxis": "x",
                  "y": [
                    1
                  ],
                  "yaxis": "y"
                },
                {
                  "hovertemplate": "cid10_diagnostico=F24<br>data_internacao_real=%{x}<br>cod_paciente=%{y}<extra></extra>",
                  "legendgroup": "F24",
                  "line": {
                    "color": "#636efa",
                    "dash": "solid"
                  },
                  "marker": {
                    "symbol": "circle"
                  },
                  "mode": "lines",
                  "name": "F24",
                  "orientation": "v",
                  "showlegend": true,
                  "type": "scatter",
                  "x": [
                    2017
                  ],
                  "xaxis": "x",
                  "y": [
                    2
                  ],
                  "yaxis": "y"
                }
              ],
              "layout": {
                "legend": {
                  "title": {
                    "text": "cid10_diagnostico"
                  },
                  "tracegroupgap": 0
                },
                "margin": {
                  "t": 60
                },
                "template": {
                  "data": {
                    "bar": [
                      {
                        "error_x": {
                          "color": "#2a3f5f"
                        },
                        "error_y": {
                          "color": "#2a3f5f"
                        },
                        "marker": {
                          "line": {
                            "color": "#E5ECF6",
                            "width": 0.5
                          },
                          "pattern": {
                            "fillmode": "overlay",
                            "size": 10,
                            "solidity": 0.2
                          }
                        },
                        "type": "bar"
                      }
                    ],
                    "barpolar": [
                      {
                        "marker": {
                          "line": {
                            "color": "#E5ECF6",
                            "width": 0.5
                          },
                          "pattern": {
                            "fillmode": "overlay",
                            "size": 10,
                            "solidity": 0.2
                          }
                        },
                        "type": "barpolar"
                      }
                    ],
                    "carpet": [
                      {
                        "aaxis": {
                          "endlinecolor": "#2a3f5f",
                          "gridcolor": "white",
                          "linecolor": "white",
                          "minorgridcolor": "white",
                          "startlinecolor": "#2a3f5f"
                        },
                        "baxis": {
                          "endlinecolor": "#2a3f5f",
                          "gridcolor": "white",
                          "linecolor": "white",
                          "minorgridcolor": "white",
                          "startlinecolor": "#2a3f5f"
                        },
                        "type": "carpet"
                      }
                    ],
                    "choropleth": [
                      {
                        "colorbar": {
                          "outlinewidth": 0,
                          "ticks": ""
                        },
                        "type": "choropleth"
                      }
                    ],
                    "contour": [
                      {
                        "colorbar": {
                          "outlinewidth": 0,
                          "ticks": ""
                        },
                        "colorscale": [
                          [
                            0,
                            "#0d0887"
                          ],
                          [
                            0.1111111111111111,
                            "#46039f"
                          ],
                          [
                            0.2222222222222222,
                            "#7201a8"
                          ],
                          [
                            0.3333333333333333,
                            "#9c179e"
                          ],
                          [
                            0.4444444444444444,
                            "#bd3786"
                          ],
                          [
                            0.5555555555555556,
                            "#d8576b"
                          ],
                          [
                            0.6666666666666666,
                            "#ed7953"
                          ],
                          [
                            0.7777777777777778,
                            "#fb9f3a"
                          ],
                          [
                            0.8888888888888888,
                            "#fdca26"
                          ],
                          [
                            1,
                            "#f0f921"
                          ]
                        ],
                        "type": "contour"
                      }
                    ],
                    "contourcarpet": [
                      {
                        "colorbar": {
                          "outlinewidth": 0,
                          "ticks": ""
                        },
                        "type": "contourcarpet"
                      }
                    ],
                    "heatmap": [
                      {
                        "colorbar": {
                          "outlinewidth": 0,
                          "ticks": ""
                        },
                        "colorscale": [
                          [
                            0,
                            "#0d0887"
                          ],
                          [
                            0.1111111111111111,
                            "#46039f"
                          ],
                          [
                            0.2222222222222222,
                            "#7201a8"
                          ],
                          [
                            0.3333333333333333,
                            "#9c179e"
                          ],
                          [
                            0.4444444444444444,
                            "#bd3786"
                          ],
                          [
                            0.5555555555555556,
                            "#d8576b"
                          ],
                          [
                            0.6666666666666666,
                            "#ed7953"
                          ],
                          [
                            0.7777777777777778,
                            "#fb9f3a"
                          ],
                          [
                            0.8888888888888888,
                            "#fdca26"
                          ],
                          [
                            1,
                            "#f0f921"
                          ]
                        ],
                        "type": "heatmap"
                      }
                    ],
                    "heatmapgl": [
                      {
                        "colorbar": {
                          "outlinewidth": 0,
                          "ticks": ""
                        },
                        "colorscale": [
                          [
                            0,
                            "#0d0887"
                          ],
                          [
                            0.1111111111111111,
                            "#46039f"
                          ],
                          [
                            0.2222222222222222,
                            "#7201a8"
                          ],
                          [
                            0.3333333333333333,
                            "#9c179e"
                          ],
                          [
                            0.4444444444444444,
                            "#bd3786"
                          ],
                          [
                            0.5555555555555556,
                            "#d8576b"
                          ],
                          [
                            0.6666666666666666,
                            "#ed7953"
                          ],
                          [
                            0.7777777777777778,
                            "#fb9f3a"
                          ],
                          [
                            0.8888888888888888,
                            "#fdca26"
                          ],
                          [
                            1,
                            "#f0f921"
                          ]
                        ],
                        "type": "heatmapgl"
                      }
                    ],
                    "histogram": [
                      {
                        "marker": {
                          "pattern": {
                            "fillmode": "overlay",
                            "size": 10,
                            "solidity": 0.2
                          }
                        },
                        "type": "histogram"
                      }
                    ],
                    "histogram2d": [
                      {
                        "colorbar": {
                          "outlinewidth": 0,
                          "ticks": ""
                        },
                        "colorscale": [
                          [
                            0,
                            "#0d0887"
                          ],
                          [
                            0.1111111111111111,
                            "#46039f"
                          ],
                          [
                            0.2222222222222222,
                            "#7201a8"
                          ],
                          [
                            0.3333333333333333,
                            "#9c179e"
                          ],
                          [
                            0.4444444444444444,
                            "#bd3786"
                          ],
                          [
                            0.5555555555555556,
                            "#d8576b"
                          ],
                          [
                            0.6666666666666666,
                            "#ed7953"
                          ],
                          [
                            0.7777777777777778,
                            "#fb9f3a"
                          ],
                          [
                            0.8888888888888888,
                            "#fdca26"
                          ],
                          [
                            1,
                            "#f0f921"
                          ]
                        ],
                        "type": "histogram2d"
                      }
                    ],
                    "histogram2dcontour": [
                      {
                        "colorbar": {
                          "outlinewidth": 0,
                          "ticks": ""
                        },
                        "colorscale": [
                          [
                            0,
                            "#0d0887"
                          ],
                          [
                            0.1111111111111111,
                            "#46039f"
                          ],
                          [
                            0.2222222222222222,
                            "#7201a8"
                          ],
                          [
                            0.3333333333333333,
                            "#9c179e"
                          ],
                          [
                            0.4444444444444444,
                            "#bd3786"
                          ],
                          [
                            0.5555555555555556,
                            "#d8576b"
                          ],
                          [
                            0.6666666666666666,
                            "#ed7953"
                          ],
                          [
                            0.7777777777777778,
                            "#fb9f3a"
                          ],
                          [
                            0.8888888888888888,
                            "#fdca26"
                          ],
                          [
                            1,
                            "#f0f921"
                          ]
                        ],
                        "type": "histogram2dcontour"
                      }
                    ],
                    "mesh3d": [
                      {
                        "colorbar": {
                          "outlinewidth": 0,
                          "ticks": ""
                        },
                        "type": "mesh3d"
                      }
                    ],
                    "parcoords": [
                      {
                        "line": {
                          "colorbar": {
                            "outlinewidth": 0,
                            "ticks": ""
                          }
                        },
                        "type": "parcoords"
                      }
                    ],
                    "pie": [
                      {
                        "automargin": true,
                        "type": "pie"
                      }
                    ],
                    "scatter": [
                      {
                        "fillpattern": {
                          "fillmode": "overlay",
                          "size": 10,
                          "solidity": 0.2
                        },
                        "type": "scatter"
                      }
                    ],
                    "scatter3d": [
                      {
                        "line": {
                          "colorbar": {
                            "outlinewidth": 0,
                            "ticks": ""
                          }
                        },
                        "marker": {
                          "colorbar": {
                            "outlinewidth": 0,
                            "ticks": ""
                          }
                        },
                        "type": "scatter3d"
                      }
                    ],
                    "scattercarpet": [
                      {
                        "marker": {
                          "colorbar": {
                            "outlinewidth": 0,
                            "ticks": ""
                          }
                        },
                        "type": "scattercarpet"
                      }
                    ],
                    "scattergeo": [
                      {
                        "marker": {
                          "colorbar": {
                            "outlinewidth": 0,
                            "ticks": ""
                          }
                        },
                        "type": "scattergeo"
                      }
                    ],
                    "scattergl": [
                      {
                        "marker": {
                          "colorbar": {
                            "outlinewidth": 0,
                            "ticks": ""
                          }
                        },
                        "type": "scattergl"
                      }
                    ],
                    "scattermapbox": [
                      {
                        "marker": {
                          "colorbar": {
                            "outlinewidth": 0,
                            "ticks": ""
                          }
                        },
                        "type": "scattermapbox"
                      }
                    ],
                    "scatterpolar": [
                      {
                        "marker": {
                          "colorbar": {
                            "outlinewidth": 0,
                            "ticks": ""
                          }
                        },
                        "type": "scatterpolar"
                      }
                    ],
                    "scatterpolargl": [
                      {
                        "marker": {
                          "colorbar": {
                            "outlinewidth": 0,
                            "ticks": ""
                          }
                        },
                        "type": "scatterpolargl"
                      }
                    ],
                    "scatterternary": [
                      {
                        "marker": {
                          "colorbar": {
                            "outlinewidth": 0,
                            "ticks": ""
                          }
                        },
                        "type": "scatterternary"
                      }
                    ],
                    "surface": [
                      {
                        "colorbar": {
                          "outlinewidth": 0,
                          "ticks": ""
                        },
                        "colorscale": [
                          [
                            0,
                            "#0d0887"
                          ],
                          [
                            0.1111111111111111,
                            "#46039f"
                          ],
                          [
                            0.2222222222222222,
                            "#7201a8"
                          ],
                          [
                            0.3333333333333333,
                            "#9c179e"
                          ],
                          [
                            0.4444444444444444,
                            "#bd3786"
                          ],
                          [
                            0.5555555555555556,
                            "#d8576b"
                          ],
                          [
                            0.6666666666666666,
                            "#ed7953"
                          ],
                          [
                            0.7777777777777778,
                            "#fb9f3a"
                          ],
                          [
                            0.8888888888888888,
                            "#fdca26"
                          ],
                          [
                            1,
                            "#f0f921"
                          ]
                        ],
                        "type": "surface"
                      }
                    ],
                    "table": [
                      {
                        "cells": {
                          "fill": {
                            "color": "#EBF0F8"
                          },
                          "line": {
                            "color": "white"
                          }
                        },
                        "header": {
                          "fill": {
                            "color": "#C8D4E3"
                          },
                          "line": {
                            "color": "white"
                          }
                        },
                        "type": "table"
                      }
                    ]
                  },
                  "layout": {
                    "annotationdefaults": {
                      "arrowcolor": "#2a3f5f",
                      "arrowhead": 0,
                      "arrowwidth": 1
                    },
                    "autotypenumbers": "strict",
                    "coloraxis": {
                      "colorbar": {
                        "outlinewidth": 0,
                        "ticks": ""
                      }
                    },
                    "colorscale": {
                      "diverging": [
                        [
                          0,
                          "#8e0152"
                        ],
                        [
                          0.1,
                          "#c51b7d"
                        ],
                        [
                          0.2,
                          "#de77ae"
                        ],
                        [
                          0.3,
                          "#f1b6da"
                        ],
                        [
                          0.4,
                          "#fde0ef"
                        ],
                        [
                          0.5,
                          "#f7f7f7"
                        ],
                        [
                          0.6,
                          "#e6f5d0"
                        ],
                        [
                          0.7,
                          "#b8e186"
                        ],
                        [
                          0.8,
                          "#7fbc41"
                        ],
                        [
                          0.9,
                          "#4d9221"
                        ],
                        [
                          1,
                          "#276419"
                        ]
                      ],
                      "sequential": [
                        [
                          0,
                          "#0d0887"
                        ],
                        [
                          0.1111111111111111,
                          "#46039f"
                        ],
                        [
                          0.2222222222222222,
                          "#7201a8"
                        ],
                        [
                          0.3333333333333333,
                          "#9c179e"
                        ],
                        [
                          0.4444444444444444,
                          "#bd3786"
                        ],
                        [
                          0.5555555555555556,
                          "#d8576b"
                        ],
                        [
                          0.6666666666666666,
                          "#ed7953"
                        ],
                        [
                          0.7777777777777778,
                          "#fb9f3a"
                        ],
                        [
                          0.8888888888888888,
                          "#fdca26"
                        ],
                        [
                          1,
                          "#f0f921"
                        ]
                      ],
                      "sequentialminus": [
                        [
                          0,
                          "#0d0887"
                        ],
                        [
                          0.1111111111111111,
                          "#46039f"
                        ],
                        [
                          0.2222222222222222,
                          "#7201a8"
                        ],
                        [
                          0.3333333333333333,
                          "#9c179e"
                        ],
                        [
                          0.4444444444444444,
                          "#bd3786"
                        ],
                        [
                          0.5555555555555556,
                          "#d8576b"
                        ],
                        [
                          0.6666666666666666,
                          "#ed7953"
                        ],
                        [
                          0.7777777777777778,
                          "#fb9f3a"
                        ],
                        [
                          0.8888888888888888,
                          "#fdca26"
                        ],
                        [
                          1,
                          "#f0f921"
                        ]
                      ]
                    },
                    "colorway": [
                      "#636efa",
                      "#EF553B",
                      "#00cc96",
                      "#ab63fa",
                      "#FFA15A",
                      "#19d3f3",
                      "#FF6692",
                      "#B6E880",
                      "#FF97FF",
                      "#FECB52"
                    ],
                    "font": {
                      "color": "#2a3f5f"
                    },
                    "geo": {
                      "bgcolor": "white",
                      "lakecolor": "white",
                      "landcolor": "#E5ECF6",
                      "showlakes": true,
                      "showland": true,
                      "subunitcolor": "white"
                    },
                    "hoverlabel": {
                      "align": "left"
                    },
                    "hovermode": "closest",
                    "mapbox": {
                      "style": "light"
                    },
                    "paper_bgcolor": "white",
                    "plot_bgcolor": "#E5ECF6",
                    "polar": {
                      "angularaxis": {
                        "gridcolor": "white",
                        "linecolor": "white",
                        "ticks": ""
                      },
                      "bgcolor": "#E5ECF6",
                      "radialaxis": {
                        "gridcolor": "white",
                        "linecolor": "white",
                        "ticks": ""
                      }
                    },
                    "scene": {
                      "xaxis": {
                        "backgroundcolor": "#E5ECF6",
                        "gridcolor": "white",
                        "gridwidth": 2,
                        "linecolor": "white",
                        "showbackground": true,
                        "ticks": "",
                        "zerolinecolor": "white"
                      },
                      "yaxis": {
                        "backgroundcolor": "#E5ECF6",
                        "gridcolor": "white",
                        "gridwidth": 2,
                        "linecolor": "white",
                        "showbackground": true,
                        "ticks": "",
                        "zerolinecolor": "white"
                      },
                      "zaxis": {
                        "backgroundcolor": "#E5ECF6",
                        "gridcolor": "white",
                        "gridwidth": 2,
                        "linecolor": "white",
                        "showbackground": true,
                        "ticks": "",
                        "zerolinecolor": "white"
                      }
                    },
                    "shapedefaults": {
                      "line": {
                        "color": "#2a3f5f"
                      }
                    },
                    "ternary": {
                      "aaxis": {
                        "gridcolor": "white",
                        "linecolor": "white",
                        "ticks": ""
                      },
                      "baxis": {
                        "gridcolor": "white",
                        "linecolor": "white",
                        "ticks": ""
                      },
                      "bgcolor": "#E5ECF6",
                      "caxis": {
                        "gridcolor": "white",
                        "linecolor": "white",
                        "ticks": ""
                      }
                    },
                    "title": {
                      "x": 0.05
                    },
                    "xaxis": {
                      "automargin": true,
                      "gridcolor": "white",
                      "linecolor": "white",
                      "ticks": "",
                      "title": {
                        "standoff": 15
                      },
                      "zerolinecolor": "white",
                      "zerolinewidth": 2
                    },
                    "yaxis": {
                      "automargin": true,
                      "gridcolor": "white",
                      "linecolor": "white",
                      "ticks": "",
                      "title": {
                        "standoff": 15
                      },
                      "zerolinecolor": "white",
                      "zerolinewidth": 2
                    }
                  }
                },
                "xaxis": {
                  "anchor": "y",
                  "domain": [
                    0,
                    1
                  ],
                  "title": {
                    "text": "data_internacao_real"
                  }
                },
                "yaxis": {
                  "anchor": "x",
                  "domain": [
                    0,
                    1
                  ],
                  "title": {
                    "text": "cod_paciente"
                  }
                }
              }
            }
          },
          "metadata": {},
          "output_type": "display_data"
        },
        {
          "data": {
            "application/vnd.plotly.v1+json": {
              "config": {
                "plotlyServerURL": "https://plot.ly"
              },
              "data": [
                {
                  "alignmentgroup": "True",
                  "hovertemplate": "<b>%{hovertext}</b><br><br>data_internacao_real=%{x}<br>cod_paciente=%{y}<extra></extra>",
                  "hovertext": [
                    "F00",
                    "Y91",
                    "R43",
                    "NAN",
                    "F99",
                    "F84",
                    "F79",
                    "F71",
                    "F70",
                    "F60",
                    "F44",
                    "F41",
                    "F33",
                    "F32",
                    "F31",
                    "F30",
                    "F91",
                    "F28",
                    "F29",
                    "F02",
                    "F03",
                    "F07",
                    "F09",
                    "F10",
                    "F12",
                    "F06",
                    "F19",
                    "F20",
                    "F21",
                    "F22",
                    "F23",
                    "F14",
                    "F25",
                    "F72",
                    "F71",
                    "F70",
                    "F62",
                    "F44",
                    "F50",
                    "F43",
                    "F90",
                    "F42",
                    "F60",
                    "F91",
                    "X64",
                    "G40",
                    "G91",
                    "I64",
                    "NAN",
                    "R63",
                    "X61",
                    "X70",
                    "X84",
                    "Z72",
                    "F41",
                    "F99",
                    "F33",
                    "X78",
                    "F31",
                    "F32",
                    "B23",
                    "E20",
                    "E51",
                    "F00",
                    "F05",
                    "F07",
                    "F09",
                    "F10",
                    "F12",
                    "F13",
                    "F06",
                    "F16",
                    "F30",
                    "F14",
                    "F28",
                    "F25",
                    "F23",
                    "F29",
                    "F21",
                    "F20",
                    "F19",
                    "F22",
                    "F84",
                    "F43",
                    "F44",
                    "F45",
                    "F60",
                    "F61",
                    "F70",
                    "F71",
                    "F72",
                    "F79",
                    "F91",
                    "Y91",
                    "G40",
                    "G41",
                    "G71",
                    "I69",
                    "NAN",
                    "O34",
                    "R22",
                    "R45",
                    "X61",
                    "X82",
                    "Z91",
                    "F99",
                    "F40",
                    "F41",
                    "F32",
                    "F33",
                    "E25",
                    "F00",
                    "F02",
                    "F03",
                    "F05",
                    "F07",
                    "F09",
                    "F10",
                    "F12",
                    "F13",
                    "F06",
                    "F15",
                    "F31",
                    "F14",
                    "F30",
                    "F29",
                    "F25",
                    "F28",
                    "F22",
                    "F20",
                    "F19",
                    "F17",
                    "F23",
                    "F94",
                    "F84",
                    "F91",
                    "F90",
                    "F79",
                    "F65",
                    "F71",
                    "F70",
                    "F68",
                    "F99",
                    "F72",
                    "G10",
                    "X84",
                    "G91",
                    "NAN",
                    "O45",
                    "R44",
                    "R45",
                    "T42",
                    "X60",
                    "X61",
                    "X81",
                    "X83",
                    "F60",
                    "G40",
                    "F44",
                    "F16",
                    "F42",
                    "F43",
                    "F00",
                    "F01",
                    "F03",
                    "F06",
                    "F07",
                    "F09",
                    "F10",
                    "F12",
                    "F14",
                    "F18",
                    "F19",
                    "E51",
                    "F21",
                    "F41",
                    "F22",
                    "F23",
                    "F25",
                    "F29",
                    "F30",
                    "F31",
                    "F32",
                    "F33",
                    "F40",
                    "F20",
                    "F70",
                    "F69",
                    "F68",
                    "F42",
                    "F50",
                    "F44",
                    "F43",
                    "F79",
                    "F40",
                    "F60",
                    "F91",
                    "R45",
                    "G10",
                    "G40",
                    "G71",
                    "NAN",
                    "T51",
                    "X63",
                    "X69",
                    "X70",
                    "Z73",
                    "Z86",
                    "F39",
                    "Z91",
                    "F92",
                    "F33",
                    "F71",
                    "F31",
                    "F32",
                    "F01",
                    "F02",
                    "F03",
                    "F04",
                    "F05",
                    "F06",
                    "F07",
                    "F09",
                    "F10",
                    "F11",
                    "F12",
                    "F00",
                    "F15",
                    "F16",
                    "F19",
                    "F20",
                    "F21",
                    "F22",
                    "F23",
                    "F25",
                    "F28",
                    "F29",
                    "F30",
                    "F14",
                    "F84",
                    "F79",
                    "F78",
                    "F44",
                    "F70",
                    "F62",
                    "F60",
                    "F48",
                    "F71",
                    "F90",
                    "NAN",
                    "F99",
                    "G30",
                    "G40",
                    "R45",
                    "S06",
                    "T40",
                    "T49",
                    "X70",
                    "Y20",
                    "F43",
                    "F91",
                    "F42",
                    "F14",
                    "F34",
                    "Z86",
                    "E32",
                    "F00",
                    "F01",
                    "F03",
                    "F04",
                    "F05",
                    "F06",
                    "F07",
                    "F10",
                    "F41",
                    "F11",
                    "F19",
                    "F20",
                    "F23",
                    "F24",
                    "F25",
                    "F29",
                    "F30",
                    "F31",
                    "F32",
                    "F33",
                    "F12",
                    "Z91"
                  ],
                  "legendgroup": "",
                  "marker": {
                    "color": "#636efa"
                  },
                  "name": "",
                  "notched": false,
                  "offsetgroup": "",
                  "orientation": "v",
                  "showlegend": false,
                  "type": "box",
                  "x": [
                    2012,
                    2012,
                    2012,
                    2012,
                    2012,
                    2012,
                    2012,
                    2012,
                    2012,
                    2012,
                    2012,
                    2012,
                    2012,
                    2012,
                    2012,
                    2012,
                    2012,
                    2012,
                    2012,
                    2012,
                    2012,
                    2012,
                    2012,
                    2012,
                    2012,
                    2012,
                    2012,
                    2012,
                    2012,
                    2012,
                    2012,
                    2012,
                    2012,
                    2013,
                    2013,
                    2013,
                    2013,
                    2013,
                    2013,
                    2013,
                    2013,
                    2013,
                    2013,
                    2013,
                    2013,
                    2013,
                    2013,
                    2013,
                    2013,
                    2013,
                    2013,
                    2013,
                    2013,
                    2013,
                    2013,
                    2013,
                    2013,
                    2013,
                    2013,
                    2013,
                    2013,
                    2013,
                    2013,
                    2013,
                    2013,
                    2013,
                    2013,
                    2013,
                    2013,
                    2013,
                    2013,
                    2013,
                    2013,
                    2013,
                    2013,
                    2013,
                    2013,
                    2013,
                    2013,
                    2013,
                    2013,
                    2013,
                    2014,
                    2014,
                    2014,
                    2014,
                    2014,
                    2014,
                    2014,
                    2014,
                    2014,
                    2014,
                    2014,
                    2014,
                    2014,
                    2014,
                    2014,
                    2014,
                    2014,
                    2014,
                    2014,
                    2014,
                    2014,
                    2014,
                    2014,
                    2014,
                    2014,
                    2014,
                    2014,
                    2014,
                    2014,
                    2014,
                    2014,
                    2014,
                    2014,
                    2014,
                    2014,
                    2014,
                    2014,
                    2014,
                    2014,
                    2014,
                    2014,
                    2014,
                    2014,
                    2014,
                    2014,
                    2014,
                    2014,
                    2014,
                    2014,
                    2014,
                    2014,
                    2015,
                    2015,
                    2015,
                    2015,
                    2015,
                    2015,
                    2015,
                    2015,
                    2015,
                    2015,
                    2015,
                    2015,
                    2015,
                    2015,
                    2015,
                    2015,
                    2015,
                    2015,
                    2015,
                    2015,
                    2015,
                    2015,
                    2015,
                    2015,
                    2015,
                    2015,
                    2015,
                    2015,
                    2015,
                    2015,
                    2015,
                    2015,
                    2015,
                    2015,
                    2015,
                    2015,
                    2015,
                    2015,
                    2015,
                    2015,
                    2015,
                    2015,
                    2015,
                    2015,
                    2015,
                    2015,
                    2015,
                    2015,
                    2015,
                    2015,
                    2015,
                    2015,
                    2015,
                    2016,
                    2016,
                    2016,
                    2016,
                    2016,
                    2016,
                    2016,
                    2016,
                    2016,
                    2016,
                    2016,
                    2016,
                    2016,
                    2016,
                    2016,
                    2016,
                    2016,
                    2016,
                    2016,
                    2016,
                    2016,
                    2016,
                    2016,
                    2016,
                    2016,
                    2016,
                    2016,
                    2016,
                    2016,
                    2016,
                    2016,
                    2016,
                    2016,
                    2016,
                    2016,
                    2016,
                    2016,
                    2016,
                    2016,
                    2016,
                    2016,
                    2016,
                    2016,
                    2016,
                    2016,
                    2016,
                    2016,
                    2016,
                    2016,
                    2016,
                    2016,
                    2016,
                    2016,
                    2017,
                    2017,
                    2017,
                    2017,
                    2017,
                    2017,
                    2017,
                    2017,
                    2017,
                    2017,
                    2017,
                    2017,
                    2017,
                    2017,
                    2017,
                    2017,
                    2017,
                    2017,
                    2017,
                    2017,
                    2017,
                    2017,
                    2017,
                    2017,
                    2017,
                    2017,
                    2017,
                    2017,
                    2017,
                    2017,
                    2017,
                    2017,
                    2017,
                    2017,
                    2017,
                    2017,
                    2017,
                    2017,
                    2017,
                    2017,
                    2017,
                    2017,
                    2017,
                    2017,
                    2017,
                    2017,
                    2017,
                    2017,
                    2017
                  ],
                  "x0": " ",
                  "xaxis": "x",
                  "y": [
                    1,
                    1,
                    1,
                    194,
                    2,
                    1,
                    1,
                    11,
                    1,
                    41,
                    1,
                    1,
                    30,
                    59,
                    88,
                    3,
                    4,
                    2,
                    17,
                    2,
                    1,
                    2,
                    1,
                    48,
                    3,
                    9,
                    133,
                    138,
                    2,
                    1,
                    13,
                    24,
                    20,
                    7,
                    18,
                    10,
                    1,
                    2,
                    3,
                    4,
                    2,
                    3,
                    85,
                    5,
                    1,
                    3,
                    1,
                    1,
                    66,
                    1,
                    1,
                    1,
                    3,
                    2,
                    1,
                    6,
                    65,
                    1,
                    183,
                    101,
                    2,
                    1,
                    1,
                    1,
                    1,
                    6,
                    1,
                    133,
                    9,
                    2,
                    30,
                    2,
                    14,
                    90,
                    4,
                    47,
                    20,
                    28,
                    2,
                    327,
                    272,
                    4,
                    1,
                    2,
                    4,
                    1,
                    57,
                    1,
                    13,
                    11,
                    8,
                    2,
                    5,
                    1,
                    2,
                    1,
                    1,
                    1,
                    69,
                    1,
                    1,
                    3,
                    1,
                    1,
                    1,
                    4,
                    1,
                    3,
                    92,
                    54,
                    1,
                    1,
                    3,
                    4,
                    1,
                    3,
                    2,
                    103,
                    11,
                    1,
                    30,
                    1,
                    207,
                    79,
                    7,
                    23,
                    39,
                    1,
                    2,
                    297,
                    252,
                    1,
                    37,
                    1,
                    1,
                    8,
                    2,
                    4,
                    1,
                    8,
                    13,
                    1,
                    2,
                    4,
                    2,
                    1,
                    1,
                    31,
                    1,
                    1,
                    1,
                    1,
                    1,
                    2,
                    1,
                    1,
                    69,
                    1,
                    2,
                    1,
                    5,
                    2,
                    4,
                    2,
                    3,
                    29,
                    4,
                    3,
                    167,
                    9,
                    94,
                    1,
                    323,
                    1,
                    1,
                    4,
                    3,
                    45,
                    58,
                    33,
                    11,
                    188,
                    89,
                    70,
                    2,
                    306,
                    22,
                    1,
                    1,
                    11,
                    1,
                    2,
                    2,
                    3,
                    1,
                    82,
                    5,
                    4,
                    1,
                    3,
                    1,
                    29,
                    1,
                    1,
                    1,
                    2,
                    1,
                    1,
                    1,
                    1,
                    1,
                    86,
                    24,
                    181,
                    127,
                    1,
                    3,
                    4,
                    1,
                    1,
                    31,
                    2,
                    1,
                    162,
                    4,
                    21,
                    5,
                    2,
                    1,
                    348,
                    319,
                    1,
                    5,
                    42,
                    53,
                    2,
                    24,
                    14,
                    101,
                    1,
                    3,
                    1,
                    3,
                    21,
                    1,
                    75,
                    1,
                    11,
                    2,
                    48,
                    1,
                    1,
                    3,
                    3,
                    1,
                    1,
                    1,
                    1,
                    1,
                    2,
                    9,
                    4,
                    96,
                    1,
                    1,
                    1,
                    5,
                    2,
                    1,
                    1,
                    1,
                    23,
                    2,
                    135,
                    3,
                    1,
                    314,
                    270,
                    38,
                    2,
                    33,
                    16,
                    16,
                    174,
                    88,
                    82,
                    11,
                    1
                  ],
                  "y0": " ",
                  "yaxis": "y"
                }
              ],
              "layout": {
                "boxmode": "group",
                "legend": {
                  "tracegroupgap": 0
                },
                "margin": {
                  "t": 60
                },
                "template": {
                  "data": {
                    "bar": [
                      {
                        "error_x": {
                          "color": "#2a3f5f"
                        },
                        "error_y": {
                          "color": "#2a3f5f"
                        },
                        "marker": {
                          "line": {
                            "color": "#E5ECF6",
                            "width": 0.5
                          },
                          "pattern": {
                            "fillmode": "overlay",
                            "size": 10,
                            "solidity": 0.2
                          }
                        },
                        "type": "bar"
                      }
                    ],
                    "barpolar": [
                      {
                        "marker": {
                          "line": {
                            "color": "#E5ECF6",
                            "width": 0.5
                          },
                          "pattern": {
                            "fillmode": "overlay",
                            "size": 10,
                            "solidity": 0.2
                          }
                        },
                        "type": "barpolar"
                      }
                    ],
                    "carpet": [
                      {
                        "aaxis": {
                          "endlinecolor": "#2a3f5f",
                          "gridcolor": "white",
                          "linecolor": "white",
                          "minorgridcolor": "white",
                          "startlinecolor": "#2a3f5f"
                        },
                        "baxis": {
                          "endlinecolor": "#2a3f5f",
                          "gridcolor": "white",
                          "linecolor": "white",
                          "minorgridcolor": "white",
                          "startlinecolor": "#2a3f5f"
                        },
                        "type": "carpet"
                      }
                    ],
                    "choropleth": [
                      {
                        "colorbar": {
                          "outlinewidth": 0,
                          "ticks": ""
                        },
                        "type": "choropleth"
                      }
                    ],
                    "contour": [
                      {
                        "colorbar": {
                          "outlinewidth": 0,
                          "ticks": ""
                        },
                        "colorscale": [
                          [
                            0,
                            "#0d0887"
                          ],
                          [
                            0.1111111111111111,
                            "#46039f"
                          ],
                          [
                            0.2222222222222222,
                            "#7201a8"
                          ],
                          [
                            0.3333333333333333,
                            "#9c179e"
                          ],
                          [
                            0.4444444444444444,
                            "#bd3786"
                          ],
                          [
                            0.5555555555555556,
                            "#d8576b"
                          ],
                          [
                            0.6666666666666666,
                            "#ed7953"
                          ],
                          [
                            0.7777777777777778,
                            "#fb9f3a"
                          ],
                          [
                            0.8888888888888888,
                            "#fdca26"
                          ],
                          [
                            1,
                            "#f0f921"
                          ]
                        ],
                        "type": "contour"
                      }
                    ],
                    "contourcarpet": [
                      {
                        "colorbar": {
                          "outlinewidth": 0,
                          "ticks": ""
                        },
                        "type": "contourcarpet"
                      }
                    ],
                    "heatmap": [
                      {
                        "colorbar": {
                          "outlinewidth": 0,
                          "ticks": ""
                        },
                        "colorscale": [
                          [
                            0,
                            "#0d0887"
                          ],
                          [
                            0.1111111111111111,
                            "#46039f"
                          ],
                          [
                            0.2222222222222222,
                            "#7201a8"
                          ],
                          [
                            0.3333333333333333,
                            "#9c179e"
                          ],
                          [
                            0.4444444444444444,
                            "#bd3786"
                          ],
                          [
                            0.5555555555555556,
                            "#d8576b"
                          ],
                          [
                            0.6666666666666666,
                            "#ed7953"
                          ],
                          [
                            0.7777777777777778,
                            "#fb9f3a"
                          ],
                          [
                            0.8888888888888888,
                            "#fdca26"
                          ],
                          [
                            1,
                            "#f0f921"
                          ]
                        ],
                        "type": "heatmap"
                      }
                    ],
                    "heatmapgl": [
                      {
                        "colorbar": {
                          "outlinewidth": 0,
                          "ticks": ""
                        },
                        "colorscale": [
                          [
                            0,
                            "#0d0887"
                          ],
                          [
                            0.1111111111111111,
                            "#46039f"
                          ],
                          [
                            0.2222222222222222,
                            "#7201a8"
                          ],
                          [
                            0.3333333333333333,
                            "#9c179e"
                          ],
                          [
                            0.4444444444444444,
                            "#bd3786"
                          ],
                          [
                            0.5555555555555556,
                            "#d8576b"
                          ],
                          [
                            0.6666666666666666,
                            "#ed7953"
                          ],
                          [
                            0.7777777777777778,
                            "#fb9f3a"
                          ],
                          [
                            0.8888888888888888,
                            "#fdca26"
                          ],
                          [
                            1,
                            "#f0f921"
                          ]
                        ],
                        "type": "heatmapgl"
                      }
                    ],
                    "histogram": [
                      {
                        "marker": {
                          "pattern": {
                            "fillmode": "overlay",
                            "size": 10,
                            "solidity": 0.2
                          }
                        },
                        "type": "histogram"
                      }
                    ],
                    "histogram2d": [
                      {
                        "colorbar": {
                          "outlinewidth": 0,
                          "ticks": ""
                        },
                        "colorscale": [
                          [
                            0,
                            "#0d0887"
                          ],
                          [
                            0.1111111111111111,
                            "#46039f"
                          ],
                          [
                            0.2222222222222222,
                            "#7201a8"
                          ],
                          [
                            0.3333333333333333,
                            "#9c179e"
                          ],
                          [
                            0.4444444444444444,
                            "#bd3786"
                          ],
                          [
                            0.5555555555555556,
                            "#d8576b"
                          ],
                          [
                            0.6666666666666666,
                            "#ed7953"
                          ],
                          [
                            0.7777777777777778,
                            "#fb9f3a"
                          ],
                          [
                            0.8888888888888888,
                            "#fdca26"
                          ],
                          [
                            1,
                            "#f0f921"
                          ]
                        ],
                        "type": "histogram2d"
                      }
                    ],
                    "histogram2dcontour": [
                      {
                        "colorbar": {
                          "outlinewidth": 0,
                          "ticks": ""
                        },
                        "colorscale": [
                          [
                            0,
                            "#0d0887"
                          ],
                          [
                            0.1111111111111111,
                            "#46039f"
                          ],
                          [
                            0.2222222222222222,
                            "#7201a8"
                          ],
                          [
                            0.3333333333333333,
                            "#9c179e"
                          ],
                          [
                            0.4444444444444444,
                            "#bd3786"
                          ],
                          [
                            0.5555555555555556,
                            "#d8576b"
                          ],
                          [
                            0.6666666666666666,
                            "#ed7953"
                          ],
                          [
                            0.7777777777777778,
                            "#fb9f3a"
                          ],
                          [
                            0.8888888888888888,
                            "#fdca26"
                          ],
                          [
                            1,
                            "#f0f921"
                          ]
                        ],
                        "type": "histogram2dcontour"
                      }
                    ],
                    "mesh3d": [
                      {
                        "colorbar": {
                          "outlinewidth": 0,
                          "ticks": ""
                        },
                        "type": "mesh3d"
                      }
                    ],
                    "parcoords": [
                      {
                        "line": {
                          "colorbar": {
                            "outlinewidth": 0,
                            "ticks": ""
                          }
                        },
                        "type": "parcoords"
                      }
                    ],
                    "pie": [
                      {
                        "automargin": true,
                        "type": "pie"
                      }
                    ],
                    "scatter": [
                      {
                        "fillpattern": {
                          "fillmode": "overlay",
                          "size": 10,
                          "solidity": 0.2
                        },
                        "type": "scatter"
                      }
                    ],
                    "scatter3d": [
                      {
                        "line": {
                          "colorbar": {
                            "outlinewidth": 0,
                            "ticks": ""
                          }
                        },
                        "marker": {
                          "colorbar": {
                            "outlinewidth": 0,
                            "ticks": ""
                          }
                        },
                        "type": "scatter3d"
                      }
                    ],
                    "scattercarpet": [
                      {
                        "marker": {
                          "colorbar": {
                            "outlinewidth": 0,
                            "ticks": ""
                          }
                        },
                        "type": "scattercarpet"
                      }
                    ],
                    "scattergeo": [
                      {
                        "marker": {
                          "colorbar": {
                            "outlinewidth": 0,
                            "ticks": ""
                          }
                        },
                        "type": "scattergeo"
                      }
                    ],
                    "scattergl": [
                      {
                        "marker": {
                          "colorbar": {
                            "outlinewidth": 0,
                            "ticks": ""
                          }
                        },
                        "type": "scattergl"
                      }
                    ],
                    "scattermapbox": [
                      {
                        "marker": {
                          "colorbar": {
                            "outlinewidth": 0,
                            "ticks": ""
                          }
                        },
                        "type": "scattermapbox"
                      }
                    ],
                    "scatterpolar": [
                      {
                        "marker": {
                          "colorbar": {
                            "outlinewidth": 0,
                            "ticks": ""
                          }
                        },
                        "type": "scatterpolar"
                      }
                    ],
                    "scatterpolargl": [
                      {
                        "marker": {
                          "colorbar": {
                            "outlinewidth": 0,
                            "ticks": ""
                          }
                        },
                        "type": "scatterpolargl"
                      }
                    ],
                    "scatterternary": [
                      {
                        "marker": {
                          "colorbar": {
                            "outlinewidth": 0,
                            "ticks": ""
                          }
                        },
                        "type": "scatterternary"
                      }
                    ],
                    "surface": [
                      {
                        "colorbar": {
                          "outlinewidth": 0,
                          "ticks": ""
                        },
                        "colorscale": [
                          [
                            0,
                            "#0d0887"
                          ],
                          [
                            0.1111111111111111,
                            "#46039f"
                          ],
                          [
                            0.2222222222222222,
                            "#7201a8"
                          ],
                          [
                            0.3333333333333333,
                            "#9c179e"
                          ],
                          [
                            0.4444444444444444,
                            "#bd3786"
                          ],
                          [
                            0.5555555555555556,
                            "#d8576b"
                          ],
                          [
                            0.6666666666666666,
                            "#ed7953"
                          ],
                          [
                            0.7777777777777778,
                            "#fb9f3a"
                          ],
                          [
                            0.8888888888888888,
                            "#fdca26"
                          ],
                          [
                            1,
                            "#f0f921"
                          ]
                        ],
                        "type": "surface"
                      }
                    ],
                    "table": [
                      {
                        "cells": {
                          "fill": {
                            "color": "#EBF0F8"
                          },
                          "line": {
                            "color": "white"
                          }
                        },
                        "header": {
                          "fill": {
                            "color": "#C8D4E3"
                          },
                          "line": {
                            "color": "white"
                          }
                        },
                        "type": "table"
                      }
                    ]
                  },
                  "layout": {
                    "annotationdefaults": {
                      "arrowcolor": "#2a3f5f",
                      "arrowhead": 0,
                      "arrowwidth": 1
                    },
                    "autotypenumbers": "strict",
                    "coloraxis": {
                      "colorbar": {
                        "outlinewidth": 0,
                        "ticks": ""
                      }
                    },
                    "colorscale": {
                      "diverging": [
                        [
                          0,
                          "#8e0152"
                        ],
                        [
                          0.1,
                          "#c51b7d"
                        ],
                        [
                          0.2,
                          "#de77ae"
                        ],
                        [
                          0.3,
                          "#f1b6da"
                        ],
                        [
                          0.4,
                          "#fde0ef"
                        ],
                        [
                          0.5,
                          "#f7f7f7"
                        ],
                        [
                          0.6,
                          "#e6f5d0"
                        ],
                        [
                          0.7,
                          "#b8e186"
                        ],
                        [
                          0.8,
                          "#7fbc41"
                        ],
                        [
                          0.9,
                          "#4d9221"
                        ],
                        [
                          1,
                          "#276419"
                        ]
                      ],
                      "sequential": [
                        [
                          0,
                          "#0d0887"
                        ],
                        [
                          0.1111111111111111,
                          "#46039f"
                        ],
                        [
                          0.2222222222222222,
                          "#7201a8"
                        ],
                        [
                          0.3333333333333333,
                          "#9c179e"
                        ],
                        [
                          0.4444444444444444,
                          "#bd3786"
                        ],
                        [
                          0.5555555555555556,
                          "#d8576b"
                        ],
                        [
                          0.6666666666666666,
                          "#ed7953"
                        ],
                        [
                          0.7777777777777778,
                          "#fb9f3a"
                        ],
                        [
                          0.8888888888888888,
                          "#fdca26"
                        ],
                        [
                          1,
                          "#f0f921"
                        ]
                      ],
                      "sequentialminus": [
                        [
                          0,
                          "#0d0887"
                        ],
                        [
                          0.1111111111111111,
                          "#46039f"
                        ],
                        [
                          0.2222222222222222,
                          "#7201a8"
                        ],
                        [
                          0.3333333333333333,
                          "#9c179e"
                        ],
                        [
                          0.4444444444444444,
                          "#bd3786"
                        ],
                        [
                          0.5555555555555556,
                          "#d8576b"
                        ],
                        [
                          0.6666666666666666,
                          "#ed7953"
                        ],
                        [
                          0.7777777777777778,
                          "#fb9f3a"
                        ],
                        [
                          0.8888888888888888,
                          "#fdca26"
                        ],
                        [
                          1,
                          "#f0f921"
                        ]
                      ]
                    },
                    "colorway": [
                      "#636efa",
                      "#EF553B",
                      "#00cc96",
                      "#ab63fa",
                      "#FFA15A",
                      "#19d3f3",
                      "#FF6692",
                      "#B6E880",
                      "#FF97FF",
                      "#FECB52"
                    ],
                    "font": {
                      "color": "#2a3f5f"
                    },
                    "geo": {
                      "bgcolor": "white",
                      "lakecolor": "white",
                      "landcolor": "#E5ECF6",
                      "showlakes": true,
                      "showland": true,
                      "subunitcolor": "white"
                    },
                    "hoverlabel": {
                      "align": "left"
                    },
                    "hovermode": "closest",
                    "mapbox": {
                      "style": "light"
                    },
                    "paper_bgcolor": "white",
                    "plot_bgcolor": "#E5ECF6",
                    "polar": {
                      "angularaxis": {
                        "gridcolor": "white",
                        "linecolor": "white",
                        "ticks": ""
                      },
                      "bgcolor": "#E5ECF6",
                      "radialaxis": {
                        "gridcolor": "white",
                        "linecolor": "white",
                        "ticks": ""
                      }
                    },
                    "scene": {
                      "xaxis": {
                        "backgroundcolor": "#E5ECF6",
                        "gridcolor": "white",
                        "gridwidth": 2,
                        "linecolor": "white",
                        "showbackground": true,
                        "ticks": "",
                        "zerolinecolor": "white"
                      },
                      "yaxis": {
                        "backgroundcolor": "#E5ECF6",
                        "gridcolor": "white",
                        "gridwidth": 2,
                        "linecolor": "white",
                        "showbackground": true,
                        "ticks": "",
                        "zerolinecolor": "white"
                      },
                      "zaxis": {
                        "backgroundcolor": "#E5ECF6",
                        "gridcolor": "white",
                        "gridwidth": 2,
                        "linecolor": "white",
                        "showbackground": true,
                        "ticks": "",
                        "zerolinecolor": "white"
                      }
                    },
                    "shapedefaults": {
                      "line": {
                        "color": "#2a3f5f"
                      }
                    },
                    "ternary": {
                      "aaxis": {
                        "gridcolor": "white",
                        "linecolor": "white",
                        "ticks": ""
                      },
                      "baxis": {
                        "gridcolor": "white",
                        "linecolor": "white",
                        "ticks": ""
                      },
                      "bgcolor": "#E5ECF6",
                      "caxis": {
                        "gridcolor": "white",
                        "linecolor": "white",
                        "ticks": ""
                      }
                    },
                    "title": {
                      "x": 0.05
                    },
                    "xaxis": {
                      "automargin": true,
                      "gridcolor": "white",
                      "linecolor": "white",
                      "ticks": "",
                      "title": {
                        "standoff": 15
                      },
                      "zerolinecolor": "white",
                      "zerolinewidth": 2
                    },
                    "yaxis": {
                      "automargin": true,
                      "gridcolor": "white",
                      "linecolor": "white",
                      "ticks": "",
                      "title": {
                        "standoff": 15
                      },
                      "zerolinecolor": "white",
                      "zerolinewidth": 2
                    }
                  }
                },
                "xaxis": {
                  "anchor": "y",
                  "domain": [
                    0,
                    1
                  ],
                  "title": {
                    "text": "data_internacao_real"
                  }
                },
                "yaxis": {
                  "anchor": "x",
                  "domain": [
                    0,
                    1
                  ],
                  "title": {
                    "text": "cod_paciente"
                  }
                }
              }
            }
          },
          "metadata": {},
          "output_type": "display_data"
        }
      ],
      "source": [
        "import plotly.express as px\n",
        "\n",
        "# px.line()\n",
        "a = df[['cid10_diagnostico', 'data_internacao_real', 'cod_paciente']]\n",
        "a['data_internacao_real'] = a['data_internacao_real'].apply(lambda x: x.year)\n",
        "a = a.groupby(['data_internacao_real', 'cid10_diagnostico']).count()\n",
        "a = a.reset_index()\n",
        "a = a.sort_values(by='data_internacao_real')\n",
        "fig = px.line(a, x=\"data_internacao_real\", y=\"cod_paciente\", color='cid10_diagnostico')\n",
        "fig.show()\n",
        "fig =px.box(a, x = 'data_internacao_real',y='cod_paciente', hover_name='cid10_diagnostico')\n",
        "fig.show()"
      ]
    },
    {
      "cell_type": "code",
      "execution_count": 159,
      "metadata": {
        "id": "wfPOdPgtLIID"
      },
      "outputs": [],
      "source": [
        "df['data_internacao_real_ano'] = df['data_internacao_real'].apply(lambda x: x.year)\n",
        "df['data_internacao_real_mes'] = df['data_internacao_real'].apply(lambda x: x.month)\n",
        "df['data_internacao_real_mes_ano'] = df['data_internacao_real'].apply(lambda x: str(x.year) + '/' + str(x.month) if len(str(x.month)) > 1 else str(x.year) + '/0' + str(x.month))\n",
        "\n",
        "ano_internacao = df[['data_internacao_real_ano', 'cod_paciente']].groupby(['data_internacao_real_ano']).count().reset_index().sort_values(by='data_internacao_real_ano')\n",
        "ano_internacao.columns = ['Ano', 'Quantidade']\n",
        "\n",
        "ano_mes_internacao = df[['data_internacao_real_mes', 'cod_paciente', 'data_internacao_real_ano']].groupby(['data_internacao_real_ano', 'data_internacao_real_mes']).count().reset_index().sort_values(by='data_internacao_real_mes')\n",
        "ano_mes_internacao.columns = ['Ano', 'Mes', 'Quantidade']\n",
        "mes_internacao = ano_mes_internacao[['Mes', 'Quantidade']].groupby(['Mes']).sum().reset_index().sort_values(by='Mes')\n",
        "\n",
        "\n",
        "data_internacao = df[['data_internacao_real_mes_ano', 'cod_paciente']].groupby(['data_internacao_real_mes_ano']).count().reset_index().sort_values(by='data_internacao_real_mes_ano')\n",
        "data_internacao.columns = ['Mes Ano', 'Quantidade']\n",
        "\n",
        "ano_mes_internacao_cum = ano_mes_internacao.loc[ano_mes_internacao['Ano'] != 2012].copy()\n",
        "for i in range(1, ano_internacao['Ano'].shape[0], 1):\n",
        "    ano_mes_internacao_cum['Quantidade'].loc[ano_mes_internacao_cum['Ano'] == ano_internacao['Ano'][i]] = ano_mes_internacao['Quantidade'].loc[ano_mes_internacao['Ano'] == ano_internacao['Ano'][i]]/ano_internacao['Quantidade'][i]\n",
        "mes_internacao_cum = ano_mes_internacao_cum[['Mes', 'Quantidade']].groupby(['Mes']).sum().reset_index().sort_values(by='Mes')\n"
      ]
    },
    {
      "cell_type": "markdown",
      "metadata": {},
      "source": [
        "#### Associação temporal de internações\n",
        "\n",
        "Visualizar a relação entre internações e o tempo para identificar possíveis associações e sazonalidades."
      ]
    },
    {
      "cell_type": "markdown",
      "metadata": {},
      "source": [
        "Análise para os próximos dois gráficos: \n",
        "Por se tratar de uma janela curta de tempo com bastante variação, isso nos impede de determinar se houve uma crescente ou não nas internações com o passar do tempo. É necessário fazer uma ressalva quanto ao ano de 2012, pois foi o ano que se iniciou os registros, que não foram coletados desde janeiro, portanto será naturalmente menor que os outros anos."
      ]
    },
    {
      "cell_type": "code",
      "execution_count": 160,
      "metadata": {
        "colab": {
          "base_uri": "https://localhost:8080/",
          "height": 542
        },
        "id": "REytmpo0LJT6",
        "outputId": "7258cba9-7885-49ab-dace-ee4c85bdb8b3"
      },
      "outputs": [
        {
          "data": {
            "application/vnd.plotly.v1+json": {
              "config": {
                "plotlyServerURL": "https://plot.ly"
              },
              "data": [
                {
                  "hovertemplate": "Ano=%{x}<br>Quantidade=%{y}<extra></extra>",
                  "legendgroup": "",
                  "line": {
                    "color": "#636efa",
                    "dash": "solid"
                  },
                  "marker": {
                    "symbol": "circle"
                  },
                  "mode": "lines",
                  "name": "",
                  "orientation": "v",
                  "showlegend": false,
                  "type": "scatter",
                  "x": [
                    2012,
                    2013,
                    2014,
                    2015,
                    2016,
                    2017
                  ],
                  "xaxis": "x",
                  "y": [
                    856,
                    1574,
                    1448,
                    1619,
                    1745,
                    1513
                  ],
                  "yaxis": "y"
                }
              ],
              "layout": {
                "legend": {
                  "tracegroupgap": 0
                },
                "template": {
                  "data": {
                    "bar": [
                      {
                        "error_x": {
                          "color": "#2a3f5f"
                        },
                        "error_y": {
                          "color": "#2a3f5f"
                        },
                        "marker": {
                          "line": {
                            "color": "#E5ECF6",
                            "width": 0.5
                          },
                          "pattern": {
                            "fillmode": "overlay",
                            "size": 10,
                            "solidity": 0.2
                          }
                        },
                        "type": "bar"
                      }
                    ],
                    "barpolar": [
                      {
                        "marker": {
                          "line": {
                            "color": "#E5ECF6",
                            "width": 0.5
                          },
                          "pattern": {
                            "fillmode": "overlay",
                            "size": 10,
                            "solidity": 0.2
                          }
                        },
                        "type": "barpolar"
                      }
                    ],
                    "carpet": [
                      {
                        "aaxis": {
                          "endlinecolor": "#2a3f5f",
                          "gridcolor": "white",
                          "linecolor": "white",
                          "minorgridcolor": "white",
                          "startlinecolor": "#2a3f5f"
                        },
                        "baxis": {
                          "endlinecolor": "#2a3f5f",
                          "gridcolor": "white",
                          "linecolor": "white",
                          "minorgridcolor": "white",
                          "startlinecolor": "#2a3f5f"
                        },
                        "type": "carpet"
                      }
                    ],
                    "choropleth": [
                      {
                        "colorbar": {
                          "outlinewidth": 0,
                          "ticks": ""
                        },
                        "type": "choropleth"
                      }
                    ],
                    "contour": [
                      {
                        "colorbar": {
                          "outlinewidth": 0,
                          "ticks": ""
                        },
                        "colorscale": [
                          [
                            0,
                            "#0d0887"
                          ],
                          [
                            0.1111111111111111,
                            "#46039f"
                          ],
                          [
                            0.2222222222222222,
                            "#7201a8"
                          ],
                          [
                            0.3333333333333333,
                            "#9c179e"
                          ],
                          [
                            0.4444444444444444,
                            "#bd3786"
                          ],
                          [
                            0.5555555555555556,
                            "#d8576b"
                          ],
                          [
                            0.6666666666666666,
                            "#ed7953"
                          ],
                          [
                            0.7777777777777778,
                            "#fb9f3a"
                          ],
                          [
                            0.8888888888888888,
                            "#fdca26"
                          ],
                          [
                            1,
                            "#f0f921"
                          ]
                        ],
                        "type": "contour"
                      }
                    ],
                    "contourcarpet": [
                      {
                        "colorbar": {
                          "outlinewidth": 0,
                          "ticks": ""
                        },
                        "type": "contourcarpet"
                      }
                    ],
                    "heatmap": [
                      {
                        "colorbar": {
                          "outlinewidth": 0,
                          "ticks": ""
                        },
                        "colorscale": [
                          [
                            0,
                            "#0d0887"
                          ],
                          [
                            0.1111111111111111,
                            "#46039f"
                          ],
                          [
                            0.2222222222222222,
                            "#7201a8"
                          ],
                          [
                            0.3333333333333333,
                            "#9c179e"
                          ],
                          [
                            0.4444444444444444,
                            "#bd3786"
                          ],
                          [
                            0.5555555555555556,
                            "#d8576b"
                          ],
                          [
                            0.6666666666666666,
                            "#ed7953"
                          ],
                          [
                            0.7777777777777778,
                            "#fb9f3a"
                          ],
                          [
                            0.8888888888888888,
                            "#fdca26"
                          ],
                          [
                            1,
                            "#f0f921"
                          ]
                        ],
                        "type": "heatmap"
                      }
                    ],
                    "heatmapgl": [
                      {
                        "colorbar": {
                          "outlinewidth": 0,
                          "ticks": ""
                        },
                        "colorscale": [
                          [
                            0,
                            "#0d0887"
                          ],
                          [
                            0.1111111111111111,
                            "#46039f"
                          ],
                          [
                            0.2222222222222222,
                            "#7201a8"
                          ],
                          [
                            0.3333333333333333,
                            "#9c179e"
                          ],
                          [
                            0.4444444444444444,
                            "#bd3786"
                          ],
                          [
                            0.5555555555555556,
                            "#d8576b"
                          ],
                          [
                            0.6666666666666666,
                            "#ed7953"
                          ],
                          [
                            0.7777777777777778,
                            "#fb9f3a"
                          ],
                          [
                            0.8888888888888888,
                            "#fdca26"
                          ],
                          [
                            1,
                            "#f0f921"
                          ]
                        ],
                        "type": "heatmapgl"
                      }
                    ],
                    "histogram": [
                      {
                        "marker": {
                          "pattern": {
                            "fillmode": "overlay",
                            "size": 10,
                            "solidity": 0.2
                          }
                        },
                        "type": "histogram"
                      }
                    ],
                    "histogram2d": [
                      {
                        "colorbar": {
                          "outlinewidth": 0,
                          "ticks": ""
                        },
                        "colorscale": [
                          [
                            0,
                            "#0d0887"
                          ],
                          [
                            0.1111111111111111,
                            "#46039f"
                          ],
                          [
                            0.2222222222222222,
                            "#7201a8"
                          ],
                          [
                            0.3333333333333333,
                            "#9c179e"
                          ],
                          [
                            0.4444444444444444,
                            "#bd3786"
                          ],
                          [
                            0.5555555555555556,
                            "#d8576b"
                          ],
                          [
                            0.6666666666666666,
                            "#ed7953"
                          ],
                          [
                            0.7777777777777778,
                            "#fb9f3a"
                          ],
                          [
                            0.8888888888888888,
                            "#fdca26"
                          ],
                          [
                            1,
                            "#f0f921"
                          ]
                        ],
                        "type": "histogram2d"
                      }
                    ],
                    "histogram2dcontour": [
                      {
                        "colorbar": {
                          "outlinewidth": 0,
                          "ticks": ""
                        },
                        "colorscale": [
                          [
                            0,
                            "#0d0887"
                          ],
                          [
                            0.1111111111111111,
                            "#46039f"
                          ],
                          [
                            0.2222222222222222,
                            "#7201a8"
                          ],
                          [
                            0.3333333333333333,
                            "#9c179e"
                          ],
                          [
                            0.4444444444444444,
                            "#bd3786"
                          ],
                          [
                            0.5555555555555556,
                            "#d8576b"
                          ],
                          [
                            0.6666666666666666,
                            "#ed7953"
                          ],
                          [
                            0.7777777777777778,
                            "#fb9f3a"
                          ],
                          [
                            0.8888888888888888,
                            "#fdca26"
                          ],
                          [
                            1,
                            "#f0f921"
                          ]
                        ],
                        "type": "histogram2dcontour"
                      }
                    ],
                    "mesh3d": [
                      {
                        "colorbar": {
                          "outlinewidth": 0,
                          "ticks": ""
                        },
                        "type": "mesh3d"
                      }
                    ],
                    "parcoords": [
                      {
                        "line": {
                          "colorbar": {
                            "outlinewidth": 0,
                            "ticks": ""
                          }
                        },
                        "type": "parcoords"
                      }
                    ],
                    "pie": [
                      {
                        "automargin": true,
                        "type": "pie"
                      }
                    ],
                    "scatter": [
                      {
                        "fillpattern": {
                          "fillmode": "overlay",
                          "size": 10,
                          "solidity": 0.2
                        },
                        "type": "scatter"
                      }
                    ],
                    "scatter3d": [
                      {
                        "line": {
                          "colorbar": {
                            "outlinewidth": 0,
                            "ticks": ""
                          }
                        },
                        "marker": {
                          "colorbar": {
                            "outlinewidth": 0,
                            "ticks": ""
                          }
                        },
                        "type": "scatter3d"
                      }
                    ],
                    "scattercarpet": [
                      {
                        "marker": {
                          "colorbar": {
                            "outlinewidth": 0,
                            "ticks": ""
                          }
                        },
                        "type": "scattercarpet"
                      }
                    ],
                    "scattergeo": [
                      {
                        "marker": {
                          "colorbar": {
                            "outlinewidth": 0,
                            "ticks": ""
                          }
                        },
                        "type": "scattergeo"
                      }
                    ],
                    "scattergl": [
                      {
                        "marker": {
                          "colorbar": {
                            "outlinewidth": 0,
                            "ticks": ""
                          }
                        },
                        "type": "scattergl"
                      }
                    ],
                    "scattermapbox": [
                      {
                        "marker": {
                          "colorbar": {
                            "outlinewidth": 0,
                            "ticks": ""
                          }
                        },
                        "type": "scattermapbox"
                      }
                    ],
                    "scatterpolar": [
                      {
                        "marker": {
                          "colorbar": {
                            "outlinewidth": 0,
                            "ticks": ""
                          }
                        },
                        "type": "scatterpolar"
                      }
                    ],
                    "scatterpolargl": [
                      {
                        "marker": {
                          "colorbar": {
                            "outlinewidth": 0,
                            "ticks": ""
                          }
                        },
                        "type": "scatterpolargl"
                      }
                    ],
                    "scatterternary": [
                      {
                        "marker": {
                          "colorbar": {
                            "outlinewidth": 0,
                            "ticks": ""
                          }
                        },
                        "type": "scatterternary"
                      }
                    ],
                    "surface": [
                      {
                        "colorbar": {
                          "outlinewidth": 0,
                          "ticks": ""
                        },
                        "colorscale": [
                          [
                            0,
                            "#0d0887"
                          ],
                          [
                            0.1111111111111111,
                            "#46039f"
                          ],
                          [
                            0.2222222222222222,
                            "#7201a8"
                          ],
                          [
                            0.3333333333333333,
                            "#9c179e"
                          ],
                          [
                            0.4444444444444444,
                            "#bd3786"
                          ],
                          [
                            0.5555555555555556,
                            "#d8576b"
                          ],
                          [
                            0.6666666666666666,
                            "#ed7953"
                          ],
                          [
                            0.7777777777777778,
                            "#fb9f3a"
                          ],
                          [
                            0.8888888888888888,
                            "#fdca26"
                          ],
                          [
                            1,
                            "#f0f921"
                          ]
                        ],
                        "type": "surface"
                      }
                    ],
                    "table": [
                      {
                        "cells": {
                          "fill": {
                            "color": "#EBF0F8"
                          },
                          "line": {
                            "color": "white"
                          }
                        },
                        "header": {
                          "fill": {
                            "color": "#C8D4E3"
                          },
                          "line": {
                            "color": "white"
                          }
                        },
                        "type": "table"
                      }
                    ]
                  },
                  "layout": {
                    "annotationdefaults": {
                      "arrowcolor": "#2a3f5f",
                      "arrowhead": 0,
                      "arrowwidth": 1
                    },
                    "autotypenumbers": "strict",
                    "coloraxis": {
                      "colorbar": {
                        "outlinewidth": 0,
                        "ticks": ""
                      }
                    },
                    "colorscale": {
                      "diverging": [
                        [
                          0,
                          "#8e0152"
                        ],
                        [
                          0.1,
                          "#c51b7d"
                        ],
                        [
                          0.2,
                          "#de77ae"
                        ],
                        [
                          0.3,
                          "#f1b6da"
                        ],
                        [
                          0.4,
                          "#fde0ef"
                        ],
                        [
                          0.5,
                          "#f7f7f7"
                        ],
                        [
                          0.6,
                          "#e6f5d0"
                        ],
                        [
                          0.7,
                          "#b8e186"
                        ],
                        [
                          0.8,
                          "#7fbc41"
                        ],
                        [
                          0.9,
                          "#4d9221"
                        ],
                        [
                          1,
                          "#276419"
                        ]
                      ],
                      "sequential": [
                        [
                          0,
                          "#0d0887"
                        ],
                        [
                          0.1111111111111111,
                          "#46039f"
                        ],
                        [
                          0.2222222222222222,
                          "#7201a8"
                        ],
                        [
                          0.3333333333333333,
                          "#9c179e"
                        ],
                        [
                          0.4444444444444444,
                          "#bd3786"
                        ],
                        [
                          0.5555555555555556,
                          "#d8576b"
                        ],
                        [
                          0.6666666666666666,
                          "#ed7953"
                        ],
                        [
                          0.7777777777777778,
                          "#fb9f3a"
                        ],
                        [
                          0.8888888888888888,
                          "#fdca26"
                        ],
                        [
                          1,
                          "#f0f921"
                        ]
                      ],
                      "sequentialminus": [
                        [
                          0,
                          "#0d0887"
                        ],
                        [
                          0.1111111111111111,
                          "#46039f"
                        ],
                        [
                          0.2222222222222222,
                          "#7201a8"
                        ],
                        [
                          0.3333333333333333,
                          "#9c179e"
                        ],
                        [
                          0.4444444444444444,
                          "#bd3786"
                        ],
                        [
                          0.5555555555555556,
                          "#d8576b"
                        ],
                        [
                          0.6666666666666666,
                          "#ed7953"
                        ],
                        [
                          0.7777777777777778,
                          "#fb9f3a"
                        ],
                        [
                          0.8888888888888888,
                          "#fdca26"
                        ],
                        [
                          1,
                          "#f0f921"
                        ]
                      ]
                    },
                    "colorway": [
                      "#636efa",
                      "#EF553B",
                      "#00cc96",
                      "#ab63fa",
                      "#FFA15A",
                      "#19d3f3",
                      "#FF6692",
                      "#B6E880",
                      "#FF97FF",
                      "#FECB52"
                    ],
                    "font": {
                      "color": "#2a3f5f"
                    },
                    "geo": {
                      "bgcolor": "white",
                      "lakecolor": "white",
                      "landcolor": "#E5ECF6",
                      "showlakes": true,
                      "showland": true,
                      "subunitcolor": "white"
                    },
                    "hoverlabel": {
                      "align": "left"
                    },
                    "hovermode": "closest",
                    "mapbox": {
                      "style": "light"
                    },
                    "paper_bgcolor": "white",
                    "plot_bgcolor": "#E5ECF6",
                    "polar": {
                      "angularaxis": {
                        "gridcolor": "white",
                        "linecolor": "white",
                        "ticks": ""
                      },
                      "bgcolor": "#E5ECF6",
                      "radialaxis": {
                        "gridcolor": "white",
                        "linecolor": "white",
                        "ticks": ""
                      }
                    },
                    "scene": {
                      "xaxis": {
                        "backgroundcolor": "#E5ECF6",
                        "gridcolor": "white",
                        "gridwidth": 2,
                        "linecolor": "white",
                        "showbackground": true,
                        "ticks": "",
                        "zerolinecolor": "white"
                      },
                      "yaxis": {
                        "backgroundcolor": "#E5ECF6",
                        "gridcolor": "white",
                        "gridwidth": 2,
                        "linecolor": "white",
                        "showbackground": true,
                        "ticks": "",
                        "zerolinecolor": "white"
                      },
                      "zaxis": {
                        "backgroundcolor": "#E5ECF6",
                        "gridcolor": "white",
                        "gridwidth": 2,
                        "linecolor": "white",
                        "showbackground": true,
                        "ticks": "",
                        "zerolinecolor": "white"
                      }
                    },
                    "shapedefaults": {
                      "line": {
                        "color": "#2a3f5f"
                      }
                    },
                    "ternary": {
                      "aaxis": {
                        "gridcolor": "white",
                        "linecolor": "white",
                        "ticks": ""
                      },
                      "baxis": {
                        "gridcolor": "white",
                        "linecolor": "white",
                        "ticks": ""
                      },
                      "bgcolor": "#E5ECF6",
                      "caxis": {
                        "gridcolor": "white",
                        "linecolor": "white",
                        "ticks": ""
                      }
                    },
                    "title": {
                      "x": 0.05
                    },
                    "xaxis": {
                      "automargin": true,
                      "gridcolor": "white",
                      "linecolor": "white",
                      "ticks": "",
                      "title": {
                        "standoff": 15
                      },
                      "zerolinecolor": "white",
                      "zerolinewidth": 2
                    },
                    "yaxis": {
                      "automargin": true,
                      "gridcolor": "white",
                      "linecolor": "white",
                      "ticks": "",
                      "title": {
                        "standoff": 15
                      },
                      "zerolinecolor": "white",
                      "zerolinewidth": 2
                    }
                  }
                },
                "title": {
                  "text": "Internações por Ano"
                },
                "xaxis": {
                  "anchor": "y",
                  "domain": [
                    0,
                    1
                  ],
                  "title": {
                    "text": "Ano"
                  }
                },
                "yaxis": {
                  "anchor": "x",
                  "domain": [
                    0,
                    1
                  ],
                  "title": {
                    "text": "Quantidade"
                  }
                }
              }
            }
          },
          "metadata": {},
          "output_type": "display_data"
        }
      ],
      "source": [
        "px.line(ano_internacao, x='Ano', y = 'Quantidade', title='Internações por Ano')"
      ]
    },
    {
      "cell_type": "code",
      "execution_count": 161,
      "metadata": {
        "colab": {
          "base_uri": "https://localhost:8080/",
          "height": 542
        },
        "id": "nqbIM4fvNMUa",
        "outputId": "138b012c-2020-4c42-9ced-40985888c2f8"
      },
      "outputs": [
        {
          "data": {
            "application/vnd.plotly.v1+json": {
              "config": {
                "plotlyServerURL": "https://plot.ly"
              },
              "data": [
                {
                  "hovertemplate": "Mes Ano=%{x}<br>Quantidade=%{y}<extra></extra>",
                  "legendgroup": "",
                  "line": {
                    "color": "#636efa",
                    "dash": "solid"
                  },
                  "marker": {
                    "symbol": "circle"
                  },
                  "mode": "lines",
                  "name": "",
                  "orientation": "v",
                  "showlegend": false,
                  "type": "scatter",
                  "x": [
                    "2012/02",
                    "2012/03",
                    "2012/04",
                    "2012/05",
                    "2012/06",
                    "2012/07",
                    "2012/08",
                    "2012/09",
                    "2012/10",
                    "2012/11",
                    "2012/12",
                    "2013/01",
                    "2013/02",
                    "2013/03",
                    "2013/04",
                    "2013/05",
                    "2013/06",
                    "2013/07",
                    "2013/08",
                    "2013/09",
                    "2013/10",
                    "2013/11",
                    "2013/12",
                    "2014/01",
                    "2014/02",
                    "2014/03",
                    "2014/04",
                    "2014/05",
                    "2014/06",
                    "2014/07",
                    "2014/08",
                    "2014/09",
                    "2014/10",
                    "2014/11",
                    "2014/12",
                    "2015/01",
                    "2015/02",
                    "2015/03",
                    "2015/04",
                    "2015/05",
                    "2015/06",
                    "2015/07",
                    "2015/08",
                    "2015/09",
                    "2015/10",
                    "2015/11",
                    "2015/12",
                    "2016/01",
                    "2016/02",
                    "2016/03",
                    "2016/04",
                    "2016/05",
                    "2016/06",
                    "2016/07",
                    "2016/08",
                    "2016/09",
                    "2016/10",
                    "2016/11",
                    "2016/12",
                    "2017/01",
                    "2017/02",
                    "2017/03",
                    "2017/04",
                    "2017/05",
                    "2017/06",
                    "2017/07",
                    "2017/08",
                    "2017/09",
                    "2017/10",
                    "2017/11",
                    "2017/12"
                  ],
                  "xaxis": "x",
                  "y": [
                    2,
                    2,
                    8,
                    9,
                    10,
                    48,
                    166,
                    162,
                    153,
                    173,
                    123,
                    147,
                    124,
                    127,
                    150,
                    114,
                    146,
                    130,
                    133,
                    136,
                    134,
                    113,
                    120,
                    106,
                    127,
                    109,
                    121,
                    125,
                    97,
                    141,
                    118,
                    106,
                    129,
                    142,
                    127,
                    101,
                    110,
                    120,
                    111,
                    149,
                    130,
                    144,
                    124,
                    147,
                    178,
                    163,
                    142,
                    145,
                    140,
                    179,
                    152,
                    155,
                    158,
                    138,
                    146,
                    121,
                    125,
                    146,
                    140,
                    128,
                    111,
                    147,
                    107,
                    132,
                    129,
                    110,
                    126,
                    133,
                    138,
                    115,
                    137
                  ],
                  "yaxis": "y"
                }
              ],
              "layout": {
                "legend": {
                  "tracegroupgap": 0
                },
                "template": {
                  "data": {
                    "bar": [
                      {
                        "error_x": {
                          "color": "#2a3f5f"
                        },
                        "error_y": {
                          "color": "#2a3f5f"
                        },
                        "marker": {
                          "line": {
                            "color": "#E5ECF6",
                            "width": 0.5
                          },
                          "pattern": {
                            "fillmode": "overlay",
                            "size": 10,
                            "solidity": 0.2
                          }
                        },
                        "type": "bar"
                      }
                    ],
                    "barpolar": [
                      {
                        "marker": {
                          "line": {
                            "color": "#E5ECF6",
                            "width": 0.5
                          },
                          "pattern": {
                            "fillmode": "overlay",
                            "size": 10,
                            "solidity": 0.2
                          }
                        },
                        "type": "barpolar"
                      }
                    ],
                    "carpet": [
                      {
                        "aaxis": {
                          "endlinecolor": "#2a3f5f",
                          "gridcolor": "white",
                          "linecolor": "white",
                          "minorgridcolor": "white",
                          "startlinecolor": "#2a3f5f"
                        },
                        "baxis": {
                          "endlinecolor": "#2a3f5f",
                          "gridcolor": "white",
                          "linecolor": "white",
                          "minorgridcolor": "white",
                          "startlinecolor": "#2a3f5f"
                        },
                        "type": "carpet"
                      }
                    ],
                    "choropleth": [
                      {
                        "colorbar": {
                          "outlinewidth": 0,
                          "ticks": ""
                        },
                        "type": "choropleth"
                      }
                    ],
                    "contour": [
                      {
                        "colorbar": {
                          "outlinewidth": 0,
                          "ticks": ""
                        },
                        "colorscale": [
                          [
                            0,
                            "#0d0887"
                          ],
                          [
                            0.1111111111111111,
                            "#46039f"
                          ],
                          [
                            0.2222222222222222,
                            "#7201a8"
                          ],
                          [
                            0.3333333333333333,
                            "#9c179e"
                          ],
                          [
                            0.4444444444444444,
                            "#bd3786"
                          ],
                          [
                            0.5555555555555556,
                            "#d8576b"
                          ],
                          [
                            0.6666666666666666,
                            "#ed7953"
                          ],
                          [
                            0.7777777777777778,
                            "#fb9f3a"
                          ],
                          [
                            0.8888888888888888,
                            "#fdca26"
                          ],
                          [
                            1,
                            "#f0f921"
                          ]
                        ],
                        "type": "contour"
                      }
                    ],
                    "contourcarpet": [
                      {
                        "colorbar": {
                          "outlinewidth": 0,
                          "ticks": ""
                        },
                        "type": "contourcarpet"
                      }
                    ],
                    "heatmap": [
                      {
                        "colorbar": {
                          "outlinewidth": 0,
                          "ticks": ""
                        },
                        "colorscale": [
                          [
                            0,
                            "#0d0887"
                          ],
                          [
                            0.1111111111111111,
                            "#46039f"
                          ],
                          [
                            0.2222222222222222,
                            "#7201a8"
                          ],
                          [
                            0.3333333333333333,
                            "#9c179e"
                          ],
                          [
                            0.4444444444444444,
                            "#bd3786"
                          ],
                          [
                            0.5555555555555556,
                            "#d8576b"
                          ],
                          [
                            0.6666666666666666,
                            "#ed7953"
                          ],
                          [
                            0.7777777777777778,
                            "#fb9f3a"
                          ],
                          [
                            0.8888888888888888,
                            "#fdca26"
                          ],
                          [
                            1,
                            "#f0f921"
                          ]
                        ],
                        "type": "heatmap"
                      }
                    ],
                    "heatmapgl": [
                      {
                        "colorbar": {
                          "outlinewidth": 0,
                          "ticks": ""
                        },
                        "colorscale": [
                          [
                            0,
                            "#0d0887"
                          ],
                          [
                            0.1111111111111111,
                            "#46039f"
                          ],
                          [
                            0.2222222222222222,
                            "#7201a8"
                          ],
                          [
                            0.3333333333333333,
                            "#9c179e"
                          ],
                          [
                            0.4444444444444444,
                            "#bd3786"
                          ],
                          [
                            0.5555555555555556,
                            "#d8576b"
                          ],
                          [
                            0.6666666666666666,
                            "#ed7953"
                          ],
                          [
                            0.7777777777777778,
                            "#fb9f3a"
                          ],
                          [
                            0.8888888888888888,
                            "#fdca26"
                          ],
                          [
                            1,
                            "#f0f921"
                          ]
                        ],
                        "type": "heatmapgl"
                      }
                    ],
                    "histogram": [
                      {
                        "marker": {
                          "pattern": {
                            "fillmode": "overlay",
                            "size": 10,
                            "solidity": 0.2
                          }
                        },
                        "type": "histogram"
                      }
                    ],
                    "histogram2d": [
                      {
                        "colorbar": {
                          "outlinewidth": 0,
                          "ticks": ""
                        },
                        "colorscale": [
                          [
                            0,
                            "#0d0887"
                          ],
                          [
                            0.1111111111111111,
                            "#46039f"
                          ],
                          [
                            0.2222222222222222,
                            "#7201a8"
                          ],
                          [
                            0.3333333333333333,
                            "#9c179e"
                          ],
                          [
                            0.4444444444444444,
                            "#bd3786"
                          ],
                          [
                            0.5555555555555556,
                            "#d8576b"
                          ],
                          [
                            0.6666666666666666,
                            "#ed7953"
                          ],
                          [
                            0.7777777777777778,
                            "#fb9f3a"
                          ],
                          [
                            0.8888888888888888,
                            "#fdca26"
                          ],
                          [
                            1,
                            "#f0f921"
                          ]
                        ],
                        "type": "histogram2d"
                      }
                    ],
                    "histogram2dcontour": [
                      {
                        "colorbar": {
                          "outlinewidth": 0,
                          "ticks": ""
                        },
                        "colorscale": [
                          [
                            0,
                            "#0d0887"
                          ],
                          [
                            0.1111111111111111,
                            "#46039f"
                          ],
                          [
                            0.2222222222222222,
                            "#7201a8"
                          ],
                          [
                            0.3333333333333333,
                            "#9c179e"
                          ],
                          [
                            0.4444444444444444,
                            "#bd3786"
                          ],
                          [
                            0.5555555555555556,
                            "#d8576b"
                          ],
                          [
                            0.6666666666666666,
                            "#ed7953"
                          ],
                          [
                            0.7777777777777778,
                            "#fb9f3a"
                          ],
                          [
                            0.8888888888888888,
                            "#fdca26"
                          ],
                          [
                            1,
                            "#f0f921"
                          ]
                        ],
                        "type": "histogram2dcontour"
                      }
                    ],
                    "mesh3d": [
                      {
                        "colorbar": {
                          "outlinewidth": 0,
                          "ticks": ""
                        },
                        "type": "mesh3d"
                      }
                    ],
                    "parcoords": [
                      {
                        "line": {
                          "colorbar": {
                            "outlinewidth": 0,
                            "ticks": ""
                          }
                        },
                        "type": "parcoords"
                      }
                    ],
                    "pie": [
                      {
                        "automargin": true,
                        "type": "pie"
                      }
                    ],
                    "scatter": [
                      {
                        "fillpattern": {
                          "fillmode": "overlay",
                          "size": 10,
                          "solidity": 0.2
                        },
                        "type": "scatter"
                      }
                    ],
                    "scatter3d": [
                      {
                        "line": {
                          "colorbar": {
                            "outlinewidth": 0,
                            "ticks": ""
                          }
                        },
                        "marker": {
                          "colorbar": {
                            "outlinewidth": 0,
                            "ticks": ""
                          }
                        },
                        "type": "scatter3d"
                      }
                    ],
                    "scattercarpet": [
                      {
                        "marker": {
                          "colorbar": {
                            "outlinewidth": 0,
                            "ticks": ""
                          }
                        },
                        "type": "scattercarpet"
                      }
                    ],
                    "scattergeo": [
                      {
                        "marker": {
                          "colorbar": {
                            "outlinewidth": 0,
                            "ticks": ""
                          }
                        },
                        "type": "scattergeo"
                      }
                    ],
                    "scattergl": [
                      {
                        "marker": {
                          "colorbar": {
                            "outlinewidth": 0,
                            "ticks": ""
                          }
                        },
                        "type": "scattergl"
                      }
                    ],
                    "scattermapbox": [
                      {
                        "marker": {
                          "colorbar": {
                            "outlinewidth": 0,
                            "ticks": ""
                          }
                        },
                        "type": "scattermapbox"
                      }
                    ],
                    "scatterpolar": [
                      {
                        "marker": {
                          "colorbar": {
                            "outlinewidth": 0,
                            "ticks": ""
                          }
                        },
                        "type": "scatterpolar"
                      }
                    ],
                    "scatterpolargl": [
                      {
                        "marker": {
                          "colorbar": {
                            "outlinewidth": 0,
                            "ticks": ""
                          }
                        },
                        "type": "scatterpolargl"
                      }
                    ],
                    "scatterternary": [
                      {
                        "marker": {
                          "colorbar": {
                            "outlinewidth": 0,
                            "ticks": ""
                          }
                        },
                        "type": "scatterternary"
                      }
                    ],
                    "surface": [
                      {
                        "colorbar": {
                          "outlinewidth": 0,
                          "ticks": ""
                        },
                        "colorscale": [
                          [
                            0,
                            "#0d0887"
                          ],
                          [
                            0.1111111111111111,
                            "#46039f"
                          ],
                          [
                            0.2222222222222222,
                            "#7201a8"
                          ],
                          [
                            0.3333333333333333,
                            "#9c179e"
                          ],
                          [
                            0.4444444444444444,
                            "#bd3786"
                          ],
                          [
                            0.5555555555555556,
                            "#d8576b"
                          ],
                          [
                            0.6666666666666666,
                            "#ed7953"
                          ],
                          [
                            0.7777777777777778,
                            "#fb9f3a"
                          ],
                          [
                            0.8888888888888888,
                            "#fdca26"
                          ],
                          [
                            1,
                            "#f0f921"
                          ]
                        ],
                        "type": "surface"
                      }
                    ],
                    "table": [
                      {
                        "cells": {
                          "fill": {
                            "color": "#EBF0F8"
                          },
                          "line": {
                            "color": "white"
                          }
                        },
                        "header": {
                          "fill": {
                            "color": "#C8D4E3"
                          },
                          "line": {
                            "color": "white"
                          }
                        },
                        "type": "table"
                      }
                    ]
                  },
                  "layout": {
                    "annotationdefaults": {
                      "arrowcolor": "#2a3f5f",
                      "arrowhead": 0,
                      "arrowwidth": 1
                    },
                    "autotypenumbers": "strict",
                    "coloraxis": {
                      "colorbar": {
                        "outlinewidth": 0,
                        "ticks": ""
                      }
                    },
                    "colorscale": {
                      "diverging": [
                        [
                          0,
                          "#8e0152"
                        ],
                        [
                          0.1,
                          "#c51b7d"
                        ],
                        [
                          0.2,
                          "#de77ae"
                        ],
                        [
                          0.3,
                          "#f1b6da"
                        ],
                        [
                          0.4,
                          "#fde0ef"
                        ],
                        [
                          0.5,
                          "#f7f7f7"
                        ],
                        [
                          0.6,
                          "#e6f5d0"
                        ],
                        [
                          0.7,
                          "#b8e186"
                        ],
                        [
                          0.8,
                          "#7fbc41"
                        ],
                        [
                          0.9,
                          "#4d9221"
                        ],
                        [
                          1,
                          "#276419"
                        ]
                      ],
                      "sequential": [
                        [
                          0,
                          "#0d0887"
                        ],
                        [
                          0.1111111111111111,
                          "#46039f"
                        ],
                        [
                          0.2222222222222222,
                          "#7201a8"
                        ],
                        [
                          0.3333333333333333,
                          "#9c179e"
                        ],
                        [
                          0.4444444444444444,
                          "#bd3786"
                        ],
                        [
                          0.5555555555555556,
                          "#d8576b"
                        ],
                        [
                          0.6666666666666666,
                          "#ed7953"
                        ],
                        [
                          0.7777777777777778,
                          "#fb9f3a"
                        ],
                        [
                          0.8888888888888888,
                          "#fdca26"
                        ],
                        [
                          1,
                          "#f0f921"
                        ]
                      ],
                      "sequentialminus": [
                        [
                          0,
                          "#0d0887"
                        ],
                        [
                          0.1111111111111111,
                          "#46039f"
                        ],
                        [
                          0.2222222222222222,
                          "#7201a8"
                        ],
                        [
                          0.3333333333333333,
                          "#9c179e"
                        ],
                        [
                          0.4444444444444444,
                          "#bd3786"
                        ],
                        [
                          0.5555555555555556,
                          "#d8576b"
                        ],
                        [
                          0.6666666666666666,
                          "#ed7953"
                        ],
                        [
                          0.7777777777777778,
                          "#fb9f3a"
                        ],
                        [
                          0.8888888888888888,
                          "#fdca26"
                        ],
                        [
                          1,
                          "#f0f921"
                        ]
                      ]
                    },
                    "colorway": [
                      "#636efa",
                      "#EF553B",
                      "#00cc96",
                      "#ab63fa",
                      "#FFA15A",
                      "#19d3f3",
                      "#FF6692",
                      "#B6E880",
                      "#FF97FF",
                      "#FECB52"
                    ],
                    "font": {
                      "color": "#2a3f5f"
                    },
                    "geo": {
                      "bgcolor": "white",
                      "lakecolor": "white",
                      "landcolor": "#E5ECF6",
                      "showlakes": true,
                      "showland": true,
                      "subunitcolor": "white"
                    },
                    "hoverlabel": {
                      "align": "left"
                    },
                    "hovermode": "closest",
                    "mapbox": {
                      "style": "light"
                    },
                    "paper_bgcolor": "white",
                    "plot_bgcolor": "#E5ECF6",
                    "polar": {
                      "angularaxis": {
                        "gridcolor": "white",
                        "linecolor": "white",
                        "ticks": ""
                      },
                      "bgcolor": "#E5ECF6",
                      "radialaxis": {
                        "gridcolor": "white",
                        "linecolor": "white",
                        "ticks": ""
                      }
                    },
                    "scene": {
                      "xaxis": {
                        "backgroundcolor": "#E5ECF6",
                        "gridcolor": "white",
                        "gridwidth": 2,
                        "linecolor": "white",
                        "showbackground": true,
                        "ticks": "",
                        "zerolinecolor": "white"
                      },
                      "yaxis": {
                        "backgroundcolor": "#E5ECF6",
                        "gridcolor": "white",
                        "gridwidth": 2,
                        "linecolor": "white",
                        "showbackground": true,
                        "ticks": "",
                        "zerolinecolor": "white"
                      },
                      "zaxis": {
                        "backgroundcolor": "#E5ECF6",
                        "gridcolor": "white",
                        "gridwidth": 2,
                        "linecolor": "white",
                        "showbackground": true,
                        "ticks": "",
                        "zerolinecolor": "white"
                      }
                    },
                    "shapedefaults": {
                      "line": {
                        "color": "#2a3f5f"
                      }
                    },
                    "ternary": {
                      "aaxis": {
                        "gridcolor": "white",
                        "linecolor": "white",
                        "ticks": ""
                      },
                      "baxis": {
                        "gridcolor": "white",
                        "linecolor": "white",
                        "ticks": ""
                      },
                      "bgcolor": "#E5ECF6",
                      "caxis": {
                        "gridcolor": "white",
                        "linecolor": "white",
                        "ticks": ""
                      }
                    },
                    "title": {
                      "x": 0.05
                    },
                    "xaxis": {
                      "automargin": true,
                      "gridcolor": "white",
                      "linecolor": "white",
                      "ticks": "",
                      "title": {
                        "standoff": 15
                      },
                      "zerolinecolor": "white",
                      "zerolinewidth": 2
                    },
                    "yaxis": {
                      "automargin": true,
                      "gridcolor": "white",
                      "linecolor": "white",
                      "ticks": "",
                      "title": {
                        "standoff": 15
                      },
                      "zerolinecolor": "white",
                      "zerolinewidth": 2
                    }
                  }
                },
                "title": {
                  "text": "Internações por Mes/Ano"
                },
                "xaxis": {
                  "anchor": "y",
                  "domain": [
                    0,
                    1
                  ],
                  "title": {
                    "text": "Mes Ano"
                  }
                },
                "yaxis": {
                  "anchor": "x",
                  "domain": [
                    0,
                    1
                  ],
                  "title": {
                    "text": "Quantidade"
                  }
                }
              }
            }
          },
          "metadata": {},
          "output_type": "display_data"
        }
      ],
      "source": [
        "px.line(data_internacao, x='Mes Ano', y = 'Quantidade', title='Internações por Mes/Ano')"
      ]
    },
    {
      "cell_type": "markdown",
      "metadata": {},
      "source": [
        "Para a análise de meses agrupados por ano, não é possível notar alguma tendência anual com os meses, porém é notável a variabilidade de internações entre os meses para cada ano."
      ]
    },
    {
      "cell_type": "code",
      "execution_count": 162,
      "metadata": {},
      "outputs": [
        {
          "data": {
            "application/vnd.plotly.v1+json": {
              "config": {
                "plotlyServerURL": "https://plot.ly"
              },
              "data": [
                {
                  "hovertemplate": "Mes=6<br>Ano=%{x}<br>Quantidade=%{y}<extra></extra>",
                  "legendgroup": "6",
                  "line": {
                    "color": "#636efa",
                    "dash": "solid"
                  },
                  "marker": {
                    "symbol": "circle"
                  },
                  "mode": "lines",
                  "name": "6",
                  "orientation": "v",
                  "showlegend": true,
                  "type": "scatter",
                  "x": [
                    2013,
                    2014,
                    2015,
                    2016,
                    2017
                  ],
                  "xaxis": "x",
                  "y": [
                    0.09275730622617535,
                    0.06698895027624309,
                    0.08029647930821494,
                    0.09054441260744986,
                    0.08526107072042301
                  ],
                  "yaxis": "y"
                },
                {
                  "hovertemplate": "Mes=7<br>Ano=%{x}<br>Quantidade=%{y}<extra></extra>",
                  "legendgroup": "7",
                  "line": {
                    "color": "#EF553B",
                    "dash": "solid"
                  },
                  "marker": {
                    "symbol": "circle"
                  },
                  "mode": "lines",
                  "name": "7",
                  "orientation": "v",
                  "showlegend": true,
                  "type": "scatter",
                  "x": [
                    2013,
                    2014,
                    2015,
                    2016,
                    2017
                  ],
                  "xaxis": "x",
                  "y": [
                    0.08259212198221093,
                    0.09737569060773481,
                    0.08894379246448425,
                    0.07908309455587392,
                    0.07270323859881031
                  ],
                  "yaxis": "y"
                },
                {
                  "hovertemplate": "Mes=8<br>Ano=%{x}<br>Quantidade=%{y}<extra></extra>",
                  "legendgroup": "8",
                  "line": {
                    "color": "#00cc96",
                    "dash": "solid"
                  },
                  "marker": {
                    "symbol": "circle"
                  },
                  "mode": "lines",
                  "name": "8",
                  "orientation": "v",
                  "showlegend": true,
                  "type": "scatter",
                  "x": [
                    2013,
                    2014,
                    2015,
                    2016,
                    2017
                  ],
                  "xaxis": "x",
                  "y": [
                    0.08449809402795426,
                    0.08149171270718232,
                    0.0765904879555281,
                    0.0836676217765043,
                    0.08327825512227363
                  ],
                  "yaxis": "y"
                },
                {
                  "hovertemplate": "Mes=5<br>Ano=%{x}<br>Quantidade=%{y}<extra></extra>",
                  "legendgroup": "5",
                  "line": {
                    "color": "#ab63fa",
                    "dash": "solid"
                  },
                  "marker": {
                    "symbol": "circle"
                  },
                  "mode": "lines",
                  "name": "5",
                  "orientation": "v",
                  "showlegend": true,
                  "type": "scatter",
                  "x": [
                    2013,
                    2014,
                    2015,
                    2016,
                    2017
                  ],
                  "xaxis": "x",
                  "y": [
                    0.0724269377382465,
                    0.08632596685082873,
                    0.09203211859172329,
                    0.08882521489971347,
                    0.08724388631857237
                  ],
                  "yaxis": "y"
                },
                {
                  "hovertemplate": "Mes=9<br>Ano=%{x}<br>Quantidade=%{y}<extra></extra>",
                  "legendgroup": "9",
                  "line": {
                    "color": "#FFA15A",
                    "dash": "solid"
                  },
                  "marker": {
                    "symbol": "circle"
                  },
                  "mode": "lines",
                  "name": "9",
                  "orientation": "v",
                  "showlegend": true,
                  "type": "scatter",
                  "x": [
                    2013,
                    2014,
                    2015,
                    2016,
                    2017
                  ],
                  "xaxis": "x",
                  "y": [
                    0.08640406607369759,
                    0.07320441988950276,
                    0.09079678814082767,
                    0.06934097421203439,
                    0.08790482485128882
                  ],
                  "yaxis": "y"
                },
                {
                  "hovertemplate": "Mes=4<br>Ano=%{x}<br>Quantidade=%{y}<extra></extra>",
                  "legendgroup": "4",
                  "line": {
                    "color": "#19d3f3",
                    "dash": "solid"
                  },
                  "marker": {
                    "symbol": "circle"
                  },
                  "mode": "lines",
                  "name": "4",
                  "orientation": "v",
                  "showlegend": true,
                  "type": "scatter",
                  "x": [
                    2013,
                    2014,
                    2015,
                    2016,
                    2017
                  ],
                  "xaxis": "x",
                  "y": [
                    0.09529860228716645,
                    0.0835635359116022,
                    0.06856084002470661,
                    0.08710601719197708,
                    0.07072042300066093
                  ],
                  "yaxis": "y"
                },
                {
                  "hovertemplate": "Mes=10<br>Ano=%{x}<br>Quantidade=%{y}<extra></extra>",
                  "legendgroup": "10",
                  "line": {
                    "color": "#FF6692",
                    "dash": "solid"
                  },
                  "marker": {
                    "symbol": "circle"
                  },
                  "mode": "lines",
                  "name": "10",
                  "orientation": "v",
                  "showlegend": true,
                  "type": "scatter",
                  "x": [
                    2013,
                    2014,
                    2015,
                    2016,
                    2017
                  ],
                  "xaxis": "x",
                  "y": [
                    0.08513341804320203,
                    0.08908839779005524,
                    0.1099444101297097,
                    0.07163323782234957,
                    0.09120951751487112
                  ],
                  "yaxis": "y"
                },
                {
                  "hovertemplate": "Mes=2<br>Ano=%{x}<br>Quantidade=%{y}<extra></extra>",
                  "legendgroup": "2",
                  "line": {
                    "color": "#B6E880",
                    "dash": "solid"
                  },
                  "marker": {
                    "symbol": "circle"
                  },
                  "mode": "lines",
                  "name": "2",
                  "orientation": "v",
                  "showlegend": true,
                  "type": "scatter",
                  "x": [
                    2013,
                    2014,
                    2015,
                    2016,
                    2017
                  ],
                  "xaxis": "x",
                  "y": [
                    0.07878017789072427,
                    0.08770718232044199,
                    0.06794317479925881,
                    0.08022922636103152,
                    0.07336417713152676
                  ],
                  "yaxis": "y"
                },
                {
                  "hovertemplate": "Mes=3<br>Ano=%{x}<br>Quantidade=%{y}<extra></extra>",
                  "legendgroup": "3",
                  "line": {
                    "color": "#FF97FF",
                    "dash": "solid"
                  },
                  "marker": {
                    "symbol": "circle"
                  },
                  "mode": "lines",
                  "name": "3",
                  "orientation": "v",
                  "showlegend": true,
                  "type": "scatter",
                  "x": [
                    2013,
                    2014,
                    2015,
                    2016,
                    2017
                  ],
                  "xaxis": "x",
                  "y": [
                    0.0806861499364676,
                    0.07527624309392265,
                    0.07411982705373688,
                    0.10257879656160458,
                    0.09715796430931924
                  ],
                  "yaxis": "y"
                },
                {
                  "hovertemplate": "Mes=12<br>Ano=%{x}<br>Quantidade=%{y}<extra></extra>",
                  "legendgroup": "12",
                  "line": {
                    "color": "#FECB52",
                    "dash": "solid"
                  },
                  "marker": {
                    "symbol": "circle"
                  },
                  "mode": "lines",
                  "name": "12",
                  "orientation": "v",
                  "showlegend": true,
                  "type": "scatter",
                  "x": [
                    2013,
                    2014,
                    2015,
                    2016,
                    2017
                  ],
                  "xaxis": "x",
                  "y": [
                    0.07623888182973317,
                    0.08770718232044199,
                    0.08770846201358863,
                    0.08022922636103152,
                    0.09054857898215465
                  ],
                  "yaxis": "y"
                },
                {
                  "hovertemplate": "Mes=11<br>Ano=%{x}<br>Quantidade=%{y}<extra></extra>",
                  "legendgroup": "11",
                  "line": {
                    "color": "#636efa",
                    "dash": "solid"
                  },
                  "marker": {
                    "symbol": "circle"
                  },
                  "mode": "lines",
                  "name": "11",
                  "orientation": "v",
                  "showlegend": true,
                  "type": "scatter",
                  "x": [
                    2013,
                    2014,
                    2015,
                    2016,
                    2017
                  ],
                  "xaxis": "x",
                  "y": [
                    0.07179161372299873,
                    0.09806629834254144,
                    0.10067943174799258,
                    0.0836676217765043,
                    0.0760079312623926
                  ],
                  "yaxis": "y"
                },
                {
                  "hovertemplate": "Mes=1<br>Ano=%{x}<br>Quantidade=%{y}<extra></extra>",
                  "legendgroup": "1",
                  "line": {
                    "color": "#EF553B",
                    "dash": "solid"
                  },
                  "marker": {
                    "symbol": "circle"
                  },
                  "mode": "lines",
                  "name": "1",
                  "orientation": "v",
                  "showlegend": true,
                  "type": "scatter",
                  "x": [
                    2013,
                    2014,
                    2015,
                    2016,
                    2017
                  ],
                  "xaxis": "x",
                  "y": [
                    0.09339263024142312,
                    0.07320441988950276,
                    0.062384187770228534,
                    0.0830945558739255,
                    0.08460013218770654
                  ],
                  "yaxis": "y"
                }
              ],
              "layout": {
                "legend": {
                  "title": {
                    "text": "Mes"
                  },
                  "tracegroupgap": 0
                },
                "template": {
                  "data": {
                    "bar": [
                      {
                        "error_x": {
                          "color": "#2a3f5f"
                        },
                        "error_y": {
                          "color": "#2a3f5f"
                        },
                        "marker": {
                          "line": {
                            "color": "#E5ECF6",
                            "width": 0.5
                          },
                          "pattern": {
                            "fillmode": "overlay",
                            "size": 10,
                            "solidity": 0.2
                          }
                        },
                        "type": "bar"
                      }
                    ],
                    "barpolar": [
                      {
                        "marker": {
                          "line": {
                            "color": "#E5ECF6",
                            "width": 0.5
                          },
                          "pattern": {
                            "fillmode": "overlay",
                            "size": 10,
                            "solidity": 0.2
                          }
                        },
                        "type": "barpolar"
                      }
                    ],
                    "carpet": [
                      {
                        "aaxis": {
                          "endlinecolor": "#2a3f5f",
                          "gridcolor": "white",
                          "linecolor": "white",
                          "minorgridcolor": "white",
                          "startlinecolor": "#2a3f5f"
                        },
                        "baxis": {
                          "endlinecolor": "#2a3f5f",
                          "gridcolor": "white",
                          "linecolor": "white",
                          "minorgridcolor": "white",
                          "startlinecolor": "#2a3f5f"
                        },
                        "type": "carpet"
                      }
                    ],
                    "choropleth": [
                      {
                        "colorbar": {
                          "outlinewidth": 0,
                          "ticks": ""
                        },
                        "type": "choropleth"
                      }
                    ],
                    "contour": [
                      {
                        "colorbar": {
                          "outlinewidth": 0,
                          "ticks": ""
                        },
                        "colorscale": [
                          [
                            0,
                            "#0d0887"
                          ],
                          [
                            0.1111111111111111,
                            "#46039f"
                          ],
                          [
                            0.2222222222222222,
                            "#7201a8"
                          ],
                          [
                            0.3333333333333333,
                            "#9c179e"
                          ],
                          [
                            0.4444444444444444,
                            "#bd3786"
                          ],
                          [
                            0.5555555555555556,
                            "#d8576b"
                          ],
                          [
                            0.6666666666666666,
                            "#ed7953"
                          ],
                          [
                            0.7777777777777778,
                            "#fb9f3a"
                          ],
                          [
                            0.8888888888888888,
                            "#fdca26"
                          ],
                          [
                            1,
                            "#f0f921"
                          ]
                        ],
                        "type": "contour"
                      }
                    ],
                    "contourcarpet": [
                      {
                        "colorbar": {
                          "outlinewidth": 0,
                          "ticks": ""
                        },
                        "type": "contourcarpet"
                      }
                    ],
                    "heatmap": [
                      {
                        "colorbar": {
                          "outlinewidth": 0,
                          "ticks": ""
                        },
                        "colorscale": [
                          [
                            0,
                            "#0d0887"
                          ],
                          [
                            0.1111111111111111,
                            "#46039f"
                          ],
                          [
                            0.2222222222222222,
                            "#7201a8"
                          ],
                          [
                            0.3333333333333333,
                            "#9c179e"
                          ],
                          [
                            0.4444444444444444,
                            "#bd3786"
                          ],
                          [
                            0.5555555555555556,
                            "#d8576b"
                          ],
                          [
                            0.6666666666666666,
                            "#ed7953"
                          ],
                          [
                            0.7777777777777778,
                            "#fb9f3a"
                          ],
                          [
                            0.8888888888888888,
                            "#fdca26"
                          ],
                          [
                            1,
                            "#f0f921"
                          ]
                        ],
                        "type": "heatmap"
                      }
                    ],
                    "heatmapgl": [
                      {
                        "colorbar": {
                          "outlinewidth": 0,
                          "ticks": ""
                        },
                        "colorscale": [
                          [
                            0,
                            "#0d0887"
                          ],
                          [
                            0.1111111111111111,
                            "#46039f"
                          ],
                          [
                            0.2222222222222222,
                            "#7201a8"
                          ],
                          [
                            0.3333333333333333,
                            "#9c179e"
                          ],
                          [
                            0.4444444444444444,
                            "#bd3786"
                          ],
                          [
                            0.5555555555555556,
                            "#d8576b"
                          ],
                          [
                            0.6666666666666666,
                            "#ed7953"
                          ],
                          [
                            0.7777777777777778,
                            "#fb9f3a"
                          ],
                          [
                            0.8888888888888888,
                            "#fdca26"
                          ],
                          [
                            1,
                            "#f0f921"
                          ]
                        ],
                        "type": "heatmapgl"
                      }
                    ],
                    "histogram": [
                      {
                        "marker": {
                          "pattern": {
                            "fillmode": "overlay",
                            "size": 10,
                            "solidity": 0.2
                          }
                        },
                        "type": "histogram"
                      }
                    ],
                    "histogram2d": [
                      {
                        "colorbar": {
                          "outlinewidth": 0,
                          "ticks": ""
                        },
                        "colorscale": [
                          [
                            0,
                            "#0d0887"
                          ],
                          [
                            0.1111111111111111,
                            "#46039f"
                          ],
                          [
                            0.2222222222222222,
                            "#7201a8"
                          ],
                          [
                            0.3333333333333333,
                            "#9c179e"
                          ],
                          [
                            0.4444444444444444,
                            "#bd3786"
                          ],
                          [
                            0.5555555555555556,
                            "#d8576b"
                          ],
                          [
                            0.6666666666666666,
                            "#ed7953"
                          ],
                          [
                            0.7777777777777778,
                            "#fb9f3a"
                          ],
                          [
                            0.8888888888888888,
                            "#fdca26"
                          ],
                          [
                            1,
                            "#f0f921"
                          ]
                        ],
                        "type": "histogram2d"
                      }
                    ],
                    "histogram2dcontour": [
                      {
                        "colorbar": {
                          "outlinewidth": 0,
                          "ticks": ""
                        },
                        "colorscale": [
                          [
                            0,
                            "#0d0887"
                          ],
                          [
                            0.1111111111111111,
                            "#46039f"
                          ],
                          [
                            0.2222222222222222,
                            "#7201a8"
                          ],
                          [
                            0.3333333333333333,
                            "#9c179e"
                          ],
                          [
                            0.4444444444444444,
                            "#bd3786"
                          ],
                          [
                            0.5555555555555556,
                            "#d8576b"
                          ],
                          [
                            0.6666666666666666,
                            "#ed7953"
                          ],
                          [
                            0.7777777777777778,
                            "#fb9f3a"
                          ],
                          [
                            0.8888888888888888,
                            "#fdca26"
                          ],
                          [
                            1,
                            "#f0f921"
                          ]
                        ],
                        "type": "histogram2dcontour"
                      }
                    ],
                    "mesh3d": [
                      {
                        "colorbar": {
                          "outlinewidth": 0,
                          "ticks": ""
                        },
                        "type": "mesh3d"
                      }
                    ],
                    "parcoords": [
                      {
                        "line": {
                          "colorbar": {
                            "outlinewidth": 0,
                            "ticks": ""
                          }
                        },
                        "type": "parcoords"
                      }
                    ],
                    "pie": [
                      {
                        "automargin": true,
                        "type": "pie"
                      }
                    ],
                    "scatter": [
                      {
                        "fillpattern": {
                          "fillmode": "overlay",
                          "size": 10,
                          "solidity": 0.2
                        },
                        "type": "scatter"
                      }
                    ],
                    "scatter3d": [
                      {
                        "line": {
                          "colorbar": {
                            "outlinewidth": 0,
                            "ticks": ""
                          }
                        },
                        "marker": {
                          "colorbar": {
                            "outlinewidth": 0,
                            "ticks": ""
                          }
                        },
                        "type": "scatter3d"
                      }
                    ],
                    "scattercarpet": [
                      {
                        "marker": {
                          "colorbar": {
                            "outlinewidth": 0,
                            "ticks": ""
                          }
                        },
                        "type": "scattercarpet"
                      }
                    ],
                    "scattergeo": [
                      {
                        "marker": {
                          "colorbar": {
                            "outlinewidth": 0,
                            "ticks": ""
                          }
                        },
                        "type": "scattergeo"
                      }
                    ],
                    "scattergl": [
                      {
                        "marker": {
                          "colorbar": {
                            "outlinewidth": 0,
                            "ticks": ""
                          }
                        },
                        "type": "scattergl"
                      }
                    ],
                    "scattermapbox": [
                      {
                        "marker": {
                          "colorbar": {
                            "outlinewidth": 0,
                            "ticks": ""
                          }
                        },
                        "type": "scattermapbox"
                      }
                    ],
                    "scatterpolar": [
                      {
                        "marker": {
                          "colorbar": {
                            "outlinewidth": 0,
                            "ticks": ""
                          }
                        },
                        "type": "scatterpolar"
                      }
                    ],
                    "scatterpolargl": [
                      {
                        "marker": {
                          "colorbar": {
                            "outlinewidth": 0,
                            "ticks": ""
                          }
                        },
                        "type": "scatterpolargl"
                      }
                    ],
                    "scatterternary": [
                      {
                        "marker": {
                          "colorbar": {
                            "outlinewidth": 0,
                            "ticks": ""
                          }
                        },
                        "type": "scatterternary"
                      }
                    ],
                    "surface": [
                      {
                        "colorbar": {
                          "outlinewidth": 0,
                          "ticks": ""
                        },
                        "colorscale": [
                          [
                            0,
                            "#0d0887"
                          ],
                          [
                            0.1111111111111111,
                            "#46039f"
                          ],
                          [
                            0.2222222222222222,
                            "#7201a8"
                          ],
                          [
                            0.3333333333333333,
                            "#9c179e"
                          ],
                          [
                            0.4444444444444444,
                            "#bd3786"
                          ],
                          [
                            0.5555555555555556,
                            "#d8576b"
                          ],
                          [
                            0.6666666666666666,
                            "#ed7953"
                          ],
                          [
                            0.7777777777777778,
                            "#fb9f3a"
                          ],
                          [
                            0.8888888888888888,
                            "#fdca26"
                          ],
                          [
                            1,
                            "#f0f921"
                          ]
                        ],
                        "type": "surface"
                      }
                    ],
                    "table": [
                      {
                        "cells": {
                          "fill": {
                            "color": "#EBF0F8"
                          },
                          "line": {
                            "color": "white"
                          }
                        },
                        "header": {
                          "fill": {
                            "color": "#C8D4E3"
                          },
                          "line": {
                            "color": "white"
                          }
                        },
                        "type": "table"
                      }
                    ]
                  },
                  "layout": {
                    "annotationdefaults": {
                      "arrowcolor": "#2a3f5f",
                      "arrowhead": 0,
                      "arrowwidth": 1
                    },
                    "autotypenumbers": "strict",
                    "coloraxis": {
                      "colorbar": {
                        "outlinewidth": 0,
                        "ticks": ""
                      }
                    },
                    "colorscale": {
                      "diverging": [
                        [
                          0,
                          "#8e0152"
                        ],
                        [
                          0.1,
                          "#c51b7d"
                        ],
                        [
                          0.2,
                          "#de77ae"
                        ],
                        [
                          0.3,
                          "#f1b6da"
                        ],
                        [
                          0.4,
                          "#fde0ef"
                        ],
                        [
                          0.5,
                          "#f7f7f7"
                        ],
                        [
                          0.6,
                          "#e6f5d0"
                        ],
                        [
                          0.7,
                          "#b8e186"
                        ],
                        [
                          0.8,
                          "#7fbc41"
                        ],
                        [
                          0.9,
                          "#4d9221"
                        ],
                        [
                          1,
                          "#276419"
                        ]
                      ],
                      "sequential": [
                        [
                          0,
                          "#0d0887"
                        ],
                        [
                          0.1111111111111111,
                          "#46039f"
                        ],
                        [
                          0.2222222222222222,
                          "#7201a8"
                        ],
                        [
                          0.3333333333333333,
                          "#9c179e"
                        ],
                        [
                          0.4444444444444444,
                          "#bd3786"
                        ],
                        [
                          0.5555555555555556,
                          "#d8576b"
                        ],
                        [
                          0.6666666666666666,
                          "#ed7953"
                        ],
                        [
                          0.7777777777777778,
                          "#fb9f3a"
                        ],
                        [
                          0.8888888888888888,
                          "#fdca26"
                        ],
                        [
                          1,
                          "#f0f921"
                        ]
                      ],
                      "sequentialminus": [
                        [
                          0,
                          "#0d0887"
                        ],
                        [
                          0.1111111111111111,
                          "#46039f"
                        ],
                        [
                          0.2222222222222222,
                          "#7201a8"
                        ],
                        [
                          0.3333333333333333,
                          "#9c179e"
                        ],
                        [
                          0.4444444444444444,
                          "#bd3786"
                        ],
                        [
                          0.5555555555555556,
                          "#d8576b"
                        ],
                        [
                          0.6666666666666666,
                          "#ed7953"
                        ],
                        [
                          0.7777777777777778,
                          "#fb9f3a"
                        ],
                        [
                          0.8888888888888888,
                          "#fdca26"
                        ],
                        [
                          1,
                          "#f0f921"
                        ]
                      ]
                    },
                    "colorway": [
                      "#636efa",
                      "#EF553B",
                      "#00cc96",
                      "#ab63fa",
                      "#FFA15A",
                      "#19d3f3",
                      "#FF6692",
                      "#B6E880",
                      "#FF97FF",
                      "#FECB52"
                    ],
                    "font": {
                      "color": "#2a3f5f"
                    },
                    "geo": {
                      "bgcolor": "white",
                      "lakecolor": "white",
                      "landcolor": "#E5ECF6",
                      "showlakes": true,
                      "showland": true,
                      "subunitcolor": "white"
                    },
                    "hoverlabel": {
                      "align": "left"
                    },
                    "hovermode": "closest",
                    "mapbox": {
                      "style": "light"
                    },
                    "paper_bgcolor": "white",
                    "plot_bgcolor": "#E5ECF6",
                    "polar": {
                      "angularaxis": {
                        "gridcolor": "white",
                        "linecolor": "white",
                        "ticks": ""
                      },
                      "bgcolor": "#E5ECF6",
                      "radialaxis": {
                        "gridcolor": "white",
                        "linecolor": "white",
                        "ticks": ""
                      }
                    },
                    "scene": {
                      "xaxis": {
                        "backgroundcolor": "#E5ECF6",
                        "gridcolor": "white",
                        "gridwidth": 2,
                        "linecolor": "white",
                        "showbackground": true,
                        "ticks": "",
                        "zerolinecolor": "white"
                      },
                      "yaxis": {
                        "backgroundcolor": "#E5ECF6",
                        "gridcolor": "white",
                        "gridwidth": 2,
                        "linecolor": "white",
                        "showbackground": true,
                        "ticks": "",
                        "zerolinecolor": "white"
                      },
                      "zaxis": {
                        "backgroundcolor": "#E5ECF6",
                        "gridcolor": "white",
                        "gridwidth": 2,
                        "linecolor": "white",
                        "showbackground": true,
                        "ticks": "",
                        "zerolinecolor": "white"
                      }
                    },
                    "shapedefaults": {
                      "line": {
                        "color": "#2a3f5f"
                      }
                    },
                    "ternary": {
                      "aaxis": {
                        "gridcolor": "white",
                        "linecolor": "white",
                        "ticks": ""
                      },
                      "baxis": {
                        "gridcolor": "white",
                        "linecolor": "white",
                        "ticks": ""
                      },
                      "bgcolor": "#E5ECF6",
                      "caxis": {
                        "gridcolor": "white",
                        "linecolor": "white",
                        "ticks": ""
                      }
                    },
                    "title": {
                      "x": 0.05
                    },
                    "xaxis": {
                      "automargin": true,
                      "gridcolor": "white",
                      "linecolor": "white",
                      "ticks": "",
                      "title": {
                        "standoff": 15
                      },
                      "zerolinecolor": "white",
                      "zerolinewidth": 2
                    },
                    "yaxis": {
                      "automargin": true,
                      "gridcolor": "white",
                      "linecolor": "white",
                      "ticks": "",
                      "title": {
                        "standoff": 15
                      },
                      "zerolinecolor": "white",
                      "zerolinewidth": 2
                    }
                  }
                },
                "title": {
                  "text": "Internações por Mês agrupado por Ano"
                },
                "xaxis": {
                  "anchor": "y",
                  "domain": [
                    0,
                    1
                  ],
                  "title": {
                    "text": "Ano"
                  }
                },
                "yaxis": {
                  "anchor": "x",
                  "domain": [
                    0,
                    1
                  ],
                  "title": {
                    "text": "Quantidade"
                  }
                }
              }
            }
          },
          "metadata": {},
          "output_type": "display_data"
        }
      ],
      "source": [
        "px.line(ano_mes_internacao, x='Mes', y = 'Quantidade', color='Ano', title='Internações por Mês agrupado por Ano')\n",
        "px.line(ano_mes_internacao_cum.sort_values(by='Ano'), x='Ano', y = 'Quantidade', color='Mes', title='Internações por Mês agrupado por Ano')"
      ]
    },
    {
      "cell_type": "markdown",
      "metadata": {},
      "source": [
        "Ao analisar as internações por mês é notável que os meses finais possuem uma maior quantidade de intenações em comparação com os iniciais.\n",
        "\n",
        "Outra análise pode ser feita ao olhar o valor acumulado da proporção de um mês relativo ao seu próprio ano, já que cada ano tem um total diferente de internações, e assim podemos enxergar proporcionalmente. Para essa análise o ano de 2012 é removido pois ele possui a questão de ser o ano inicial da coleta e pode prejudicar as proporções."
      ]
    },
    {
      "cell_type": "code",
      "execution_count": 163,
      "metadata": {},
      "outputs": [
        {
          "data": {
            "application/vnd.plotly.v1+json": {
              "config": {
                "plotlyServerURL": "https://plot.ly"
              },
              "data": [
                {
                  "hovertemplate": "Mes=%{x}<br>Quantidade=%{y}<extra></extra>",
                  "legendgroup": "",
                  "line": {
                    "color": "#636efa",
                    "dash": "solid"
                  },
                  "marker": {
                    "symbol": "circle"
                  },
                  "mode": "lines",
                  "name": "",
                  "orientation": "v",
                  "showlegend": false,
                  "type": "scatter",
                  "x": [
                    1,
                    2,
                    3,
                    4,
                    5,
                    6,
                    7,
                    8,
                    9,
                    10,
                    11,
                    12
                  ],
                  "xaxis": "x",
                  "y": [
                    627,
                    614,
                    684,
                    649,
                    684,
                    670,
                    711,
                    813,
                    805,
                    857,
                    852,
                    789
                  ],
                  "yaxis": "y"
                }
              ],
              "layout": {
                "legend": {
                  "tracegroupgap": 0
                },
                "template": {
                  "data": {
                    "bar": [
                      {
                        "error_x": {
                          "color": "#2a3f5f"
                        },
                        "error_y": {
                          "color": "#2a3f5f"
                        },
                        "marker": {
                          "line": {
                            "color": "#E5ECF6",
                            "width": 0.5
                          },
                          "pattern": {
                            "fillmode": "overlay",
                            "size": 10,
                            "solidity": 0.2
                          }
                        },
                        "type": "bar"
                      }
                    ],
                    "barpolar": [
                      {
                        "marker": {
                          "line": {
                            "color": "#E5ECF6",
                            "width": 0.5
                          },
                          "pattern": {
                            "fillmode": "overlay",
                            "size": 10,
                            "solidity": 0.2
                          }
                        },
                        "type": "barpolar"
                      }
                    ],
                    "carpet": [
                      {
                        "aaxis": {
                          "endlinecolor": "#2a3f5f",
                          "gridcolor": "white",
                          "linecolor": "white",
                          "minorgridcolor": "white",
                          "startlinecolor": "#2a3f5f"
                        },
                        "baxis": {
                          "endlinecolor": "#2a3f5f",
                          "gridcolor": "white",
                          "linecolor": "white",
                          "minorgridcolor": "white",
                          "startlinecolor": "#2a3f5f"
                        },
                        "type": "carpet"
                      }
                    ],
                    "choropleth": [
                      {
                        "colorbar": {
                          "outlinewidth": 0,
                          "ticks": ""
                        },
                        "type": "choropleth"
                      }
                    ],
                    "contour": [
                      {
                        "colorbar": {
                          "outlinewidth": 0,
                          "ticks": ""
                        },
                        "colorscale": [
                          [
                            0,
                            "#0d0887"
                          ],
                          [
                            0.1111111111111111,
                            "#46039f"
                          ],
                          [
                            0.2222222222222222,
                            "#7201a8"
                          ],
                          [
                            0.3333333333333333,
                            "#9c179e"
                          ],
                          [
                            0.4444444444444444,
                            "#bd3786"
                          ],
                          [
                            0.5555555555555556,
                            "#d8576b"
                          ],
                          [
                            0.6666666666666666,
                            "#ed7953"
                          ],
                          [
                            0.7777777777777778,
                            "#fb9f3a"
                          ],
                          [
                            0.8888888888888888,
                            "#fdca26"
                          ],
                          [
                            1,
                            "#f0f921"
                          ]
                        ],
                        "type": "contour"
                      }
                    ],
                    "contourcarpet": [
                      {
                        "colorbar": {
                          "outlinewidth": 0,
                          "ticks": ""
                        },
                        "type": "contourcarpet"
                      }
                    ],
                    "heatmap": [
                      {
                        "colorbar": {
                          "outlinewidth": 0,
                          "ticks": ""
                        },
                        "colorscale": [
                          [
                            0,
                            "#0d0887"
                          ],
                          [
                            0.1111111111111111,
                            "#46039f"
                          ],
                          [
                            0.2222222222222222,
                            "#7201a8"
                          ],
                          [
                            0.3333333333333333,
                            "#9c179e"
                          ],
                          [
                            0.4444444444444444,
                            "#bd3786"
                          ],
                          [
                            0.5555555555555556,
                            "#d8576b"
                          ],
                          [
                            0.6666666666666666,
                            "#ed7953"
                          ],
                          [
                            0.7777777777777778,
                            "#fb9f3a"
                          ],
                          [
                            0.8888888888888888,
                            "#fdca26"
                          ],
                          [
                            1,
                            "#f0f921"
                          ]
                        ],
                        "type": "heatmap"
                      }
                    ],
                    "heatmapgl": [
                      {
                        "colorbar": {
                          "outlinewidth": 0,
                          "ticks": ""
                        },
                        "colorscale": [
                          [
                            0,
                            "#0d0887"
                          ],
                          [
                            0.1111111111111111,
                            "#46039f"
                          ],
                          [
                            0.2222222222222222,
                            "#7201a8"
                          ],
                          [
                            0.3333333333333333,
                            "#9c179e"
                          ],
                          [
                            0.4444444444444444,
                            "#bd3786"
                          ],
                          [
                            0.5555555555555556,
                            "#d8576b"
                          ],
                          [
                            0.6666666666666666,
                            "#ed7953"
                          ],
                          [
                            0.7777777777777778,
                            "#fb9f3a"
                          ],
                          [
                            0.8888888888888888,
                            "#fdca26"
                          ],
                          [
                            1,
                            "#f0f921"
                          ]
                        ],
                        "type": "heatmapgl"
                      }
                    ],
                    "histogram": [
                      {
                        "marker": {
                          "pattern": {
                            "fillmode": "overlay",
                            "size": 10,
                            "solidity": 0.2
                          }
                        },
                        "type": "histogram"
                      }
                    ],
                    "histogram2d": [
                      {
                        "colorbar": {
                          "outlinewidth": 0,
                          "ticks": ""
                        },
                        "colorscale": [
                          [
                            0,
                            "#0d0887"
                          ],
                          [
                            0.1111111111111111,
                            "#46039f"
                          ],
                          [
                            0.2222222222222222,
                            "#7201a8"
                          ],
                          [
                            0.3333333333333333,
                            "#9c179e"
                          ],
                          [
                            0.4444444444444444,
                            "#bd3786"
                          ],
                          [
                            0.5555555555555556,
                            "#d8576b"
                          ],
                          [
                            0.6666666666666666,
                            "#ed7953"
                          ],
                          [
                            0.7777777777777778,
                            "#fb9f3a"
                          ],
                          [
                            0.8888888888888888,
                            "#fdca26"
                          ],
                          [
                            1,
                            "#f0f921"
                          ]
                        ],
                        "type": "histogram2d"
                      }
                    ],
                    "histogram2dcontour": [
                      {
                        "colorbar": {
                          "outlinewidth": 0,
                          "ticks": ""
                        },
                        "colorscale": [
                          [
                            0,
                            "#0d0887"
                          ],
                          [
                            0.1111111111111111,
                            "#46039f"
                          ],
                          [
                            0.2222222222222222,
                            "#7201a8"
                          ],
                          [
                            0.3333333333333333,
                            "#9c179e"
                          ],
                          [
                            0.4444444444444444,
                            "#bd3786"
                          ],
                          [
                            0.5555555555555556,
                            "#d8576b"
                          ],
                          [
                            0.6666666666666666,
                            "#ed7953"
                          ],
                          [
                            0.7777777777777778,
                            "#fb9f3a"
                          ],
                          [
                            0.8888888888888888,
                            "#fdca26"
                          ],
                          [
                            1,
                            "#f0f921"
                          ]
                        ],
                        "type": "histogram2dcontour"
                      }
                    ],
                    "mesh3d": [
                      {
                        "colorbar": {
                          "outlinewidth": 0,
                          "ticks": ""
                        },
                        "type": "mesh3d"
                      }
                    ],
                    "parcoords": [
                      {
                        "line": {
                          "colorbar": {
                            "outlinewidth": 0,
                            "ticks": ""
                          }
                        },
                        "type": "parcoords"
                      }
                    ],
                    "pie": [
                      {
                        "automargin": true,
                        "type": "pie"
                      }
                    ],
                    "scatter": [
                      {
                        "fillpattern": {
                          "fillmode": "overlay",
                          "size": 10,
                          "solidity": 0.2
                        },
                        "type": "scatter"
                      }
                    ],
                    "scatter3d": [
                      {
                        "line": {
                          "colorbar": {
                            "outlinewidth": 0,
                            "ticks": ""
                          }
                        },
                        "marker": {
                          "colorbar": {
                            "outlinewidth": 0,
                            "ticks": ""
                          }
                        },
                        "type": "scatter3d"
                      }
                    ],
                    "scattercarpet": [
                      {
                        "marker": {
                          "colorbar": {
                            "outlinewidth": 0,
                            "ticks": ""
                          }
                        },
                        "type": "scattercarpet"
                      }
                    ],
                    "scattergeo": [
                      {
                        "marker": {
                          "colorbar": {
                            "outlinewidth": 0,
                            "ticks": ""
                          }
                        },
                        "type": "scattergeo"
                      }
                    ],
                    "scattergl": [
                      {
                        "marker": {
                          "colorbar": {
                            "outlinewidth": 0,
                            "ticks": ""
                          }
                        },
                        "type": "scattergl"
                      }
                    ],
                    "scattermapbox": [
                      {
                        "marker": {
                          "colorbar": {
                            "outlinewidth": 0,
                            "ticks": ""
                          }
                        },
                        "type": "scattermapbox"
                      }
                    ],
                    "scatterpolar": [
                      {
                        "marker": {
                          "colorbar": {
                            "outlinewidth": 0,
                            "ticks": ""
                          }
                        },
                        "type": "scatterpolar"
                      }
                    ],
                    "scatterpolargl": [
                      {
                        "marker": {
                          "colorbar": {
                            "outlinewidth": 0,
                            "ticks": ""
                          }
                        },
                        "type": "scatterpolargl"
                      }
                    ],
                    "scatterternary": [
                      {
                        "marker": {
                          "colorbar": {
                            "outlinewidth": 0,
                            "ticks": ""
                          }
                        },
                        "type": "scatterternary"
                      }
                    ],
                    "surface": [
                      {
                        "colorbar": {
                          "outlinewidth": 0,
                          "ticks": ""
                        },
                        "colorscale": [
                          [
                            0,
                            "#0d0887"
                          ],
                          [
                            0.1111111111111111,
                            "#46039f"
                          ],
                          [
                            0.2222222222222222,
                            "#7201a8"
                          ],
                          [
                            0.3333333333333333,
                            "#9c179e"
                          ],
                          [
                            0.4444444444444444,
                            "#bd3786"
                          ],
                          [
                            0.5555555555555556,
                            "#d8576b"
                          ],
                          [
                            0.6666666666666666,
                            "#ed7953"
                          ],
                          [
                            0.7777777777777778,
                            "#fb9f3a"
                          ],
                          [
                            0.8888888888888888,
                            "#fdca26"
                          ],
                          [
                            1,
                            "#f0f921"
                          ]
                        ],
                        "type": "surface"
                      }
                    ],
                    "table": [
                      {
                        "cells": {
                          "fill": {
                            "color": "#EBF0F8"
                          },
                          "line": {
                            "color": "white"
                          }
                        },
                        "header": {
                          "fill": {
                            "color": "#C8D4E3"
                          },
                          "line": {
                            "color": "white"
                          }
                        },
                        "type": "table"
                      }
                    ]
                  },
                  "layout": {
                    "annotationdefaults": {
                      "arrowcolor": "#2a3f5f",
                      "arrowhead": 0,
                      "arrowwidth": 1
                    },
                    "autotypenumbers": "strict",
                    "coloraxis": {
                      "colorbar": {
                        "outlinewidth": 0,
                        "ticks": ""
                      }
                    },
                    "colorscale": {
                      "diverging": [
                        [
                          0,
                          "#8e0152"
                        ],
                        [
                          0.1,
                          "#c51b7d"
                        ],
                        [
                          0.2,
                          "#de77ae"
                        ],
                        [
                          0.3,
                          "#f1b6da"
                        ],
                        [
                          0.4,
                          "#fde0ef"
                        ],
                        [
                          0.5,
                          "#f7f7f7"
                        ],
                        [
                          0.6,
                          "#e6f5d0"
                        ],
                        [
                          0.7,
                          "#b8e186"
                        ],
                        [
                          0.8,
                          "#7fbc41"
                        ],
                        [
                          0.9,
                          "#4d9221"
                        ],
                        [
                          1,
                          "#276419"
                        ]
                      ],
                      "sequential": [
                        [
                          0,
                          "#0d0887"
                        ],
                        [
                          0.1111111111111111,
                          "#46039f"
                        ],
                        [
                          0.2222222222222222,
                          "#7201a8"
                        ],
                        [
                          0.3333333333333333,
                          "#9c179e"
                        ],
                        [
                          0.4444444444444444,
                          "#bd3786"
                        ],
                        [
                          0.5555555555555556,
                          "#d8576b"
                        ],
                        [
                          0.6666666666666666,
                          "#ed7953"
                        ],
                        [
                          0.7777777777777778,
                          "#fb9f3a"
                        ],
                        [
                          0.8888888888888888,
                          "#fdca26"
                        ],
                        [
                          1,
                          "#f0f921"
                        ]
                      ],
                      "sequentialminus": [
                        [
                          0,
                          "#0d0887"
                        ],
                        [
                          0.1111111111111111,
                          "#46039f"
                        ],
                        [
                          0.2222222222222222,
                          "#7201a8"
                        ],
                        [
                          0.3333333333333333,
                          "#9c179e"
                        ],
                        [
                          0.4444444444444444,
                          "#bd3786"
                        ],
                        [
                          0.5555555555555556,
                          "#d8576b"
                        ],
                        [
                          0.6666666666666666,
                          "#ed7953"
                        ],
                        [
                          0.7777777777777778,
                          "#fb9f3a"
                        ],
                        [
                          0.8888888888888888,
                          "#fdca26"
                        ],
                        [
                          1,
                          "#f0f921"
                        ]
                      ]
                    },
                    "colorway": [
                      "#636efa",
                      "#EF553B",
                      "#00cc96",
                      "#ab63fa",
                      "#FFA15A",
                      "#19d3f3",
                      "#FF6692",
                      "#B6E880",
                      "#FF97FF",
                      "#FECB52"
                    ],
                    "font": {
                      "color": "#2a3f5f"
                    },
                    "geo": {
                      "bgcolor": "white",
                      "lakecolor": "white",
                      "landcolor": "#E5ECF6",
                      "showlakes": true,
                      "showland": true,
                      "subunitcolor": "white"
                    },
                    "hoverlabel": {
                      "align": "left"
                    },
                    "hovermode": "closest",
                    "mapbox": {
                      "style": "light"
                    },
                    "paper_bgcolor": "white",
                    "plot_bgcolor": "#E5ECF6",
                    "polar": {
                      "angularaxis": {
                        "gridcolor": "white",
                        "linecolor": "white",
                        "ticks": ""
                      },
                      "bgcolor": "#E5ECF6",
                      "radialaxis": {
                        "gridcolor": "white",
                        "linecolor": "white",
                        "ticks": ""
                      }
                    },
                    "scene": {
                      "xaxis": {
                        "backgroundcolor": "#E5ECF6",
                        "gridcolor": "white",
                        "gridwidth": 2,
                        "linecolor": "white",
                        "showbackground": true,
                        "ticks": "",
                        "zerolinecolor": "white"
                      },
                      "yaxis": {
                        "backgroundcolor": "#E5ECF6",
                        "gridcolor": "white",
                        "gridwidth": 2,
                        "linecolor": "white",
                        "showbackground": true,
                        "ticks": "",
                        "zerolinecolor": "white"
                      },
                      "zaxis": {
                        "backgroundcolor": "#E5ECF6",
                        "gridcolor": "white",
                        "gridwidth": 2,
                        "linecolor": "white",
                        "showbackground": true,
                        "ticks": "",
                        "zerolinecolor": "white"
                      }
                    },
                    "shapedefaults": {
                      "line": {
                        "color": "#2a3f5f"
                      }
                    },
                    "ternary": {
                      "aaxis": {
                        "gridcolor": "white",
                        "linecolor": "white",
                        "ticks": ""
                      },
                      "baxis": {
                        "gridcolor": "white",
                        "linecolor": "white",
                        "ticks": ""
                      },
                      "bgcolor": "#E5ECF6",
                      "caxis": {
                        "gridcolor": "white",
                        "linecolor": "white",
                        "ticks": ""
                      }
                    },
                    "title": {
                      "x": 0.05
                    },
                    "xaxis": {
                      "automargin": true,
                      "gridcolor": "white",
                      "linecolor": "white",
                      "ticks": "",
                      "title": {
                        "standoff": 15
                      },
                      "zerolinecolor": "white",
                      "zerolinewidth": 2
                    },
                    "yaxis": {
                      "automargin": true,
                      "gridcolor": "white",
                      "linecolor": "white",
                      "ticks": "",
                      "title": {
                        "standoff": 15
                      },
                      "zerolinecolor": "white",
                      "zerolinewidth": 2
                    }
                  }
                },
                "title": {
                  "text": "Internações por Mês"
                },
                "xaxis": {
                  "anchor": "y",
                  "domain": [
                    0,
                    1
                  ],
                  "title": {
                    "text": "Mes"
                  }
                },
                "yaxis": {
                  "anchor": "x",
                  "domain": [
                    0,
                    1
                  ],
                  "title": {
                    "text": "Quantidade"
                  }
                }
              }
            }
          },
          "metadata": {},
          "output_type": "display_data"
        }
      ],
      "source": [
        "px.line(mes_internacao, x='Mes', y = 'Quantidade', title='Internações por Mês')"
      ]
    },
    {
      "cell_type": "code",
      "execution_count": 164,
      "metadata": {},
      "outputs": [
        {
          "data": {
            "application/vnd.plotly.v1+json": {
              "config": {
                "plotlyServerURL": "https://plot.ly"
              },
              "data": [
                {
                  "hovertemplate": "Mes=%{x}<br>Quantidade=%{y}<extra></extra>",
                  "legendgroup": "",
                  "line": {
                    "color": "#636efa",
                    "dash": "solid"
                  },
                  "marker": {
                    "symbol": "circle"
                  },
                  "mode": "lines",
                  "name": "",
                  "orientation": "v",
                  "showlegend": false,
                  "type": "scatter",
                  "x": [
                    1,
                    2,
                    3,
                    4,
                    5,
                    6,
                    7,
                    8,
                    9,
                    10,
                    11,
                    12
                  ],
                  "xaxis": "x",
                  "y": [
                    0.39667592596278645,
                    0.38802393850298333,
                    0.42981898095505094,
                    0.4052494184161133,
                    0.4268541243990844,
                    0.4158482191385062,
                    0.4206979382091142,
                    0.4095261715894426,
                    0.4076510731673512,
                    0.4470089813001876,
                    0.43021289685242964,
                    0.42243233150695
                  ],
                  "yaxis": "y"
                }
              ],
              "layout": {
                "legend": {
                  "tracegroupgap": 0
                },
                "template": {
                  "data": {
                    "bar": [
                      {
                        "error_x": {
                          "color": "#2a3f5f"
                        },
                        "error_y": {
                          "color": "#2a3f5f"
                        },
                        "marker": {
                          "line": {
                            "color": "#E5ECF6",
                            "width": 0.5
                          },
                          "pattern": {
                            "fillmode": "overlay",
                            "size": 10,
                            "solidity": 0.2
                          }
                        },
                        "type": "bar"
                      }
                    ],
                    "barpolar": [
                      {
                        "marker": {
                          "line": {
                            "color": "#E5ECF6",
                            "width": 0.5
                          },
                          "pattern": {
                            "fillmode": "overlay",
                            "size": 10,
                            "solidity": 0.2
                          }
                        },
                        "type": "barpolar"
                      }
                    ],
                    "carpet": [
                      {
                        "aaxis": {
                          "endlinecolor": "#2a3f5f",
                          "gridcolor": "white",
                          "linecolor": "white",
                          "minorgridcolor": "white",
                          "startlinecolor": "#2a3f5f"
                        },
                        "baxis": {
                          "endlinecolor": "#2a3f5f",
                          "gridcolor": "white",
                          "linecolor": "white",
                          "minorgridcolor": "white",
                          "startlinecolor": "#2a3f5f"
                        },
                        "type": "carpet"
                      }
                    ],
                    "choropleth": [
                      {
                        "colorbar": {
                          "outlinewidth": 0,
                          "ticks": ""
                        },
                        "type": "choropleth"
                      }
                    ],
                    "contour": [
                      {
                        "colorbar": {
                          "outlinewidth": 0,
                          "ticks": ""
                        },
                        "colorscale": [
                          [
                            0,
                            "#0d0887"
                          ],
                          [
                            0.1111111111111111,
                            "#46039f"
                          ],
                          [
                            0.2222222222222222,
                            "#7201a8"
                          ],
                          [
                            0.3333333333333333,
                            "#9c179e"
                          ],
                          [
                            0.4444444444444444,
                            "#bd3786"
                          ],
                          [
                            0.5555555555555556,
                            "#d8576b"
                          ],
                          [
                            0.6666666666666666,
                            "#ed7953"
                          ],
                          [
                            0.7777777777777778,
                            "#fb9f3a"
                          ],
                          [
                            0.8888888888888888,
                            "#fdca26"
                          ],
                          [
                            1,
                            "#f0f921"
                          ]
                        ],
                        "type": "contour"
                      }
                    ],
                    "contourcarpet": [
                      {
                        "colorbar": {
                          "outlinewidth": 0,
                          "ticks": ""
                        },
                        "type": "contourcarpet"
                      }
                    ],
                    "heatmap": [
                      {
                        "colorbar": {
                          "outlinewidth": 0,
                          "ticks": ""
                        },
                        "colorscale": [
                          [
                            0,
                            "#0d0887"
                          ],
                          [
                            0.1111111111111111,
                            "#46039f"
                          ],
                          [
                            0.2222222222222222,
                            "#7201a8"
                          ],
                          [
                            0.3333333333333333,
                            "#9c179e"
                          ],
                          [
                            0.4444444444444444,
                            "#bd3786"
                          ],
                          [
                            0.5555555555555556,
                            "#d8576b"
                          ],
                          [
                            0.6666666666666666,
                            "#ed7953"
                          ],
                          [
                            0.7777777777777778,
                            "#fb9f3a"
                          ],
                          [
                            0.8888888888888888,
                            "#fdca26"
                          ],
                          [
                            1,
                            "#f0f921"
                          ]
                        ],
                        "type": "heatmap"
                      }
                    ],
                    "heatmapgl": [
                      {
                        "colorbar": {
                          "outlinewidth": 0,
                          "ticks": ""
                        },
                        "colorscale": [
                          [
                            0,
                            "#0d0887"
                          ],
                          [
                            0.1111111111111111,
                            "#46039f"
                          ],
                          [
                            0.2222222222222222,
                            "#7201a8"
                          ],
                          [
                            0.3333333333333333,
                            "#9c179e"
                          ],
                          [
                            0.4444444444444444,
                            "#bd3786"
                          ],
                          [
                            0.5555555555555556,
                            "#d8576b"
                          ],
                          [
                            0.6666666666666666,
                            "#ed7953"
                          ],
                          [
                            0.7777777777777778,
                            "#fb9f3a"
                          ],
                          [
                            0.8888888888888888,
                            "#fdca26"
                          ],
                          [
                            1,
                            "#f0f921"
                          ]
                        ],
                        "type": "heatmapgl"
                      }
                    ],
                    "histogram": [
                      {
                        "marker": {
                          "pattern": {
                            "fillmode": "overlay",
                            "size": 10,
                            "solidity": 0.2
                          }
                        },
                        "type": "histogram"
                      }
                    ],
                    "histogram2d": [
                      {
                        "colorbar": {
                          "outlinewidth": 0,
                          "ticks": ""
                        },
                        "colorscale": [
                          [
                            0,
                            "#0d0887"
                          ],
                          [
                            0.1111111111111111,
                            "#46039f"
                          ],
                          [
                            0.2222222222222222,
                            "#7201a8"
                          ],
                          [
                            0.3333333333333333,
                            "#9c179e"
                          ],
                          [
                            0.4444444444444444,
                            "#bd3786"
                          ],
                          [
                            0.5555555555555556,
                            "#d8576b"
                          ],
                          [
                            0.6666666666666666,
                            "#ed7953"
                          ],
                          [
                            0.7777777777777778,
                            "#fb9f3a"
                          ],
                          [
                            0.8888888888888888,
                            "#fdca26"
                          ],
                          [
                            1,
                            "#f0f921"
                          ]
                        ],
                        "type": "histogram2d"
                      }
                    ],
                    "histogram2dcontour": [
                      {
                        "colorbar": {
                          "outlinewidth": 0,
                          "ticks": ""
                        },
                        "colorscale": [
                          [
                            0,
                            "#0d0887"
                          ],
                          [
                            0.1111111111111111,
                            "#46039f"
                          ],
                          [
                            0.2222222222222222,
                            "#7201a8"
                          ],
                          [
                            0.3333333333333333,
                            "#9c179e"
                          ],
                          [
                            0.4444444444444444,
                            "#bd3786"
                          ],
                          [
                            0.5555555555555556,
                            "#d8576b"
                          ],
                          [
                            0.6666666666666666,
                            "#ed7953"
                          ],
                          [
                            0.7777777777777778,
                            "#fb9f3a"
                          ],
                          [
                            0.8888888888888888,
                            "#fdca26"
                          ],
                          [
                            1,
                            "#f0f921"
                          ]
                        ],
                        "type": "histogram2dcontour"
                      }
                    ],
                    "mesh3d": [
                      {
                        "colorbar": {
                          "outlinewidth": 0,
                          "ticks": ""
                        },
                        "type": "mesh3d"
                      }
                    ],
                    "parcoords": [
                      {
                        "line": {
                          "colorbar": {
                            "outlinewidth": 0,
                            "ticks": ""
                          }
                        },
                        "type": "parcoords"
                      }
                    ],
                    "pie": [
                      {
                        "automargin": true,
                        "type": "pie"
                      }
                    ],
                    "scatter": [
                      {
                        "fillpattern": {
                          "fillmode": "overlay",
                          "size": 10,
                          "solidity": 0.2
                        },
                        "type": "scatter"
                      }
                    ],
                    "scatter3d": [
                      {
                        "line": {
                          "colorbar": {
                            "outlinewidth": 0,
                            "ticks": ""
                          }
                        },
                        "marker": {
                          "colorbar": {
                            "outlinewidth": 0,
                            "ticks": ""
                          }
                        },
                        "type": "scatter3d"
                      }
                    ],
                    "scattercarpet": [
                      {
                        "marker": {
                          "colorbar": {
                            "outlinewidth": 0,
                            "ticks": ""
                          }
                        },
                        "type": "scattercarpet"
                      }
                    ],
                    "scattergeo": [
                      {
                        "marker": {
                          "colorbar": {
                            "outlinewidth": 0,
                            "ticks": ""
                          }
                        },
                        "type": "scattergeo"
                      }
                    ],
                    "scattergl": [
                      {
                        "marker": {
                          "colorbar": {
                            "outlinewidth": 0,
                            "ticks": ""
                          }
                        },
                        "type": "scattergl"
                      }
                    ],
                    "scattermapbox": [
                      {
                        "marker": {
                          "colorbar": {
                            "outlinewidth": 0,
                            "ticks": ""
                          }
                        },
                        "type": "scattermapbox"
                      }
                    ],
                    "scatterpolar": [
                      {
                        "marker": {
                          "colorbar": {
                            "outlinewidth": 0,
                            "ticks": ""
                          }
                        },
                        "type": "scatterpolar"
                      }
                    ],
                    "scatterpolargl": [
                      {
                        "marker": {
                          "colorbar": {
                            "outlinewidth": 0,
                            "ticks": ""
                          }
                        },
                        "type": "scatterpolargl"
                      }
                    ],
                    "scatterternary": [
                      {
                        "marker": {
                          "colorbar": {
                            "outlinewidth": 0,
                            "ticks": ""
                          }
                        },
                        "type": "scatterternary"
                      }
                    ],
                    "surface": [
                      {
                        "colorbar": {
                          "outlinewidth": 0,
                          "ticks": ""
                        },
                        "colorscale": [
                          [
                            0,
                            "#0d0887"
                          ],
                          [
                            0.1111111111111111,
                            "#46039f"
                          ],
                          [
                            0.2222222222222222,
                            "#7201a8"
                          ],
                          [
                            0.3333333333333333,
                            "#9c179e"
                          ],
                          [
                            0.4444444444444444,
                            "#bd3786"
                          ],
                          [
                            0.5555555555555556,
                            "#d8576b"
                          ],
                          [
                            0.6666666666666666,
                            "#ed7953"
                          ],
                          [
                            0.7777777777777778,
                            "#fb9f3a"
                          ],
                          [
                            0.8888888888888888,
                            "#fdca26"
                          ],
                          [
                            1,
                            "#f0f921"
                          ]
                        ],
                        "type": "surface"
                      }
                    ],
                    "table": [
                      {
                        "cells": {
                          "fill": {
                            "color": "#EBF0F8"
                          },
                          "line": {
                            "color": "white"
                          }
                        },
                        "header": {
                          "fill": {
                            "color": "#C8D4E3"
                          },
                          "line": {
                            "color": "white"
                          }
                        },
                        "type": "table"
                      }
                    ]
                  },
                  "layout": {
                    "annotationdefaults": {
                      "arrowcolor": "#2a3f5f",
                      "arrowhead": 0,
                      "arrowwidth": 1
                    },
                    "autotypenumbers": "strict",
                    "coloraxis": {
                      "colorbar": {
                        "outlinewidth": 0,
                        "ticks": ""
                      }
                    },
                    "colorscale": {
                      "diverging": [
                        [
                          0,
                          "#8e0152"
                        ],
                        [
                          0.1,
                          "#c51b7d"
                        ],
                        [
                          0.2,
                          "#de77ae"
                        ],
                        [
                          0.3,
                          "#f1b6da"
                        ],
                        [
                          0.4,
                          "#fde0ef"
                        ],
                        [
                          0.5,
                          "#f7f7f7"
                        ],
                        [
                          0.6,
                          "#e6f5d0"
                        ],
                        [
                          0.7,
                          "#b8e186"
                        ],
                        [
                          0.8,
                          "#7fbc41"
                        ],
                        [
                          0.9,
                          "#4d9221"
                        ],
                        [
                          1,
                          "#276419"
                        ]
                      ],
                      "sequential": [
                        [
                          0,
                          "#0d0887"
                        ],
                        [
                          0.1111111111111111,
                          "#46039f"
                        ],
                        [
                          0.2222222222222222,
                          "#7201a8"
                        ],
                        [
                          0.3333333333333333,
                          "#9c179e"
                        ],
                        [
                          0.4444444444444444,
                          "#bd3786"
                        ],
                        [
                          0.5555555555555556,
                          "#d8576b"
                        ],
                        [
                          0.6666666666666666,
                          "#ed7953"
                        ],
                        [
                          0.7777777777777778,
                          "#fb9f3a"
                        ],
                        [
                          0.8888888888888888,
                          "#fdca26"
                        ],
                        [
                          1,
                          "#f0f921"
                        ]
                      ],
                      "sequentialminus": [
                        [
                          0,
                          "#0d0887"
                        ],
                        [
                          0.1111111111111111,
                          "#46039f"
                        ],
                        [
                          0.2222222222222222,
                          "#7201a8"
                        ],
                        [
                          0.3333333333333333,
                          "#9c179e"
                        ],
                        [
                          0.4444444444444444,
                          "#bd3786"
                        ],
                        [
                          0.5555555555555556,
                          "#d8576b"
                        ],
                        [
                          0.6666666666666666,
                          "#ed7953"
                        ],
                        [
                          0.7777777777777778,
                          "#fb9f3a"
                        ],
                        [
                          0.8888888888888888,
                          "#fdca26"
                        ],
                        [
                          1,
                          "#f0f921"
                        ]
                      ]
                    },
                    "colorway": [
                      "#636efa",
                      "#EF553B",
                      "#00cc96",
                      "#ab63fa",
                      "#FFA15A",
                      "#19d3f3",
                      "#FF6692",
                      "#B6E880",
                      "#FF97FF",
                      "#FECB52"
                    ],
                    "font": {
                      "color": "#2a3f5f"
                    },
                    "geo": {
                      "bgcolor": "white",
                      "lakecolor": "white",
                      "landcolor": "#E5ECF6",
                      "showlakes": true,
                      "showland": true,
                      "subunitcolor": "white"
                    },
                    "hoverlabel": {
                      "align": "left"
                    },
                    "hovermode": "closest",
                    "mapbox": {
                      "style": "light"
                    },
                    "paper_bgcolor": "white",
                    "plot_bgcolor": "#E5ECF6",
                    "polar": {
                      "angularaxis": {
                        "gridcolor": "white",
                        "linecolor": "white",
                        "ticks": ""
                      },
                      "bgcolor": "#E5ECF6",
                      "radialaxis": {
                        "gridcolor": "white",
                        "linecolor": "white",
                        "ticks": ""
                      }
                    },
                    "scene": {
                      "xaxis": {
                        "backgroundcolor": "#E5ECF6",
                        "gridcolor": "white",
                        "gridwidth": 2,
                        "linecolor": "white",
                        "showbackground": true,
                        "ticks": "",
                        "zerolinecolor": "white"
                      },
                      "yaxis": {
                        "backgroundcolor": "#E5ECF6",
                        "gridcolor": "white",
                        "gridwidth": 2,
                        "linecolor": "white",
                        "showbackground": true,
                        "ticks": "",
                        "zerolinecolor": "white"
                      },
                      "zaxis": {
                        "backgroundcolor": "#E5ECF6",
                        "gridcolor": "white",
                        "gridwidth": 2,
                        "linecolor": "white",
                        "showbackground": true,
                        "ticks": "",
                        "zerolinecolor": "white"
                      }
                    },
                    "shapedefaults": {
                      "line": {
                        "color": "#2a3f5f"
                      }
                    },
                    "ternary": {
                      "aaxis": {
                        "gridcolor": "white",
                        "linecolor": "white",
                        "ticks": ""
                      },
                      "baxis": {
                        "gridcolor": "white",
                        "linecolor": "white",
                        "ticks": ""
                      },
                      "bgcolor": "#E5ECF6",
                      "caxis": {
                        "gridcolor": "white",
                        "linecolor": "white",
                        "ticks": ""
                      }
                    },
                    "title": {
                      "x": 0.05
                    },
                    "xaxis": {
                      "automargin": true,
                      "gridcolor": "white",
                      "linecolor": "white",
                      "ticks": "",
                      "title": {
                        "standoff": 15
                      },
                      "zerolinecolor": "white",
                      "zerolinewidth": 2
                    },
                    "yaxis": {
                      "automargin": true,
                      "gridcolor": "white",
                      "linecolor": "white",
                      "ticks": "",
                      "title": {
                        "standoff": 15
                      },
                      "zerolinecolor": "white",
                      "zerolinewidth": 2
                    }
                  }
                },
                "title": {
                  "text": "Proporção acumulada de Internações por Mês"
                },
                "xaxis": {
                  "anchor": "y",
                  "domain": [
                    0,
                    1
                  ],
                  "title": {
                    "text": "Mes"
                  }
                },
                "yaxis": {
                  "anchor": "x",
                  "domain": [
                    0,
                    1
                  ],
                  "title": {
                    "text": "Quantidade"
                  }
                }
              }
            }
          },
          "metadata": {},
          "output_type": "display_data"
        }
      ],
      "source": [
        "px.line(mes_internacao_cum, x='Mes', y = 'Quantidade', title='Proporção acumulada de Internações por Mês')"
      ]
    },
    {
      "cell_type": "markdown",
      "metadata": {},
      "source": [
        "Ao analisar as internações por mês dado os anos, utilizando a mesma idea de proporção, não é possível encontrar um tipo de padrão sazonal, alguns meses sobem em determinado ano, enquanto descem em outro ano."
      ]
    },
    {
      "cell_type": "code",
      "execution_count": 165,
      "metadata": {},
      "outputs": [
        {
          "data": {
            "application/vnd.plotly.v1+json": {
              "config": {
                "plotlyServerURL": "https://plot.ly"
              },
              "data": [
                {
                  "hovertemplate": "Ano=2015<br>Mes=%{x}<br>Quantidade=%{y}<extra></extra>",
                  "legendgroup": "2015",
                  "line": {
                    "color": "#636efa",
                    "dash": "solid"
                  },
                  "marker": {
                    "symbol": "circle"
                  },
                  "mode": "lines",
                  "name": "2015",
                  "orientation": "v",
                  "showlegend": true,
                  "type": "scatter",
                  "x": [
                    1,
                    2,
                    3,
                    4,
                    5,
                    6,
                    7,
                    8,
                    9,
                    10,
                    11,
                    12
                  ],
                  "xaxis": "x",
                  "y": [
                    101,
                    110,
                    120,
                    111,
                    149,
                    130,
                    144,
                    124,
                    147,
                    178,
                    163,
                    142
                  ],
                  "yaxis": "y"
                },
                {
                  "hovertemplate": "Ano=2017<br>Mes=%{x}<br>Quantidade=%{y}<extra></extra>",
                  "legendgroup": "2017",
                  "line": {
                    "color": "#EF553B",
                    "dash": "solid"
                  },
                  "marker": {
                    "symbol": "circle"
                  },
                  "mode": "lines",
                  "name": "2017",
                  "orientation": "v",
                  "showlegend": true,
                  "type": "scatter",
                  "x": [
                    1,
                    2,
                    3,
                    4,
                    5,
                    6,
                    7,
                    8,
                    9,
                    10,
                    11,
                    12
                  ],
                  "xaxis": "x",
                  "y": [
                    128,
                    111,
                    147,
                    107,
                    132,
                    129,
                    110,
                    126,
                    133,
                    138,
                    115,
                    137
                  ],
                  "yaxis": "y"
                },
                {
                  "hovertemplate": "Ano=2016<br>Mes=%{x}<br>Quantidade=%{y}<extra></extra>",
                  "legendgroup": "2016",
                  "line": {
                    "color": "#00cc96",
                    "dash": "solid"
                  },
                  "marker": {
                    "symbol": "circle"
                  },
                  "mode": "lines",
                  "name": "2016",
                  "orientation": "v",
                  "showlegend": true,
                  "type": "scatter",
                  "x": [
                    1,
                    2,
                    3,
                    4,
                    5,
                    6,
                    7,
                    8,
                    9,
                    10,
                    11,
                    12
                  ],
                  "xaxis": "x",
                  "y": [
                    145,
                    140,
                    179,
                    152,
                    155,
                    158,
                    138,
                    146,
                    121,
                    125,
                    146,
                    140
                  ],
                  "yaxis": "y"
                },
                {
                  "hovertemplate": "Ano=2014<br>Mes=%{x}<br>Quantidade=%{y}<extra></extra>",
                  "legendgroup": "2014",
                  "line": {
                    "color": "#ab63fa",
                    "dash": "solid"
                  },
                  "marker": {
                    "symbol": "circle"
                  },
                  "mode": "lines",
                  "name": "2014",
                  "orientation": "v",
                  "showlegend": true,
                  "type": "scatter",
                  "x": [
                    1,
                    2,
                    3,
                    4,
                    5,
                    6,
                    7,
                    8,
                    9,
                    10,
                    11,
                    12
                  ],
                  "xaxis": "x",
                  "y": [
                    106,
                    127,
                    109,
                    121,
                    125,
                    97,
                    141,
                    118,
                    106,
                    129,
                    142,
                    127
                  ],
                  "yaxis": "y"
                },
                {
                  "hovertemplate": "Ano=2013<br>Mes=%{x}<br>Quantidade=%{y}<extra></extra>",
                  "legendgroup": "2013",
                  "line": {
                    "color": "#FFA15A",
                    "dash": "solid"
                  },
                  "marker": {
                    "symbol": "circle"
                  },
                  "mode": "lines",
                  "name": "2013",
                  "orientation": "v",
                  "showlegend": true,
                  "type": "scatter",
                  "x": [
                    1,
                    2,
                    3,
                    4,
                    5,
                    6,
                    7,
                    8,
                    9,
                    10,
                    11,
                    12
                  ],
                  "xaxis": "x",
                  "y": [
                    147,
                    124,
                    127,
                    150,
                    114,
                    146,
                    130,
                    133,
                    136,
                    134,
                    113,
                    120
                  ],
                  "yaxis": "y"
                },
                {
                  "hovertemplate": "Ano=2012<br>Mes=%{x}<br>Quantidade=%{y}<extra></extra>",
                  "legendgroup": "2012",
                  "line": {
                    "color": "#19d3f3",
                    "dash": "solid"
                  },
                  "marker": {
                    "symbol": "circle"
                  },
                  "mode": "lines",
                  "name": "2012",
                  "orientation": "v",
                  "showlegend": true,
                  "type": "scatter",
                  "x": [
                    2,
                    3,
                    4,
                    5,
                    6,
                    7,
                    8,
                    9,
                    10,
                    11,
                    12
                  ],
                  "xaxis": "x",
                  "y": [
                    2,
                    2,
                    8,
                    9,
                    10,
                    48,
                    166,
                    162,
                    153,
                    173,
                    123
                  ],
                  "yaxis": "y"
                }
              ],
              "layout": {
                "legend": {
                  "title": {
                    "text": "Ano"
                  },
                  "tracegroupgap": 0
                },
                "template": {
                  "data": {
                    "bar": [
                      {
                        "error_x": {
                          "color": "#2a3f5f"
                        },
                        "error_y": {
                          "color": "#2a3f5f"
                        },
                        "marker": {
                          "line": {
                            "color": "#E5ECF6",
                            "width": 0.5
                          },
                          "pattern": {
                            "fillmode": "overlay",
                            "size": 10,
                            "solidity": 0.2
                          }
                        },
                        "type": "bar"
                      }
                    ],
                    "barpolar": [
                      {
                        "marker": {
                          "line": {
                            "color": "#E5ECF6",
                            "width": 0.5
                          },
                          "pattern": {
                            "fillmode": "overlay",
                            "size": 10,
                            "solidity": 0.2
                          }
                        },
                        "type": "barpolar"
                      }
                    ],
                    "carpet": [
                      {
                        "aaxis": {
                          "endlinecolor": "#2a3f5f",
                          "gridcolor": "white",
                          "linecolor": "white",
                          "minorgridcolor": "white",
                          "startlinecolor": "#2a3f5f"
                        },
                        "baxis": {
                          "endlinecolor": "#2a3f5f",
                          "gridcolor": "white",
                          "linecolor": "white",
                          "minorgridcolor": "white",
                          "startlinecolor": "#2a3f5f"
                        },
                        "type": "carpet"
                      }
                    ],
                    "choropleth": [
                      {
                        "colorbar": {
                          "outlinewidth": 0,
                          "ticks": ""
                        },
                        "type": "choropleth"
                      }
                    ],
                    "contour": [
                      {
                        "colorbar": {
                          "outlinewidth": 0,
                          "ticks": ""
                        },
                        "colorscale": [
                          [
                            0,
                            "#0d0887"
                          ],
                          [
                            0.1111111111111111,
                            "#46039f"
                          ],
                          [
                            0.2222222222222222,
                            "#7201a8"
                          ],
                          [
                            0.3333333333333333,
                            "#9c179e"
                          ],
                          [
                            0.4444444444444444,
                            "#bd3786"
                          ],
                          [
                            0.5555555555555556,
                            "#d8576b"
                          ],
                          [
                            0.6666666666666666,
                            "#ed7953"
                          ],
                          [
                            0.7777777777777778,
                            "#fb9f3a"
                          ],
                          [
                            0.8888888888888888,
                            "#fdca26"
                          ],
                          [
                            1,
                            "#f0f921"
                          ]
                        ],
                        "type": "contour"
                      }
                    ],
                    "contourcarpet": [
                      {
                        "colorbar": {
                          "outlinewidth": 0,
                          "ticks": ""
                        },
                        "type": "contourcarpet"
                      }
                    ],
                    "heatmap": [
                      {
                        "colorbar": {
                          "outlinewidth": 0,
                          "ticks": ""
                        },
                        "colorscale": [
                          [
                            0,
                            "#0d0887"
                          ],
                          [
                            0.1111111111111111,
                            "#46039f"
                          ],
                          [
                            0.2222222222222222,
                            "#7201a8"
                          ],
                          [
                            0.3333333333333333,
                            "#9c179e"
                          ],
                          [
                            0.4444444444444444,
                            "#bd3786"
                          ],
                          [
                            0.5555555555555556,
                            "#d8576b"
                          ],
                          [
                            0.6666666666666666,
                            "#ed7953"
                          ],
                          [
                            0.7777777777777778,
                            "#fb9f3a"
                          ],
                          [
                            0.8888888888888888,
                            "#fdca26"
                          ],
                          [
                            1,
                            "#f0f921"
                          ]
                        ],
                        "type": "heatmap"
                      }
                    ],
                    "heatmapgl": [
                      {
                        "colorbar": {
                          "outlinewidth": 0,
                          "ticks": ""
                        },
                        "colorscale": [
                          [
                            0,
                            "#0d0887"
                          ],
                          [
                            0.1111111111111111,
                            "#46039f"
                          ],
                          [
                            0.2222222222222222,
                            "#7201a8"
                          ],
                          [
                            0.3333333333333333,
                            "#9c179e"
                          ],
                          [
                            0.4444444444444444,
                            "#bd3786"
                          ],
                          [
                            0.5555555555555556,
                            "#d8576b"
                          ],
                          [
                            0.6666666666666666,
                            "#ed7953"
                          ],
                          [
                            0.7777777777777778,
                            "#fb9f3a"
                          ],
                          [
                            0.8888888888888888,
                            "#fdca26"
                          ],
                          [
                            1,
                            "#f0f921"
                          ]
                        ],
                        "type": "heatmapgl"
                      }
                    ],
                    "histogram": [
                      {
                        "marker": {
                          "pattern": {
                            "fillmode": "overlay",
                            "size": 10,
                            "solidity": 0.2
                          }
                        },
                        "type": "histogram"
                      }
                    ],
                    "histogram2d": [
                      {
                        "colorbar": {
                          "outlinewidth": 0,
                          "ticks": ""
                        },
                        "colorscale": [
                          [
                            0,
                            "#0d0887"
                          ],
                          [
                            0.1111111111111111,
                            "#46039f"
                          ],
                          [
                            0.2222222222222222,
                            "#7201a8"
                          ],
                          [
                            0.3333333333333333,
                            "#9c179e"
                          ],
                          [
                            0.4444444444444444,
                            "#bd3786"
                          ],
                          [
                            0.5555555555555556,
                            "#d8576b"
                          ],
                          [
                            0.6666666666666666,
                            "#ed7953"
                          ],
                          [
                            0.7777777777777778,
                            "#fb9f3a"
                          ],
                          [
                            0.8888888888888888,
                            "#fdca26"
                          ],
                          [
                            1,
                            "#f0f921"
                          ]
                        ],
                        "type": "histogram2d"
                      }
                    ],
                    "histogram2dcontour": [
                      {
                        "colorbar": {
                          "outlinewidth": 0,
                          "ticks": ""
                        },
                        "colorscale": [
                          [
                            0,
                            "#0d0887"
                          ],
                          [
                            0.1111111111111111,
                            "#46039f"
                          ],
                          [
                            0.2222222222222222,
                            "#7201a8"
                          ],
                          [
                            0.3333333333333333,
                            "#9c179e"
                          ],
                          [
                            0.4444444444444444,
                            "#bd3786"
                          ],
                          [
                            0.5555555555555556,
                            "#d8576b"
                          ],
                          [
                            0.6666666666666666,
                            "#ed7953"
                          ],
                          [
                            0.7777777777777778,
                            "#fb9f3a"
                          ],
                          [
                            0.8888888888888888,
                            "#fdca26"
                          ],
                          [
                            1,
                            "#f0f921"
                          ]
                        ],
                        "type": "histogram2dcontour"
                      }
                    ],
                    "mesh3d": [
                      {
                        "colorbar": {
                          "outlinewidth": 0,
                          "ticks": ""
                        },
                        "type": "mesh3d"
                      }
                    ],
                    "parcoords": [
                      {
                        "line": {
                          "colorbar": {
                            "outlinewidth": 0,
                            "ticks": ""
                          }
                        },
                        "type": "parcoords"
                      }
                    ],
                    "pie": [
                      {
                        "automargin": true,
                        "type": "pie"
                      }
                    ],
                    "scatter": [
                      {
                        "fillpattern": {
                          "fillmode": "overlay",
                          "size": 10,
                          "solidity": 0.2
                        },
                        "type": "scatter"
                      }
                    ],
                    "scatter3d": [
                      {
                        "line": {
                          "colorbar": {
                            "outlinewidth": 0,
                            "ticks": ""
                          }
                        },
                        "marker": {
                          "colorbar": {
                            "outlinewidth": 0,
                            "ticks": ""
                          }
                        },
                        "type": "scatter3d"
                      }
                    ],
                    "scattercarpet": [
                      {
                        "marker": {
                          "colorbar": {
                            "outlinewidth": 0,
                            "ticks": ""
                          }
                        },
                        "type": "scattercarpet"
                      }
                    ],
                    "scattergeo": [
                      {
                        "marker": {
                          "colorbar": {
                            "outlinewidth": 0,
                            "ticks": ""
                          }
                        },
                        "type": "scattergeo"
                      }
                    ],
                    "scattergl": [
                      {
                        "marker": {
                          "colorbar": {
                            "outlinewidth": 0,
                            "ticks": ""
                          }
                        },
                        "type": "scattergl"
                      }
                    ],
                    "scattermapbox": [
                      {
                        "marker": {
                          "colorbar": {
                            "outlinewidth": 0,
                            "ticks": ""
                          }
                        },
                        "type": "scattermapbox"
                      }
                    ],
                    "scatterpolar": [
                      {
                        "marker": {
                          "colorbar": {
                            "outlinewidth": 0,
                            "ticks": ""
                          }
                        },
                        "type": "scatterpolar"
                      }
                    ],
                    "scatterpolargl": [
                      {
                        "marker": {
                          "colorbar": {
                            "outlinewidth": 0,
                            "ticks": ""
                          }
                        },
                        "type": "scatterpolargl"
                      }
                    ],
                    "scatterternary": [
                      {
                        "marker": {
                          "colorbar": {
                            "outlinewidth": 0,
                            "ticks": ""
                          }
                        },
                        "type": "scatterternary"
                      }
                    ],
                    "surface": [
                      {
                        "colorbar": {
                          "outlinewidth": 0,
                          "ticks": ""
                        },
                        "colorscale": [
                          [
                            0,
                            "#0d0887"
                          ],
                          [
                            0.1111111111111111,
                            "#46039f"
                          ],
                          [
                            0.2222222222222222,
                            "#7201a8"
                          ],
                          [
                            0.3333333333333333,
                            "#9c179e"
                          ],
                          [
                            0.4444444444444444,
                            "#bd3786"
                          ],
                          [
                            0.5555555555555556,
                            "#d8576b"
                          ],
                          [
                            0.6666666666666666,
                            "#ed7953"
                          ],
                          [
                            0.7777777777777778,
                            "#fb9f3a"
                          ],
                          [
                            0.8888888888888888,
                            "#fdca26"
                          ],
                          [
                            1,
                            "#f0f921"
                          ]
                        ],
                        "type": "surface"
                      }
                    ],
                    "table": [
                      {
                        "cells": {
                          "fill": {
                            "color": "#EBF0F8"
                          },
                          "line": {
                            "color": "white"
                          }
                        },
                        "header": {
                          "fill": {
                            "color": "#C8D4E3"
                          },
                          "line": {
                            "color": "white"
                          }
                        },
                        "type": "table"
                      }
                    ]
                  },
                  "layout": {
                    "annotationdefaults": {
                      "arrowcolor": "#2a3f5f",
                      "arrowhead": 0,
                      "arrowwidth": 1
                    },
                    "autotypenumbers": "strict",
                    "coloraxis": {
                      "colorbar": {
                        "outlinewidth": 0,
                        "ticks": ""
                      }
                    },
                    "colorscale": {
                      "diverging": [
                        [
                          0,
                          "#8e0152"
                        ],
                        [
                          0.1,
                          "#c51b7d"
                        ],
                        [
                          0.2,
                          "#de77ae"
                        ],
                        [
                          0.3,
                          "#f1b6da"
                        ],
                        [
                          0.4,
                          "#fde0ef"
                        ],
                        [
                          0.5,
                          "#f7f7f7"
                        ],
                        [
                          0.6,
                          "#e6f5d0"
                        ],
                        [
                          0.7,
                          "#b8e186"
                        ],
                        [
                          0.8,
                          "#7fbc41"
                        ],
                        [
                          0.9,
                          "#4d9221"
                        ],
                        [
                          1,
                          "#276419"
                        ]
                      ],
                      "sequential": [
                        [
                          0,
                          "#0d0887"
                        ],
                        [
                          0.1111111111111111,
                          "#46039f"
                        ],
                        [
                          0.2222222222222222,
                          "#7201a8"
                        ],
                        [
                          0.3333333333333333,
                          "#9c179e"
                        ],
                        [
                          0.4444444444444444,
                          "#bd3786"
                        ],
                        [
                          0.5555555555555556,
                          "#d8576b"
                        ],
                        [
                          0.6666666666666666,
                          "#ed7953"
                        ],
                        [
                          0.7777777777777778,
                          "#fb9f3a"
                        ],
                        [
                          0.8888888888888888,
                          "#fdca26"
                        ],
                        [
                          1,
                          "#f0f921"
                        ]
                      ],
                      "sequentialminus": [
                        [
                          0,
                          "#0d0887"
                        ],
                        [
                          0.1111111111111111,
                          "#46039f"
                        ],
                        [
                          0.2222222222222222,
                          "#7201a8"
                        ],
                        [
                          0.3333333333333333,
                          "#9c179e"
                        ],
                        [
                          0.4444444444444444,
                          "#bd3786"
                        ],
                        [
                          0.5555555555555556,
                          "#d8576b"
                        ],
                        [
                          0.6666666666666666,
                          "#ed7953"
                        ],
                        [
                          0.7777777777777778,
                          "#fb9f3a"
                        ],
                        [
                          0.8888888888888888,
                          "#fdca26"
                        ],
                        [
                          1,
                          "#f0f921"
                        ]
                      ]
                    },
                    "colorway": [
                      "#636efa",
                      "#EF553B",
                      "#00cc96",
                      "#ab63fa",
                      "#FFA15A",
                      "#19d3f3",
                      "#FF6692",
                      "#B6E880",
                      "#FF97FF",
                      "#FECB52"
                    ],
                    "font": {
                      "color": "#2a3f5f"
                    },
                    "geo": {
                      "bgcolor": "white",
                      "lakecolor": "white",
                      "landcolor": "#E5ECF6",
                      "showlakes": true,
                      "showland": true,
                      "subunitcolor": "white"
                    },
                    "hoverlabel": {
                      "align": "left"
                    },
                    "hovermode": "closest",
                    "mapbox": {
                      "style": "light"
                    },
                    "paper_bgcolor": "white",
                    "plot_bgcolor": "#E5ECF6",
                    "polar": {
                      "angularaxis": {
                        "gridcolor": "white",
                        "linecolor": "white",
                        "ticks": ""
                      },
                      "bgcolor": "#E5ECF6",
                      "radialaxis": {
                        "gridcolor": "white",
                        "linecolor": "white",
                        "ticks": ""
                      }
                    },
                    "scene": {
                      "xaxis": {
                        "backgroundcolor": "#E5ECF6",
                        "gridcolor": "white",
                        "gridwidth": 2,
                        "linecolor": "white",
                        "showbackground": true,
                        "ticks": "",
                        "zerolinecolor": "white"
                      },
                      "yaxis": {
                        "backgroundcolor": "#E5ECF6",
                        "gridcolor": "white",
                        "gridwidth": 2,
                        "linecolor": "white",
                        "showbackground": true,
                        "ticks": "",
                        "zerolinecolor": "white"
                      },
                      "zaxis": {
                        "backgroundcolor": "#E5ECF6",
                        "gridcolor": "white",
                        "gridwidth": 2,
                        "linecolor": "white",
                        "showbackground": true,
                        "ticks": "",
                        "zerolinecolor": "white"
                      }
                    },
                    "shapedefaults": {
                      "line": {
                        "color": "#2a3f5f"
                      }
                    },
                    "ternary": {
                      "aaxis": {
                        "gridcolor": "white",
                        "linecolor": "white",
                        "ticks": ""
                      },
                      "baxis": {
                        "gridcolor": "white",
                        "linecolor": "white",
                        "ticks": ""
                      },
                      "bgcolor": "#E5ECF6",
                      "caxis": {
                        "gridcolor": "white",
                        "linecolor": "white",
                        "ticks": ""
                      }
                    },
                    "title": {
                      "x": 0.05
                    },
                    "xaxis": {
                      "automargin": true,
                      "gridcolor": "white",
                      "linecolor": "white",
                      "ticks": "",
                      "title": {
                        "standoff": 15
                      },
                      "zerolinecolor": "white",
                      "zerolinewidth": 2
                    },
                    "yaxis": {
                      "automargin": true,
                      "gridcolor": "white",
                      "linecolor": "white",
                      "ticks": "",
                      "title": {
                        "standoff": 15
                      },
                      "zerolinecolor": "white",
                      "zerolinewidth": 2
                    }
                  }
                },
                "title": {
                  "text": "Internações por Mês agrupado por Ano"
                },
                "xaxis": {
                  "anchor": "y",
                  "domain": [
                    0,
                    1
                  ],
                  "title": {
                    "text": "Mes"
                  }
                },
                "yaxis": {
                  "anchor": "x",
                  "domain": [
                    0,
                    1
                  ],
                  "title": {
                    "text": "Quantidade"
                  }
                }
              }
            }
          },
          "metadata": {},
          "output_type": "display_data"
        }
      ],
      "source": [
        "px.line(ano_mes_internacao, x='Mes', y = 'Quantidade', color='Ano', title='Internações por Mês agrupado por Ano')"
      ]
    },
    {
      "cell_type": "code",
      "execution_count": 166,
      "metadata": {
        "colab": {
          "base_uri": "https://localhost:8080/",
          "height": 542
        },
        "id": "w206pisrL8IO",
        "outputId": "21304cd0-cc76-4cf9-8aba-4dbf27d6d175"
      },
      "outputs": [
        {
          "data": {
            "application/vnd.plotly.v1+json": {
              "config": {
                "plotlyServerURL": "https://plot.ly"
              },
              "data": [
                {
                  "hovertemplate": "Ano=2015<br>Mes=%{x}<br>Quantidade=%{y}<extra></extra>",
                  "legendgroup": "2015",
                  "line": {
                    "color": "#636efa",
                    "dash": "solid"
                  },
                  "marker": {
                    "symbol": "circle"
                  },
                  "mode": "lines",
                  "name": "2015",
                  "orientation": "v",
                  "showlegend": true,
                  "type": "scatter",
                  "x": [
                    1,
                    2,
                    3,
                    4,
                    5,
                    6,
                    7,
                    8,
                    9,
                    10,
                    11,
                    12
                  ],
                  "xaxis": "x",
                  "y": [
                    0.062384187770228534,
                    0.06794317479925881,
                    0.07411982705373688,
                    0.06856084002470661,
                    0.09203211859172329,
                    0.08029647930821494,
                    0.08894379246448425,
                    0.0765904879555281,
                    0.09079678814082767,
                    0.1099444101297097,
                    0.10067943174799258,
                    0.08770846201358863
                  ],
                  "yaxis": "y"
                },
                {
                  "hovertemplate": "Ano=2017<br>Mes=%{x}<br>Quantidade=%{y}<extra></extra>",
                  "legendgroup": "2017",
                  "line": {
                    "color": "#EF553B",
                    "dash": "solid"
                  },
                  "marker": {
                    "symbol": "circle"
                  },
                  "mode": "lines",
                  "name": "2017",
                  "orientation": "v",
                  "showlegend": true,
                  "type": "scatter",
                  "x": [
                    1,
                    2,
                    3,
                    4,
                    5,
                    6,
                    7,
                    8,
                    9,
                    10,
                    11,
                    12
                  ],
                  "xaxis": "x",
                  "y": [
                    0.08460013218770654,
                    0.07336417713152676,
                    0.09715796430931924,
                    0.07072042300066093,
                    0.08724388631857237,
                    0.08526107072042301,
                    0.07270323859881031,
                    0.08327825512227363,
                    0.08790482485128882,
                    0.09120951751487112,
                    0.0760079312623926,
                    0.09054857898215465
                  ],
                  "yaxis": "y"
                },
                {
                  "hovertemplate": "Ano=2016<br>Mes=%{x}<br>Quantidade=%{y}<extra></extra>",
                  "legendgroup": "2016",
                  "line": {
                    "color": "#00cc96",
                    "dash": "solid"
                  },
                  "marker": {
                    "symbol": "circle"
                  },
                  "mode": "lines",
                  "name": "2016",
                  "orientation": "v",
                  "showlegend": true,
                  "type": "scatter",
                  "x": [
                    1,
                    2,
                    3,
                    4,
                    5,
                    6,
                    7,
                    8,
                    9,
                    10,
                    11,
                    12
                  ],
                  "xaxis": "x",
                  "y": [
                    0.0830945558739255,
                    0.08022922636103152,
                    0.10257879656160458,
                    0.08710601719197708,
                    0.08882521489971347,
                    0.09054441260744986,
                    0.07908309455587392,
                    0.0836676217765043,
                    0.06934097421203439,
                    0.07163323782234957,
                    0.0836676217765043,
                    0.08022922636103152
                  ],
                  "yaxis": "y"
                },
                {
                  "hovertemplate": "Ano=2014<br>Mes=%{x}<br>Quantidade=%{y}<extra></extra>",
                  "legendgroup": "2014",
                  "line": {
                    "color": "#ab63fa",
                    "dash": "solid"
                  },
                  "marker": {
                    "symbol": "circle"
                  },
                  "mode": "lines",
                  "name": "2014",
                  "orientation": "v",
                  "showlegend": true,
                  "type": "scatter",
                  "x": [
                    1,
                    2,
                    3,
                    4,
                    5,
                    6,
                    7,
                    8,
                    9,
                    10,
                    11,
                    12
                  ],
                  "xaxis": "x",
                  "y": [
                    0.07320441988950276,
                    0.08770718232044199,
                    0.07527624309392265,
                    0.0835635359116022,
                    0.08632596685082873,
                    0.06698895027624309,
                    0.09737569060773481,
                    0.08149171270718232,
                    0.07320441988950276,
                    0.08908839779005524,
                    0.09806629834254144,
                    0.08770718232044199
                  ],
                  "yaxis": "y"
                },
                {
                  "hovertemplate": "Ano=2013<br>Mes=%{x}<br>Quantidade=%{y}<extra></extra>",
                  "legendgroup": "2013",
                  "line": {
                    "color": "#FFA15A",
                    "dash": "solid"
                  },
                  "marker": {
                    "symbol": "circle"
                  },
                  "mode": "lines",
                  "name": "2013",
                  "orientation": "v",
                  "showlegend": true,
                  "type": "scatter",
                  "x": [
                    1,
                    2,
                    3,
                    4,
                    5,
                    6,
                    7,
                    8,
                    9,
                    10,
                    11,
                    12
                  ],
                  "xaxis": "x",
                  "y": [
                    0.09339263024142312,
                    0.07878017789072427,
                    0.0806861499364676,
                    0.09529860228716645,
                    0.0724269377382465,
                    0.09275730622617535,
                    0.08259212198221093,
                    0.08449809402795426,
                    0.08640406607369759,
                    0.08513341804320203,
                    0.07179161372299873,
                    0.07623888182973317
                  ],
                  "yaxis": "y"
                }
              ],
              "layout": {
                "legend": {
                  "title": {
                    "text": "Ano"
                  },
                  "tracegroupgap": 0
                },
                "template": {
                  "data": {
                    "bar": [
                      {
                        "error_x": {
                          "color": "#2a3f5f"
                        },
                        "error_y": {
                          "color": "#2a3f5f"
                        },
                        "marker": {
                          "line": {
                            "color": "#E5ECF6",
                            "width": 0.5
                          },
                          "pattern": {
                            "fillmode": "overlay",
                            "size": 10,
                            "solidity": 0.2
                          }
                        },
                        "type": "bar"
                      }
                    ],
                    "barpolar": [
                      {
                        "marker": {
                          "line": {
                            "color": "#E5ECF6",
                            "width": 0.5
                          },
                          "pattern": {
                            "fillmode": "overlay",
                            "size": 10,
                            "solidity": 0.2
                          }
                        },
                        "type": "barpolar"
                      }
                    ],
                    "carpet": [
                      {
                        "aaxis": {
                          "endlinecolor": "#2a3f5f",
                          "gridcolor": "white",
                          "linecolor": "white",
                          "minorgridcolor": "white",
                          "startlinecolor": "#2a3f5f"
                        },
                        "baxis": {
                          "endlinecolor": "#2a3f5f",
                          "gridcolor": "white",
                          "linecolor": "white",
                          "minorgridcolor": "white",
                          "startlinecolor": "#2a3f5f"
                        },
                        "type": "carpet"
                      }
                    ],
                    "choropleth": [
                      {
                        "colorbar": {
                          "outlinewidth": 0,
                          "ticks": ""
                        },
                        "type": "choropleth"
                      }
                    ],
                    "contour": [
                      {
                        "colorbar": {
                          "outlinewidth": 0,
                          "ticks": ""
                        },
                        "colorscale": [
                          [
                            0,
                            "#0d0887"
                          ],
                          [
                            0.1111111111111111,
                            "#46039f"
                          ],
                          [
                            0.2222222222222222,
                            "#7201a8"
                          ],
                          [
                            0.3333333333333333,
                            "#9c179e"
                          ],
                          [
                            0.4444444444444444,
                            "#bd3786"
                          ],
                          [
                            0.5555555555555556,
                            "#d8576b"
                          ],
                          [
                            0.6666666666666666,
                            "#ed7953"
                          ],
                          [
                            0.7777777777777778,
                            "#fb9f3a"
                          ],
                          [
                            0.8888888888888888,
                            "#fdca26"
                          ],
                          [
                            1,
                            "#f0f921"
                          ]
                        ],
                        "type": "contour"
                      }
                    ],
                    "contourcarpet": [
                      {
                        "colorbar": {
                          "outlinewidth": 0,
                          "ticks": ""
                        },
                        "type": "contourcarpet"
                      }
                    ],
                    "heatmap": [
                      {
                        "colorbar": {
                          "outlinewidth": 0,
                          "ticks": ""
                        },
                        "colorscale": [
                          [
                            0,
                            "#0d0887"
                          ],
                          [
                            0.1111111111111111,
                            "#46039f"
                          ],
                          [
                            0.2222222222222222,
                            "#7201a8"
                          ],
                          [
                            0.3333333333333333,
                            "#9c179e"
                          ],
                          [
                            0.4444444444444444,
                            "#bd3786"
                          ],
                          [
                            0.5555555555555556,
                            "#d8576b"
                          ],
                          [
                            0.6666666666666666,
                            "#ed7953"
                          ],
                          [
                            0.7777777777777778,
                            "#fb9f3a"
                          ],
                          [
                            0.8888888888888888,
                            "#fdca26"
                          ],
                          [
                            1,
                            "#f0f921"
                          ]
                        ],
                        "type": "heatmap"
                      }
                    ],
                    "heatmapgl": [
                      {
                        "colorbar": {
                          "outlinewidth": 0,
                          "ticks": ""
                        },
                        "colorscale": [
                          [
                            0,
                            "#0d0887"
                          ],
                          [
                            0.1111111111111111,
                            "#46039f"
                          ],
                          [
                            0.2222222222222222,
                            "#7201a8"
                          ],
                          [
                            0.3333333333333333,
                            "#9c179e"
                          ],
                          [
                            0.4444444444444444,
                            "#bd3786"
                          ],
                          [
                            0.5555555555555556,
                            "#d8576b"
                          ],
                          [
                            0.6666666666666666,
                            "#ed7953"
                          ],
                          [
                            0.7777777777777778,
                            "#fb9f3a"
                          ],
                          [
                            0.8888888888888888,
                            "#fdca26"
                          ],
                          [
                            1,
                            "#f0f921"
                          ]
                        ],
                        "type": "heatmapgl"
                      }
                    ],
                    "histogram": [
                      {
                        "marker": {
                          "pattern": {
                            "fillmode": "overlay",
                            "size": 10,
                            "solidity": 0.2
                          }
                        },
                        "type": "histogram"
                      }
                    ],
                    "histogram2d": [
                      {
                        "colorbar": {
                          "outlinewidth": 0,
                          "ticks": ""
                        },
                        "colorscale": [
                          [
                            0,
                            "#0d0887"
                          ],
                          [
                            0.1111111111111111,
                            "#46039f"
                          ],
                          [
                            0.2222222222222222,
                            "#7201a8"
                          ],
                          [
                            0.3333333333333333,
                            "#9c179e"
                          ],
                          [
                            0.4444444444444444,
                            "#bd3786"
                          ],
                          [
                            0.5555555555555556,
                            "#d8576b"
                          ],
                          [
                            0.6666666666666666,
                            "#ed7953"
                          ],
                          [
                            0.7777777777777778,
                            "#fb9f3a"
                          ],
                          [
                            0.8888888888888888,
                            "#fdca26"
                          ],
                          [
                            1,
                            "#f0f921"
                          ]
                        ],
                        "type": "histogram2d"
                      }
                    ],
                    "histogram2dcontour": [
                      {
                        "colorbar": {
                          "outlinewidth": 0,
                          "ticks": ""
                        },
                        "colorscale": [
                          [
                            0,
                            "#0d0887"
                          ],
                          [
                            0.1111111111111111,
                            "#46039f"
                          ],
                          [
                            0.2222222222222222,
                            "#7201a8"
                          ],
                          [
                            0.3333333333333333,
                            "#9c179e"
                          ],
                          [
                            0.4444444444444444,
                            "#bd3786"
                          ],
                          [
                            0.5555555555555556,
                            "#d8576b"
                          ],
                          [
                            0.6666666666666666,
                            "#ed7953"
                          ],
                          [
                            0.7777777777777778,
                            "#fb9f3a"
                          ],
                          [
                            0.8888888888888888,
                            "#fdca26"
                          ],
                          [
                            1,
                            "#f0f921"
                          ]
                        ],
                        "type": "histogram2dcontour"
                      }
                    ],
                    "mesh3d": [
                      {
                        "colorbar": {
                          "outlinewidth": 0,
                          "ticks": ""
                        },
                        "type": "mesh3d"
                      }
                    ],
                    "parcoords": [
                      {
                        "line": {
                          "colorbar": {
                            "outlinewidth": 0,
                            "ticks": ""
                          }
                        },
                        "type": "parcoords"
                      }
                    ],
                    "pie": [
                      {
                        "automargin": true,
                        "type": "pie"
                      }
                    ],
                    "scatter": [
                      {
                        "fillpattern": {
                          "fillmode": "overlay",
                          "size": 10,
                          "solidity": 0.2
                        },
                        "type": "scatter"
                      }
                    ],
                    "scatter3d": [
                      {
                        "line": {
                          "colorbar": {
                            "outlinewidth": 0,
                            "ticks": ""
                          }
                        },
                        "marker": {
                          "colorbar": {
                            "outlinewidth": 0,
                            "ticks": ""
                          }
                        },
                        "type": "scatter3d"
                      }
                    ],
                    "scattercarpet": [
                      {
                        "marker": {
                          "colorbar": {
                            "outlinewidth": 0,
                            "ticks": ""
                          }
                        },
                        "type": "scattercarpet"
                      }
                    ],
                    "scattergeo": [
                      {
                        "marker": {
                          "colorbar": {
                            "outlinewidth": 0,
                            "ticks": ""
                          }
                        },
                        "type": "scattergeo"
                      }
                    ],
                    "scattergl": [
                      {
                        "marker": {
                          "colorbar": {
                            "outlinewidth": 0,
                            "ticks": ""
                          }
                        },
                        "type": "scattergl"
                      }
                    ],
                    "scattermapbox": [
                      {
                        "marker": {
                          "colorbar": {
                            "outlinewidth": 0,
                            "ticks": ""
                          }
                        },
                        "type": "scattermapbox"
                      }
                    ],
                    "scatterpolar": [
                      {
                        "marker": {
                          "colorbar": {
                            "outlinewidth": 0,
                            "ticks": ""
                          }
                        },
                        "type": "scatterpolar"
                      }
                    ],
                    "scatterpolargl": [
                      {
                        "marker": {
                          "colorbar": {
                            "outlinewidth": 0,
                            "ticks": ""
                          }
                        },
                        "type": "scatterpolargl"
                      }
                    ],
                    "scatterternary": [
                      {
                        "marker": {
                          "colorbar": {
                            "outlinewidth": 0,
                            "ticks": ""
                          }
                        },
                        "type": "scatterternary"
                      }
                    ],
                    "surface": [
                      {
                        "colorbar": {
                          "outlinewidth": 0,
                          "ticks": ""
                        },
                        "colorscale": [
                          [
                            0,
                            "#0d0887"
                          ],
                          [
                            0.1111111111111111,
                            "#46039f"
                          ],
                          [
                            0.2222222222222222,
                            "#7201a8"
                          ],
                          [
                            0.3333333333333333,
                            "#9c179e"
                          ],
                          [
                            0.4444444444444444,
                            "#bd3786"
                          ],
                          [
                            0.5555555555555556,
                            "#d8576b"
                          ],
                          [
                            0.6666666666666666,
                            "#ed7953"
                          ],
                          [
                            0.7777777777777778,
                            "#fb9f3a"
                          ],
                          [
                            0.8888888888888888,
                            "#fdca26"
                          ],
                          [
                            1,
                            "#f0f921"
                          ]
                        ],
                        "type": "surface"
                      }
                    ],
                    "table": [
                      {
                        "cells": {
                          "fill": {
                            "color": "#EBF0F8"
                          },
                          "line": {
                            "color": "white"
                          }
                        },
                        "header": {
                          "fill": {
                            "color": "#C8D4E3"
                          },
                          "line": {
                            "color": "white"
                          }
                        },
                        "type": "table"
                      }
                    ]
                  },
                  "layout": {
                    "annotationdefaults": {
                      "arrowcolor": "#2a3f5f",
                      "arrowhead": 0,
                      "arrowwidth": 1
                    },
                    "autotypenumbers": "strict",
                    "coloraxis": {
                      "colorbar": {
                        "outlinewidth": 0,
                        "ticks": ""
                      }
                    },
                    "colorscale": {
                      "diverging": [
                        [
                          0,
                          "#8e0152"
                        ],
                        [
                          0.1,
                          "#c51b7d"
                        ],
                        [
                          0.2,
                          "#de77ae"
                        ],
                        [
                          0.3,
                          "#f1b6da"
                        ],
                        [
                          0.4,
                          "#fde0ef"
                        ],
                        [
                          0.5,
                          "#f7f7f7"
                        ],
                        [
                          0.6,
                          "#e6f5d0"
                        ],
                        [
                          0.7,
                          "#b8e186"
                        ],
                        [
                          0.8,
                          "#7fbc41"
                        ],
                        [
                          0.9,
                          "#4d9221"
                        ],
                        [
                          1,
                          "#276419"
                        ]
                      ],
                      "sequential": [
                        [
                          0,
                          "#0d0887"
                        ],
                        [
                          0.1111111111111111,
                          "#46039f"
                        ],
                        [
                          0.2222222222222222,
                          "#7201a8"
                        ],
                        [
                          0.3333333333333333,
                          "#9c179e"
                        ],
                        [
                          0.4444444444444444,
                          "#bd3786"
                        ],
                        [
                          0.5555555555555556,
                          "#d8576b"
                        ],
                        [
                          0.6666666666666666,
                          "#ed7953"
                        ],
                        [
                          0.7777777777777778,
                          "#fb9f3a"
                        ],
                        [
                          0.8888888888888888,
                          "#fdca26"
                        ],
                        [
                          1,
                          "#f0f921"
                        ]
                      ],
                      "sequentialminus": [
                        [
                          0,
                          "#0d0887"
                        ],
                        [
                          0.1111111111111111,
                          "#46039f"
                        ],
                        [
                          0.2222222222222222,
                          "#7201a8"
                        ],
                        [
                          0.3333333333333333,
                          "#9c179e"
                        ],
                        [
                          0.4444444444444444,
                          "#bd3786"
                        ],
                        [
                          0.5555555555555556,
                          "#d8576b"
                        ],
                        [
                          0.6666666666666666,
                          "#ed7953"
                        ],
                        [
                          0.7777777777777778,
                          "#fb9f3a"
                        ],
                        [
                          0.8888888888888888,
                          "#fdca26"
                        ],
                        [
                          1,
                          "#f0f921"
                        ]
                      ]
                    },
                    "colorway": [
                      "#636efa",
                      "#EF553B",
                      "#00cc96",
                      "#ab63fa",
                      "#FFA15A",
                      "#19d3f3",
                      "#FF6692",
                      "#B6E880",
                      "#FF97FF",
                      "#FECB52"
                    ],
                    "font": {
                      "color": "#2a3f5f"
                    },
                    "geo": {
                      "bgcolor": "white",
                      "lakecolor": "white",
                      "landcolor": "#E5ECF6",
                      "showlakes": true,
                      "showland": true,
                      "subunitcolor": "white"
                    },
                    "hoverlabel": {
                      "align": "left"
                    },
                    "hovermode": "closest",
                    "mapbox": {
                      "style": "light"
                    },
                    "paper_bgcolor": "white",
                    "plot_bgcolor": "#E5ECF6",
                    "polar": {
                      "angularaxis": {
                        "gridcolor": "white",
                        "linecolor": "white",
                        "ticks": ""
                      },
                      "bgcolor": "#E5ECF6",
                      "radialaxis": {
                        "gridcolor": "white",
                        "linecolor": "white",
                        "ticks": ""
                      }
                    },
                    "scene": {
                      "xaxis": {
                        "backgroundcolor": "#E5ECF6",
                        "gridcolor": "white",
                        "gridwidth": 2,
                        "linecolor": "white",
                        "showbackground": true,
                        "ticks": "",
                        "zerolinecolor": "white"
                      },
                      "yaxis": {
                        "backgroundcolor": "#E5ECF6",
                        "gridcolor": "white",
                        "gridwidth": 2,
                        "linecolor": "white",
                        "showbackground": true,
                        "ticks": "",
                        "zerolinecolor": "white"
                      },
                      "zaxis": {
                        "backgroundcolor": "#E5ECF6",
                        "gridcolor": "white",
                        "gridwidth": 2,
                        "linecolor": "white",
                        "showbackground": true,
                        "ticks": "",
                        "zerolinecolor": "white"
                      }
                    },
                    "shapedefaults": {
                      "line": {
                        "color": "#2a3f5f"
                      }
                    },
                    "ternary": {
                      "aaxis": {
                        "gridcolor": "white",
                        "linecolor": "white",
                        "ticks": ""
                      },
                      "baxis": {
                        "gridcolor": "white",
                        "linecolor": "white",
                        "ticks": ""
                      },
                      "bgcolor": "#E5ECF6",
                      "caxis": {
                        "gridcolor": "white",
                        "linecolor": "white",
                        "ticks": ""
                      }
                    },
                    "title": {
                      "x": 0.05
                    },
                    "xaxis": {
                      "automargin": true,
                      "gridcolor": "white",
                      "linecolor": "white",
                      "ticks": "",
                      "title": {
                        "standoff": 15
                      },
                      "zerolinecolor": "white",
                      "zerolinewidth": 2
                    },
                    "yaxis": {
                      "automargin": true,
                      "gridcolor": "white",
                      "linecolor": "white",
                      "ticks": "",
                      "title": {
                        "standoff": 15
                      },
                      "zerolinecolor": "white",
                      "zerolinewidth": 2
                    }
                  }
                },
                "title": {
                  "text": "Proporção Acumulada de Internações por Mês agrupado por Ano"
                },
                "xaxis": {
                  "anchor": "y",
                  "domain": [
                    0,
                    1
                  ],
                  "title": {
                    "text": "Mes"
                  }
                },
                "yaxis": {
                  "anchor": "x",
                  "domain": [
                    0,
                    1
                  ],
                  "title": {
                    "text": "Quantidade"
                  }
                }
              }
            }
          },
          "metadata": {},
          "output_type": "display_data"
        }
      ],
      "source": [
        "px.line(ano_mes_internacao_cum, x='Mes', y = 'Quantidade', color='Ano', title='Proporção Acumulada de Internações por Mês agrupado por Ano')"
      ]
    },
    {
      "cell_type": "markdown",
      "metadata": {
        "id": "cjJO8MmepxzS"
      },
      "source": [
        "# 5. Conclusão"
      ]
    }
  ],
  "metadata": {
    "colab": {
      "provenance": []
    },
    "kernelspec": {
      "display_name": "Python 3",
      "name": "python3"
    },
    "language_info": {
      "codemirror_mode": {
        "name": "ipython",
        "version": 3
      },
      "file_extension": ".py",
      "mimetype": "text/x-python",
      "name": "python",
      "nbconvert_exporter": "python",
      "pygments_lexer": "ipython3",
      "version": "3.11.5"
    }
  },
  "nbformat": 4,
  "nbformat_minor": 0
}
