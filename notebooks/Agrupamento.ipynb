{
 "cells": [
  {
   "cell_type": "code",
   "execution_count": 166,
   "metadata": {},
   "outputs": [],
   "source": [
    "import pandas as pd\n",
    "import numpy as np\n",
    "\n",
    "import seaborn as sns\n",
    "import warnings\n",
    "import matplotlib.pyplot as plt\n",
    "\n",
    "# Funcoes auxiliares\n",
    "from sklearn.preprocessing import OneHotEncoder\n",
    "from sklearn.decomposition import PCA\n",
    "\n",
    "\n",
    "# Modelos de Aprendizado Nao-Supervisionado\n",
    "from sklearn.cluster import KMeans\n",
    "from sklearn.cluster import DBSCAN\n",
    "\n",
    "from sklearn.metrics import silhouette_score,rand_score,adjusted_rand_score\n",
    "\n",
    "warnings.filterwarnings(\"ignore\")"
   ]
  },
  {
   "cell_type": "code",
   "execution_count": 167,
   "metadata": {},
   "outputs": [],
   "source": [
    "df = pd.read_csv('https://raw.githubusercontent.com/ImagineDogs/TranstornosMentais/main/dados/df_cid10.csv')\n",
    "table = df[['cod_paciente','cid10_diagnostico', 'cid10_seg_diagnostico', 'cid10_faixa', 'cid10_faixa_alta', 'cid10_seg_faixa', 'cid10_seg_faixa_alta']].loc[~df['cid10_faixa'].isnull()]\n",
    "table = table.fillna('Sem')"
   ]
  },
  {
   "cell_type": "markdown",
   "metadata": {},
   "source": [
    "## Modelos para internações"
   ]
  },
  {
   "cell_type": "code",
   "execution_count": 168,
   "metadata": {},
   "outputs": [],
   "source": [
    "encX = OneHotEncoder()\n",
    "\n",
    "X = table[['cid10_diagnostico', 'cid10_seg_diagnostico']]\n",
    "X = encX.fit_transform(X)\n",
    "y1 = np.array(table['cid10_faixa_alta'])\n",
    "y2 = np.array(table['cid10_seg_faixa_alta'])"
   ]
  },
  {
   "cell_type": "code",
   "execution_count": 169,
   "metadata": {},
   "outputs": [
    {
     "name": "stdout",
     "output_type": "stream",
     "text": [
      "Silhueta: 0.8930008834905617\n",
      "Índice Rand: 0.7620371231750308\n",
      "Rand Corrigido: 0.14868541255647683\n"
     ]
    }
   ],
   "source": [
    "dbscan = DBSCAN()\n",
    "\n",
    "clusters = dbscan.fit_predict(X)\n",
    "\n",
    "silhouette = silhouette_score(X, clusters)\n",
    "rand = rand_score(y1, clusters)\n",
    "adj_rand = adjusted_rand_score(y1, clusters)\n",
    "\n",
    "# Imprimindo as métricas\n",
    "print(\"Silhueta:\", silhouette)\n",
    "print(\"Índice Rand:\", rand)\n",
    "print(\"Rand Corrigido:\", adj_rand)"
   ]
  },
  {
   "cell_type": "code",
   "execution_count": 170,
   "metadata": {},
   "outputs": [
    {
     "name": "stdout",
     "output_type": "stream",
     "text": [
      "Silhueta: 0.8930008834905617\n",
      "Índice Rand: 0.5536266765921329\n",
      "Rand Corrigido: 0.028472532877529922\n"
     ]
    }
   ],
   "source": [
    "\n",
    "dbscan = DBSCAN()\n",
    "\n",
    "clusters = dbscan.fit_predict(X)\n",
    "\n",
    "silhouette = silhouette_score(X, clusters)\n",
    "rand = rand_score(y2, clusters)\n",
    "adj_rand = adjusted_rand_score(y2, clusters)\n",
    "\n",
    "# Imprimindo as métricas\n",
    "print(\"Silhueta:\", silhouette)\n",
    "print(\"Índice Rand:\", rand)\n",
    "print(\"Rand Corrigido:\", adj_rand)"
   ]
  },
  {
   "cell_type": "code",
   "execution_count": 171,
   "metadata": {},
   "outputs": [
    {
     "name": "stdout",
     "output_type": "stream",
     "text": [
      "Silhueta: 0.42253776788979813\n",
      "Índice Rand: 0.7535474316123317\n",
      "Rand Corrigido: 0.2076063439560856\n"
     ]
    }
   ],
   "source": [
    "n_clusters= 11\n",
    "\n",
    "kmeans = KMeans(n_clusters=n_clusters)\n",
    "\n",
    "# Ajuste o modelo K-Means aos dados X\n",
    "clusters = kmeans.fit_predict(X)\n",
    "\n",
    "# Calcule as métricas de avaliação\n",
    "silhouette = silhouette_score(X, clusters)\n",
    "rand = rand_score(y1, clusters)\n",
    "adj_rand = adjusted_rand_score(y1, clusters)\n",
    "\n",
    "# Imprima as métricas\n",
    "print(\"Silhueta:\", silhouette)\n",
    "print(\"Índice Rand:\", rand)\n",
    "print(\"Rand Corrigido:\", adj_rand)"
   ]
  },
  {
   "cell_type": "code",
   "execution_count": 172,
   "metadata": {},
   "outputs": [
    {
     "name": "stdout",
     "output_type": "stream",
     "text": [
      "Silhueta: 0.43171987713149335\n",
      "Índice Rand: 0.5441624755472994\n",
      "Rand Corrigido: 0.0193827556014168\n"
     ]
    }
   ],
   "source": [
    "n_clusters= 11\n",
    "\n",
    "kmeans = KMeans(n_clusters=n_clusters)\n",
    "\n",
    "# Ajuste o modelo K-Means aos dados X\n",
    "clusters = kmeans.fit_predict(X)\n",
    "\n",
    "# Calcule as métricas de avaliação\n",
    "silhouette = silhouette_score(X, clusters)\n",
    "rand = rand_score(y2, clusters)\n",
    "adj_rand = adjusted_rand_score(y2, clusters)\n",
    "\n",
    "# Imprima as métricas\n",
    "print(\"Silhueta:\", silhouette)\n",
    "print(\"Índice Rand:\", rand)\n",
    "print(\"Rand Corrigido:\", adj_rand)"
   ]
  },
  {
   "cell_type": "code",
   "execution_count": 173,
   "metadata": {},
   "outputs": [],
   "source": [
    "# cid_alta = df.filter(regex=r'^cid10_.*_alta$').columns.tolist()\n",
    "# print(cid_alta)\n",
    "\n",
    "# descricao_alta = df.filter(regex=r'^descricao_.*_alta$').columns.tolist()\n",
    "# print(descricao_alta)\n",
    "\n",
    "# alta = cid_alta + descricao_alta\n",
    "# df_alta = df[alta]"
   ]
  },
  {
   "cell_type": "markdown",
   "metadata": {},
   "source": [
    "## Modelos para pacientes\n"
   ]
  },
  {
   "cell_type": "code",
   "execution_count": 174,
   "metadata": {},
   "outputs": [
    {
     "data": {
      "text/html": [
       "<div>\n",
       "<style scoped>\n",
       "    .dataframe tbody tr th:only-of-type {\n",
       "        vertical-align: middle;\n",
       "    }\n",
       "\n",
       "    .dataframe tbody tr th {\n",
       "        vertical-align: top;\n",
       "    }\n",
       "\n",
       "    .dataframe thead th {\n",
       "        text-align: right;\n",
       "    }\n",
       "</style>\n",
       "<table border=\"1\" class=\"dataframe\">\n",
       "  <thead>\n",
       "    <tr style=\"text-align: right;\">\n",
       "      <th></th>\n",
       "      <th>cid10_diagnostico</th>\n",
       "      <th>cid10_diagnostico_alta</th>\n",
       "    </tr>\n",
       "    <tr>\n",
       "      <th>cod_paciente</th>\n",
       "      <th></th>\n",
       "      <th></th>\n",
       "    </tr>\n",
       "  </thead>\n",
       "  <tbody>\n",
       "    <tr>\n",
       "      <th>39</th>\n",
       "      <td>Sem</td>\n",
       "      <td>F20</td>\n",
       "    </tr>\n",
       "    <tr>\n",
       "      <th>40</th>\n",
       "      <td>F14</td>\n",
       "      <td>F14</td>\n",
       "    </tr>\n",
       "    <tr>\n",
       "      <th>41</th>\n",
       "      <td>Sem</td>\n",
       "      <td>F14</td>\n",
       "    </tr>\n",
       "    <tr>\n",
       "      <th>42</th>\n",
       "      <td>Sem</td>\n",
       "      <td>F19</td>\n",
       "    </tr>\n",
       "    <tr>\n",
       "      <th>43</th>\n",
       "      <td>F19</td>\n",
       "      <td>F19</td>\n",
       "    </tr>\n",
       "    <tr>\n",
       "      <th>...</th>\n",
       "      <td>...</td>\n",
       "      <td>...</td>\n",
       "    </tr>\n",
       "    <tr>\n",
       "      <th>11064</th>\n",
       "      <td>F19</td>\n",
       "      <td>F19</td>\n",
       "    </tr>\n",
       "    <tr>\n",
       "      <th>11065</th>\n",
       "      <td>F32</td>\n",
       "      <td>F33</td>\n",
       "    </tr>\n",
       "    <tr>\n",
       "      <th>11070</th>\n",
       "      <td>F32</td>\n",
       "      <td>F32</td>\n",
       "    </tr>\n",
       "    <tr>\n",
       "      <th>11075</th>\n",
       "      <td>F44</td>\n",
       "      <td>F60</td>\n",
       "    </tr>\n",
       "    <tr>\n",
       "      <th>11078</th>\n",
       "      <td>F10</td>\n",
       "      <td>F10</td>\n",
       "    </tr>\n",
       "  </tbody>\n",
       "</table>\n",
       "<p>4973 rows × 2 columns</p>\n",
       "</div>"
      ],
      "text/plain": [
       "             cid10_diagnostico cid10_diagnostico_alta\n",
       "cod_paciente                                         \n",
       "39                         Sem                    F20\n",
       "40                         F14                    F14\n",
       "41                         Sem                    F14\n",
       "42                         Sem                    F19\n",
       "43                         F19                    F19\n",
       "...                        ...                    ...\n",
       "11064                      F19                    F19\n",
       "11065                      F32                    F33\n",
       "11070                      F32                    F32\n",
       "11075                      F44                    F60\n",
       "11078                      F10                    F10\n",
       "\n",
       "[4973 rows x 2 columns]"
      ]
     },
     "execution_count": 174,
     "metadata": {},
     "output_type": "execute_result"
    }
   ],
   "source": [
    "df_group = df[['cod_paciente','cid10_diagnostico','cid10_diagnostico_alta']]\n",
    "df_group = df_group.groupby('cod_paciente').agg('first')\n",
    "df_group = df_group.fillna('Sem')\n",
    "df_group"
   ]
  },
  {
   "cell_type": "code",
   "execution_count": 175,
   "metadata": {},
   "outputs": [],
   "source": [
    "encoder = OneHotEncoder()\n",
    "df_encoded = encoder.fit_transform(df_group)"
   ]
  },
  {
   "cell_type": "code",
   "execution_count": 176,
   "metadata": {},
   "outputs": [],
   "source": [
    "silhuetas = []\n",
    "\n",
    "for n_clusters in range(2, 20):\n",
    "    kmeans = KMeans(n_clusters=n_clusters)\n",
    "    clusters = kmeans.fit_predict(df_encoded)\n",
    "    silhouette = silhouette_score(df_encoded, clusters)\n",
    "    silhuetas.append(silhouette)"
   ]
  },
  {
   "cell_type": "code",
   "execution_count": 177,
   "metadata": {},
   "outputs": [
    {
     "data": {
      "image/png": "[encoded data removed]",
      "text/plain": [
       "<Figure size 432x288 with 1 Axes>"
      ]
     },
     "metadata": {
      "needs_background": "light"
     },
     "output_type": "display_data"
    }
   ],
   "source": [
    "plt.scatter(range(2, 20), silhuetas)\n",
    "plt.show()"
   ]
  },
  {
   "cell_type": "code",
   "execution_count": 178,
   "metadata": {},
   "outputs": [
    {
     "data": {
      "text/plain": [
       "0.36"
      ]
     },
     "execution_count": 178,
     "metadata": {},
     "output_type": "execute_result"
    }
   ],
   "source": [
    "kmeans = KMeans(n_clusters=5)\n",
    "clusters = kmeans.fit_predict(df_encoded)\n",
    "silhouette = silhouette_score(df_encoded, clusters)\n",
    "round(silhouette,2)"
   ]
  },
  {
   "cell_type": "code",
   "execution_count": 179,
   "metadata": {},
   "outputs": [],
   "source": [
    "df_plot = df[['cod_paciente','cid10_faixa', 'cid10_faixa_alta']]\n",
    "df_plot = df_plot.groupby('cod_paciente').agg('first')\n",
    "df_plot = df_plot.fillna('Sem')\n",
    "df_plot['grupo'] = clusters"
   ]
  },
  {
   "cell_type": "code",
   "execution_count": 180,
   "metadata": {},
   "outputs": [
    {
     "data": {
      "text/html": [
       "<div>\n",
       "<style scoped>\n",
       "    .dataframe tbody tr th:only-of-type {\n",
       "        vertical-align: middle;\n",
       "    }\n",
       "\n",
       "    .dataframe tbody tr th {\n",
       "        vertical-align: top;\n",
       "    }\n",
       "\n",
       "    .dataframe thead th {\n",
       "        text-align: right;\n",
       "    }\n",
       "</style>\n",
       "<table border=\"1\" class=\"dataframe\">\n",
       "  <thead>\n",
       "    <tr style=\"text-align: right;\">\n",
       "      <th></th>\n",
       "      <th>cid10_faixa</th>\n",
       "      <th>cid10_faixa_alta</th>\n",
       "      <th>grupo</th>\n",
       "    </tr>\n",
       "    <tr>\n",
       "      <th>cod_paciente</th>\n",
       "      <th></th>\n",
       "      <th></th>\n",
       "      <th></th>\n",
       "    </tr>\n",
       "  </thead>\n",
       "  <tbody>\n",
       "    <tr>\n",
       "      <th>39</th>\n",
       "      <td>Sem</td>\n",
       "      <td>F20-F29</td>\n",
       "      <td>2</td>\n",
       "    </tr>\n",
       "    <tr>\n",
       "      <th>40</th>\n",
       "      <td>F10-F19</td>\n",
       "      <td>F10-F19</td>\n",
       "      <td>0</td>\n",
       "    </tr>\n",
       "    <tr>\n",
       "      <th>41</th>\n",
       "      <td>Sem</td>\n",
       "      <td>F10-F19</td>\n",
       "      <td>0</td>\n",
       "    </tr>\n",
       "    <tr>\n",
       "      <th>42</th>\n",
       "      <td>Sem</td>\n",
       "      <td>F10-F19</td>\n",
       "      <td>1</td>\n",
       "    </tr>\n",
       "    <tr>\n",
       "      <th>43</th>\n",
       "      <td>F10-F19</td>\n",
       "      <td>F10-F19</td>\n",
       "      <td>1</td>\n",
       "    </tr>\n",
       "    <tr>\n",
       "      <th>...</th>\n",
       "      <td>...</td>\n",
       "      <td>...</td>\n",
       "      <td>...</td>\n",
       "    </tr>\n",
       "    <tr>\n",
       "      <th>11064</th>\n",
       "      <td>F10-F19</td>\n",
       "      <td>F10-F19</td>\n",
       "      <td>1</td>\n",
       "    </tr>\n",
       "    <tr>\n",
       "      <th>11065</th>\n",
       "      <td>F30-F39</td>\n",
       "      <td>F30-F39</td>\n",
       "      <td>0</td>\n",
       "    </tr>\n",
       "    <tr>\n",
       "      <th>11070</th>\n",
       "      <td>F30-F39</td>\n",
       "      <td>F30-F39</td>\n",
       "      <td>0</td>\n",
       "    </tr>\n",
       "    <tr>\n",
       "      <th>11075</th>\n",
       "      <td>F40-F49</td>\n",
       "      <td>F60-F69</td>\n",
       "      <td>0</td>\n",
       "    </tr>\n",
       "    <tr>\n",
       "      <th>11078</th>\n",
       "      <td>F10-F19</td>\n",
       "      <td>F10-F19</td>\n",
       "      <td>4</td>\n",
       "    </tr>\n",
       "  </tbody>\n",
       "</table>\n",
       "<p>4973 rows × 3 columns</p>\n",
       "</div>"
      ],
      "text/plain": [
       "             cid10_faixa cid10_faixa_alta  grupo\n",
       "cod_paciente                                    \n",
       "39                   Sem          F20-F29      2\n",
       "40               F10-F19          F10-F19      0\n",
       "41                   Sem          F10-F19      0\n",
       "42                   Sem          F10-F19      1\n",
       "43               F10-F19          F10-F19      1\n",
       "...                  ...              ...    ...\n",
       "11064            F10-F19          F10-F19      1\n",
       "11065            F30-F39          F30-F39      0\n",
       "11070            F30-F39          F30-F39      0\n",
       "11075            F40-F49          F60-F69      0\n",
       "11078            F10-F19          F10-F19      4\n",
       "\n",
       "[4973 rows x 3 columns]"
      ]
     },
     "execution_count": 180,
     "metadata": {},
     "output_type": "execute_result"
    }
   ],
   "source": [
    "df_plot"
   ]
  },
  {
   "cell_type": "code",
   "execution_count": 186,
   "metadata": {},
   "outputs": [
    {
     "data": {
      "image/png": "[encoded data removed]",
      "text/plain": [
       "<Figure size 1080x504 with 1 Axes>"
      ]
     },
     "metadata": {
      "needs_background": "light"
     },
     "output_type": "display_data"
    }
   ],
   "source": [
    "plt.figure(figsize=(15,7))\n",
    "plot = sns.scatterplot(data=df_plot, x='cid10_faixa',y='cid10_faixa_alta', hue='grupo', palette='tab10')\n",
    "plt.show()"
   ]
  }
 ],
 "metadata": {
  "kernelspec": {
   "display_name": "Python 3",
   "language": "python",
   "name": "python3"
  },
  "language_info": {
   "codemirror_mode": {
    "name": "ipython",
    "version": 3
   },
   "file_extension": ".py",
   "mimetype": "text/x-python",
   "name": "python",
   "nbconvert_exporter": "python",
   "pygments_lexer": "ipython3",
   "version": "3.10.11"
  },
  "orig_nbformat": 4
 },
 "nbformat": 4,
 "nbformat_minor": 2
}
