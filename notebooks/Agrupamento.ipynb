{
 "cells": [
  {
   "cell_type": "code",
   "execution_count": 64,
   "metadata": {},
   "outputs": [],
   "source": [
    "import pandas as pd\n",
    "import numpy as np\n",
    "\n",
    "import seaborn as sns\n",
    "import warnings\n",
    "\n",
    "# Funcoes auxiliares\n",
    "from sklearn.preprocessing import OneHotEncoder\n",
    "\n",
    "\n",
    "# Modelos de Aprendizado Nao-Supervisionado\n",
    "from sklearn.cluster import KMeans\n",
    "from sklearn.cluster import DBSCAN\n",
    "\n",
    "from sklearn.metrics import silhouette_score,rand_score,adjusted_rand_score\n",
    "\n",
    "warnings.filterwarnings(\"ignore\")"
   ]
  },
  {
   "cell_type": "code",
   "execution_count": 65,
   "metadata": {},
   "outputs": [],
   "source": [
    "df = pd.read_csv('https://raw.githubusercontent.com/ImagineDogs/TranstornosMentais/main/dados/df_cid10.csv')\n",
    "table = df[['cid10_diagnostico', 'cid10_seg_diagnostico', 'cid10_faixa', 'cid10_faixa_alta', 'cid10_seg_faixa', 'cid10_seg_faixa_alta']].loc[~df['cid10_faixa'].isnull()]\n",
    "table = table.fillna('Sem')"
   ]
  },
  {
   "cell_type": "code",
   "execution_count": 66,
   "metadata": {},
   "outputs": [],
   "source": [
    "encX = OneHotEncoder()\n",
    "\n",
    "X = table[['cid10_diagnostico', 'cid10_seg_diagnostico', 'cid10_faixa', 'cid10_seg_faixa']]\n",
    "X = encX.fit_transform(X)\n",
    "y1 = np.array(table['cid10_faixa_alta'])\n",
    "y2 = np.array(table['cid10_seg_faixa_alta'])"
   ]
  },
  {
   "cell_type": "code",
   "execution_count": 67,
   "metadata": {},
   "outputs": [
    {
     "name": "stdout",
     "output_type": "stream",
     "text": [
      "Silhueta: 0.8811144106014954\n",
      "Índice Rand: 0.7620371231750308\n",
      "Rand Corrigido: 0.14868541255647683\n"
     ]
    }
   ],
   "source": [
    "\n",
    "dbscan = DBSCAN()\n",
    "\n",
    "clusters = dbscan.fit_predict(X)\n",
    "\n",
    "silhouette = silhouette_score(X, clusters)\n",
    "rand = rand_score(y1, clusters)\n",
    "adj_rand = adjusted_rand_score(y1, clusters)\n",
    "\n",
    "# Imprimindo as métricas\n",
    "print(\"Silhueta:\", silhouette)\n",
    "print(\"Índice Rand:\", rand)\n",
    "print(\"Rand Corrigido:\", adj_rand)"
   ]
  },
  {
   "cell_type": "code",
   "execution_count": 68,
   "metadata": {},
   "outputs": [
    {
     "name": "stdout",
     "output_type": "stream",
     "text": [
      "Silhueta: 0.8811144106014954\n",
      "Índice Rand: 0.5536266765921329\n",
      "Rand Corrigido: 0.028472532877529922\n"
     ]
    }
   ],
   "source": [
    "\n",
    "dbscan = DBSCAN()\n",
    "\n",
    "clusters = dbscan.fit_predict(X)\n",
    "\n",
    "silhouette = silhouette_score(X, clusters)\n",
    "rand = rand_score(y2, clusters)\n",
    "adj_rand = adjusted_rand_score(y2, clusters)\n",
    "\n",
    "# Imprimindo as métricas\n",
    "print(\"Silhueta:\", silhouette)\n",
    "print(\"Índice Rand:\", rand)\n",
    "print(\"Rand Corrigido:\", adj_rand)"
   ]
  },
  {
   "cell_type": "code",
   "execution_count": 69,
   "metadata": {},
   "outputs": [
    {
     "name": "stdout",
     "output_type": "stream",
     "text": [
      "Silhueta: 0.4224601105430743\n",
      "Índice Rand: 0.7561151040143672\n",
      "Rand Corrigido: 0.2013132747125377\n"
     ]
    }
   ],
   "source": [
    "n_clusters= 11\n",
    "\n",
    "kmeans = KMeans(n_clusters=n_clusters)\n",
    "\n",
    "# Ajuste o modelo K-Means aos dados X\n",
    "clusters = kmeans.fit_predict(X)\n",
    "\n",
    "# Calcule as métricas de avaliação\n",
    "silhouette = silhouette_score(X, clusters)\n",
    "rand = rand_score(y1, clusters)\n",
    "adj_rand = adjusted_rand_score(y1, clusters)\n",
    "\n",
    "# Imprima as métricas\n",
    "print(\"Silhueta:\", silhouette)\n",
    "print(\"Índice Rand:\", rand)\n",
    "print(\"Rand Corrigido:\", adj_rand)"
   ]
  },
  {
   "cell_type": "code",
   "execution_count": 70,
   "metadata": {},
   "outputs": [
    {
     "name": "stdout",
     "output_type": "stream",
     "text": [
      "Silhueta: 0.4033818093764329\n",
      "Índice Rand: 0.5580363890127648\n",
      "Rand Corrigido: 0.0514647958159794\n"
     ]
    }
   ],
   "source": [
    "n_clusters= 11\n",
    "\n",
    "kmeans = KMeans(n_clusters=n_clusters)\n",
    "\n",
    "# Ajuste o modelo K-Means aos dados X\n",
    "clusters = kmeans.fit_predict(X)\n",
    "\n",
    "# Calcule as métricas de avaliação\n",
    "silhouette = silhouette_score(X, clusters)\n",
    "rand = rand_score(y2, clusters)\n",
    "adj_rand = adjusted_rand_score(y2, clusters)\n",
    "\n",
    "# Imprima as métricas\n",
    "print(\"Silhueta:\", silhouette)\n",
    "print(\"Índice Rand:\", rand)\n",
    "print(\"Rand Corrigido:\", adj_rand)"
   ]
  },
  {
   "cell_type": "code",
   "execution_count": 71,
   "metadata": {},
   "outputs": [],
   "source": [
    "# cid_alta = df.filter(regex=r'^cid10_.*_alta$').columns.tolist()\n",
    "# print(cid_alta)\n",
    "\n",
    "# descricao_alta = df.filter(regex=r'^descricao_.*_alta$').columns.tolist()\n",
    "# print(descricao_alta)\n",
    "\n",
    "# alta = cid_alta + descricao_alta\n",
    "# df_alta = df[alta]"
   ]
  }
 ],
 "metadata": {
  "kernelspec": {
   "display_name": "Python 3",
   "language": "python",
   "name": "python3"
  },
  "language_info": {
   "codemirror_mode": {
    "name": "ipython",
    "version": 3
   },
   "file_extension": ".py",
   "mimetype": "text/x-python",
   "name": "python",
   "nbconvert_exporter": "python",
   "pygments_lexer": "ipython3",
   "version": "3.10.12"
  },
  "orig_nbformat": 4
 },
 "nbformat": 4,
 "nbformat_minor": 2
}
