{
  "cells": [
    {
      "cell_type": "code",
      "execution_count": 1,
      "metadata": {
        "id": "7HwCqPUoln3o"
      },
      "outputs": [],
      "source": [
        "# importando bibliotecas\n",
        "\n",
        "# numericas\n",
        "import numpy as np\n",
        "\n",
        "# manipulacao de dados\n",
        "import pandas as pd\n",
        "\n",
        "# graficas\n",
        "import matplotlib.pyplot as plt\n",
        "import seaborn as sns\n",
        "\n",
        "# utilidades\n",
        "# from google.colab import drive\n",
        "\n",
        "import warnings\n",
        "warnings.filterwarnings('ignore')\n",
        "\n",
        "from collections import Counter"
      ]
    },
    {
      "cell_type": "markdown",
      "metadata": {
        "id": "aSlhnzVtlyo3"
      },
      "source": [
        "Para esta estapa, foram testadas diversas tabelas para realizar uma junção entre um código CID-10 e sua descrição.\n",
        "\n",
        " A maioria das tabelas ou não tinhamos confiança na origem, ou não possuiam todos os códigos necessários.\n",
        "Por fim, utilizamos uma tabela do datasus, que foi manipulada para atender\n",
        "nossas necessidades.\n",
        "\n",
        "Fonte das tabela: https://www.cdc.gov/nchs/icd/Comprehensive-Listing-of-ICD-10-CM-Files.htm\n",
        "\n",
        "Fonte Datasus: https://www.gov.br/previdencia/pt-br/assuntos/previdencia-social/saude-e-seguranca-do-trabalhador/acidente_trabalho_incapacidade/tabelas-cid-10"
      ]
    },
    {
      "cell_type": "code",
      "execution_count": 20,
      "metadata": {
        "id": "Ii8195EJoVab"
      },
      "outputs": [],
      "source": [
        "df = pd.read_csv('https://raw.githubusercontent.com/ImagineDogs/TranstornosMentais/main/dados/df_limpo.csv')"
      ]
    },
    {
      "cell_type": "code",
      "execution_count": 21,
      "metadata": {
        "id": "rx6LF-G0lghu"
      },
      "outputs": [
        {
          "data": {
            "text/html": [
              "<div>\n",
              "<style scoped>\n",
              "    .dataframe tbody tr th:only-of-type {\n",
              "        vertical-align: middle;\n",
              "    }\n",
              "\n",
              "    .dataframe tbody tr th {\n",
              "        vertical-align: top;\n",
              "    }\n",
              "\n",
              "    .dataframe thead th {\n",
              "        text-align: right;\n",
              "    }\n",
              "</style>\n",
              "<table border=\"1\" class=\"dataframe\">\n",
              "  <thead>\n",
              "    <tr style=\"text-align: right;\">\n",
              "      <th></th>\n",
              "      <th>Codigo</th>\n",
              "      <th>Descricao</th>\n",
              "    </tr>\n",
              "  </thead>\n",
              "  <tbody>\n",
              "    <tr>\n",
              "      <th>0</th>\n",
              "      <td>A00</td>\n",
              "      <td>Cólera</td>\n",
              "    </tr>\n",
              "    <tr>\n",
              "      <th>1</th>\n",
              "      <td>A01</td>\n",
              "      <td>Febres tifóide e paratifóide</td>\n",
              "    </tr>\n",
              "    <tr>\n",
              "      <th>2</th>\n",
              "      <td>A02</td>\n",
              "      <td>Outras infecções por Salmonella</td>\n",
              "    </tr>\n",
              "    <tr>\n",
              "      <th>3</th>\n",
              "      <td>A03</td>\n",
              "      <td>Shiguelose</td>\n",
              "    </tr>\n",
              "    <tr>\n",
              "      <th>4</th>\n",
              "      <td>A04</td>\n",
              "      <td>Outras infecções intestinais bacterianas</td>\n",
              "    </tr>\n",
              "  </tbody>\n",
              "</table>\n",
              "</div>"
            ],
            "text/plain": [
              "  Codigo                                 Descricao\n",
              "0    A00                                    Cólera\n",
              "1    A01              Febres tifóide e paratifóide\n",
              "2    A02           Outras infecções por Salmonella\n",
              "3    A03                                Shiguelose\n",
              "4    A04  Outras infecções intestinais bacterianas"
            ]
          },
          "execution_count": 21,
          "metadata": {},
          "output_type": "execute_result"
        }
      ],
      "source": [
        "# Tabela equivalente aos grupos do CID-10\n",
        "cid_df = pd.read_csv('https://raw.githubusercontent.com/ImagineDogs/TranstornosMentais/main/Tabela%20CID-10.csv')\n",
        "cid_df.head()"
      ]
    },
    {
      "cell_type": "code",
      "execution_count": 22,
      "metadata": {
        "id": "Oo4L8azumBod"
      },
      "outputs": [],
      "source": [
        "# Aplicando tratamento aos dados para realizar a junção com a tabela de descrições\n",
        "# Não devem haver pontos nos códigos e todos devem estar em caixa alta\n",
        "df['cid10_diagnostico'] = df['cid10_diagnostico'].loc[~df['cid10_diagnostico'].isnull()].apply(lambda x: str(x).upper()[:str(x).find('.')] if str(x).find('.') != -1 else str(x).upper())\n",
        "df['cid10_seg_diagnostico'] = df['cid10_seg_diagnostico'].loc[~df['cid10_seg_diagnostico'].isnull()].apply(lambda x: str(x).upper()[:str(x).find('.')] if str(x).find('.') != -1 else str(x).upper())\n",
        "df['cid10_diagnostico_alta'] = df['cid10_diagnostico_alta'].loc[~df['cid10_diagnostico_alta'].isnull()].apply(lambda x: str(x).upper()[:str(x).find('.')] if str(x).find('.') != -1 else str(x).upper())\n",
        "df['cid10_seg_diagnostico_alta'] = df['cid10_seg_diagnostico_alta'].loc[~df['cid10_seg_diagnostico_alta'].isnull()].apply(lambda x: str(x).upper()[:str(x).find('.')] if str(x).find('.') != -1 else str(x).upper())"
      ]
    },
    {
      "cell_type": "code",
      "execution_count": 23,
      "metadata": {
        "id": "ITqhR-hhmDZS"
      },
      "outputs": [],
      "source": [
        "# Junção entre as tabelas\n",
        "df = df.merge(cid_df, how='left', left_on='cid10_diagnostico', right_on='Codigo').rename(columns={'Descricao': 'descricao_diagnostico'}).drop(['Codigo'], axis=1)\n",
        "df = df.merge(cid_df, how='left', left_on='cid10_seg_diagnostico', right_on='Codigo').rename(columns={'Descricao': 'descricao_seg_diagnostico'}).drop(['Codigo'], axis=1)\n",
        "df = df.merge(cid_df, how='left', left_on='cid10_diagnostico_alta', right_on='Codigo').rename(columns={'Descricao': 'descricao_diagnostico_alta'}).drop(['Codigo'], axis=1)\n",
        "df = df.merge(cid_df, how='left', left_on='cid10_seg_diagnostico_alta', right_on='Codigo').rename(columns={'Descricao': 'descricao_seg_diagnostico_alta'}).drop(['Codigo'], axis=1)"
      ]
    },
    {
      "cell_type": "code",
      "execution_count": 24,
      "metadata": {
        "id": "M-7Uha1ZoFqp"
      },
      "outputs": [
        {
          "data": {
            "text/html": [
              "<div>\n",
              "<style scoped>\n",
              "    .dataframe tbody tr th:only-of-type {\n",
              "        vertical-align: middle;\n",
              "    }\n",
              "\n",
              "    .dataframe tbody tr th {\n",
              "        vertical-align: top;\n",
              "    }\n",
              "\n",
              "    .dataframe thead th {\n",
              "        text-align: right;\n",
              "    }\n",
              "</style>\n",
              "<table border=\"1\" class=\"dataframe\">\n",
              "  <thead>\n",
              "    <tr style=\"text-align: right;\">\n",
              "      <th></th>\n",
              "      <th>Codigos</th>\n",
              "      <th>Descricao</th>\n",
              "    </tr>\n",
              "  </thead>\n",
              "  <tbody>\n",
              "    <tr>\n",
              "      <th>0</th>\n",
              "      <td>A00-B99</td>\n",
              "      <td>Algumas doenças infecciosas e parasitárias</td>\n",
              "    </tr>\n",
              "    <tr>\n",
              "      <th>1</th>\n",
              "      <td>C00-D48</td>\n",
              "      <td>Neoplasias [tumores]</td>\n",
              "    </tr>\n",
              "    <tr>\n",
              "      <th>2</th>\n",
              "      <td>D50-D89</td>\n",
              "      <td>Doenças do sangue e dos órgãos hematopoéticos ...</td>\n",
              "    </tr>\n",
              "    <tr>\n",
              "      <th>3</th>\n",
              "      <td>E00-E90</td>\n",
              "      <td>Doenças endócrinas, nutricionais e metabólicas</td>\n",
              "    </tr>\n",
              "    <tr>\n",
              "      <th>4</th>\n",
              "      <td>F00-F99</td>\n",
              "      <td>Transtornos mentais e comportamentais</td>\n",
              "    </tr>\n",
              "  </tbody>\n",
              "</table>\n",
              "</div>"
            ],
            "text/plain": [
              "   Codigos                                          Descricao\n",
              "0  A00-B99         Algumas doenças infecciosas e parasitárias\n",
              "1  C00-D48                               Neoplasias [tumores]\n",
              "2  D50-D89  Doenças do sangue e dos órgãos hematopoéticos ...\n",
              "3  E00-E90     Doenças endócrinas, nutricionais e metabólicas\n",
              "4  F00-F99              Transtornos mentais e comportamentais"
            ]
          },
          "execution_count": 24,
          "metadata": {},
          "output_type": "execute_result"
        }
      ],
      "source": [
        "# Tabela das 'familias' de códigos CID-10\n",
        "cid_fam = pd.read_csv('https://raw.githubusercontent.com/ImagineDogs/TranstornosMentais/main/CID-10%20-%20Familias.csv')\n",
        "cid_fam.head()"
      ]
    },
    {
      "cell_type": "code",
      "execution_count": 25,
      "metadata": {
        "id": "CPbo9cT3oJx0"
      },
      "outputs": [],
      "source": [
        "# Inicializando as colunas a serem preenchidas pelas familias\n",
        "df['cid10_familia'] = np.nan\n",
        "df['cid10_descricao_familia'] = np.nan\n",
        "df['cid10_seg_familia'] = np.nan\n",
        "df['cid10_seg_descricao_familia'] = np.nan\n",
        "df['cid10_familia_alta'] = np.nan\n",
        "df['cid10_descricao_familia_alta'] = np.nan\n",
        "df['cid10_seg_familia_alta'] = np.nan\n",
        "df['cid10_seg_descricao_familia_alta'] = np.nan"
      ]
    },
    {
      "cell_type": "code",
      "execution_count": 26,
      "metadata": {
        "id": "SSySJyU6oMqF"
      },
      "outputs": [],
      "source": [
        "# Realizando as junções por query\n",
        "for i in range(len(cid_fam)):\n",
        "  cod = cid_fam['Codigos'].iloc[i].split('-')\n",
        "\n",
        "  df['cid10_familia'].loc[df['cid10_diagnostico'].between(cod[0], cod[1])] = cid_fam['Codigos'].iloc[i]\n",
        "  df['cid10_descricao_familia'].loc[df['cid10_diagnostico'].between(cod[0], cod[1])] = cid_fam['Descricao'].iloc[i]\n",
        "\n",
        "  df['cid10_seg_familia'].loc[df['cid10_seg_diagnostico'].between(cod[0], cod[1])] = cid_fam['Codigos'].iloc[i]\n",
        "  df['cid10_seg_descricao_familia'].loc[df['cid10_seg_diagnostico'].between(cod[0], cod[1])] = cid_fam['Descricao'].iloc[i]\n",
        "\n",
        "  df['cid10_familia_alta'].loc[df['cid10_diagnostico_alta'].between(cod[0], cod[1])] = cid_fam['Codigos'].iloc[i]\n",
        "  df['cid10_descricao_familia_alta'].loc[df['cid10_diagnostico_alta'].between(cod[0], cod[1])] = cid_fam['Descricao'].iloc[i]\n",
        "\n",
        "  df['cid10_seg_familia_alta'].loc[df['cid10_seg_diagnostico_alta'].between(cod[0], cod[1])] = cid_fam['Codigos'].iloc[i]\n",
        "  df['cid10_seg_descricao_familia_alta'].loc[df['cid10_seg_diagnostico_alta'].between(cod[0], cod[1])] = cid_fam['Descricao'].iloc[i]"
      ]
    },
    {
      "cell_type": "code",
      "execution_count": 28,
      "metadata": {},
      "outputs": [],
      "source": [
        "faixas = pd.read_csv('FaixasCid10.csv', sep=';')\n",
        "faixas.rename(columns={' Descrição': 'Descricao'}, inplace=True)\n",
        "faixas\n",
        "\n",
        "df['cid10_faixa'] = np.nan\n",
        "df['cid10_descricao_faixa'] = np.nan\n",
        "df['cid10_seg_faixa'] = np.nan\n",
        "df['cid10_seg_descricao_faixa'] = np.nan\n",
        "df['cid10_faixa_alta'] = np.nan\n",
        "df['cid10_descricao_faixa_alta'] = np.nan\n",
        "df['cid10_seg_faixa_alta'] = np.nan\n",
        "df['cid10_seg_descricao_faixa_alta'] = np.nan\n",
        "\n",
        "for i in range(len(faixas)):\n",
        "  cod = faixas['Faixa'].iloc[i].split('-')\n",
        "\n",
        "  df['cid10_faixa'].loc[df['cid10_diagnostico'].between(cod[0], cod[1])] = faixas['Faixa'].iloc[i]\n",
        "  df['cid10_descricao_faixa'].loc[df['cid10_diagnostico'].between(cod[0], cod[1])] = faixas['Descricao'].iloc[i]\n",
        "\n",
        "  df['cid10_seg_faixa'].loc[df['cid10_seg_diagnostico'].between(cod[0], cod[1])] = faixas['Faixa'].iloc[i]\n",
        "  df['cid10_seg_descricao_faixa'].loc[df['cid10_seg_diagnostico'].between(cod[0], cod[1])] = faixas['Descricao'].iloc[i]\n",
        "\n",
        "  df['cid10_faixa_alta'].loc[df['cid10_diagnostico_alta'].between(cod[0], cod[1])] = faixas['Faixa'].iloc[i]\n",
        "  df['cid10_descricao_faixa_alta'].loc[df['cid10_diagnostico_alta'].between(cod[0], cod[1])] = faixas['Descricao'].iloc[i]\n",
        "\n",
        "  df['cid10_seg_faixa_alta'].loc[df['cid10_seg_diagnostico_alta'].between(cod[0], cod[1])] = faixas['Faixa'].iloc[i]\n",
        "  df['cid10_seg_descricao_faixa_alta'].loc[df['cid10_seg_diagnostico_alta'].between(cod[0], cod[1])] = faixas['Descricao'].iloc[i]"
      ]
    },
    {
      "cell_type": "code",
      "execution_count": 29,
      "metadata": {},
      "outputs": [],
      "source": [
        "Unnamed = df.filter(regex=('Unnamed')).columns.tolist()\n",
        "df.drop(Unnamed,axis=1,inplace=True)"
      ]
    },
    {
      "cell_type": "code",
      "execution_count": 30,
      "metadata": {
        "id": "tTqDOEIzpAcm"
      },
      "outputs": [],
      "source": [
        "df.to_csv('df_cid10.csv', index=False)"
      ]
    }
  ],
  "metadata": {
    "colab": {
      "provenance": []
    },
    "kernelspec": {
      "display_name": "Python 3",
      "name": "python3"
    },
    "language_info": {
      "codemirror_mode": {
        "name": "ipython",
        "version": 3
      },
      "file_extension": ".py",
      "mimetype": "text/x-python",
      "name": "python",
      "nbconvert_exporter": "python",
      "pygments_lexer": "ipython3",
      "version": "3.10.12"
    }
  },
  "nbformat": 4,
  "nbformat_minor": 0
}
