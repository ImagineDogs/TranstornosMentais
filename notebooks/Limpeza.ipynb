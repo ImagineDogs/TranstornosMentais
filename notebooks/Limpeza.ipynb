{
  "cells": [
    {
      "cell_type": "markdown",
      "metadata": {},
      "source": [
        "# Notebook de Limpeza dos Dados\n",
        "Etapa de correção, limpeza e substituição dos dados"
      ]
    },
    {
      "cell_type": "code",
      "execution_count": 137,
      "metadata": {
        "id": "JNjdOZDiA9s3"
      },
      "outputs": [],
      "source": [
        "# importando bibliotecas\n",
        "\n",
        "# numericas\n",
        "import numpy as np\n",
        "\n",
        "# manipulacao de dados\n",
        "import pandas as pd\n",
        "\n",
        "# graficas\n",
        "import matplotlib.pyplot as plt\n",
        "import seaborn as sns\n",
        "\n",
        "# utilidades\n",
        "# from google.colab import drive\n",
        "\n",
        "import warnings\n",
        "warnings.filterwarnings('ignore')\n",
        "\n",
        "from collections import Counter"
      ]
    },
    {
      "cell_type": "code",
      "execution_count": 138,
      "metadata": {
        "id": "pTvC5NSgjFtL"
      },
      "outputs": [],
      "source": [
        "# carregando dados\n",
        "df = pd.read_csv('https://raw.githubusercontent.com/ImagineDogs/TranstornosMentais/main/dados/total%20dataset.csv')"
      ]
    },
    {
      "cell_type": "code",
<<<<<<< Updated upstream
      "execution_count": 139,
      "metadata": {
        "id": "rSaMYIksjNZ-"
      },
      "outputs": [],
      "source": [
        "datas = df.filter(regex=('data')).columns\n",
        "for data in datas:\n",
        "  df[data] = pd.to_datetime(df[data]\n",
        "                              .astype(str)\n",
        "                              .apply(lambda x: x.split()[0]),\n",
        "                              format='%m/%d/%Y')"
      ]
    },
    {
      "cell_type": "code",
      "execution_count": 140,
      "metadata": {
        "id": "one9SrSEjPDX"
      },
      "outputs": [],
      "source": [
        "diff = df.filter(regex=('diff')).columns.tolist()\n",
        "df.drop(diff,axis=1,inplace=True)"
      ]
    },
    {
      "cell_type": "code",
      "execution_count": 141,
      "metadata": {
        "id": "9OKwwS7ljTpB"
      },
      "outputs": [],
      "source": [
        "df.replace('14-Oct','10-14', inplace=True)"
      ]
    },
    {
      "cell_type": "code",
      "execution_count": 142,
      "metadata": {
        "id": "OMhYIfykjXWx"
      },
      "outputs": [],
      "source": [
        "df.rename({'Count':'qtd_internacoes'},axis=1, inplace=True)"
      ]
    },
    {
      "cell_type": "code",
      "execution_count": 143,
      "metadata": {
        "id": "tadf6VDVjZWI"
      },
      "outputs": [],
      "source": [
        "df['tempo_internado'] = (df.data_alta - df.data_internacao_real).dt.days"
      ]
    },
    {
      "cell_type": "code",
      "execution_count": 144,
      "metadata": {
        "id": "u1ndEnr-jazl"
      },
      "outputs": [],
      "source": [
        "df.replace('viasvo','VIUVO',inplace=True)"
      ]
    },
    {
      "cell_type": "code",
      "execution_count": 145,
      "metadata": {
=======
      "execution_count": 7,
      "metadata": {
>>>>>>> Stashed changes
        "colab": {
          "base_uri": "https://localhost:8080/"
        },
        "id": "M6bdPeUIjeMi",
        "outputId": "ebea8450-5348-4c65-929d-50a19133ddfd"
      },
      "outputs": [
        {
          "name": "stdout",
          "output_type": "stream",
          "text": [
<<<<<<< Updated upstream
            "Defaulting to user installation because normal site-packages is not writeable\n",
            "Requirement already satisfied: unidecode in /home/botto/.local/lib/python3.10/site-packages (1.3.7)\n"
=======
            "Collecting unidecode\n",
            "  Obtaining dependency information for unidecode from https://files.pythonhosted.org/packages/e4/63/7685ef40c65aba621ccd2524a24181bf11f0535ab1fdba47e40738eacff6/Unidecode-1.3.7-py3-none-any.whl.metadata\n",
            "  Downloading Unidecode-1.3.7-py3-none-any.whl.metadata (13 kB)\n",
            "Downloading Unidecode-1.3.7-py3-none-any.whl (235 kB)\n",
            "   ---------------------------------------- 0.0/235.5 kB ? eta -:--:--\n",
            "   ---------- ----------------------------- 61.4/235.5 kB 1.7 MB/s eta 0:00:01\n",
            "   ---------------------------------------- 235.5/235.5 kB 3.6 MB/s eta 0:00:00\n",
            "Installing collected packages: unidecode\n",
            "Successfully installed unidecode-1.3.7\n",
            "Note: you may need to restart the kernel to use updated packages.\n"
          ]
        },
        {
          "name": "stderr",
          "output_type": "stream",
          "text": [
            "\n",
            "[notice] A new release of pip is available: 23.2.1 -> 23.3.1\n",
            "[notice] To update, run: python.exe -m pip install --upgrade pip\n"
>>>>>>> Stashed changes
          ]
        }
      ],
      "source": [
        "!pip install unidecode\n",
        "# Função para correção de dados\n",
        "%pip install unidecode\n",
        "from unidecode import unidecode\n",
        "\n",
        "def apply_corrections(df, column, corrections):\n",
        "  df[column] = df[column].apply(str)\n",
        "  df[column] = df[column].apply(str.upper)\n",
        "  df[column] = df[column].replace(corrections)\n",
        "  df[column] = df[column].str.strip()\n",
        "  df[column] = df[column].str.replace(r'\\s+', ' ', regex=True)\n",
        "  df[column] = df[column].apply(unidecode)"
      ]
    },
    {
      "cell_type": "markdown",
      "metadata": {},
      "source": [
        "## Dados Removidos"
      ]
    },
    {
      "cell_type": "code",
      "execution_count": 4,
      "metadata": {
        "id": "one9SrSEjPDX"
      },
      "outputs": [],
      "source": [
        "# Remoção das colunas de 'diferença' devido a alta quantidade de informações erradas\n",
        "# Tais dados deveriam retornar a diferença em tempo entre duas datas, porém não traziam o valor certo\n",
        "diff = df.filter(regex=('diff')).columns.tolist()\n",
        "df.drop(diff,axis=1,inplace=True)"
      ]
    },
    {
      "cell_type": "code",
      "execution_count": null,
      "metadata": {},
      "outputs": [],
      "source": [
        "# Ficamos apenas com a variável idade\n",
        "df.drop('idade_aprox',axis=1,inplace=True)"
      ]
    },
    {
      "cell_type": "code",
      "execution_count": null,
      "metadata": {},
      "outputs": [],
      "source": [
        "# Informação repetida, ficamos apenas com a variável cod_paciente\n",
        "df.drop('cod_paciente.1',axis=1,inplace=True)"
      ]
    },
    {
      "cell_type": "markdown",
      "metadata": {},
      "source": [
        "## Dados Corrigidos"
      ]
    },
    {
      "cell_type": "code",
      "execution_count": 8,
      "metadata": {
        "id": "rSaMYIksjNZ-"
      },
      "outputs": [],
      "source": [
        "# Ajuste dos dados de data para padronização\n",
        "datas = df.filter(regex=('data')).columns\n",
        "for data in datas:\n",
        "  df[data] = pd.to_datetime(df[data]\n",
        "                              .astype(str)\n",
        "                              .apply(lambda x: x.split()[0]),\n",
        "                              format='%m/%d/%Y')"
      ]
    },
    {
      "cell_type": "code",
      "execution_count": 6,
      "metadata": {
        "id": "9OKwwS7ljTpB"
      },
      "outputs": [],
      "source": [
        "# Substituição de erro de faixa etária\n",
        "\n",
        "corrections = {\n",
        "    '14-Oct': '10-14'\n",
        "}\n",
        "apply_corrections(df, 'faixa_etaria', corrections)"
      ]
    },
    {
      "cell_type": "code",
      "execution_count": 6,
      "metadata": {
        "id": "OMhYIfykjXWx"
      },
      "outputs": [],
      "source": [
        "# Renomeação da coluna de quantidade de internações\n",
        "df.rename({'Count':'qtd_internacoes'},axis=1, inplace=True)"
      ]
    },
    {
      "cell_type": "code",
      "execution_count": 10,
      "metadata": {},
      "outputs": [],
      "source": [
        "# Correções de Estado Civil\n",
        "corrections = {\n",
        "    'viasvo': 'VIUVO'\n",
        "}\n",
        "apply_corrections(df, 'estado_civil', corrections)"
      ]
    },
    {
      "cell_type": "code",
      "execution_count": 146,
      "metadata": {
        "id": "bh1_zXODjh_1"
      },
      "outputs": [],
      "source": [
        "# Correções de Município\n",
        "corrections = {\n",
        "    '40 ANOS': 'NAO INFORMADO',\n",
        "    'R JOSÉ VENÂNCIO,621': 'NAO INFORMADO',\n",
        "    'CÃ\\x81SSIA DOS COQUEIROS':'CASSIA DOS COQUEIROS',\n",
        "    'JUNDIAÃ\\x8d':'JUNDIAI',\n",
        "    'CRISTÃ\\x81LIA':'CRISTALIA',\n",
        "    'FLORESTÃ\\x93POLIS':'FLORESTOPOLIS',\n",
        "    'OLÃ\\x8dMPIA':'OLIMPIA',\n",
        "    'MIGUELÃ\\x93POLIS':'MIGUELOPOLIS',\n",
        "    'SEERANA': 'SERRANA',\n",
        "    'FRUGAL': 'FRUTAL'\n",
        "}\n",
        "\n",
        "apply_corrections(df, 'municipio', corrections)"
      ]
    },
    {
      "cell_type": "code",
      "execution_count": 147,
      "metadata": {
        "id": "RfvAeVzdji_C"
      },
      "outputs": [],
      "source": [
        "# Correções de Profissão de Ocupação\n",
        "corrections = {\n",
        "    'ADEMIR': 'NAO INFORMADO',\n",
        "    'RUA GUMERCINDO VELLUDO': 'NAO INFORMADO',\n",
        "    'DO LAR': 'DONA DE CASA',\n",
        "    'DOL AR': 'DONA DE CASA',\n",
        "    'TORNEIRO MECÃ\\x82NICO': 'TORNEIRO MECANICO',\n",
        "    'TÃ\\x89CNICO DO DAERP': 'TÉCNICO DO DAERP',\n",
        "    'Técnico EM FARMÃ\\x81CIA': 'TÉCNICO EM FARMÁCIA',\n",
        "    'EM AUXÃ\\x8dLIO DOENÃ\\x87A': 'EM AUXÍLIO DOENÇA',\n",
        "    'SECRETÃ\\x81RIA - AFASTADA': 'SECRETÁRIA - AFASTADA',\n",
        "    'BABÃ\\x81': 'BABÁ',\n",
        "    'ENCARREGADO DE EXPEDIÃ\\x87AO': 'ENCARREGADO DE EXPEDIÇÃO',\n",
        "    'SOCIÃ\\x93LOGO': 'SOCIOLOGO',\n",
        "    'SEGURANÃ\\x87A': 'SEGURANÇA',\n",
        "    'VENDEDOR DE LABORATÃ\\x93RIO': 'VENDEDOR DE LABORATÓRIO',\n",
        "    'ATENDIMENTO NA TELEFEFÃ\\x94NICA': 'ATENDIMENTO NA TELEFÔNICA',\n",
        "    'EX-AUX DE PRODUÃ\\x87Ã\\x83O': 'EX-AUX DE PRODUÇÃO',\n",
        "    'BENEFICIÃ\\x81RIO': 'BENEFICIÁRIO',\n",
        "    'COMERCIANTE': 'COMERCIANTE',\n",
        "    'SEGURANCA': 'SEGURANÇA',\n",
        "    'AUXILIAR DE SERVIÃ\\x87OS GERAIS': 'AUXILIAR DE SERVIÇOS GERAIS',\n",
        "    'OP. DE MÃ\\x81QUINAS': 'OPERADOR DE MÁQUINAS',\n",
        "    'MECÃ\\x82NICO E FUNILEIRO': 'MECÂNICO E FUNILEIRO',\n",
        "    'COLETOR DE RECICLÃ\\x81VEIS': 'COLETOR DE RECICLÁVEIS',\n",
        "    'OPERADOR DE MÃ\\x81QUINA': 'OPERADOR DE MÁQUINA',\n",
        "    'ESCRITURÃ\\x81RIO': 'ESCRITURÁRIO',\n",
        "    'AGENTE CARCERÃ\\x81RIO': 'AGENTE CARCERÁRIO',\n",
        "    'PROFESSORA DE DANÃ\\x87A': 'PROFESSORA DE DANÇA',\n",
        "    'VOLUNTÃ\\x81RIA': 'VOLUNTÁRIA',\n",
        "    'MECÃ\\x82NICO DE COLHEDEIRA': 'MECÂNICO DE COLHEDEIRA',\n",
        "    'SEM PROFISSSÃ\\x83O': 'SEM PROFISSÃO',\n",
        "    'ESTUDANTE (EVASÃ\\x83O ESCOLAR)': 'ESTUDANTE (EVASÃO ESCOLAR)',\n",
        "    'RESTAURADOR DEMÃ\\x93VEIS': 'RESTAURADOR DE MÓVEIS',\n",
        "    'OPERADOR DE PRODUÃ\\x87Ã\\x83O': 'OPERADOR DE PRODUÇÃO',\n",
        "    'EMPRESÃ\\x81RIA': 'EMPRESÁRIA',\n",
        "    'COMERCIÃ\\x81RIA': 'COMERCIÁRIA',\n",
        "    'TÃ\\x89CNICO DO DAERP': 'TÉCNICO DO DAERP',\n",
        "    'TORNEIRO MECÃ\\x82NICO': 'TORNEIRO MECÂNICO',\n",
        "    'FOTOGRAFO': 'FOTÓGRAFO',\n",
        "    'CORRETOR DE CONSÃ\\x93RCIOS': 'CORRETOR DE CONSÓRCIOS',\n",
        "    'ESTAGIÃ\\x81RIA': 'ESTAGIÁRIA',\n",
        "    'MÃ\\x9aSICO': 'MÚSICO',\n",
        "    'Técnico EM FARMÃ\\x81CIA': 'TÉCNICO EM FARMÁCIA',\n",
        "    'EM AUXÃ\\x8dLIO DOENÃ\\x87A': 'EM AUXÍLIO DOENÇA',\n",
        "    'GEÃGRAFO': 'GEÓGRAFO',\n",
        "    'SECRETÃ\\x81RIA - AFASTADA': 'SECRETÁRIA - AFASTADA',\n",
        "    'AUX DE LIMPEZA': 'AUXILIAR DE LIMPEZA',\n",
        "    'AUX. DE SERV. GERAIS': 'AUXILIAR DE SERVIÇOS GERAIS',\n",
        "    'AUX. ENFERMAGEM': 'AUXILIAR DE ENFERMAGEM',\n",
        "    'CABELEREIRA': 'CABELEIREIRA',\n",
        "    'CABELEREIRO': 'CABELEIREIRO',\n",
        "    'CALDEREIRO': 'CALDEIREIRO',\n",
        "    'COMERCIARIA': 'COMERCIANTE',\n",
        "    'CUIDADORA DE IDOSO': 'CUIDADORA DE IDOSOS',\n",
        "    'CUIDADORA IDOSOS': 'CUIDADORA DE IDOSOS',\n",
        "    'DESEMPREGADP': 'DESEMPREGADO',\n",
        "    'DESEMPREGDO': 'DESEMPREGADO',\n",
        "    'DESEMPRGADO': 'DESEMPREGADO',\n",
        "    'DESMEPREGADO': 'DESEMPREGADO',\n",
        "    'DESOCUAPADO': 'DESOCUPADO',\n",
        "    'DSESEMPREGADO': 'DESEMPREGADO',\n",
        "    'ENGENHARIA DE MATERIAIS': 'ENGENHEIRO DE MATERIAIS',\n",
        "    'ENTREGA PANFLETOS': 'ENTREGADOR DE PANFLETOS',\n",
        "    'EX-AUX DE PRODUCAO': 'EX-AUXILIAR DE PRODUÇÃO',\n",
        "    'FUNCIONARIO PUBLICA': 'FUNCIONÁRIO PÚBLICO',\n",
        "    'INACTIVE': 'INATIVO',\n",
        "    'INATIVA-APOSENTADA COMO PROT[ETICA': 'INATIVO - APOSENTADA COMO PROTÉTICA',\n",
        "    'INATVA': 'INATIVO',\n",
        "    'INSPETOR DE ALUNO': 'INSPETOR DE ALUNOS',\n",
        "    'MACANICO DE COLHEDEIRA': 'MECANICO DE COLHEDEIRA',\n",
        "    'MARCINEIRO': 'MARCENEIRO',\n",
        "    'MOTO BOY': 'MOTOBOY',\n",
        "    'OPERADOR DE MAQUINA': 'OPERADOR DE MAQUINAS',\n",
        "    'PEDRE': 'PEDREIRO',\n",
        "    'RECEPSIONISTA': 'RECEPCIONISTA',\n",
        "    'SEM OCUPACAO.': 'SEM OCUPACAO',\n",
        "    'SEM OCUPACAO DEFINIDA': 'SEM OCUPACAO',\n",
        "    'SERVENTE PEDREIRO': 'SERVENTE DE PEDREIRO',\n",
        "    'VENDENDOR': 'VENDEDOR'\n",
        "}\n",
        "\n",
        "apply_corrections(df, 'profissao_ocupacao', corrections)"
      ]
    },
    {
      "cell_type": "code",
      "execution_count": 148,
      "metadata": {
        "colab": {
          "base_uri": "https://localhost:8080/"
        },
        "id": "-1vxVnWmjsZa",
        "outputId": "7199cdfe-ef36-4fce-9e98-107ed49da404"
      },
      "outputs": [
        {
          "data": {
            "text/plain": [
              "array(['VOLUNTARIA', 'COMPULSORIA', 'INVOLUNTARIA', 'NAO INFORMADO'],\n",
              "      dtype=object)"
            ]
          },
          "execution_count": 148,
          "metadata": {},
          "output_type": "execute_result"
        }
      ],
      "source": [
        "corrections = {\n",
        "    'INTERNACAO VOLUNTRIA' : 'VOLUNTARIA',\n",
        "    'INTERNACAO INVOLUNTRIA' : 'INVOLUNTARIA',\n",
        "    'INTERNACAO COMPULSORIA' :  'COMPULSORIA'\n",
        "}\n",
        "\n",
        "apply_corrections(df, 'tipo_internacao', corrections)\n",
        "\n",
        "df['tipo_internacao'].unique()"
      ]
    },
    {
      "cell_type": "code",
      "execution_count": 149,
      "metadata": {
        "id": "QFFr32b4jvM0"
      },
      "outputs": [],
      "source": [
        "corrections = {\n",
        "    'HST DEPENDENTE QUÃ\\xADMICO COM COMORBIDADE FEMININO': 'HST DEPENDENTE QUÍMICO COM COMORBIDADE FEMININO',\n",
        "    'POLICLÃ\\xADNICA CENTRAL DE SERRANA': 'POLICLÍNICA CENTRAL DE SERRANA',\n",
        "    'FONOAUDIOLOGIA E SAUDE MENTAL \"DIONÃ\\xADSIO CAETANO DA SILVA\"': 'FONOAUDIOLOGIA E SAÚDE MENTAL \"DIONÍSIO CAETANO DA SILVA\"',\n",
        "    'HST DEPENDENTE QUÃ\\xADMICO COM COMORBIDADE MASCULINO': 'HST DEPENDENTE QUÍMICO COM COMORBIDADE MASCULINO',\n",
        "    'UBDS VILA VIRGÃ\\xADNIA': 'UBDS VILA VIRGÍNIA',\n",
        "    'SECRETARIA MUNICIPAL DE SAUDE DE SANTA ROSA DO VITERBO': 'SECRETARIA MUNICIPAL DE SAÚDE DE SANTA ROSA DO VITERBO',\n",
        "    'DEPARTAMENTO JURÃ\\xADDICO SMS PRADÓPOLIS': 'DEPARTAMENTO JURÍDICO SMS PRADÓPOLIS',\n",
        "    'ESF SANTA CRUZ DA ESPERANÃ\\xC7A': 'ESF SANTA CRUZ DA ESPERANÇA',\n",
        "    'DEPARTAMENTO JURÃ\\xADDICO SMS DUMONT': 'DEPARTAMENTO JURÍDICO SMS DUMONT',\n",
        "    'DEPARTAMENTO ADMINISTRATIVO SMS SANTO ANTÃ´NIO DA ALEGRIA': 'DEPARTAMENTO ADMINISTRATIVO SMS SANTO ANTÔNIO DA ALEGRIA'\n",
        "}\n",
        "\n",
        "apply_corrections(df, 'nome_unidade_solicitacao', corrections)"
      ]
    },
    {
      "cell_type": "code",
      "execution_count": 150,
      "metadata": {
        "id": "QP1bK-yoj6oH"
      },
      "outputs": [],
      "source": [
        "corrections = {\n",
        "\n",
        "    'HST DEPENDENTE QUÃ\\xADMICO COM COMORBIDADE FEMININO': 'HST DEPENDENTE QUÍMICO COM COMORBIDADE FEMININO',\n",
        "    'HST DEPENDENTE QUÃ\\xADMICO COM COMORBIDADE MASCULINO': 'HST DEPENDENTE QUÍMICO COM COMORBIDADE MASCULINO'\n",
        "}\n",
        "\n",
        "apply_corrections(df, 'nome_unidade_destino', corrections)"
      ]
    },
    {
      "cell_type": "code",
<<<<<<< Updated upstream
      "execution_count": 151,
=======
      "execution_count": null,
      "metadata": {},
      "outputs": [],
      "source": [
        "corrections = {\n",
        "    'CLÃ\\x8dNICA': 'CLÍNICA',\n",
        "    'ABITO': 'ÓBITO'  \n",
        "}\n",
        "\n",
        "apply_corrections(df, 'tipo_alta', corrections)"
      ]
    },
    {
      "cell_type": "code",
      "execution_count": 15,
>>>>>>> Stashed changes
      "metadata": {
        "colab": {
          "base_uri": "https://localhost:8080/"
        },
        "id": "T89K1FRQj-WG",
        "outputId": "8d022391-a5fe-4161-f498-f1c3a4ea1d1d"
      },
      "outputs": [
        {
          "name": "stdout",
          "output_type": "stream",
          "text": [
            "Valores únicos em traumatismo: ['NAO INFORMADO' 'NAO' 'SIM']\n",
            "Valores únicos em prob_respiratorios: ['NAO INFORMADO' 'NAO' 'SIM']\n",
            "Valores únicos em avc: ['NAO INFORMADO' 'NAO' 'SIM']\n",
            "Valores únicos em convulsao: ['NAO INFORMADO' 'NAO' 'SIM']\n",
            "Valores únicos em has: ['NAO INFORMADO' 'NAO' 'SIM']\n",
            "Valores únicos em gravidez: ['NAO INFORMADO' 'SIM']\n",
            "Valores únicos em diabetes: ['NAO INFORMADO' 'NAO' 'SIM']\n",
            "Valores únicos em doenca_infecto: ['NAO INFORMADO' 'NAO' 'SIM']\n",
            "Valores únicos em uf: ['SP' 'NAO INFORMADO' 'MG' 'BA' 'RN' 'AL' 'GO' 'PR' 'RS']\n",
            "Valores únicos em estado_civil: ['SOLTEIRO' 'CASADO' 'NAO INFORMADO' 'VIUVO' 'SEPARADO' 'DIVORCIADO']\n",
            "Valores únicos em etnia: ['BRANCO' 'PARDO' 'NEGRO' 'NAO INFORMADO' 'AMARELO']\n",
            "Valores únicos em arranjo_domiciliar: ['NAO INFORMADO' 'SOZINHO' 'COM COMPANHEIRO ( A)' 'COM FILHOS(AS)'\n",
            " 'COM PAI/MAE' 'COM OUTROS FAMILIARES' 'OUTRO' 'CONHECIDOS/AMIGOS']\n",
            "Valores únicos em tipo_regulacao: ['NO' 'DE']\n",
            "Valores únicos em via_internacao: ['PRESTADOR' 'UE' 'UE-EPIB' 'TRANSFERENCIA' 'DEMANDA_ESPONTANEA']\n",
            "Valores únicos em tipo_internacao_de: ['NAO INFORMADO' 'DEMANDA ESPONTANEA' 'TRANSFERENCIA DE OUTRA CLINICA'\n",
            " 'ORDEM JUDICIAL']\n"
          ]
        }
      ],
      "source": [
        "cols = [\n",
        "  'traumatismo',\n",
        "  'prob_respiratorios',\n",
        "  'avc',\n",
        "  'convulsao', 'has',\n",
        "  'convulsao',\n",
        "  'has',\n",
        "  'gravidez',\n",
        "  'diabetes',\n",
        "  'doenca_infecto',\n",
        "  'uf',\n",
        "  'estado_civil',\n",
        "  'etnia',\n",
        "  'arranjo_domiciliar',\n",
        "  'tipo_regulacao',\n",
        "  'via_internacao',\n",
        "  'tipo_internacao_de'\n",
        "]\n",
        "\n",
        "for col in cols:\n",
        "  apply_corrections(df, col, {})\n",
        "  unique_values = df[col].unique()\n",
        "  print(f\"Valores únicos em {col}: {unique_values}\")"
      ]
    },
    {
      "cell_type": "code",
<<<<<<< Updated upstream
      "execution_count": 152,
      "metadata": {},
      "outputs": [],
      "source": [
        "corrections = {\n",
        "    'CLÃ\\x8dNICA': 'CLÍNICA',\n",
        "    'ABITO': 'ÓBITO'  \n",
        "}\n",
        "\n",
        "apply_corrections(df, 'tipo_alta', corrections)"
=======
      "execution_count": 9,
      "metadata": {},
      "outputs": [
        {
          "data": {
            "text/plain": [
              "Series([], Name: cid10_diagnostico, dtype: object)"
            ]
          },
          "execution_count": 9,
          "metadata": {},
          "output_type": "execute_result"
        }
      ],
      "source": [
        "df['cid10_diagnostico'].loc[df['cid10_diagnostico'] == 'NAN']"
>>>>>>> Stashed changes
      ]
    },
    {
      "cell_type": "code",
<<<<<<< Updated upstream
      "execution_count": 153,
      "metadata": {},
      "outputs": [],
      "source": [
        "# Ficamos apenas com a variável idade\n",
        "df.drop('idade_aprox',axis=1,inplace=True)"
      ]
    },
    {
      "cell_type": "code",
      "execution_count": 154,
      "metadata": {},
      "outputs": [],
      "source": [
        "# Informação repetida, ficamos apenas com a variável cod_paciente\n",
        "df.drop('cod_paciente.1',axis=1,inplace=True)"
      ]
    },
    {
      "cell_type": "code",
      "execution_count": 155,
=======
      "execution_count": 16,
>>>>>>> Stashed changes
      "metadata": {
        "id": "USsGvUWDkPVY"
      },
      "outputs": [],
      "source": [
        "# Removendo valores inuteis da base\n",
        "df['cid10_diagnostico'].loc[df['cid10_diagnostico'] == 'NAN'] = np.nan\n",
        "df['cid10_seg_diagnostico'].loc[df['cid10_seg_diagnostico'] == 'NAN'] = np.nan\n",
        "df['cid10_diagnostico_alta'].loc[df['cid10_diagnostico_alta'].isin(['NAN', '__2', \"P1_\", 'F__', '___'])] = np.nan\n",
        "df['cid10_seg_diagnostico_alta'].loc[df['cid10_seg_diagnostico_alta'].isin(['NAN', '___'])] = np.nan"
      ]
    },
    {
      "cell_type": "code",
      "execution_count": 156,
      "metadata": {
        "colab": {
          "base_uri": "https://localhost:8080/"
        },
        "id": "0wWgCdRwkQ-3",
        "outputId": "eb324a82-e872-4649-f9a0-cc04bc51e0bb"
      },
      "outputs": [
        {
          "data": {
            "text/plain": [
              "Series([], Name: cid10_seg_diagnostico, dtype: object)"
            ]
          },
          "execution_count": 156,
          "metadata": {},
          "output_type": "execute_result"
        }
      ],
      "source": [
        "df['cid10_seg_diagnostico'].loc[df['cid10_seg_diagnostico'] == 'NAN']"
      ]
    },
    {
      "cell_type": "code",
<<<<<<< Updated upstream
      "execution_count": 157,
=======
      "execution_count": 7,
      "metadata": {
        "id": "tadf6VDVjZWI"
      },
      "outputs": [],
      "source": [
        "df['tempo_internado'] = (df.data_alta - df.data_internacao_real).dt.days"
      ]
    },
    {
      "cell_type": "code",
      "execution_count": 18,
>>>>>>> Stashed changes
      "metadata": {
        "id": "nrccJFutkbKH"
      },
      "outputs": [],
      "source": [
        "df.to_csv('df_limpo.csv', index=False)"
      ]
    }
  ],
  "metadata": {
    "colab": {
      "provenance": []
    },
    "kernelspec": {
      "display_name": "Python 3",
      "name": "python3"
    },
    "language_info": {
      "codemirror_mode": {
        "name": "ipython",
        "version": 3
      },
      "file_extension": ".py",
      "mimetype": "text/x-python",
      "name": "python",
      "nbconvert_exporter": "python",
      "pygments_lexer": "ipython3",
<<<<<<< Updated upstream
      "version": "3.10.12"
=======
      "version": "3.11.6"
>>>>>>> Stashed changes
    }
  },
  "nbformat": 4,
  "nbformat_minor": 0
}
